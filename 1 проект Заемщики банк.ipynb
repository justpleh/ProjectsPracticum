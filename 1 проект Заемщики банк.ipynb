{
 "cells": [
  {
   "cell_type": "markdown",
   "id": "a22bad2f",
   "metadata": {
    "deletable": false,
    "editable": false,
    "id": "c81daeeb"
   },
   "source": [
    "# Исследование надежности заемщиков\n"
   ]
  },
  {
   "cell_type": "markdown",
   "id": "7892608c",
   "metadata": {
    "deletable": false,
    "editable": false,
    "id": "827c20bf"
   },
   "source": [
    "Заказчик — кредитный отдел банка. Нужно разобраться, влияет ли семейное положение и количество детей клиента на факт погашения кредита в срок. Входные данные от банка — статистика о платёжеспособности клиентов.\n",
    "Результаты исследования будут учтены при построении модели кредитного скоринга — специальной системы, которая оценивает способность потенциального заёмщика вернуть кредит банку.\n"
   ]
  },
  {
   "cell_type": "markdown",
   "id": "a1ea862d",
   "metadata": {
    "deletable": false,
    "editable": false,
    "id": "744d7639"
   },
   "source": [
    "## Откройте таблицу и изучите общую информацию о данных"
   ]
  },
  {
   "cell_type": "code",
   "execution_count": 1,
   "id": "6fdb6b20",
   "metadata": {
    "deletable": false,
    "id": "7bcf75c9"
   },
   "outputs": [],
   "source": [
    "import pandas as pd\n",
    "\n",
    "try:\n",
    "    data = pd.read_csv('/datasets/data.csv')\n",
    "except:\n",
    "    data = pd.read_csv('https://code.s3.yandex.net/datasets/data.csv')"
   ]
  },
  {
   "cell_type": "code",
   "execution_count": 2,
   "id": "df5c43a0",
   "metadata": {
    "deletable": false,
    "id": "2a7cab99",
    "outputId": "1a8f3ef2-d323-4ec2-ddf7-89670b5944c4"
   },
   "outputs": [
    {
     "data": {
      "text/html": [
       "<div>\n",
       "<style scoped>\n",
       "    .dataframe tbody tr th:only-of-type {\n",
       "        vertical-align: middle;\n",
       "    }\n",
       "\n",
       "    .dataframe tbody tr th {\n",
       "        vertical-align: top;\n",
       "    }\n",
       "\n",
       "    .dataframe thead th {\n",
       "        text-align: right;\n",
       "    }\n",
       "</style>\n",
       "<table border=\"1\" class=\"dataframe\">\n",
       "  <thead>\n",
       "    <tr style=\"text-align: right;\">\n",
       "      <th></th>\n",
       "      <th>children</th>\n",
       "      <th>days_employed</th>\n",
       "      <th>dob_years</th>\n",
       "      <th>education</th>\n",
       "      <th>education_id</th>\n",
       "      <th>family_status</th>\n",
       "      <th>family_status_id</th>\n",
       "      <th>gender</th>\n",
       "      <th>income_type</th>\n",
       "      <th>debt</th>\n",
       "      <th>total_income</th>\n",
       "      <th>purpose</th>\n",
       "    </tr>\n",
       "  </thead>\n",
       "  <tbody>\n",
       "    <tr>\n",
       "      <th>0</th>\n",
       "      <td>1</td>\n",
       "      <td>-8437.673028</td>\n",
       "      <td>42</td>\n",
       "      <td>высшее</td>\n",
       "      <td>0</td>\n",
       "      <td>женат / замужем</td>\n",
       "      <td>0</td>\n",
       "      <td>F</td>\n",
       "      <td>сотрудник</td>\n",
       "      <td>0</td>\n",
       "      <td>253875.639453</td>\n",
       "      <td>покупка жилья</td>\n",
       "    </tr>\n",
       "    <tr>\n",
       "      <th>1</th>\n",
       "      <td>1</td>\n",
       "      <td>-4024.803754</td>\n",
       "      <td>36</td>\n",
       "      <td>среднее</td>\n",
       "      <td>1</td>\n",
       "      <td>женат / замужем</td>\n",
       "      <td>0</td>\n",
       "      <td>F</td>\n",
       "      <td>сотрудник</td>\n",
       "      <td>0</td>\n",
       "      <td>112080.014102</td>\n",
       "      <td>приобретение автомобиля</td>\n",
       "    </tr>\n",
       "    <tr>\n",
       "      <th>2</th>\n",
       "      <td>0</td>\n",
       "      <td>-5623.422610</td>\n",
       "      <td>33</td>\n",
       "      <td>Среднее</td>\n",
       "      <td>1</td>\n",
       "      <td>женат / замужем</td>\n",
       "      <td>0</td>\n",
       "      <td>M</td>\n",
       "      <td>сотрудник</td>\n",
       "      <td>0</td>\n",
       "      <td>145885.952297</td>\n",
       "      <td>покупка жилья</td>\n",
       "    </tr>\n",
       "    <tr>\n",
       "      <th>3</th>\n",
       "      <td>3</td>\n",
       "      <td>-4124.747207</td>\n",
       "      <td>32</td>\n",
       "      <td>среднее</td>\n",
       "      <td>1</td>\n",
       "      <td>женат / замужем</td>\n",
       "      <td>0</td>\n",
       "      <td>M</td>\n",
       "      <td>сотрудник</td>\n",
       "      <td>0</td>\n",
       "      <td>267628.550329</td>\n",
       "      <td>дополнительное образование</td>\n",
       "    </tr>\n",
       "    <tr>\n",
       "      <th>4</th>\n",
       "      <td>0</td>\n",
       "      <td>340266.072047</td>\n",
       "      <td>53</td>\n",
       "      <td>среднее</td>\n",
       "      <td>1</td>\n",
       "      <td>гражданский брак</td>\n",
       "      <td>1</td>\n",
       "      <td>F</td>\n",
       "      <td>пенсионер</td>\n",
       "      <td>0</td>\n",
       "      <td>158616.077870</td>\n",
       "      <td>сыграть свадьбу</td>\n",
       "    </tr>\n",
       "    <tr>\n",
       "      <th>5</th>\n",
       "      <td>0</td>\n",
       "      <td>-926.185831</td>\n",
       "      <td>27</td>\n",
       "      <td>высшее</td>\n",
       "      <td>0</td>\n",
       "      <td>гражданский брак</td>\n",
       "      <td>1</td>\n",
       "      <td>M</td>\n",
       "      <td>компаньон</td>\n",
       "      <td>0</td>\n",
       "      <td>255763.565419</td>\n",
       "      <td>покупка жилья</td>\n",
       "    </tr>\n",
       "    <tr>\n",
       "      <th>6</th>\n",
       "      <td>0</td>\n",
       "      <td>-2879.202052</td>\n",
       "      <td>43</td>\n",
       "      <td>высшее</td>\n",
       "      <td>0</td>\n",
       "      <td>женат / замужем</td>\n",
       "      <td>0</td>\n",
       "      <td>F</td>\n",
       "      <td>компаньон</td>\n",
       "      <td>0</td>\n",
       "      <td>240525.971920</td>\n",
       "      <td>операции с жильем</td>\n",
       "    </tr>\n",
       "    <tr>\n",
       "      <th>7</th>\n",
       "      <td>0</td>\n",
       "      <td>-152.779569</td>\n",
       "      <td>50</td>\n",
       "      <td>СРЕДНЕЕ</td>\n",
       "      <td>1</td>\n",
       "      <td>женат / замужем</td>\n",
       "      <td>0</td>\n",
       "      <td>M</td>\n",
       "      <td>сотрудник</td>\n",
       "      <td>0</td>\n",
       "      <td>135823.934197</td>\n",
       "      <td>образование</td>\n",
       "    </tr>\n",
       "    <tr>\n",
       "      <th>8</th>\n",
       "      <td>2</td>\n",
       "      <td>-6929.865299</td>\n",
       "      <td>35</td>\n",
       "      <td>ВЫСШЕЕ</td>\n",
       "      <td>0</td>\n",
       "      <td>гражданский брак</td>\n",
       "      <td>1</td>\n",
       "      <td>F</td>\n",
       "      <td>сотрудник</td>\n",
       "      <td>0</td>\n",
       "      <td>95856.832424</td>\n",
       "      <td>на проведение свадьбы</td>\n",
       "    </tr>\n",
       "    <tr>\n",
       "      <th>9</th>\n",
       "      <td>0</td>\n",
       "      <td>-2188.756445</td>\n",
       "      <td>41</td>\n",
       "      <td>среднее</td>\n",
       "      <td>1</td>\n",
       "      <td>женат / замужем</td>\n",
       "      <td>0</td>\n",
       "      <td>M</td>\n",
       "      <td>сотрудник</td>\n",
       "      <td>0</td>\n",
       "      <td>144425.938277</td>\n",
       "      <td>покупка жилья для семьи</td>\n",
       "    </tr>\n",
       "    <tr>\n",
       "      <th>10</th>\n",
       "      <td>2</td>\n",
       "      <td>-4171.483647</td>\n",
       "      <td>36</td>\n",
       "      <td>высшее</td>\n",
       "      <td>0</td>\n",
       "      <td>женат / замужем</td>\n",
       "      <td>0</td>\n",
       "      <td>M</td>\n",
       "      <td>компаньон</td>\n",
       "      <td>0</td>\n",
       "      <td>113943.491460</td>\n",
       "      <td>покупка недвижимости</td>\n",
       "    </tr>\n",
       "    <tr>\n",
       "      <th>11</th>\n",
       "      <td>0</td>\n",
       "      <td>-792.701887</td>\n",
       "      <td>40</td>\n",
       "      <td>среднее</td>\n",
       "      <td>1</td>\n",
       "      <td>женат / замужем</td>\n",
       "      <td>0</td>\n",
       "      <td>F</td>\n",
       "      <td>сотрудник</td>\n",
       "      <td>0</td>\n",
       "      <td>77069.234271</td>\n",
       "      <td>покупка коммерческой недвижимости</td>\n",
       "    </tr>\n",
       "    <tr>\n",
       "      <th>12</th>\n",
       "      <td>0</td>\n",
       "      <td>NaN</td>\n",
       "      <td>65</td>\n",
       "      <td>среднее</td>\n",
       "      <td>1</td>\n",
       "      <td>гражданский брак</td>\n",
       "      <td>1</td>\n",
       "      <td>M</td>\n",
       "      <td>пенсионер</td>\n",
       "      <td>0</td>\n",
       "      <td>NaN</td>\n",
       "      <td>сыграть свадьбу</td>\n",
       "    </tr>\n",
       "    <tr>\n",
       "      <th>13</th>\n",
       "      <td>0</td>\n",
       "      <td>-1846.641941</td>\n",
       "      <td>54</td>\n",
       "      <td>неоконченное высшее</td>\n",
       "      <td>2</td>\n",
       "      <td>женат / замужем</td>\n",
       "      <td>0</td>\n",
       "      <td>F</td>\n",
       "      <td>сотрудник</td>\n",
       "      <td>0</td>\n",
       "      <td>130458.228857</td>\n",
       "      <td>приобретение автомобиля</td>\n",
       "    </tr>\n",
       "    <tr>\n",
       "      <th>14</th>\n",
       "      <td>0</td>\n",
       "      <td>-1844.956182</td>\n",
       "      <td>56</td>\n",
       "      <td>высшее</td>\n",
       "      <td>0</td>\n",
       "      <td>гражданский брак</td>\n",
       "      <td>1</td>\n",
       "      <td>F</td>\n",
       "      <td>компаньон</td>\n",
       "      <td>1</td>\n",
       "      <td>165127.911772</td>\n",
       "      <td>покупка жилой недвижимости</td>\n",
       "    </tr>\n",
       "    <tr>\n",
       "      <th>15</th>\n",
       "      <td>1</td>\n",
       "      <td>-972.364419</td>\n",
       "      <td>26</td>\n",
       "      <td>среднее</td>\n",
       "      <td>1</td>\n",
       "      <td>женат / замужем</td>\n",
       "      <td>0</td>\n",
       "      <td>F</td>\n",
       "      <td>сотрудник</td>\n",
       "      <td>0</td>\n",
       "      <td>116820.904450</td>\n",
       "      <td>строительство собственной недвижимости</td>\n",
       "    </tr>\n",
       "    <tr>\n",
       "      <th>16</th>\n",
       "      <td>0</td>\n",
       "      <td>-1719.934226</td>\n",
       "      <td>35</td>\n",
       "      <td>среднее</td>\n",
       "      <td>1</td>\n",
       "      <td>женат / замужем</td>\n",
       "      <td>0</td>\n",
       "      <td>F</td>\n",
       "      <td>сотрудник</td>\n",
       "      <td>0</td>\n",
       "      <td>289202.704229</td>\n",
       "      <td>недвижимость</td>\n",
       "    </tr>\n",
       "    <tr>\n",
       "      <th>17</th>\n",
       "      <td>0</td>\n",
       "      <td>-2369.999720</td>\n",
       "      <td>33</td>\n",
       "      <td>высшее</td>\n",
       "      <td>0</td>\n",
       "      <td>гражданский брак</td>\n",
       "      <td>1</td>\n",
       "      <td>M</td>\n",
       "      <td>сотрудник</td>\n",
       "      <td>0</td>\n",
       "      <td>90410.586745</td>\n",
       "      <td>строительство недвижимости</td>\n",
       "    </tr>\n",
       "    <tr>\n",
       "      <th>18</th>\n",
       "      <td>0</td>\n",
       "      <td>400281.136913</td>\n",
       "      <td>53</td>\n",
       "      <td>среднее</td>\n",
       "      <td>1</td>\n",
       "      <td>вдовец / вдова</td>\n",
       "      <td>2</td>\n",
       "      <td>F</td>\n",
       "      <td>пенсионер</td>\n",
       "      <td>0</td>\n",
       "      <td>56823.777243</td>\n",
       "      <td>на покупку подержанного автомобиля</td>\n",
       "    </tr>\n",
       "    <tr>\n",
       "      <th>19</th>\n",
       "      <td>0</td>\n",
       "      <td>-10038.818549</td>\n",
       "      <td>48</td>\n",
       "      <td>СРЕДНЕЕ</td>\n",
       "      <td>1</td>\n",
       "      <td>в разводе</td>\n",
       "      <td>3</td>\n",
       "      <td>F</td>\n",
       "      <td>сотрудник</td>\n",
       "      <td>0</td>\n",
       "      <td>242831.107982</td>\n",
       "      <td>на покупку своего автомобиля</td>\n",
       "    </tr>\n",
       "  </tbody>\n",
       "</table>\n",
       "</div>"
      ],
      "text/plain": [
       "    children  days_employed  dob_years            education  education_id  \\\n",
       "0          1   -8437.673028         42               высшее             0   \n",
       "1          1   -4024.803754         36              среднее             1   \n",
       "2          0   -5623.422610         33              Среднее             1   \n",
       "3          3   -4124.747207         32              среднее             1   \n",
       "4          0  340266.072047         53              среднее             1   \n",
       "5          0    -926.185831         27               высшее             0   \n",
       "6          0   -2879.202052         43               высшее             0   \n",
       "7          0    -152.779569         50              СРЕДНЕЕ             1   \n",
       "8          2   -6929.865299         35               ВЫСШЕЕ             0   \n",
       "9          0   -2188.756445         41              среднее             1   \n",
       "10         2   -4171.483647         36               высшее             0   \n",
       "11         0    -792.701887         40              среднее             1   \n",
       "12         0            NaN         65              среднее             1   \n",
       "13         0   -1846.641941         54  неоконченное высшее             2   \n",
       "14         0   -1844.956182         56               высшее             0   \n",
       "15         1    -972.364419         26              среднее             1   \n",
       "16         0   -1719.934226         35              среднее             1   \n",
       "17         0   -2369.999720         33               высшее             0   \n",
       "18         0  400281.136913         53              среднее             1   \n",
       "19         0  -10038.818549         48              СРЕДНЕЕ             1   \n",
       "\n",
       "       family_status  family_status_id gender income_type  debt  \\\n",
       "0    женат / замужем                 0      F   сотрудник     0   \n",
       "1    женат / замужем                 0      F   сотрудник     0   \n",
       "2    женат / замужем                 0      M   сотрудник     0   \n",
       "3    женат / замужем                 0      M   сотрудник     0   \n",
       "4   гражданский брак                 1      F   пенсионер     0   \n",
       "5   гражданский брак                 1      M   компаньон     0   \n",
       "6    женат / замужем                 0      F   компаньон     0   \n",
       "7    женат / замужем                 0      M   сотрудник     0   \n",
       "8   гражданский брак                 1      F   сотрудник     0   \n",
       "9    женат / замужем                 0      M   сотрудник     0   \n",
       "10   женат / замужем                 0      M   компаньон     0   \n",
       "11   женат / замужем                 0      F   сотрудник     0   \n",
       "12  гражданский брак                 1      M   пенсионер     0   \n",
       "13   женат / замужем                 0      F   сотрудник     0   \n",
       "14  гражданский брак                 1      F   компаньон     1   \n",
       "15   женат / замужем                 0      F   сотрудник     0   \n",
       "16   женат / замужем                 0      F   сотрудник     0   \n",
       "17  гражданский брак                 1      M   сотрудник     0   \n",
       "18    вдовец / вдова                 2      F   пенсионер     0   \n",
       "19         в разводе                 3      F   сотрудник     0   \n",
       "\n",
       "     total_income                                 purpose  \n",
       "0   253875.639453                           покупка жилья  \n",
       "1   112080.014102                 приобретение автомобиля  \n",
       "2   145885.952297                           покупка жилья  \n",
       "3   267628.550329              дополнительное образование  \n",
       "4   158616.077870                         сыграть свадьбу  \n",
       "5   255763.565419                           покупка жилья  \n",
       "6   240525.971920                       операции с жильем  \n",
       "7   135823.934197                             образование  \n",
       "8    95856.832424                   на проведение свадьбы  \n",
       "9   144425.938277                 покупка жилья для семьи  \n",
       "10  113943.491460                    покупка недвижимости  \n",
       "11   77069.234271       покупка коммерческой недвижимости  \n",
       "12            NaN                         сыграть свадьбу  \n",
       "13  130458.228857                 приобретение автомобиля  \n",
       "14  165127.911772              покупка жилой недвижимости  \n",
       "15  116820.904450  строительство собственной недвижимости  \n",
       "16  289202.704229                            недвижимость  \n",
       "17   90410.586745              строительство недвижимости  \n",
       "18   56823.777243      на покупку подержанного автомобиля  \n",
       "19  242831.107982            на покупку своего автомобиля  "
      ]
     },
     "execution_count": 2,
     "metadata": {},
     "output_type": "execute_result"
    }
   ],
   "source": [
    "data.head(20)"
   ]
  },
  {
   "cell_type": "code",
   "execution_count": 3,
   "id": "132f514d",
   "metadata": {
    "deletable": false,
    "id": "2b757bca",
    "outputId": "15376089-8dad-46c9-b520-c05248d43158"
   },
   "outputs": [
    {
     "name": "stdout",
     "output_type": "stream",
     "text": [
      "<class 'pandas.core.frame.DataFrame'>\n",
      "RangeIndex: 21525 entries, 0 to 21524\n",
      "Data columns (total 12 columns):\n",
      " #   Column            Non-Null Count  Dtype  \n",
      "---  ------            --------------  -----  \n",
      " 0   children          21525 non-null  int64  \n",
      " 1   days_employed     19351 non-null  float64\n",
      " 2   dob_years         21525 non-null  int64  \n",
      " 3   education         21525 non-null  object \n",
      " 4   education_id      21525 non-null  int64  \n",
      " 5   family_status     21525 non-null  object \n",
      " 6   family_status_id  21525 non-null  int64  \n",
      " 7   gender            21525 non-null  object \n",
      " 8   income_type       21525 non-null  object \n",
      " 9   debt              21525 non-null  int64  \n",
      " 10  total_income      19351 non-null  float64\n",
      " 11  purpose           21525 non-null  object \n",
      "dtypes: float64(2), int64(5), object(5)\n",
      "memory usage: 2.0+ MB\n"
     ]
    }
   ],
   "source": [
    "data.info()"
   ]
  },
  {
   "cell_type": "markdown",
   "id": "0d4a07ff",
   "metadata": {
    "deletable": false,
    "editable": false,
    "id": "333ec665"
   },
   "source": [
    "## Предобработка данных"
   ]
  },
  {
   "cell_type": "markdown",
   "id": "a5855ab0",
   "metadata": {
    "deletable": false,
    "editable": false,
    "id": "02d92d53"
   },
   "source": [
    "### Удаление пропусков"
   ]
  },
  {
   "cell_type": "code",
   "execution_count": 4,
   "id": "436cdf90",
   "metadata": {
    "deletable": false,
    "id": "7f9b2309",
    "outputId": "81f4d817-781c-465c-ed15-91ce4446810d"
   },
   "outputs": [
    {
     "data": {
      "text/plain": [
       "children               0\n",
       "days_employed       2174\n",
       "dob_years              0\n",
       "education              0\n",
       "education_id           0\n",
       "family_status          0\n",
       "family_status_id       0\n",
       "gender                 0\n",
       "income_type            0\n",
       "debt                   0\n",
       "total_income        2174\n",
       "purpose                0\n",
       "dtype: int64"
      ]
     },
     "execution_count": 4,
     "metadata": {},
     "output_type": "execute_result"
    }
   ],
   "source": [
    "data.isna().sum()"
   ]
  },
  {
   "cell_type": "markdown",
   "id": "89d8afda",
   "metadata": {
    "deletable": false,
    "editable": false,
    "id": "db86e27b"
   },
   "source": [
    "В двух столбцах есть пропущенные значения. Один из них — `days_employed`. Другой столбец с пропущенными значениями — `total_income` — хранит данные о доходах. На сумму дохода сильнее всего влияет тип занятости, поэтому заполнить пропуски в этом столбце нужно медианным значением по каждому типу из столбца `income_type`. Например, у человека с типом занятости `сотрудник` пропуск в столбце `total_income` должен быть заполнен медианным доходом среди всех записей с тем же типом."
   ]
  },
  {
   "cell_type": "code",
   "execution_count": 5,
   "id": "fff85040",
   "metadata": {
    "deletable": false,
    "id": "42006a93"
   },
   "outputs": [],
   "source": [
    "for t in data['income_type'].unique():\n",
    "    data.loc[(data['income_type'] == t) & (data['total_income'].isna()), 'total_income'] = \\\n",
    "    data.loc[(data['income_type'] == t), 'total_income'].median()"
   ]
  },
  {
   "cell_type": "markdown",
   "id": "7d090a56",
   "metadata": {
    "deletable": false,
    "editable": false,
    "id": "89da5ece"
   },
   "source": [
    "### Обработка аномальных значений"
   ]
  },
  {
   "cell_type": "markdown",
   "id": "e38e0c4f",
   "metadata": {
    "deletable": false,
    "editable": false,
    "id": "57964554"
   },
   "source": [
    "В данных могут встречаться артефакты (аномалии) — значения, которые не отражают действительность и появились по какой-то ошибке. таким артефактом будет отрицательное количество дней трудового стажа в столбце `days_employed`."
   ]
  },
  {
   "cell_type": "code",
   "execution_count": 6,
   "id": "c972246a",
   "metadata": {
    "deletable": false,
    "id": "f6f055bf"
   },
   "outputs": [],
   "source": [
    "data['days_employed'] = data['days_employed'].abs()"
   ]
  },
  {
   "cell_type": "markdown",
   "id": "0759e7c2",
   "metadata": {
    "deletable": false,
    "editable": false,
    "id": "6107dd2f"
   },
   "source": [
    "Для каждого типа занятости выведем медианное значение трудового стажа `days_employed` в днях."
   ]
  },
  {
   "cell_type": "code",
   "execution_count": 7,
   "id": "68210e37",
   "metadata": {
    "deletable": false,
    "id": "85a5faf6",
    "outputId": "801ef80e-522b-4668-f34e-565af7432bcf"
   },
   "outputs": [
    {
     "data": {
      "text/plain": [
       "income_type\n",
       "безработный        366413.652744\n",
       "в декрете            3296.759962\n",
       "госслужащий          2689.368353\n",
       "компаньон            1547.382223\n",
       "пенсионер          365213.306266\n",
       "предприниматель       520.848083\n",
       "сотрудник            1574.202821\n",
       "студент               578.751554\n",
       "Name: days_employed, dtype: float64"
      ]
     },
     "execution_count": 7,
     "metadata": {},
     "output_type": "execute_result"
    }
   ],
   "source": [
    "data.groupby('income_type')['days_employed'].agg('median')"
   ]
  },
  {
   "cell_type": "markdown",
   "id": "c3941581",
   "metadata": {
    "deletable": false,
    "editable": false,
    "id": "38d1a030"
   },
   "source": [
    "У двух типов (безработные и пенсионеры) получатся аномально большие значения. Исправить такие значения сложно, поэтому оставим их как есть, тем более этот столбец не понадобится нам для исследования."
   ]
  },
  {
   "cell_type": "markdown",
   "id": "d8e392bf",
   "metadata": {
    "deletable": false,
    "editable": false,
    "id": "d8a9f147"
   },
   "source": [
    "Выведем перечень уникальных значений столбца `children`."
   ]
  },
  {
   "cell_type": "code",
   "execution_count": 8,
   "id": "231afc71",
   "metadata": {
    "deletable": false,
    "id": "ef5056eb",
    "outputId": "6975b15c-7f95-4697-d16d-a0c79b657b03"
   },
   "outputs": [
    {
     "data": {
      "text/plain": [
       "array([ 1,  0,  3,  2, -1,  4, 20,  5])"
      ]
     },
     "execution_count": 8,
     "metadata": {},
     "output_type": "execute_result"
    }
   ],
   "source": [
    "data['children'].unique()"
   ]
  },
  {
   "cell_type": "markdown",
   "id": "9c95892d",
   "metadata": {
    "deletable": false,
    "editable": false,
    "id": "40b9ebf2"
   },
   "source": [
    "В столбце `children` есть два аномальных значения. Удалим строки, в которых встречаются такие аномальные значения."
   ]
  },
  {
   "cell_type": "code",
   "execution_count": 9,
   "id": "5674a4a3",
   "metadata": {
    "deletable": false,
    "id": "3ff9801d"
   },
   "outputs": [],
   "source": [
    "data = data[(data['children'] != -1) & (data['children'] != 20)]"
   ]
  },
  {
   "cell_type": "code",
   "execution_count": 10,
   "id": "96e30c94",
   "metadata": {
    "deletable": false,
    "id": "ad4fa8b7",
    "outputId": "b2097101-d49d-44d9-901b-32a65c9463d1"
   },
   "outputs": [
    {
     "data": {
      "text/plain": [
       "array([1, 0, 3, 2, 4, 5])"
      ]
     },
     "execution_count": 10,
     "metadata": {},
     "output_type": "execute_result"
    }
   ],
   "source": [
    "data['children'].unique()"
   ]
  },
  {
   "cell_type": "markdown",
   "id": "4d8c5715",
   "metadata": {
    "deletable": false,
    "editable": false,
    "id": "f4ea573f"
   },
   "source": [
    "Заполним пропуски в столбце `days_employed` медианными значениями по каждого типа занятости `income_type`."
   ]
  },
  {
   "cell_type": "code",
   "execution_count": 11,
   "id": "f9ea1656",
   "metadata": {
    "deletable": false,
    "id": "af6b1a7e"
   },
   "outputs": [],
   "source": [
    "for t in data['income_type'].unique():\n",
    "    data.loc[(data['income_type'] == t) & (data['days_employed'].isna()), 'days_employed'] = \\\n",
    "    data.loc[(data['income_type'] == t), 'days_employed'].median()"
   ]
  },
  {
   "cell_type": "markdown",
   "id": "7050e061",
   "metadata": {
    "deletable": false,
    "editable": false,
    "id": "2753f40d"
   },
   "source": [
    "Убедимся, что все пропуски заполнены."
   ]
  },
  {
   "cell_type": "code",
   "execution_count": 12,
   "id": "7806efb2",
   "metadata": {
    "deletable": false,
    "id": "55f78bc2",
    "outputId": "8da1e4e1-358e-4e87-98c9-f261bce0a7b2"
   },
   "outputs": [
    {
     "data": {
      "text/plain": [
       "children            0\n",
       "days_employed       0\n",
       "dob_years           0\n",
       "education           0\n",
       "education_id        0\n",
       "family_status       0\n",
       "family_status_id    0\n",
       "gender              0\n",
       "income_type         0\n",
       "debt                0\n",
       "total_income        0\n",
       "purpose             0\n",
       "dtype: int64"
      ]
     },
     "execution_count": 12,
     "metadata": {},
     "output_type": "execute_result"
    }
   ],
   "source": [
    "data.isna().sum()"
   ]
  },
  {
   "cell_type": "markdown",
   "id": "7f396309",
   "metadata": {
    "deletable": false,
    "editable": false,
    "id": "ddc81e43"
   },
   "source": [
    "### Изменение типов данных"
   ]
  },
  {
   "cell_type": "markdown",
   "id": "f6e02478",
   "metadata": {
    "deletable": false,
    "editable": false,
    "id": "42d19d24"
   },
   "source": [
    "Заменим вещественный тип данных в столбце `total_income` на целочисленный с помощью метода `astype()`."
   ]
  },
  {
   "cell_type": "code",
   "execution_count": 13,
   "id": "56ed67b8",
   "metadata": {
    "deletable": false,
    "id": "920b65ad"
   },
   "outputs": [],
   "source": [
    "data['total_income'] = data['total_income'].astype(int)"
   ]
  },
  {
   "cell_type": "markdown",
   "id": "be1166e3",
   "metadata": {
    "deletable": false,
    "editable": false,
    "id": "80c420ba"
   },
   "source": [
    "### Обработка дубликатов"
   ]
  },
  {
   "cell_type": "markdown",
   "id": "dc6f885c",
   "metadata": {
    "deletable": false,
    "editable": false
   },
   "source": [
    "Обработаем неявные дубликаты в столбце `education`. В этом столбце есть одни и те же значения, но записанные по-разному: с использованием заглавных и строчных букв. Приведем их к нижнему регистру."
   ]
  },
  {
   "cell_type": "code",
   "execution_count": 14,
   "id": "9c23dbf0",
   "metadata": {
    "deletable": false
   },
   "outputs": [],
   "source": [
    "data['education'] = data['education'].str.lower()"
   ]
  },
  {
   "cell_type": "markdown",
   "id": "42ca2bfb",
   "metadata": {
    "deletable": false,
    "editable": false,
    "id": "dc587695"
   },
   "source": [
    "Выведем количество строк-дубликатов в данных и удалим такие, если они есть."
   ]
  },
  {
   "cell_type": "code",
   "execution_count": 15,
   "id": "05133fa2",
   "metadata": {
    "deletable": false,
    "id": "3ee445e4",
    "outputId": "9684deba-1934-42d1-99e1-cda61740f822"
   },
   "outputs": [
    {
     "data": {
      "text/plain": [
       "71"
      ]
     },
     "execution_count": 15,
     "metadata": {},
     "output_type": "execute_result"
    }
   ],
   "source": [
    "data.duplicated().sum()"
   ]
  },
  {
   "cell_type": "code",
   "execution_count": 16,
   "id": "3c78d282",
   "metadata": {
    "deletable": false,
    "id": "8575fe05"
   },
   "outputs": [],
   "source": [
    "data = data.drop_duplicates()"
   ]
  },
  {
   "cell_type": "markdown",
   "id": "6204f8a0",
   "metadata": {
    "deletable": false,
    "editable": false,
    "id": "9904cf55"
   },
   "source": [
    "### Категоризация данных"
   ]
  },
  {
   "cell_type": "markdown",
   "id": "4d2a08ec",
   "metadata": {
    "deletable": false,
    "editable": false,
    "id": "72fcc8a2"
   },
   "source": [
    "На основании диапазонов, создаим в датафрейме `data` столбец `total_income_category` с категориями:\n",
    "\n",
    "- 0–30000 — `'E'`;\n",
    "- 30001–50000 — `'D'`;\n",
    "- 50001–200000 — `'C'`;\n",
    "- 200001–1000000 — `'B'`;\n",
    "- 1000001 и выше — `'A'`.\n",
    "\n",
    "\n",
    "Например, кредитополучателю с доходом 25000 нужно назначить категорию `'E'`, а клиенту, получающему 235000, — `'B'`. "
   ]
  },
  {
   "cell_type": "code",
   "execution_count": 17,
   "id": "365abed5",
   "metadata": {
    "deletable": false,
    "id": "e1771346"
   },
   "outputs": [],
   "source": [
    "def categorize_income(income):\n",
    "    try:\n",
    "        if 0 <= income <= 30000:\n",
    "            return 'E'\n",
    "        elif 30001 <= income <= 50000:\n",
    "            return 'D'\n",
    "        elif 50001 <= income <= 200000:\n",
    "            return 'C'\n",
    "        elif 200001 <= income <= 1000000:\n",
    "            return 'B'\n",
    "        elif income >= 1000001:\n",
    "            return 'A'\n",
    "    except:\n",
    "        pass"
   ]
  },
  {
   "cell_type": "code",
   "execution_count": 18,
   "id": "8de25ad7",
   "metadata": {
    "deletable": false,
    "id": "d5f3586d"
   },
   "outputs": [],
   "source": [
    "data['total_income_category'] = data['total_income'].apply(categorize_income)"
   ]
  },
  {
   "cell_type": "markdown",
   "id": "b2da5a60",
   "metadata": {
    "deletable": false,
    "editable": false,
    "id": "dde49b5c"
   },
   "source": [
    "Выведем перечень уникальных целей взятия кредита из столбца `purpose`."
   ]
  },
  {
   "cell_type": "code",
   "execution_count": 19,
   "id": "db66d4b6",
   "metadata": {
    "deletable": false,
    "id": "f67ce9b3",
    "outputId": "673c12d9-7d7e-4ae0-9812-c622c89dd244"
   },
   "outputs": [
    {
     "data": {
      "text/plain": [
       "array(['покупка жилья', 'приобретение автомобиля',\n",
       "       'дополнительное образование', 'сыграть свадьбу',\n",
       "       'операции с жильем', 'образование', 'на проведение свадьбы',\n",
       "       'покупка жилья для семьи', 'покупка недвижимости',\n",
       "       'покупка коммерческой недвижимости', 'покупка жилой недвижимости',\n",
       "       'строительство собственной недвижимости', 'недвижимость',\n",
       "       'строительство недвижимости', 'на покупку подержанного автомобиля',\n",
       "       'на покупку своего автомобиля',\n",
       "       'операции с коммерческой недвижимостью',\n",
       "       'строительство жилой недвижимости', 'жилье',\n",
       "       'операции со своей недвижимостью', 'автомобили',\n",
       "       'заняться образованием', 'сделка с подержанным автомобилем',\n",
       "       'получение образования', 'автомобиль', 'свадьба',\n",
       "       'получение дополнительного образования', 'покупка своего жилья',\n",
       "       'операции с недвижимостью', 'получение высшего образования',\n",
       "       'свой автомобиль', 'сделка с автомобилем',\n",
       "       'профильное образование', 'высшее образование',\n",
       "       'покупка жилья для сдачи', 'на покупку автомобиля', 'ремонт жилью',\n",
       "       'заняться высшим образованием'], dtype=object)"
      ]
     },
     "execution_count": 19,
     "metadata": {},
     "output_type": "execute_result"
    }
   ],
   "source": [
    "data['purpose'].unique()"
   ]
  },
  {
   "cell_type": "markdown",
   "id": "b5100a6f",
   "metadata": {
    "deletable": false,
    "editable": false,
    "id": "85d0aef0"
   },
   "source": [
    "Создаим функцию, которая на основании данных из столбца `purpose` сформирует новый столбец `purpose_category`, в который войдут следующие категории:\n",
    "\n",
    "- `'операции с автомобилем'`,\n",
    "- `'операции с недвижимостью'`,\n",
    "- `'проведение свадьбы'`,\n",
    "- `'получение образования'`.\n"
   ]
  },
  {
   "cell_type": "code",
   "execution_count": 20,
   "id": "4195ddb0",
   "metadata": {
    "deletable": false,
    "id": "e149fab4"
   },
   "outputs": [],
   "source": [
    "def categorize_purpose(row):\n",
    "    try:\n",
    "        if 'автом' in row:\n",
    "            return 'операции с автомобилем'\n",
    "        elif 'жил' in row or 'недвиж' in row:\n",
    "            return 'операции с недвижимостью'\n",
    "        elif 'свад' in row:\n",
    "            return 'проведение свадьбы'\n",
    "        elif 'образов' in row:\n",
    "            return 'получение образования'\n",
    "    except:\n",
    "        return 'нет категории'"
   ]
  },
  {
   "cell_type": "code",
   "execution_count": 21,
   "id": "06cb1da7",
   "metadata": {
    "deletable": false,
    "id": "bf36e69b"
   },
   "outputs": [],
   "source": [
    "data['purpose_category'] = data['purpose'].apply(categorize_purpose)"
   ]
  },
  {
   "cell_type": "markdown",
   "id": "dc9eb5b9",
   "metadata": {
    "deletable": false,
    "editable": false,
    "id": "09b242bf"
   },
   "source": [
    "### Шаг 3. Исследуйте данные и ответьте на вопросы"
   ]
  },
  {
   "cell_type": "markdown",
   "id": "ee4b3c23",
   "metadata": {
    "deletable": false,
    "editable": false,
    "id": "c5d66278"
   },
   "source": [
    "#### 3.1 Есть ли зависимость между количеством детей и возвратом кредита в срок?"
   ]
  },
  {
   "cell_type": "code",
   "execution_count": 22,
   "id": "d8788c3e",
   "metadata": {
    "deletable": false,
    "id": "2cacfc4a"
   },
   "outputs": [
    {
     "name": "stdout",
     "output_type": "stream",
     "text": [
      "0\n",
      "debt            0       1      all   percent\n",
      "children                                    \n",
      "4            37.0     4.0     41.0  0.902439\n",
      "2          1858.0   194.0   2052.0  0.905458\n",
      "1          4364.0   444.0   4808.0  0.907654\n",
      "3           303.0    27.0    330.0  0.918182\n",
      "0         13028.0  1063.0  14091.0  0.924562\n",
      "5             9.0     0.0      9.0  1.000000\n"
     ]
    }
   ],
   "source": [
    "data_children = data.pivot_table(index= 'children', columns= 'debt', values= 'family_status', aggfunc= 'count')\n",
    "print(len(data[data['debt'].isna()])) \n",
    "data_children = data_children.fillna(0)\n",
    "data_children['all'] = data_children[1] + data_children[0]\n",
    "data_children['percent'] = data_children[0] / data_children['all']\n",
    "children = data_children.sort_values('percent')\n",
    "print(children)"
   ]
  },
  {
   "cell_type": "markdown",
   "id": "5706239a",
   "metadata": {
    "deletable": false,
    "id": "3a6b99ec"
   },
   "source": [
    "**Вывод:** Зависимость между количеством детей и возвратом кредита в срок на основании данных есть - чем меньше детей, тем выше вероятность возврата в срок, при этом заемщики с 3 детьми платят в срок чаще, чем заемщики с 1 или 2. Тем не менее слишком уж близки доли, чуть измениться выборка и значения могут измениться в другую сторону. То есть можно сделать вывод, что сколь угодно значимой разницы между группами нет.\n",
    "\n",
    "Еще можно увидеть в наших данных, то, что по некоторым группам заемщиков у нас недостаточно данных. Выборка не сбалансирована, классы в выборке имеют разные размеры."
   ]
  },
  {
   "cell_type": "markdown",
   "id": "2236bdbb",
   "metadata": {
    "deletable": false,
    "editable": false,
    "id": "97be82ca"
   },
   "source": [
    "#### 3.2 Есть ли зависимость между семейным положением и возвратом кредита в срок?"
   ]
  },
  {
   "cell_type": "code",
   "execution_count": 23,
   "id": "5cebf200",
   "metadata": {
    "deletable": false,
    "id": "dc3f7ee8"
   },
   "outputs": [
    {
     "name": "stdout",
     "output_type": "stream",
     "text": [
      "debt                       0    1    all   percent\n",
      "family_status                                     \n",
      "вдовец / вдова           888   63    951  0.066246\n",
      "в разводе               1105   84   1189  0.070648\n",
      "женат / замужем        11334  927  12261  0.075606\n",
      "гражданский брак        3749  385   4134  0.093130\n",
      "Не женат / не замужем   2523  273   2796  0.097639\n"
     ]
    }
   ],
   "source": [
    "data_family = data.pivot_table(index= 'family_status', columns= 'debt', values= 'education_id', aggfunc= 'count')\n",
    "data_family['all'] = data_family[1] + data_family[0]\n",
    "data_family['percent'] = data_family[1] / data_family['all']\n",
    "family = data_family.sort_values('percent')\n",
    "print(family)"
   ]
  },
  {
   "cell_type": "markdown",
   "id": "86439472",
   "metadata": {
    "deletable": false,
    "id": "1cef7837"
   },
   "source": [
    "**Вывод:** Зависимость есть - заемщики, никогда не состоявшие в браке, возвращают кредит в срок реже, а состоящие в браке имеют больший процент возврата в срок, чем овдовевшие и разведенные. Кредитному отделу следует с осторожностью относиться к клиентам, которые не состоят или не состояли в браке. Согласно данным такие клиенты менее ответственные. Получается, что узаконенные отношения (включая и бывшие отношения) ведут к более ответственному отношению к своим обязательствам. Ну вроде как совпадает со здравым смыслом - семейные люди более скрупулёзно берегут свой семейное спокойствие и несут за него ответственность."
   ]
  },
  {
   "cell_type": "markdown",
   "id": "5c9df3c0",
   "metadata": {
    "deletable": false,
    "editable": false,
    "id": "1e8b2fca"
   },
   "source": [
    "#### 3.3 Есть ли зависимость между уровнем дохода и возвратом кредита в срок?"
   ]
  },
  {
   "cell_type": "code",
   "execution_count": 24,
   "id": "07d1ddb4",
   "metadata": {
    "deletable": false,
    "id": "cd7e3720"
   },
   "outputs": [
    {
     "name": "stdout",
     "output_type": "stream",
     "text": [
      "debt                       0     1    all   percent\n",
      "total_income_category                              \n",
      "D                        328    21    349  0.060172\n",
      "B                       4660   354   5014  0.070602\n",
      "A                         23     2     25  0.080000\n",
      "C                      14568  1353  15921  0.084982\n",
      "E                         20     2     22  0.090909\n"
     ]
    }
   ],
   "source": [
    "data_income = data.pivot_table(index= 'total_income_category', columns= 'debt', values= 'education_id', aggfunc= 'count')\n",
    "data_income['all'] = data_income[1] + data_income[0]\n",
    "data_income['percent'] = data_income[1] / data_income['all']\n",
    "inc = data_income.sort_values('percent')\n",
    "print(inc)"
   ]
  },
  {
   "cell_type": "markdown",
   "id": "7f5d3ee8",
   "metadata": {
    "deletable": false,
    "id": "e8593def"
   },
   "source": [
    "**Вывод:** Ожидаемо, для группы с низким доходом (Е) процент невозвратов самый высокий. Что более интересно, так это то, что с ростом доходов тенденция (D->C и B->А) к снижению числа долгов не сохраняется, а скорее даже растёт. Можно сказать, что по какой-то причине люди \"перестают считать деньги\" или планировать \"наперёд\". Из-за подобного поведения наших групп параметр (\"доход\") нельзя назвать надёжным при определении платёжеспособности клиента. Без дополнительной информации он может даже наоборот привести к выдаче кредита состоятельному, но не слишком \"надёжному\" клиенту, хотя, возможно, это может быть аномалия, вызванная недостаточным размером выборки для клиентов с категорией доходов А. Однако 2174 пропуска в данных столбца \"total_income\" ставят под сомнение полученный нами результат"
   ]
  },
  {
   "cell_type": "markdown",
   "id": "f8b789ce",
   "metadata": {
    "deletable": false,
    "editable": false,
    "id": "99ecbd1f"
   },
   "source": [
    "#### 3.4 Как разные цели кредита влияют на его возврат в срок?"
   ]
  },
  {
   "cell_type": "code",
   "execution_count": 25,
   "id": "a4ac43ff",
   "metadata": {
    "deletable": false,
    "id": "2b687290"
   },
   "outputs": [
    {
     "name": "stdout",
     "output_type": "stream",
     "text": [
      "debt                         0    1    all   percent\n",
      "purpose_category                                    \n",
      "операции с недвижимостью  9971  780  10751  0.072551\n",
      "проведение свадьбы        2130  183   2313  0.079118\n",
      "получение образования     3619  369   3988  0.092528\n",
      "операции с автомобилем    3879  400   4279  0.093480\n"
     ]
    }
   ],
   "source": [
    "data_purpose = data.pivot_table(index= 'purpose_category', columns= 'debt', values= 'education_id', aggfunc= 'count')\n",
    "data_purpose['all'] = data_purpose[1] + data_purpose[0]\n",
    "data_purpose['percent'] = data_purpose[1] / data_purpose['all']\n",
    "purp = data_purpose.sort_values('percent')\n",
    "print(purp)"
   ]
  },
  {
   "cell_type": "markdown",
   "id": "9796fa92",
   "metadata": {
    "deletable": false,
    "id": "b4bb2ce6"
   },
   "source": [
    "**Вывод:** Есть завсимость между целью кредита и возвратом в срок - заемщики, которые берут деньги на автомобиль или получение образования попадают в просрочку чаще, чем те, кому кредит нужен для покупки недвижимости или проведения свадьбы. "
   ]
  },
  {
   "cell_type": "markdown",
   "id": "4cc25176",
   "metadata": {
    "deletable": false,
    "editable": false,
    "id": "09c3ac4c"
   },
   "source": [
    "#### 3.5 Приведите возможные причины появления пропусков в исходных данных."
   ]
  },
  {
   "cell_type": "markdown",
   "id": "ef6069b1",
   "metadata": {
    "deletable": false,
    "id": "9da2ceda"
   },
   "source": [
    "*Ответ:* В наших данных пропуски в столбцах \"трудовой стаж\" и \"ежемесячный доход\" абсолютно идентичны. Количество строк с отсутствующими данными в обоих указанных столбцах совпадает и равно 2174. Маловероятно, что специалисты по выдаче кредитов, заполнив все без исключения ячейки других столбцов по каждому кредитополучателю, оставляли незаполненными именно два показателя, и сделали это ровно 2174 раза в каждом столбце. Даже не проводя проверку, во всех ли случаях незаполненные ячейки находятся в одной и то же строке с высокой долей вероятности можно утверждать, что произошла техническая ошибка при формировании таблицы с исходными данными (либо некий сбой во время выгрузки данных на анализ, либо при объединении данных в единый файл, который также должен был передаваться на анализ, либо эти данные не собирались)"
   ]
  },
  {
   "cell_type": "markdown",
   "id": "c874b1dd",
   "metadata": {
    "deletable": false,
    "editable": false,
    "id": "7b0487d6"
   },
   "source": [
    "#### 3.6 Объясните, почему заполнить пропуски медианным значением — лучшее решение для количественных переменных."
   ]
  },
  {
   "cell_type": "markdown",
   "id": "b701c740",
   "metadata": {
    "deletable": false,
    "id": "7ecf2b8e"
   },
   "source": [
    "*Ответ:* Пропуски в количественных переменных лучше заполнить медианным значением, если в данных наблюдаются \"выбросы\", то даже небольшое их количество может сильно \"перетягивать\" среднее значение в большую или меньшую сторону. Медиана зачастую даёт более правдивую картину."
   ]
  },
  {
   "cell_type": "markdown",
   "id": "04bd98f8",
   "metadata": {
    "deletable": false,
    "editable": false,
    "id": "6db5255a"
   },
   "source": [
    "### Шаг 4: общий вывод."
   ]
  },
  {
   "cell_type": "markdown",
   "id": "731323f9",
   "metadata": {
    "deletable": false,
    "id": "bad65432"
   },
   "source": [
    "Было проведено исследование, заказчиком которого был кредитный отдел банка. Нужно было разобраться, влияет ли семейное положение и количество детей клиента на факт погашения кредита в срок. Входные данные от банка — статистика о платёжеспособности клиентов. Результаты исследования будут учтены при построении модели кредитного скоринга — специальной системы, которая оценивает способность потенциального заёмщика вернуть кредит банку.\n",
    "\n",
    "Перед проведением исследования были выдвинуты несколько гипотез:\n",
    "1) Количество детей влияет на факт погашения кредита в срок\n",
    "2) Семейное положение влияет на факт погашения кредита в срок\n",
    "3) Цель кредита влияет на факт погашения кредита в срок\n",
    "4) Уровень дохода влияет на факт погашения кредита в срок\n",
    "\n",
    "В результате исследования было выявлено:\n",
    "1) Зависимость между количеством детей и возвратом кредита в срок на основании данных есть - чем меньше детей, тем выше вероятность возврата в срок, при этом заемщики с 3 детьми платят в срок чаще, чем заемщики с 1 или 2. Тем не менее слишком уж близки доли, а так же по некоторым группам заемщиков у нас недостаточно данных. Выборка не сбалансирована, а значит и подвтердить или опровергнуть гипотезу наверняка нельзя.\n",
    "2) Заемщики, никогда не состоявшие в браке, возвращают кредит в срок реже, а состоящие в браке имеют больший процент возврата в срок, чем овдовевшие и разведенные. Кредитному отделу следует с осторожностью относиться к клиентам, которые не состоят или не состояли в браке, согласно данным такие клиенты менее ответственные. Получается, что узаконенные отношения (включая и бывшие отношения) ведут к более ответственному отношению к своим обязательствам.\n",
    "3) Есть завсимость между целью кредита и возвратом в срок - заемщики, которые берут деньги на автомобиль или получение образования попадают в просрочку чаще, чем те, кому кредит нужен для покупки недвижимости или проведения свадьбы. \n",
    "4) Нельзя с четкостью сказать, что уровень дохода 100% влияет на факт возврата кредита в срок. Ожидаемо, для группы с низким доходом (Е) процент невозвратов самый высокий. Что более интересно, так это то, что с ростом доходов тенденция к снижению числа долгов не сохраняется, а скорее даже растёт. Из-за подобного поведения наших групп параметр (\"доход\") нельзя назвать надёжным при определении платёжеспособности клиента. \n",
    "\n",
    "Кредитным специалистом следует брать во внимание выявленные нами закономерности между возвратом кредита в срок и целью кредита и семейным положением. \n",
    "Для более полного исследования закономерностей выборка должна быть более равномерной.\n"
   ]
  }
 ],
 "metadata": {
  "ExecuteTimeLog": [
   {
    "duration": 417,
    "start_time": "2022-12-24T08:39:33.919Z"
   },
   {
    "duration": 21,
    "start_time": "2022-12-24T08:39:34.539Z"
   },
   {
    "duration": 15,
    "start_time": "2022-12-24T08:39:34.912Z"
   },
   {
    "duration": 9,
    "start_time": "2022-12-24T08:39:35.902Z"
   },
   {
    "duration": 31,
    "start_time": "2022-12-24T08:39:36.602Z"
   },
   {
    "duration": 4,
    "start_time": "2022-12-24T08:39:37.124Z"
   },
   {
    "duration": 9,
    "start_time": "2022-12-24T08:39:37.468Z"
   },
   {
    "duration": 3,
    "start_time": "2022-12-24T08:39:38.016Z"
   },
   {
    "duration": 6,
    "start_time": "2022-12-24T08:39:38.397Z"
   },
   {
    "duration": 4,
    "start_time": "2022-12-24T08:39:38.764Z"
   },
   {
    "duration": 39,
    "start_time": "2022-12-24T08:39:39.296Z"
   },
   {
    "duration": 9,
    "start_time": "2022-12-24T08:39:39.640Z"
   },
   {
    "duration": 4,
    "start_time": "2022-12-24T08:39:40.160Z"
   },
   {
    "duration": 11,
    "start_time": "2022-12-24T08:39:40.675Z"
   },
   {
    "duration": 18,
    "start_time": "2022-12-24T08:39:41.079Z"
   },
   {
    "duration": 17,
    "start_time": "2022-12-24T08:39:41.245Z"
   },
   {
    "duration": 4,
    "start_time": "2022-12-24T08:39:41.771Z"
   },
   {
    "duration": 10,
    "start_time": "2022-12-24T08:39:41.940Z"
   },
   {
    "duration": 6,
    "start_time": "2022-12-24T08:39:42.295Z"
   },
   {
    "duration": 4,
    "start_time": "2022-12-24T08:39:42.656Z"
   },
   {
    "duration": 9,
    "start_time": "2022-12-24T08:39:42.830Z"
   },
   {
    "duration": 2,
    "start_time": "2022-12-24T08:39:43.429Z"
   },
   {
    "duration": 3,
    "start_time": "2022-12-24T08:39:43.973Z"
   },
   {
    "duration": 513,
    "start_time": "2022-12-24T23:39:11.408Z"
   },
   {
    "duration": 22,
    "start_time": "2022-12-24T23:39:12.485Z"
   },
   {
    "duration": 16,
    "start_time": "2022-12-24T23:39:15.401Z"
   },
   {
    "duration": 11,
    "start_time": "2022-12-24T23:39:17.332Z"
   },
   {
    "duration": 36,
    "start_time": "2022-12-24T23:39:17.677Z"
   },
   {
    "duration": 4,
    "start_time": "2022-12-24T23:39:18.211Z"
   },
   {
    "duration": 8,
    "start_time": "2022-12-24T23:39:18.541Z"
   },
   {
    "duration": 6,
    "start_time": "2022-12-24T23:39:19.076Z"
   },
   {
    "duration": 7,
    "start_time": "2022-12-24T23:39:19.413Z"
   },
   {
    "duration": 7,
    "start_time": "2022-12-24T23:39:19.765Z"
   },
   {
    "duration": 43,
    "start_time": "2022-12-24T23:39:20.275Z"
   },
   {
    "duration": 11,
    "start_time": "2022-12-24T23:39:20.608Z"
   },
   {
    "duration": 5,
    "start_time": "2022-12-24T23:39:21.377Z"
   },
   {
    "duration": 12,
    "start_time": "2022-12-24T23:39:21.929Z"
   },
   {
    "duration": 23,
    "start_time": "2022-12-24T23:39:23.127Z"
   },
   {
    "duration": 19,
    "start_time": "2022-12-24T23:39:23.214Z"
   },
   {
    "duration": 9,
    "start_time": "2022-12-24T23:39:23.767Z"
   },
   {
    "duration": 20,
    "start_time": "2022-12-24T23:39:23.957Z"
   },
   {
    "duration": 5,
    "start_time": "2022-12-24T23:39:24.578Z"
   },
   {
    "duration": 5,
    "start_time": "2022-12-24T23:39:25.449Z"
   },
   {
    "duration": 9,
    "start_time": "2022-12-24T23:39:25.877Z"
   },
   {
    "duration": 3,
    "start_time": "2022-12-24T23:39:27.372Z"
   },
   {
    "duration": 573,
    "start_time": "2022-12-25T10:08:16.277Z"
   },
   {
    "duration": 25,
    "start_time": "2022-12-25T10:08:16.852Z"
   },
   {
    "duration": 37,
    "start_time": "2022-12-25T10:08:16.883Z"
   },
   {
    "duration": 10,
    "start_time": "2022-12-25T10:08:16.922Z"
   },
   {
    "duration": 33,
    "start_time": "2022-12-25T10:08:17.011Z"
   },
   {
    "duration": 4,
    "start_time": "2022-12-25T10:08:17.126Z"
   },
   {
    "duration": 7,
    "start_time": "2022-12-25T10:08:17.215Z"
   },
   {
    "duration": 4,
    "start_time": "2022-12-25T10:08:17.351Z"
   },
   {
    "duration": 7,
    "start_time": "2022-12-25T10:08:17.440Z"
   },
   {
    "duration": 5,
    "start_time": "2022-12-25T10:08:17.531Z"
   },
   {
    "duration": 43,
    "start_time": "2022-12-25T10:08:17.660Z"
   },
   {
    "duration": 12,
    "start_time": "2022-12-25T10:08:17.751Z"
   },
   {
    "duration": 8,
    "start_time": "2022-12-25T10:08:17.876Z"
   },
   {
    "duration": 14,
    "start_time": "2022-12-25T10:08:18.002Z"
   },
   {
    "duration": 31,
    "start_time": "2022-12-25T10:08:18.100Z"
   },
   {
    "duration": 28,
    "start_time": "2022-12-25T10:08:18.148Z"
   },
   {
    "duration": 8,
    "start_time": "2022-12-25T10:08:18.276Z"
   },
   {
    "duration": 10,
    "start_time": "2022-12-25T10:08:18.328Z"
   },
   {
    "duration": 6,
    "start_time": "2022-12-25T10:08:18.416Z"
   },
   {
    "duration": 4,
    "start_time": "2022-12-25T10:08:18.511Z"
   },
   {
    "duration": 9,
    "start_time": "2022-12-25T10:08:18.561Z"
   },
   {
    "duration": 25,
    "start_time": "2022-12-25T10:08:42.908Z"
   },
   {
    "duration": 23,
    "start_time": "2022-12-25T10:10:06.137Z"
   },
   {
    "duration": 19,
    "start_time": "2022-12-25T10:33:05.994Z"
   },
   {
    "duration": 17,
    "start_time": "2022-12-25T10:33:26.257Z"
   },
   {
    "duration": 19,
    "start_time": "2022-12-25T10:35:32.860Z"
   },
   {
    "duration": 16,
    "start_time": "2022-12-25T10:35:38.904Z"
   },
   {
    "duration": 20,
    "start_time": "2022-12-25T10:45:18.906Z"
   },
   {
    "duration": 17,
    "start_time": "2022-12-25T10:47:34.641Z"
   },
   {
    "duration": 447,
    "start_time": "2022-12-25T13:35:57.459Z"
   },
   {
    "duration": 21,
    "start_time": "2022-12-25T13:35:57.908Z"
   },
   {
    "duration": 14,
    "start_time": "2022-12-25T13:35:57.930Z"
   },
   {
    "duration": 9,
    "start_time": "2022-12-25T13:35:57.946Z"
   },
   {
    "duration": 57,
    "start_time": "2022-12-25T13:35:57.956Z"
   },
   {
    "duration": 4,
    "start_time": "2022-12-25T13:35:58.014Z"
   },
   {
    "duration": 10,
    "start_time": "2022-12-25T13:35:58.019Z"
   },
   {
    "duration": 4,
    "start_time": "2022-12-25T13:35:58.031Z"
   },
   {
    "duration": 9,
    "start_time": "2022-12-25T13:35:58.036Z"
   },
   {
    "duration": 4,
    "start_time": "2022-12-25T13:35:58.048Z"
   },
   {
    "duration": 73,
    "start_time": "2022-12-25T13:35:58.054Z"
   },
   {
    "duration": 9,
    "start_time": "2022-12-25T13:35:58.129Z"
   },
   {
    "duration": 5,
    "start_time": "2022-12-25T13:35:58.139Z"
   },
   {
    "duration": 21,
    "start_time": "2022-12-25T13:35:58.145Z"
   },
   {
    "duration": 23,
    "start_time": "2022-12-25T13:35:58.168Z"
   },
   {
    "duration": 18,
    "start_time": "2022-12-25T13:35:58.205Z"
   },
   {
    "duration": 4,
    "start_time": "2022-12-25T13:35:58.224Z"
   },
   {
    "duration": 16,
    "start_time": "2022-12-25T13:35:58.230Z"
   },
   {
    "duration": 12,
    "start_time": "2022-12-25T13:35:58.249Z"
   },
   {
    "duration": 4,
    "start_time": "2022-12-25T13:35:58.264Z"
   },
   {
    "duration": 35,
    "start_time": "2022-12-25T13:35:58.269Z"
   },
   {
    "duration": 23,
    "start_time": "2022-12-25T13:35:58.306Z"
   },
   {
    "duration": 18,
    "start_time": "2022-12-25T13:35:58.330Z"
   },
   {
    "duration": 16,
    "start_time": "2022-12-25T13:35:58.350Z"
   },
   {
    "duration": 42,
    "start_time": "2022-12-25T13:35:58.368Z"
   }
  ],
  "colab": {
   "name": "dpp_template_part2.ipynb",
   "provenance": []
  },
  "kernelspec": {
   "display_name": "Python 3 (ipykernel)",
   "language": "python",
   "name": "python3"
  },
  "language_info": {
   "codemirror_mode": {
    "name": "ipython",
    "version": 3
   },
   "file_extension": ".py",
   "mimetype": "text/x-python",
   "name": "python",
   "nbconvert_exporter": "python",
   "pygments_lexer": "ipython3",
   "version": "3.9.5"
  },
  "toc": {
   "base_numbering": 1,
   "nav_menu": {},
   "number_sections": true,
   "sideBar": true,
   "skip_h1_title": true,
   "title_cell": "Table of Contents",
   "title_sidebar": "Contents",
   "toc_cell": false,
   "toc_position": {},
   "toc_section_display": true,
   "toc_window_display": true
  }
 },
 "nbformat": 4,
 "nbformat_minor": 5
}
