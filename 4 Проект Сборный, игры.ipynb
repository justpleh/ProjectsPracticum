{
 "cells": [
  {
   "cell_type": "markdown",
   "metadata": {},
   "source": [
    "# Исследование закономерностей, определяющих популярность игр"
   ]
  },
  {
   "cell_type": "markdown",
   "metadata": {},
   "source": [
    "Из открытых источников нам доступны исторические данные о продажах игр, оценки пользователей и экспертов, жанры и платформы (например, Xbox или PlayStation). Нам нужно выявить определяющие успешность игры закономерности. Это позволит сделать ставку на потенциально популярный продукт и спланировать рекламные кампании.\n",
    "\n",
    "Представлены данные до 2016 года.\n",
    "    \n",
    "Наш план действий такой:\n",
    "   \n",
    "1. Посмотрим на данные, уберем дубликаты, изменим тип и избавимся от пропусков\n",
    "    \n",
    "2. Посмотрим как менялись продажи игр по годам и платформам и определим актуальный период и топ платформ\n",
    "    \n",
    "3. Посмотрим, как зависят продажи от рейтинга критиков и пользователей\n",
    "\n",
    "4. Нарисуем портрет пользователя из 3 регионов - Северно Америки, Европы и Японии\n",
    "    \n",
    "5. Проверим две гипотезы на равенство пользовательских рейтингов \n",
    "\n",
    "По итогу исследования мы узнаем, что и как влияет на продажи игр, чтобы опрелить закономерности успеха\n",
    "    \n",
    "Name — название игры\n",
    "\n",
    "Platform — платформа\n",
    "\n",
    "Year_of_Release — год выпуска\n",
    "\n",
    "Genre — жанр игры\n",
    "\n",
    "NA_sales — продажи в Северной Америке (миллионы проданных копий)\n",
    "\n",
    "EU_sales — продажи в Европе (миллионы проданных копий)\n",
    "\n",
    "JP_sales — продажи в Японии (миллионы проданных копий)\n",
    "\n",
    "Other_sales — продажи в других странах (миллионы проданных копий)\n",
    "\n",
    "Critic_Score — оценка критиков (максимум 100)\n",
    "\n",
    "User_Score — оценка пользователей (максимум 10)\n",
    "\n",
    "Rating — рейтинг от организации ESRB (англ. Entertainment Software Rating Board). Эта ассоциация определяет рейтинг компьютерных игр и присваивает им подходящую возрастную категорию."
   ]
  },
  {
   "cell_type": "code",
   "execution_count": 1,
   "metadata": {},
   "outputs": [],
   "source": [
    "import pandas as pd\n",
    "import numpy as np\n",
    "import matplotlib.pyplot as plt\n",
    "import seaborn as sns\n",
    "import os\n",
    "from scipy import stats as st\n",
    "plt.rcParams.update({'figure.max_open_warning': 0})"
   ]
  },
  {
   "cell_type": "markdown",
   "metadata": {},
   "source": [
    "### Шаг 1. Открываем файл с данными и изучаем общую информацию"
   ]
  },
  {
   "cell_type": "code",
   "execution_count": 2,
   "metadata": {},
   "outputs": [],
   "source": [
    "pth1 = 'games.csv'\n",
    "pth2 = '/datasets/games.csv'\n",
    "\n",
    "if os.path.exists(pth1):\n",
    "    games = pd.read_csv(pth1)\n",
    "elif os.path.exists(pth2):\n",
    "    games = pd.read_csv(pth2)\n",
    "else:\n",
    "    print('Something is wrong')"
   ]
  },
  {
   "cell_type": "code",
   "execution_count": 3,
   "metadata": {},
   "outputs": [
    {
     "data": {
      "text/html": [
       "<div>\n",
       "<style scoped>\n",
       "    .dataframe tbody tr th:only-of-type {\n",
       "        vertical-align: middle;\n",
       "    }\n",
       "\n",
       "    .dataframe tbody tr th {\n",
       "        vertical-align: top;\n",
       "    }\n",
       "\n",
       "    .dataframe thead th {\n",
       "        text-align: right;\n",
       "    }\n",
       "</style>\n",
       "<table border=\"1\" class=\"dataframe\">\n",
       "  <thead>\n",
       "    <tr style=\"text-align: right;\">\n",
       "      <th></th>\n",
       "      <th>Name</th>\n",
       "      <th>Platform</th>\n",
       "      <th>Year_of_Release</th>\n",
       "      <th>Genre</th>\n",
       "      <th>NA_sales</th>\n",
       "      <th>EU_sales</th>\n",
       "      <th>JP_sales</th>\n",
       "      <th>Other_sales</th>\n",
       "      <th>Critic_Score</th>\n",
       "      <th>User_Score</th>\n",
       "      <th>Rating</th>\n",
       "    </tr>\n",
       "  </thead>\n",
       "  <tbody>\n",
       "    <tr>\n",
       "      <th>0</th>\n",
       "      <td>Wii Sports</td>\n",
       "      <td>Wii</td>\n",
       "      <td>2006.0</td>\n",
       "      <td>Sports</td>\n",
       "      <td>41.36</td>\n",
       "      <td>28.96</td>\n",
       "      <td>3.77</td>\n",
       "      <td>8.45</td>\n",
       "      <td>76.0</td>\n",
       "      <td>8</td>\n",
       "      <td>E</td>\n",
       "    </tr>\n",
       "    <tr>\n",
       "      <th>1</th>\n",
       "      <td>Super Mario Bros.</td>\n",
       "      <td>NES</td>\n",
       "      <td>1985.0</td>\n",
       "      <td>Platform</td>\n",
       "      <td>29.08</td>\n",
       "      <td>3.58</td>\n",
       "      <td>6.81</td>\n",
       "      <td>0.77</td>\n",
       "      <td>NaN</td>\n",
       "      <td>NaN</td>\n",
       "      <td>NaN</td>\n",
       "    </tr>\n",
       "    <tr>\n",
       "      <th>2</th>\n",
       "      <td>Mario Kart Wii</td>\n",
       "      <td>Wii</td>\n",
       "      <td>2008.0</td>\n",
       "      <td>Racing</td>\n",
       "      <td>15.68</td>\n",
       "      <td>12.76</td>\n",
       "      <td>3.79</td>\n",
       "      <td>3.29</td>\n",
       "      <td>82.0</td>\n",
       "      <td>8.3</td>\n",
       "      <td>E</td>\n",
       "    </tr>\n",
       "    <tr>\n",
       "      <th>3</th>\n",
       "      <td>Wii Sports Resort</td>\n",
       "      <td>Wii</td>\n",
       "      <td>2009.0</td>\n",
       "      <td>Sports</td>\n",
       "      <td>15.61</td>\n",
       "      <td>10.93</td>\n",
       "      <td>3.28</td>\n",
       "      <td>2.95</td>\n",
       "      <td>80.0</td>\n",
       "      <td>8</td>\n",
       "      <td>E</td>\n",
       "    </tr>\n",
       "    <tr>\n",
       "      <th>4</th>\n",
       "      <td>Pokemon Red/Pokemon Blue</td>\n",
       "      <td>GB</td>\n",
       "      <td>1996.0</td>\n",
       "      <td>Role-Playing</td>\n",
       "      <td>11.27</td>\n",
       "      <td>8.89</td>\n",
       "      <td>10.22</td>\n",
       "      <td>1.00</td>\n",
       "      <td>NaN</td>\n",
       "      <td>NaN</td>\n",
       "      <td>NaN</td>\n",
       "    </tr>\n",
       "  </tbody>\n",
       "</table>\n",
       "</div>"
      ],
      "text/plain": [
       "                       Name Platform  Year_of_Release         Genre  NA_sales  \\\n",
       "0                Wii Sports      Wii           2006.0        Sports     41.36   \n",
       "1         Super Mario Bros.      NES           1985.0      Platform     29.08   \n",
       "2            Mario Kart Wii      Wii           2008.0        Racing     15.68   \n",
       "3         Wii Sports Resort      Wii           2009.0        Sports     15.61   \n",
       "4  Pokemon Red/Pokemon Blue       GB           1996.0  Role-Playing     11.27   \n",
       "\n",
       "   EU_sales  JP_sales  Other_sales  Critic_Score User_Score Rating  \n",
       "0     28.96      3.77         8.45          76.0          8      E  \n",
       "1      3.58      6.81         0.77           NaN        NaN    NaN  \n",
       "2     12.76      3.79         3.29          82.0        8.3      E  \n",
       "3     10.93      3.28         2.95          80.0          8      E  \n",
       "4      8.89     10.22         1.00           NaN        NaN    NaN  "
      ]
     },
     "execution_count": 3,
     "metadata": {},
     "output_type": "execute_result"
    }
   ],
   "source": [
    "games.head()"
   ]
  },
  {
   "cell_type": "code",
   "execution_count": 4,
   "metadata": {},
   "outputs": [
    {
     "name": "stdout",
     "output_type": "stream",
     "text": [
      "<class 'pandas.core.frame.DataFrame'>\n",
      "RangeIndex: 16715 entries, 0 to 16714\n",
      "Data columns (total 11 columns):\n",
      " #   Column           Non-Null Count  Dtype  \n",
      "---  ------           --------------  -----  \n",
      " 0   Name             16713 non-null  object \n",
      " 1   Platform         16715 non-null  object \n",
      " 2   Year_of_Release  16446 non-null  float64\n",
      " 3   Genre            16713 non-null  object \n",
      " 4   NA_sales         16715 non-null  float64\n",
      " 5   EU_sales         16715 non-null  float64\n",
      " 6   JP_sales         16715 non-null  float64\n",
      " 7   Other_sales      16715 non-null  float64\n",
      " 8   Critic_Score     8137 non-null   float64\n",
      " 9   User_Score       10014 non-null  object \n",
      " 10  Rating           9949 non-null   object \n",
      "dtypes: float64(6), object(5)\n",
      "memory usage: 1.4+ MB\n"
     ]
    }
   ],
   "source": [
    "games.info()"
   ]
  },
  {
   "cell_type": "markdown",
   "metadata": {},
   "source": [
    "В наших данных 16715 строк, пропусков больше всего в колонке с рейтингом критиков и возрастном рейтинге. Есть 2 строчки без названия игры и жанра. В некоторых придется поменять тип данных, изменить регистр."
   ]
  },
  {
   "cell_type": "markdown",
   "metadata": {},
   "source": [
    "### Шаг 2. Подготавливаем данные"
   ]
  },
  {
   "cell_type": "code",
   "execution_count": 5,
   "metadata": {},
   "outputs": [],
   "source": [
    "new_columns = [column.lower() for column in games.columns]\n",
    "games.columns = new_columns"
   ]
  },
  {
   "cell_type": "code",
   "execution_count": 6,
   "metadata": {},
   "outputs": [
    {
     "name": "stdout",
     "output_type": "stream",
     "text": [
      "<class 'pandas.core.frame.DataFrame'>\n",
      "RangeIndex: 16715 entries, 0 to 16714\n",
      "Data columns (total 11 columns):\n",
      " #   Column           Non-Null Count  Dtype  \n",
      "---  ------           --------------  -----  \n",
      " 0   name             16713 non-null  object \n",
      " 1   platform         16715 non-null  object \n",
      " 2   year_of_release  16446 non-null  float64\n",
      " 3   genre            16713 non-null  object \n",
      " 4   na_sales         16715 non-null  float64\n",
      " 5   eu_sales         16715 non-null  float64\n",
      " 6   jp_sales         16715 non-null  float64\n",
      " 7   other_sales      16715 non-null  float64\n",
      " 8   critic_score     8137 non-null   float64\n",
      " 9   user_score       7590 non-null   float64\n",
      " 10  rating           9949 non-null   object \n",
      "dtypes: float64(7), object(4)\n",
      "memory usage: 1.4+ MB\n"
     ]
    }
   ],
   "source": [
    "games['year_of_release'] = pd.to_numeric(games['year_of_release'], downcast='integer')\n",
    "games['critic_score'] = pd.to_numeric(games['critic_score'], downcast='integer')\n",
    "games['user_score'] = games['user_score'].replace('tbd', np.nan, regex=True)\n",
    "games['user_score'] = games['user_score'].astype(float)\n",
    "games.info()"
   ]
  },
  {
   "cell_type": "markdown",
   "metadata": {},
   "source": [
    "Меняем тип данных, чтобы было удобнее работать. Год - явно целое число, в рейтинге критиков по факту целые числа с точкой, а рейтинге пользователей - дробные.  \"tbd\" означает, что сейчас идет оценивание и оценки нет, поэтому все \"tbd\" можно заменить на NaN.\n"
   ]
  },
  {
   "cell_type": "code",
   "execution_count": 7,
   "metadata": {},
   "outputs": [
    {
     "data": {
      "text/plain": [
       "name                  2\n",
       "platform              0\n",
       "year_of_release     269\n",
       "genre                 2\n",
       "na_sales              0\n",
       "eu_sales              0\n",
       "jp_sales              0\n",
       "other_sales           0\n",
       "critic_score       8578\n",
       "user_score         9125\n",
       "rating             6766\n",
       "dtype: int64"
      ]
     },
     "execution_count": 7,
     "metadata": {},
     "output_type": "execute_result"
    }
   ],
   "source": [
    "games.isna().sum()"
   ]
  },
  {
   "cell_type": "markdown",
   "metadata": {},
   "source": [
    "Попробуем восстановить данные. Есть пропуски в имени и жанре - их придется удалить."
   ]
  },
  {
   "cell_type": "code",
   "execution_count": 8,
   "metadata": {},
   "outputs": [],
   "source": [
    "games[games['genre'].isna()]\n",
    "games[games['name'].isna()]\n",
    "games.drop([659, 14244],inplace=True)"
   ]
  },
  {
   "cell_type": "code",
   "execution_count": 9,
   "metadata": {},
   "outputs": [
    {
     "data": {
      "text/html": [
       "<div>\n",
       "<style scoped>\n",
       "    .dataframe tbody tr th:only-of-type {\n",
       "        vertical-align: middle;\n",
       "    }\n",
       "\n",
       "    .dataframe tbody tr th {\n",
       "        vertical-align: top;\n",
       "    }\n",
       "\n",
       "    .dataframe thead th {\n",
       "        text-align: right;\n",
       "    }\n",
       "</style>\n",
       "<table border=\"1\" class=\"dataframe\">\n",
       "  <thead>\n",
       "    <tr style=\"text-align: right;\">\n",
       "      <th></th>\n",
       "      <th>name</th>\n",
       "      <th>platform</th>\n",
       "      <th>year_of_release</th>\n",
       "      <th>genre</th>\n",
       "      <th>na_sales</th>\n",
       "      <th>eu_sales</th>\n",
       "      <th>jp_sales</th>\n",
       "      <th>other_sales</th>\n",
       "      <th>critic_score</th>\n",
       "      <th>user_score</th>\n",
       "      <th>rating</th>\n",
       "    </tr>\n",
       "  </thead>\n",
       "  <tbody>\n",
       "    <tr>\n",
       "      <th>183</th>\n",
       "      <td>Madden NFL 2004</td>\n",
       "      <td>PS2</td>\n",
       "      <td>NaN</td>\n",
       "      <td>Sports</td>\n",
       "      <td>4.26</td>\n",
       "      <td>0.26</td>\n",
       "      <td>0.01</td>\n",
       "      <td>0.71</td>\n",
       "      <td>94.0</td>\n",
       "      <td>8.5</td>\n",
       "      <td>E</td>\n",
       "    </tr>\n",
       "    <tr>\n",
       "      <th>377</th>\n",
       "      <td>FIFA Soccer 2004</td>\n",
       "      <td>PS2</td>\n",
       "      <td>NaN</td>\n",
       "      <td>Sports</td>\n",
       "      <td>0.59</td>\n",
       "      <td>2.36</td>\n",
       "      <td>0.04</td>\n",
       "      <td>0.51</td>\n",
       "      <td>84.0</td>\n",
       "      <td>6.4</td>\n",
       "      <td>E</td>\n",
       "    </tr>\n",
       "    <tr>\n",
       "      <th>456</th>\n",
       "      <td>LEGO Batman: The Videogame</td>\n",
       "      <td>Wii</td>\n",
       "      <td>NaN</td>\n",
       "      <td>Action</td>\n",
       "      <td>1.80</td>\n",
       "      <td>0.97</td>\n",
       "      <td>0.00</td>\n",
       "      <td>0.29</td>\n",
       "      <td>74.0</td>\n",
       "      <td>7.9</td>\n",
       "      <td>E10+</td>\n",
       "    </tr>\n",
       "    <tr>\n",
       "      <th>475</th>\n",
       "      <td>wwe Smackdown vs. Raw 2006</td>\n",
       "      <td>PS2</td>\n",
       "      <td>NaN</td>\n",
       "      <td>Fighting</td>\n",
       "      <td>1.57</td>\n",
       "      <td>1.02</td>\n",
       "      <td>0.00</td>\n",
       "      <td>0.41</td>\n",
       "      <td>NaN</td>\n",
       "      <td>NaN</td>\n",
       "      <td>NaN</td>\n",
       "    </tr>\n",
       "    <tr>\n",
       "      <th>609</th>\n",
       "      <td>Space Invaders</td>\n",
       "      <td>2600</td>\n",
       "      <td>NaN</td>\n",
       "      <td>Shooter</td>\n",
       "      <td>2.36</td>\n",
       "      <td>0.14</td>\n",
       "      <td>0.00</td>\n",
       "      <td>0.03</td>\n",
       "      <td>NaN</td>\n",
       "      <td>NaN</td>\n",
       "      <td>NaN</td>\n",
       "    </tr>\n",
       "    <tr>\n",
       "      <th>...</th>\n",
       "      <td>...</td>\n",
       "      <td>...</td>\n",
       "      <td>...</td>\n",
       "      <td>...</td>\n",
       "      <td>...</td>\n",
       "      <td>...</td>\n",
       "      <td>...</td>\n",
       "      <td>...</td>\n",
       "      <td>...</td>\n",
       "      <td>...</td>\n",
       "      <td>...</td>\n",
       "    </tr>\n",
       "    <tr>\n",
       "      <th>16373</th>\n",
       "      <td>PDC World Championship Darts 2008</td>\n",
       "      <td>PSP</td>\n",
       "      <td>NaN</td>\n",
       "      <td>Sports</td>\n",
       "      <td>0.01</td>\n",
       "      <td>0.00</td>\n",
       "      <td>0.00</td>\n",
       "      <td>0.00</td>\n",
       "      <td>43.0</td>\n",
       "      <td>NaN</td>\n",
       "      <td>E10+</td>\n",
       "    </tr>\n",
       "    <tr>\n",
       "      <th>16405</th>\n",
       "      <td>Freaky Flyers</td>\n",
       "      <td>GC</td>\n",
       "      <td>NaN</td>\n",
       "      <td>Racing</td>\n",
       "      <td>0.01</td>\n",
       "      <td>0.00</td>\n",
       "      <td>0.00</td>\n",
       "      <td>0.00</td>\n",
       "      <td>69.0</td>\n",
       "      <td>6.5</td>\n",
       "      <td>T</td>\n",
       "    </tr>\n",
       "    <tr>\n",
       "      <th>16448</th>\n",
       "      <td>Inversion</td>\n",
       "      <td>PC</td>\n",
       "      <td>NaN</td>\n",
       "      <td>Shooter</td>\n",
       "      <td>0.01</td>\n",
       "      <td>0.00</td>\n",
       "      <td>0.00</td>\n",
       "      <td>0.00</td>\n",
       "      <td>59.0</td>\n",
       "      <td>6.7</td>\n",
       "      <td>M</td>\n",
       "    </tr>\n",
       "    <tr>\n",
       "      <th>16458</th>\n",
       "      <td>Hakuouki: Shinsengumi Kitan</td>\n",
       "      <td>PS3</td>\n",
       "      <td>NaN</td>\n",
       "      <td>Adventure</td>\n",
       "      <td>0.01</td>\n",
       "      <td>0.00</td>\n",
       "      <td>0.00</td>\n",
       "      <td>0.00</td>\n",
       "      <td>NaN</td>\n",
       "      <td>NaN</td>\n",
       "      <td>NaN</td>\n",
       "    </tr>\n",
       "    <tr>\n",
       "      <th>16522</th>\n",
       "      <td>Virtua Quest</td>\n",
       "      <td>GC</td>\n",
       "      <td>NaN</td>\n",
       "      <td>Role-Playing</td>\n",
       "      <td>0.01</td>\n",
       "      <td>0.00</td>\n",
       "      <td>0.00</td>\n",
       "      <td>0.00</td>\n",
       "      <td>55.0</td>\n",
       "      <td>5.5</td>\n",
       "      <td>T</td>\n",
       "    </tr>\n",
       "  </tbody>\n",
       "</table>\n",
       "<p>269 rows × 11 columns</p>\n",
       "</div>"
      ],
      "text/plain": [
       "                                    name platform  year_of_release  \\\n",
       "183                      Madden NFL 2004      PS2              NaN   \n",
       "377                     FIFA Soccer 2004      PS2              NaN   \n",
       "456           LEGO Batman: The Videogame      Wii              NaN   \n",
       "475           wwe Smackdown vs. Raw 2006      PS2              NaN   \n",
       "609                       Space Invaders     2600              NaN   \n",
       "...                                  ...      ...              ...   \n",
       "16373  PDC World Championship Darts 2008      PSP              NaN   \n",
       "16405                      Freaky Flyers       GC              NaN   \n",
       "16448                          Inversion       PC              NaN   \n",
       "16458        Hakuouki: Shinsengumi Kitan      PS3              NaN   \n",
       "16522                       Virtua Quest       GC              NaN   \n",
       "\n",
       "              genre  na_sales  eu_sales  jp_sales  other_sales  critic_score  \\\n",
       "183          Sports      4.26      0.26      0.01         0.71          94.0   \n",
       "377          Sports      0.59      2.36      0.04         0.51          84.0   \n",
       "456          Action      1.80      0.97      0.00         0.29          74.0   \n",
       "475        Fighting      1.57      1.02      0.00         0.41           NaN   \n",
       "609         Shooter      2.36      0.14      0.00         0.03           NaN   \n",
       "...             ...       ...       ...       ...          ...           ...   \n",
       "16373        Sports      0.01      0.00      0.00         0.00          43.0   \n",
       "16405        Racing      0.01      0.00      0.00         0.00          69.0   \n",
       "16448       Shooter      0.01      0.00      0.00         0.00          59.0   \n",
       "16458     Adventure      0.01      0.00      0.00         0.00           NaN   \n",
       "16522  Role-Playing      0.01      0.00      0.00         0.00          55.0   \n",
       "\n",
       "       user_score rating  \n",
       "183           8.5      E  \n",
       "377           6.4      E  \n",
       "456           7.9   E10+  \n",
       "475           NaN    NaN  \n",
       "609           NaN    NaN  \n",
       "...           ...    ...  \n",
       "16373         NaN   E10+  \n",
       "16405         6.5      T  \n",
       "16448         6.7      M  \n",
       "16458         NaN    NaN  \n",
       "16522         5.5      T  \n",
       "\n",
       "[269 rows x 11 columns]"
      ]
     },
     "execution_count": 9,
     "metadata": {},
     "output_type": "execute_result"
    }
   ],
   "source": [
    "games_year_nan = games[games['year_of_release'].isna()]\n",
    "games_year_nan"
   ]
  },
  {
   "cell_type": "code",
   "execution_count": 10,
   "metadata": {},
   "outputs": [
    {
     "data": {
      "text/plain": [
       "Action          62\n",
       "Sports          42\n",
       "Misc            29\n",
       "Shooter         27\n",
       "Racing          23\n",
       "Role-Playing    17\n",
       "Simulation      16\n",
       "Fighting        12\n",
       "Puzzle          11\n",
       "Platform        10\n",
       "Adventure       10\n",
       "Strategy        10\n",
       "Name: genre, dtype: int64"
      ]
     },
     "execution_count": 10,
     "metadata": {},
     "output_type": "execute_result"
    }
   ],
   "source": [
    "games_year_nan['genre'].value_counts()"
   ]
  },
  {
   "cell_type": "code",
   "execution_count": 11,
   "metadata": {},
   "outputs": [
    {
     "data": {
      "text/plain": [
       "Action          3369\n",
       "Sports          2348\n",
       "Misc            1750\n",
       "Role-Playing    1498\n",
       "Shooter         1323\n",
       "Adventure       1303\n",
       "Racing          1249\n",
       "Platform         888\n",
       "Simulation       873\n",
       "Fighting         849\n",
       "Strategy         683\n",
       "Puzzle           580\n",
       "Name: genre, dtype: int64"
      ]
     },
     "execution_count": 11,
     "metadata": {},
     "output_type": "execute_result"
    }
   ],
   "source": [
    "games['genre'].value_counts()"
   ]
  },
  {
   "cell_type": "markdown",
   "metadata": {},
   "source": [
    "Всего 16715 строк, 269 - это чуть больше 1%, потерять столько не страшно. В некоторых играх год есть в названии. \n",
    "В целом все отсутсвующие значения по году это не больше 2% в потере жанров. Критичный уровень потерь записей на этапе предобработки составляет 10%, оптимальный 5%"
   ]
  },
  {
   "cell_type": "markdown",
   "metadata": {},
   "source": [
    "Пропуски в данных могут быть как простой потерей, например те строки без имени, так и отсутвующими данными, например, рейтинг. Некототрые игры просто не успели получить оценку."
   ]
  },
  {
   "cell_type": "code",
   "execution_count": 12,
   "metadata": {},
   "outputs": [
    {
     "name": "stdout",
     "output_type": "stream",
     "text": [
      "<class 'pandas.core.frame.DataFrame'>\n",
      "Int64Index: 16444 entries, 0 to 16714\n",
      "Data columns (total 11 columns):\n",
      " #   Column           Non-Null Count  Dtype  \n",
      "---  ------           --------------  -----  \n",
      " 0   name             16444 non-null  object \n",
      " 1   platform         16444 non-null  object \n",
      " 2   year_of_release  16444 non-null  int16  \n",
      " 3   genre            16444 non-null  object \n",
      " 4   na_sales         16444 non-null  float64\n",
      " 5   eu_sales         16444 non-null  float64\n",
      " 6   jp_sales         16444 non-null  float64\n",
      " 7   other_sales      16444 non-null  float64\n",
      " 8   critic_score     7983 non-null   float64\n",
      " 9   user_score       7463 non-null   float64\n",
      " 10  rating           9768 non-null   object \n",
      "dtypes: float64(6), int16(1), object(4)\n",
      "memory usage: 1.4+ MB\n"
     ]
    }
   ],
   "source": [
    "games.drop(games[games['year_of_release'].isna()].index,inplace=True)\n",
    "games['year_of_release'] = pd.to_numeric(games['year_of_release'], downcast='integer')\n",
    "games.drop_duplicates(subset=None, keep='first', inplace=False, ignore_index=False)\n",
    "games.info()"
   ]
  },
  {
   "cell_type": "markdown",
   "metadata": {},
   "source": [
    "В наборе данных попадается аббревиатура ESRB (Entertainment Software Rating Board) — это ассоциация, определяющая возрастной рейтинг компьютерных игр. ESRB оценивает игровой контент и присваивает ему подходящую возрастную категорию, например, «Для взрослых», «Для детей младшего возраста» или «Для подростков». Выпущен  1994 году, поэтому у некоторых игр его может и не быть."
   ]
  },
  {
   "cell_type": "markdown",
   "metadata": {},
   "source": [
    "#### Посчитаем суммарные продажи по регионам "
   ]
  },
  {
   "cell_type": "code",
   "execution_count": 13,
   "metadata": {},
   "outputs": [],
   "source": [
    "games['total_sales'] = games[['na_sales','eu_sales','jp_sales','other_sales']].sum(axis=1)"
   ]
  },
  {
   "cell_type": "markdown",
   "metadata": {},
   "source": [
    "Итак, мы посмотрели данные, избавились от дубликатов, изменили тип на целочисленный и удалили лишнее - данные без названия и жанра.\n",
    "Нам доступен датасет с 1644 строками и информацией об играх, платформах, на которых они выпускались, продажах в разных странах и ретингах. \n",
    "А так же добавили столбец с общей суммой продаж, на основании данных из которого и будем делать выводы о популряности."
   ]
  },
  {
   "cell_type": "markdown",
   "metadata": {},
   "source": [
    "### Шаг 3. Исследовательский анализ"
   ]
  },
  {
   "cell_type": "markdown",
   "metadata": {},
   "source": [
    "#### Посмотрим данные по годам"
   ]
  },
  {
   "cell_type": "code",
   "execution_count": 14,
   "metadata": {},
   "outputs": [
    {
     "data": {
      "text/plain": [
       "<AxesSubplot:title={'center':'Разброс игр по годам'}, xlabel='Год выпуска', ylabel='Количество игр'>"
      ]
     },
     "execution_count": 14,
     "metadata": {},
     "output_type": "execute_result"
    },
    {
     "data": {
      "image/png": "[encoded data removed]",
      "text/plain": [
       "<Figure size 1080x720 with 1 Axes>"
      ]
     },
     "metadata": {
      "needs_background": "light"
     },
     "output_type": "display_data"
    }
   ],
   "source": [
    "game_year = games.pivot_table(index='year_of_release', values='name', aggfunc='count')\n",
    "game_year.plot(title='Разброс игр по годам', xlabel = 'Год выпуска', \n",
    "               ylabel = 'Количество игр', grid=True, style='o-', figsize=(15, 10))"
   ]
  },
  {
   "cell_type": "markdown",
   "metadata": {},
   "source": [
    "Можно заметить, как количество игр начало расти после 2000, но стоит учитывать и тот момент, что количество игр в данных может быть в неравных соотношениях по годам. Видим резкий скачок к 2008, спад в 2013, затем снова рост\n",
    "\n",
    "Если мы вообще представим, что сейчас декабрь 2016, а мы планируем кампанию на 2017, то данные как минимум до 2005, а то и до 2010 вообще не нужны."
   ]
  },
  {
   "cell_type": "markdown",
   "metadata": {},
   "source": [
    "#### Посмотрим данные по платформам"
   ]
  },
  {
   "cell_type": "code",
   "execution_count": 15,
   "metadata": {},
   "outputs": [
    {
     "data": {
      "text/plain": [
       "Text(0, 0.5, 'Количество игр')"
      ]
     },
     "execution_count": 15,
     "metadata": {},
     "output_type": "execute_result"
    },
    {
     "data": {
      "image/png": "[encoded data removed]",
      "text/plain": [
       "<Figure size 1080x720 with 1 Axes>"
      ]
     },
     "metadata": {
      "needs_background": "light"
     },
     "output_type": "display_data"
    }
   ],
   "source": [
    "games_sale_platform = games.pivot_table(index='platform', values='total_sales',\n",
    "                                        aggfunc='sum').sort_values(by='total_sales', ascending=False)\n",
    "plt.figure(figsize=(15,10))\n",
    "sns.barplot(x=games_sale_platform.index,y=games_sale_platform['total_sales']) \n",
    "plt.title(\"Разброс игр по платформам\")\n",
    "plt.xlabel(\"Платформа\")\n",
    "plt.ylabel(\"Количество игр\")"
   ]
  },
  {
   "cell_type": "markdown",
   "metadata": {},
   "source": [
    "Становится сразу видно, что топ-6 самых популярных - PS 1-3, Xbox360, Wii и Nintendo DS. Это как раз можно объяснить годами выпуска игр. Но опять же важно понимать сколько игр выпускалось по годам, так как некоторые из них могут быть совсем старыми, а другие - наоборот, совсем новыми"
   ]
  },
  {
   "cell_type": "code",
   "execution_count": 16,
   "metadata": {},
   "outputs": [
    {
     "data": {
      "text/plain": [
       "array(['PS2', 'X360', 'PS3', 'Wii', 'DS', 'PS', 'PS4', 'GBA', 'PSP',\n",
       "       '3DS', 'PC', 'GB', 'XB', 'NES', 'N64', 'SNES', 'GC', 'XOne',\n",
       "       '2600', 'WiiU', 'PSV', 'SAT', 'GEN', 'DC', 'SCD', 'NG', 'WS',\n",
       "       'TG16', '3DO', 'GG', 'PCFX'], dtype=object)"
      ]
     },
     "execution_count": 16,
     "metadata": {},
     "output_type": "execute_result"
    }
   ],
   "source": [
    "games_sale_platform = games_sale_platform.reset_index()\n",
    "platform_top = games_sale_platform['platform'].unique()\n",
    "platform_top"
   ]
  },
  {
   "cell_type": "code",
   "execution_count": 17,
   "metadata": {},
   "outputs": [
    {
     "data": {
      "image/png": "[encoded data removed]",
      "text/plain": [
       "<Figure size 360x216 with 1 Axes>"
      ]
     },
     "metadata": {
      "needs_background": "light"
     },
     "output_type": "display_data"
    },
    {
     "data": {
      "image/png": "[encoded data removed]",
      "text/plain": [
       "<Figure size 360x216 with 1 Axes>"
      ]
     },
     "metadata": {
      "needs_background": "light"
     },
     "output_type": "display_data"
    },
    {
     "data": {
      "image/png": "[encoded data removed]",
      "text/plain": [
       "<Figure size 360x216 with 1 Axes>"
      ]
     },
     "metadata": {
      "needs_background": "light"
     },
     "output_type": "display_data"
    },
    {
     "data": {
      "image/png": "[encoded data removed]",
      "text/plain": [
       "<Figure size 360x216 with 1 Axes>"
      ]
     },
     "metadata": {
      "needs_background": "light"
     },
     "output_type": "display_data"
    },
    {
     "data": {
      "image/png": "[encoded data removed]",
      "text/plain": [
       "<Figure size 360x216 with 1 Axes>"
      ]
     },
     "metadata": {
      "needs_background": "light"
     },
     "output_type": "display_data"
    },
    {
     "data": {
      "image/png": "[encoded data removed]",
      "text/plain": [
       "<Figure size 360x216 with 1 Axes>"
      ]
     },
     "metadata": {
      "needs_background": "light"
     },
     "output_type": "display_data"
    },
    {
     "data": {
      "image/png": "[encoded data removed]",
      "text/plain": [
       "<Figure size 360x216 with 1 Axes>"
      ]
     },
     "metadata": {
      "needs_background": "light"
     },
     "output_type": "display_data"
    },
    {
     "data": {
      "image/png": "[encoded data removed]",
      "text/plain": [
       "<Figure size 360x216 with 1 Axes>"
      ]
     },
     "metadata": {
      "needs_background": "light"
     },
     "output_type": "display_data"
    },
    {
     "data": {
      "image/png": "[encoded data removed]",
      "text/plain": [
       "<Figure size 360x216 with 1 Axes>"
      ]
     },
     "metadata": {
      "needs_background": "light"
     },
     "output_type": "display_data"
    },
    {
     "data": {
      "image/png": "[encoded data removed]",
      "text/plain": [
       "<Figure size 360x216 with 1 Axes>"
      ]
     },
     "metadata": {
      "needs_background": "light"
     },
     "output_type": "display_data"
    },
    {
     "data": {
      "image/png": "[encoded data removed]",
      "text/plain": [
       "<Figure size 360x216 with 1 Axes>"
      ]
     },
     "metadata": {
      "needs_background": "light"
     },
     "output_type": "display_data"
    },
    {
     "data": {
      "image/png": "[encoded data removed]",
      "text/plain": [
       "<Figure size 360x216 with 1 Axes>"
      ]
     },
     "metadata": {
      "needs_background": "light"
     },
     "output_type": "display_data"
    },
    {
     "data": {
      "image/png": "[encoded data removed]",
      "text/plain": [
       "<Figure size 360x216 with 1 Axes>"
      ]
     },
     "metadata": {
      "needs_background": "light"
     },
     "output_type": "display_data"
    },
    {
     "data": {
      "image/png": "[encoded data removed]",
      "text/plain": [
       "<Figure size 360x216 with 1 Axes>"
      ]
     },
     "metadata": {
      "needs_background": "light"
     },
     "output_type": "display_data"
    },
    {
     "data": {
      "image/png": "[encoded data removed]",
      "text/plain": [
       "<Figure size 360x216 with 1 Axes>"
      ]
     },
     "metadata": {
      "needs_background": "light"
     },
     "output_type": "display_data"
    },
    {
     "data": {
      "image/png": "[encoded data removed]",
      "text/plain": [
       "<Figure size 360x216 with 1 Axes>"
      ]
     },
     "metadata": {
      "needs_background": "light"
     },
     "output_type": "display_data"
    },
    {
     "data": {
      "image/png": "[encoded data removed]",
      "text/plain": [
       "<Figure size 360x216 with 1 Axes>"
      ]
     },
     "metadata": {
      "needs_background": "light"
     },
     "output_type": "display_data"
    },
    {
     "data": {
      "image/png": "[encoded data removed]",
      "text/plain": [
       "<Figure size 360x216 with 1 Axes>"
      ]
     },
     "metadata": {
      "needs_background": "light"
     },
     "output_type": "display_data"
    },
    {
     "data": {
      "image/png": "[encoded data removed]",
      "text/plain": [
       "<Figure size 360x216 with 1 Axes>"
      ]
     },
     "metadata": {
      "needs_background": "light"
     },
     "output_type": "display_data"
    },
    {
     "data": {
      "image/png": "[encoded data removed]",
      "text/plain": [
       "<Figure size 360x216 with 1 Axes>"
      ]
     },
     "metadata": {
      "needs_background": "light"
     },
     "output_type": "display_data"
    },
    {
     "data": {
      "image/png": "[encoded data removed]",
      "text/plain": [
       "<Figure size 360x216 with 1 Axes>"
      ]
     },
     "metadata": {
      "needs_background": "light"
     },
     "output_type": "display_data"
    },
    {
     "data": {
      "image/png": "[encoded data removed]",
      "text/plain": [
       "<Figure size 360x216 with 1 Axes>"
      ]
     },
     "metadata": {
      "needs_background": "light"
     },
     "output_type": "display_data"
    },
    {
     "data": {
      "image/png": "[encoded data removed]",
      "text/plain": [
       "<Figure size 360x216 with 1 Axes>"
      ]
     },
     "metadata": {
      "needs_background": "light"
     },
     "output_type": "display_data"
    },
    {
     "data": {
      "image/png": "[encoded data removed]",
      "text/plain": [
       "<Figure size 360x216 with 1 Axes>"
      ]
     },
     "metadata": {
      "needs_background": "light"
     },
     "output_type": "display_data"
    },
    {
     "data": {
      "image/png": "[encoded data removed]",
      "text/plain": [
       "<Figure size 360x216 with 1 Axes>"
      ]
     },
     "metadata": {
      "needs_background": "light"
     },
     "output_type": "display_data"
    },
    {
     "data": {
      "image/png": "[encoded data removed]",
      "text/plain": [
       "<Figure size 360x216 with 1 Axes>"
      ]
     },
     "metadata": {
      "needs_background": "light"
     },
     "output_type": "display_data"
    },
    {
     "data": {
      "image/png": "[encoded data removed]",
      "text/plain": [
       "<Figure size 360x216 with 1 Axes>"
      ]
     },
     "metadata": {
      "needs_background": "light"
     },
     "output_type": "display_data"
    },
    {
     "data": {
      "image/png": "[encoded data removed]",
      "text/plain": [
       "<Figure size 360x216 with 1 Axes>"
      ]
     },
     "metadata": {
      "needs_background": "light"
     },
     "output_type": "display_data"
    },
    {
     "data": {
      "image/png": "[encoded data removed]",
      "text/plain": [
       "<Figure size 360x216 with 1 Axes>"
      ]
     },
     "metadata": {
      "needs_background": "light"
     },
     "output_type": "display_data"
    },
    {
     "data": {
      "image/png": "[encoded data removed]",
      "text/plain": [
       "<Figure size 360x216 with 1 Axes>"
      ]
     },
     "metadata": {
      "needs_background": "light"
     },
     "output_type": "display_data"
    },
    {
     "data": {
      "image/png": "[encoded data removed]",
      "text/plain": [
       "<Figure size 360x216 with 1 Axes>"
      ]
     },
     "metadata": {
      "needs_background": "light"
     },
     "output_type": "display_data"
    }
   ],
   "source": [
    "for platform in platform_top:\n",
    "    games[games['platform'] == platform].pivot_table(index='year_of_release',\n",
    "                                                     values='total_sales', aggfunc='sum').plot(\n",
    "        kind='bar', figsize=(5,3))\n",
    "    plt.title(platform)"
   ]
  },
  {
   "cell_type": "markdown",
   "metadata": {},
   "source": [
    "Сразу становится видно, что есть платформы, на которых, согласно нашим данным, игр с 2002 нет вообще (у некоторых и раньше) У Xb, например, игры есть, но с 2002 резко упали и почти сравнялись с 0. Стоит определить платформы для исследования самостоятельно, так как некоторые к 2016 совсем теряют популярность, тогда использовать данные по ним будет бессмысленно. Так же в данных есть платформы нескольких поколений. Возможно есть смысл взять последние поколения, учитывая средний срок жизни платформ."
   ]
  },
  {
   "cell_type": "code",
   "execution_count": 18,
   "metadata": {},
   "outputs": [],
   "source": [
    "top = games.pivot_table(index='platform', values='total_sales', aggfunc='sum').sort_values(\n",
    "    by='total_sales', ascending=False).reset_index().rename_axis(None, axis=1)\n"
   ]
  },
  {
   "cell_type": "code",
   "execution_count": 19,
   "metadata": {},
   "outputs": [
    {
     "data": {
      "text/html": [
       "<div>\n",
       "<style scoped>\n",
       "    .dataframe tbody tr th:only-of-type {\n",
       "        vertical-align: middle;\n",
       "    }\n",
       "\n",
       "    .dataframe tbody tr th {\n",
       "        vertical-align: top;\n",
       "    }\n",
       "\n",
       "    .dataframe thead th {\n",
       "        text-align: right;\n",
       "    }\n",
       "</style>\n",
       "<table border=\"1\" class=\"dataframe\">\n",
       "  <thead>\n",
       "    <tr style=\"text-align: right;\">\n",
       "      <th></th>\n",
       "      <th>platform</th>\n",
       "      <th>total_sales</th>\n",
       "    </tr>\n",
       "  </thead>\n",
       "  <tbody>\n",
       "    <tr>\n",
       "      <th>0</th>\n",
       "      <td>PS2</td>\n",
       "      <td>1233.56</td>\n",
       "    </tr>\n",
       "    <tr>\n",
       "      <th>1</th>\n",
       "      <td>X360</td>\n",
       "      <td>961.24</td>\n",
       "    </tr>\n",
       "    <tr>\n",
       "      <th>2</th>\n",
       "      <td>PS3</td>\n",
       "      <td>931.34</td>\n",
       "    </tr>\n",
       "    <tr>\n",
       "      <th>3</th>\n",
       "      <td>Wii</td>\n",
       "      <td>891.18</td>\n",
       "    </tr>\n",
       "    <tr>\n",
       "      <th>4</th>\n",
       "      <td>DS</td>\n",
       "      <td>802.78</td>\n",
       "    </tr>\n",
       "    <tr>\n",
       "      <th>5</th>\n",
       "      <td>PS</td>\n",
       "      <td>727.58</td>\n",
       "    </tr>\n",
       "    <tr>\n",
       "      <th>6</th>\n",
       "      <td>PS4</td>\n",
       "      <td>314.14</td>\n",
       "    </tr>\n",
       "    <tr>\n",
       "      <th>7</th>\n",
       "      <td>GBA</td>\n",
       "      <td>312.88</td>\n",
       "    </tr>\n",
       "    <tr>\n",
       "      <th>8</th>\n",
       "      <td>PSP</td>\n",
       "      <td>289.53</td>\n",
       "    </tr>\n",
       "    <tr>\n",
       "      <th>9</th>\n",
       "      <td>3DS</td>\n",
       "      <td>257.81</td>\n",
       "    </tr>\n",
       "    <tr>\n",
       "      <th>10</th>\n",
       "      <td>PC</td>\n",
       "      <td>255.76</td>\n",
       "    </tr>\n",
       "    <tr>\n",
       "      <th>11</th>\n",
       "      <td>GB</td>\n",
       "      <td>254.43</td>\n",
       "    </tr>\n",
       "    <tr>\n",
       "      <th>12</th>\n",
       "      <td>XB</td>\n",
       "      <td>251.57</td>\n",
       "    </tr>\n",
       "    <tr>\n",
       "      <th>13</th>\n",
       "      <td>NES</td>\n",
       "      <td>251.05</td>\n",
       "    </tr>\n",
       "    <tr>\n",
       "      <th>14</th>\n",
       "      <td>N64</td>\n",
       "      <td>218.01</td>\n",
       "    </tr>\n",
       "    <tr>\n",
       "      <th>15</th>\n",
       "      <td>SNES</td>\n",
       "      <td>200.04</td>\n",
       "    </tr>\n",
       "    <tr>\n",
       "      <th>16</th>\n",
       "      <td>GC</td>\n",
       "      <td>196.73</td>\n",
       "    </tr>\n",
       "    <tr>\n",
       "      <th>17</th>\n",
       "      <td>XOne</td>\n",
       "      <td>159.32</td>\n",
       "    </tr>\n",
       "    <tr>\n",
       "      <th>18</th>\n",
       "      <td>2600</td>\n",
       "      <td>86.48</td>\n",
       "    </tr>\n",
       "    <tr>\n",
       "      <th>19</th>\n",
       "      <td>WiiU</td>\n",
       "      <td>82.19</td>\n",
       "    </tr>\n",
       "    <tr>\n",
       "      <th>20</th>\n",
       "      <td>PSV</td>\n",
       "      <td>53.81</td>\n",
       "    </tr>\n",
       "    <tr>\n",
       "      <th>21</th>\n",
       "      <td>SAT</td>\n",
       "      <td>33.59</td>\n",
       "    </tr>\n",
       "    <tr>\n",
       "      <th>22</th>\n",
       "      <td>GEN</td>\n",
       "      <td>28.35</td>\n",
       "    </tr>\n",
       "    <tr>\n",
       "      <th>23</th>\n",
       "      <td>DC</td>\n",
       "      <td>15.95</td>\n",
       "    </tr>\n",
       "    <tr>\n",
       "      <th>24</th>\n",
       "      <td>SCD</td>\n",
       "      <td>1.86</td>\n",
       "    </tr>\n",
       "    <tr>\n",
       "      <th>25</th>\n",
       "      <td>NG</td>\n",
       "      <td>1.44</td>\n",
       "    </tr>\n",
       "    <tr>\n",
       "      <th>26</th>\n",
       "      <td>WS</td>\n",
       "      <td>1.42</td>\n",
       "    </tr>\n",
       "    <tr>\n",
       "      <th>27</th>\n",
       "      <td>TG16</td>\n",
       "      <td>0.16</td>\n",
       "    </tr>\n",
       "    <tr>\n",
       "      <th>28</th>\n",
       "      <td>3DO</td>\n",
       "      <td>0.10</td>\n",
       "    </tr>\n",
       "    <tr>\n",
       "      <th>29</th>\n",
       "      <td>GG</td>\n",
       "      <td>0.04</td>\n",
       "    </tr>\n",
       "    <tr>\n",
       "      <th>30</th>\n",
       "      <td>PCFX</td>\n",
       "      <td>0.03</td>\n",
       "    </tr>\n",
       "  </tbody>\n",
       "</table>\n",
       "</div>"
      ],
      "text/plain": [
       "   platform  total_sales\n",
       "0       PS2      1233.56\n",
       "1      X360       961.24\n",
       "2       PS3       931.34\n",
       "3       Wii       891.18\n",
       "4        DS       802.78\n",
       "5        PS       727.58\n",
       "6       PS4       314.14\n",
       "7       GBA       312.88\n",
       "8       PSP       289.53\n",
       "9       3DS       257.81\n",
       "10       PC       255.76\n",
       "11       GB       254.43\n",
       "12       XB       251.57\n",
       "13      NES       251.05\n",
       "14      N64       218.01\n",
       "15     SNES       200.04\n",
       "16       GC       196.73\n",
       "17     XOne       159.32\n",
       "18     2600        86.48\n",
       "19     WiiU        82.19\n",
       "20      PSV        53.81\n",
       "21      SAT        33.59\n",
       "22      GEN        28.35\n",
       "23       DC        15.95\n",
       "24      SCD         1.86\n",
       "25       NG         1.44\n",
       "26       WS         1.42\n",
       "27     TG16         0.16\n",
       "28      3DO         0.10\n",
       "29       GG         0.04\n",
       "30     PCFX         0.03"
      ]
     },
     "execution_count": 19,
     "metadata": {},
     "output_type": "execute_result"
    }
   ],
   "source": [
    "top"
   ]
  },
  {
   "cell_type": "markdown",
   "metadata": {},
   "source": [
    "Судя по всему, средний срок жизни платформ ~10 лет, у каких то есть и меньше (но может дело в наших данных). Топ 6 это PS2, X360, PS3, WII, DS и PS.\n",
    "На 2016 остается не так много платформ, большая часть уже неактуальна, ее заменяют новые и это нормально. В целом к 2016 они все уже не так актуальны, но мы знаем, что данные за 2016 неполные.\n",
    "Возьмем для исследования данные после 2009, до - слишко далеко от 2017, а после как раз начались изменения, не только просто рост, что в целом говорит о нарастающей популярности таких игр."
   ]
  },
  {
   "cell_type": "markdown",
   "metadata": {},
   "source": [
    "#### Определяем данные за нужные года и идем дальше"
   ]
  },
  {
   "cell_type": "code",
   "execution_count": 20,
   "metadata": {},
   "outputs": [
    {
     "data": {
      "text/html": [
       "<div>\n",
       "<style scoped>\n",
       "    .dataframe tbody tr th:only-of-type {\n",
       "        vertical-align: middle;\n",
       "    }\n",
       "\n",
       "    .dataframe tbody tr th {\n",
       "        vertical-align: top;\n",
       "    }\n",
       "\n",
       "    .dataframe thead th {\n",
       "        text-align: right;\n",
       "    }\n",
       "</style>\n",
       "<table border=\"1\" class=\"dataframe\">\n",
       "  <thead>\n",
       "    <tr style=\"text-align: right;\">\n",
       "      <th></th>\n",
       "      <th>name</th>\n",
       "      <th>platform</th>\n",
       "      <th>year_of_release</th>\n",
       "      <th>genre</th>\n",
       "      <th>na_sales</th>\n",
       "      <th>eu_sales</th>\n",
       "      <th>jp_sales</th>\n",
       "      <th>other_sales</th>\n",
       "      <th>critic_score</th>\n",
       "      <th>user_score</th>\n",
       "      <th>rating</th>\n",
       "      <th>total_sales</th>\n",
       "    </tr>\n",
       "  </thead>\n",
       "  <tbody>\n",
       "    <tr>\n",
       "      <th>31</th>\n",
       "      <td>Call of Duty: Black Ops 3</td>\n",
       "      <td>PS4</td>\n",
       "      <td>2015</td>\n",
       "      <td>Shooter</td>\n",
       "      <td>6.03</td>\n",
       "      <td>5.86</td>\n",
       "      <td>0.36</td>\n",
       "      <td>2.38</td>\n",
       "      <td>NaN</td>\n",
       "      <td>NaN</td>\n",
       "      <td>NaN</td>\n",
       "      <td>14.63</td>\n",
       "    </tr>\n",
       "    <tr>\n",
       "      <th>42</th>\n",
       "      <td>Grand Theft Auto V</td>\n",
       "      <td>PS4</td>\n",
       "      <td>2014</td>\n",
       "      <td>Action</td>\n",
       "      <td>3.96</td>\n",
       "      <td>6.31</td>\n",
       "      <td>0.38</td>\n",
       "      <td>1.97</td>\n",
       "      <td>97.0</td>\n",
       "      <td>8.3</td>\n",
       "      <td>M</td>\n",
       "      <td>12.62</td>\n",
       "    </tr>\n",
       "    <tr>\n",
       "      <th>47</th>\n",
       "      <td>Pokemon Omega Ruby/Pokemon Alpha Sapphire</td>\n",
       "      <td>3DS</td>\n",
       "      <td>2014</td>\n",
       "      <td>Role-Playing</td>\n",
       "      <td>4.35</td>\n",
       "      <td>3.49</td>\n",
       "      <td>3.10</td>\n",
       "      <td>0.74</td>\n",
       "      <td>NaN</td>\n",
       "      <td>NaN</td>\n",
       "      <td>NaN</td>\n",
       "      <td>11.68</td>\n",
       "    </tr>\n",
       "    <tr>\n",
       "      <th>77</th>\n",
       "      <td>FIFA 16</td>\n",
       "      <td>PS4</td>\n",
       "      <td>2015</td>\n",
       "      <td>Sports</td>\n",
       "      <td>1.12</td>\n",
       "      <td>6.12</td>\n",
       "      <td>0.06</td>\n",
       "      <td>1.28</td>\n",
       "      <td>82.0</td>\n",
       "      <td>4.3</td>\n",
       "      <td>E</td>\n",
       "      <td>8.58</td>\n",
       "    </tr>\n",
       "    <tr>\n",
       "      <th>87</th>\n",
       "      <td>Star Wars Battlefront (2015)</td>\n",
       "      <td>PS4</td>\n",
       "      <td>2015</td>\n",
       "      <td>Shooter</td>\n",
       "      <td>2.99</td>\n",
       "      <td>3.49</td>\n",
       "      <td>0.22</td>\n",
       "      <td>1.28</td>\n",
       "      <td>NaN</td>\n",
       "      <td>NaN</td>\n",
       "      <td>NaN</td>\n",
       "      <td>7.98</td>\n",
       "    </tr>\n",
       "    <tr>\n",
       "      <th>...</th>\n",
       "      <td>...</td>\n",
       "      <td>...</td>\n",
       "      <td>...</td>\n",
       "      <td>...</td>\n",
       "      <td>...</td>\n",
       "      <td>...</td>\n",
       "      <td>...</td>\n",
       "      <td>...</td>\n",
       "      <td>...</td>\n",
       "      <td>...</td>\n",
       "      <td>...</td>\n",
       "      <td>...</td>\n",
       "    </tr>\n",
       "    <tr>\n",
       "      <th>16703</th>\n",
       "      <td>Strawberry Nauts</td>\n",
       "      <td>PSV</td>\n",
       "      <td>2016</td>\n",
       "      <td>Adventure</td>\n",
       "      <td>0.00</td>\n",
       "      <td>0.00</td>\n",
       "      <td>0.01</td>\n",
       "      <td>0.00</td>\n",
       "      <td>NaN</td>\n",
       "      <td>NaN</td>\n",
       "      <td>NaN</td>\n",
       "      <td>0.01</td>\n",
       "    </tr>\n",
       "    <tr>\n",
       "      <th>16707</th>\n",
       "      <td>Aiyoku no Eustia</td>\n",
       "      <td>PSV</td>\n",
       "      <td>2014</td>\n",
       "      <td>Misc</td>\n",
       "      <td>0.00</td>\n",
       "      <td>0.00</td>\n",
       "      <td>0.01</td>\n",
       "      <td>0.00</td>\n",
       "      <td>NaN</td>\n",
       "      <td>NaN</td>\n",
       "      <td>NaN</td>\n",
       "      <td>0.01</td>\n",
       "    </tr>\n",
       "    <tr>\n",
       "      <th>16710</th>\n",
       "      <td>Samurai Warriors: Sanada Maru</td>\n",
       "      <td>PS3</td>\n",
       "      <td>2016</td>\n",
       "      <td>Action</td>\n",
       "      <td>0.00</td>\n",
       "      <td>0.00</td>\n",
       "      <td>0.01</td>\n",
       "      <td>0.00</td>\n",
       "      <td>NaN</td>\n",
       "      <td>NaN</td>\n",
       "      <td>NaN</td>\n",
       "      <td>0.01</td>\n",
       "    </tr>\n",
       "    <tr>\n",
       "      <th>16712</th>\n",
       "      <td>Haitaka no Psychedelica</td>\n",
       "      <td>PSV</td>\n",
       "      <td>2016</td>\n",
       "      <td>Adventure</td>\n",
       "      <td>0.00</td>\n",
       "      <td>0.00</td>\n",
       "      <td>0.01</td>\n",
       "      <td>0.00</td>\n",
       "      <td>NaN</td>\n",
       "      <td>NaN</td>\n",
       "      <td>NaN</td>\n",
       "      <td>0.01</td>\n",
       "    </tr>\n",
       "    <tr>\n",
       "      <th>16714</th>\n",
       "      <td>Winning Post 8 2016</td>\n",
       "      <td>PSV</td>\n",
       "      <td>2016</td>\n",
       "      <td>Simulation</td>\n",
       "      <td>0.00</td>\n",
       "      <td>0.00</td>\n",
       "      <td>0.01</td>\n",
       "      <td>0.00</td>\n",
       "      <td>NaN</td>\n",
       "      <td>NaN</td>\n",
       "      <td>NaN</td>\n",
       "      <td>0.01</td>\n",
       "    </tr>\n",
       "  </tbody>\n",
       "</table>\n",
       "<p>1689 rows × 12 columns</p>\n",
       "</div>"
      ],
      "text/plain": [
       "                                            name platform  year_of_release  \\\n",
       "31                     Call of Duty: Black Ops 3      PS4             2015   \n",
       "42                            Grand Theft Auto V      PS4             2014   \n",
       "47     Pokemon Omega Ruby/Pokemon Alpha Sapphire      3DS             2014   \n",
       "77                                       FIFA 16      PS4             2015   \n",
       "87                  Star Wars Battlefront (2015)      PS4             2015   \n",
       "...                                          ...      ...              ...   \n",
       "16703                           Strawberry Nauts      PSV             2016   \n",
       "16707                           Aiyoku no Eustia      PSV             2014   \n",
       "16710              Samurai Warriors: Sanada Maru      PS3             2016   \n",
       "16712                    Haitaka no Psychedelica      PSV             2016   \n",
       "16714                        Winning Post 8 2016      PSV             2016   \n",
       "\n",
       "              genre  na_sales  eu_sales  jp_sales  other_sales  critic_score  \\\n",
       "31          Shooter      6.03      5.86      0.36         2.38           NaN   \n",
       "42           Action      3.96      6.31      0.38         1.97          97.0   \n",
       "47     Role-Playing      4.35      3.49      3.10         0.74           NaN   \n",
       "77           Sports      1.12      6.12      0.06         1.28          82.0   \n",
       "87          Shooter      2.99      3.49      0.22         1.28           NaN   \n",
       "...             ...       ...       ...       ...          ...           ...   \n",
       "16703     Adventure      0.00      0.00      0.01         0.00           NaN   \n",
       "16707          Misc      0.00      0.00      0.01         0.00           NaN   \n",
       "16710        Action      0.00      0.00      0.01         0.00           NaN   \n",
       "16712     Adventure      0.00      0.00      0.01         0.00           NaN   \n",
       "16714    Simulation      0.00      0.00      0.01         0.00           NaN   \n",
       "\n",
       "       user_score rating  total_sales  \n",
       "31            NaN    NaN        14.63  \n",
       "42            8.3      M        12.62  \n",
       "47            NaN    NaN        11.68  \n",
       "77            4.3      E         8.58  \n",
       "87            NaN    NaN         7.98  \n",
       "...           ...    ...          ...  \n",
       "16703         NaN    NaN         0.01  \n",
       "16707         NaN    NaN         0.01  \n",
       "16710         NaN    NaN         0.01  \n",
       "16712         NaN    NaN         0.01  \n",
       "16714         NaN    NaN         0.01  \n",
       "\n",
       "[1689 rows x 12 columns]"
      ]
     },
     "execution_count": 20,
     "metadata": {},
     "output_type": "execute_result"
    }
   ],
   "source": [
    "games_sort = games[games['year_of_release'] > 2013]\n",
    "games_sort"
   ]
  },
  {
   "cell_type": "code",
   "execution_count": 22,
   "metadata": {},
   "outputs": [
    {
     "data": {
      "text/html": [
       "<div>\n",
       "<style scoped>\n",
       "    .dataframe tbody tr th:only-of-type {\n",
       "        vertical-align: middle;\n",
       "    }\n",
       "\n",
       "    .dataframe tbody tr th {\n",
       "        vertical-align: top;\n",
       "    }\n",
       "\n",
       "    .dataframe thead th {\n",
       "        text-align: right;\n",
       "    }\n",
       "</style>\n",
       "<table border=\"1\" class=\"dataframe\">\n",
       "  <thead>\n",
       "    <tr style=\"text-align: right;\">\n",
       "      <th></th>\n",
       "      <th>name</th>\n",
       "      <th>platform</th>\n",
       "      <th>year_of_release</th>\n",
       "      <th>genre</th>\n",
       "      <th>na_sales</th>\n",
       "      <th>eu_sales</th>\n",
       "      <th>jp_sales</th>\n",
       "      <th>other_sales</th>\n",
       "      <th>critic_score</th>\n",
       "      <th>user_score</th>\n",
       "      <th>rating</th>\n",
       "      <th>total_sales</th>\n",
       "    </tr>\n",
       "  </thead>\n",
       "  <tbody>\n",
       "    <tr>\n",
       "      <th>1274</th>\n",
       "      <td>Batman: Arkham Knight</td>\n",
       "      <td>XOne</td>\n",
       "      <td>2015</td>\n",
       "      <td>Action</td>\n",
       "      <td>0.88</td>\n",
       "      <td>0.47</td>\n",
       "      <td>0.00</td>\n",
       "      <td>0.14</td>\n",
       "      <td>85.0</td>\n",
       "      <td>6.6</td>\n",
       "      <td>M</td>\n",
       "      <td>1.49</td>\n",
       "    </tr>\n",
       "    <tr>\n",
       "      <th>1275</th>\n",
       "      <td>Doom (2016)</td>\n",
       "      <td>PS4</td>\n",
       "      <td>2016</td>\n",
       "      <td>Shooter</td>\n",
       "      <td>0.54</td>\n",
       "      <td>0.69</td>\n",
       "      <td>0.02</td>\n",
       "      <td>0.24</td>\n",
       "      <td>NaN</td>\n",
       "      <td>NaN</td>\n",
       "      <td>NaN</td>\n",
       "      <td>1.49</td>\n",
       "    </tr>\n",
       "    <tr>\n",
       "      <th>1314</th>\n",
       "      <td>Madden NFL 15</td>\n",
       "      <td>PS3</td>\n",
       "      <td>2014</td>\n",
       "      <td>Sports</td>\n",
       "      <td>1.08</td>\n",
       "      <td>0.11</td>\n",
       "      <td>0.00</td>\n",
       "      <td>0.27</td>\n",
       "      <td>NaN</td>\n",
       "      <td>2.7</td>\n",
       "      <td>E</td>\n",
       "      <td>1.46</td>\n",
       "    </tr>\n",
       "    <tr>\n",
       "      <th>1384</th>\n",
       "      <td>Tomb Raider (2013)</td>\n",
       "      <td>PS4</td>\n",
       "      <td>2014</td>\n",
       "      <td>Action</td>\n",
       "      <td>0.47</td>\n",
       "      <td>0.65</td>\n",
       "      <td>0.06</td>\n",
       "      <td>0.22</td>\n",
       "      <td>NaN</td>\n",
       "      <td>NaN</td>\n",
       "      <td>NaN</td>\n",
       "      <td>1.40</td>\n",
       "    </tr>\n",
       "    <tr>\n",
       "      <th>1386</th>\n",
       "      <td>Forza Horizon 2</td>\n",
       "      <td>XOne</td>\n",
       "      <td>2014</td>\n",
       "      <td>Racing</td>\n",
       "      <td>0.50</td>\n",
       "      <td>0.78</td>\n",
       "      <td>0.01</td>\n",
       "      <td>0.11</td>\n",
       "      <td>86.0</td>\n",
       "      <td>8.2</td>\n",
       "      <td>E10+</td>\n",
       "      <td>1.40</td>\n",
       "    </tr>\n",
       "    <tr>\n",
       "      <th>...</th>\n",
       "      <td>...</td>\n",
       "      <td>...</td>\n",
       "      <td>...</td>\n",
       "      <td>...</td>\n",
       "      <td>...</td>\n",
       "      <td>...</td>\n",
       "      <td>...</td>\n",
       "      <td>...</td>\n",
       "      <td>...</td>\n",
       "      <td>...</td>\n",
       "      <td>...</td>\n",
       "      <td>...</td>\n",
       "    </tr>\n",
       "    <tr>\n",
       "      <th>16672</th>\n",
       "      <td>Metal Gear Solid V: The Definitive Experience</td>\n",
       "      <td>XOne</td>\n",
       "      <td>2016</td>\n",
       "      <td>Action</td>\n",
       "      <td>0.01</td>\n",
       "      <td>0.00</td>\n",
       "      <td>0.00</td>\n",
       "      <td>0.00</td>\n",
       "      <td>NaN</td>\n",
       "      <td>NaN</td>\n",
       "      <td>M</td>\n",
       "      <td>0.01</td>\n",
       "    </tr>\n",
       "    <tr>\n",
       "      <th>16674</th>\n",
       "      <td>Tsukigime Ranko's Longest Day</td>\n",
       "      <td>PS3</td>\n",
       "      <td>2014</td>\n",
       "      <td>Action</td>\n",
       "      <td>0.00</td>\n",
       "      <td>0.01</td>\n",
       "      <td>0.00</td>\n",
       "      <td>0.00</td>\n",
       "      <td>NaN</td>\n",
       "      <td>NaN</td>\n",
       "      <td>NaN</td>\n",
       "      <td>0.01</td>\n",
       "    </tr>\n",
       "    <tr>\n",
       "      <th>16677</th>\n",
       "      <td>Aikatsu Stars! My Special Appeal</td>\n",
       "      <td>3DS</td>\n",
       "      <td>2016</td>\n",
       "      <td>Action</td>\n",
       "      <td>0.00</td>\n",
       "      <td>0.00</td>\n",
       "      <td>0.01</td>\n",
       "      <td>0.00</td>\n",
       "      <td>NaN</td>\n",
       "      <td>NaN</td>\n",
       "      <td>NaN</td>\n",
       "      <td>0.01</td>\n",
       "    </tr>\n",
       "    <tr>\n",
       "      <th>16691</th>\n",
       "      <td>Dynasty Warriors: Eiketsuden</td>\n",
       "      <td>PS3</td>\n",
       "      <td>2016</td>\n",
       "      <td>Action</td>\n",
       "      <td>0.00</td>\n",
       "      <td>0.00</td>\n",
       "      <td>0.01</td>\n",
       "      <td>0.00</td>\n",
       "      <td>NaN</td>\n",
       "      <td>NaN</td>\n",
       "      <td>NaN</td>\n",
       "      <td>0.01</td>\n",
       "    </tr>\n",
       "    <tr>\n",
       "      <th>16710</th>\n",
       "      <td>Samurai Warriors: Sanada Maru</td>\n",
       "      <td>PS3</td>\n",
       "      <td>2016</td>\n",
       "      <td>Action</td>\n",
       "      <td>0.00</td>\n",
       "      <td>0.00</td>\n",
       "      <td>0.01</td>\n",
       "      <td>0.00</td>\n",
       "      <td>NaN</td>\n",
       "      <td>NaN</td>\n",
       "      <td>NaN</td>\n",
       "      <td>0.01</td>\n",
       "    </tr>\n",
       "  </tbody>\n",
       "</table>\n",
       "<p>1107 rows × 12 columns</p>\n",
       "</div>"
      ],
      "text/plain": [
       "                                                name platform  \\\n",
       "1274                           Batman: Arkham Knight     XOne   \n",
       "1275                                     Doom (2016)      PS4   \n",
       "1314                                   Madden NFL 15      PS3   \n",
       "1384                              Tomb Raider (2013)      PS4   \n",
       "1386                                 Forza Horizon 2     XOne   \n",
       "...                                              ...      ...   \n",
       "16672  Metal Gear Solid V: The Definitive Experience     XOne   \n",
       "16674                  Tsukigime Ranko's Longest Day      PS3   \n",
       "16677               Aikatsu Stars! My Special Appeal      3DS   \n",
       "16691                   Dynasty Warriors: Eiketsuden      PS3   \n",
       "16710                  Samurai Warriors: Sanada Maru      PS3   \n",
       "\n",
       "       year_of_release    genre  na_sales  eu_sales  jp_sales  other_sales  \\\n",
       "1274              2015   Action      0.88      0.47      0.00         0.14   \n",
       "1275              2016  Shooter      0.54      0.69      0.02         0.24   \n",
       "1314              2014   Sports      1.08      0.11      0.00         0.27   \n",
       "1384              2014   Action      0.47      0.65      0.06         0.22   \n",
       "1386              2014   Racing      0.50      0.78      0.01         0.11   \n",
       "...                ...      ...       ...       ...       ...          ...   \n",
       "16672             2016   Action      0.01      0.00      0.00         0.00   \n",
       "16674             2014   Action      0.00      0.01      0.00         0.00   \n",
       "16677             2016   Action      0.00      0.00      0.01         0.00   \n",
       "16691             2016   Action      0.00      0.00      0.01         0.00   \n",
       "16710             2016   Action      0.00      0.00      0.01         0.00   \n",
       "\n",
       "       critic_score  user_score rating  total_sales  \n",
       "1274           85.0         6.6      M         1.49  \n",
       "1275            NaN         NaN    NaN         1.49  \n",
       "1314            NaN         2.7      E         1.46  \n",
       "1384            NaN         NaN    NaN         1.40  \n",
       "1386           86.0         8.2   E10+         1.40  \n",
       "...             ...         ...    ...          ...  \n",
       "16672           NaN         NaN      M         0.01  \n",
       "16674           NaN         NaN    NaN         0.01  \n",
       "16677           NaN         NaN    NaN         0.01  \n",
       "16691           NaN         NaN    NaN         0.01  \n",
       "16710           NaN         NaN    NaN         0.01  \n",
       "\n",
       "[1107 rows x 12 columns]"
      ]
     },
     "execution_count": 22,
     "metadata": {},
     "output_type": "execute_result"
    }
   ],
   "source": [
    "top6_list = ['PS4', 'XOne', '3DS', 'PS3', 'X360', 'WiiU']\n",
    "top6plat = games_sort[games_sort['platform'].isin(top6_list)]\n",
    "top6plat = top6plat[top6plat['total_sales']<1.5]\n",
    "top6plat #строки с топ 6 платформ"
   ]
  },
  {
   "cell_type": "code",
   "execution_count": 23,
   "metadata": {},
   "outputs": [
    {
     "data": {
      "text/html": [
       "<div>\n",
       "<style scoped>\n",
       "    .dataframe tbody tr th:only-of-type {\n",
       "        vertical-align: middle;\n",
       "    }\n",
       "\n",
       "    .dataframe tbody tr th {\n",
       "        vertical-align: top;\n",
       "    }\n",
       "\n",
       "    .dataframe thead th {\n",
       "        text-align: right;\n",
       "    }\n",
       "</style>\n",
       "<table border=\"1\" class=\"dataframe\">\n",
       "  <thead>\n",
       "    <tr style=\"text-align: right;\">\n",
       "      <th></th>\n",
       "      <th>total_sales</th>\n",
       "    </tr>\n",
       "    <tr>\n",
       "      <th>platform</th>\n",
       "      <th></th>\n",
       "    </tr>\n",
       "  </thead>\n",
       "  <tbody>\n",
       "    <tr>\n",
       "      <th>PS4</th>\n",
       "      <td>83.93</td>\n",
       "    </tr>\n",
       "    <tr>\n",
       "      <th>XOne</th>\n",
       "      <td>62.80</td>\n",
       "    </tr>\n",
       "    <tr>\n",
       "      <th>PS3</th>\n",
       "      <td>46.53</td>\n",
       "    </tr>\n",
       "    <tr>\n",
       "      <th>3DS</th>\n",
       "      <td>35.96</td>\n",
       "    </tr>\n",
       "    <tr>\n",
       "      <th>X360</th>\n",
       "      <td>32.15</td>\n",
       "    </tr>\n",
       "    <tr>\n",
       "      <th>WiiU</th>\n",
       "      <td>20.26</td>\n",
       "    </tr>\n",
       "  </tbody>\n",
       "</table>\n",
       "</div>"
      ],
      "text/plain": [
       "          total_sales\n",
       "platform             \n",
       "PS4             83.93\n",
       "XOne            62.80\n",
       "PS3             46.53\n",
       "3DS             35.96\n",
       "X360            32.15\n",
       "WiiU            20.26"
      ]
     },
     "execution_count": 23,
     "metadata": {},
     "output_type": "execute_result"
    }
   ],
   "source": [
    "top_sale = pd.pivot_table(top6plat, index='platform', \n",
    "                                     values='total_sales', aggfunc = 'sum').sort_values(\n",
    "    'total_sales', ascending=False)\n",
    "top_sale # топ 6 платформ с суммой продаж"
   ]
  },
  {
   "cell_type": "markdown",
   "metadata": {},
   "source": [
    "#### Строим ящик с усами"
   ]
  },
  {
   "cell_type": "code",
   "execution_count": 24,
   "metadata": {},
   "outputs": [
    {
     "data": {
      "text/html": [
       "<div>\n",
       "<style scoped>\n",
       "    .dataframe tbody tr th:only-of-type {\n",
       "        vertical-align: middle;\n",
       "    }\n",
       "\n",
       "    .dataframe tbody tr th {\n",
       "        vertical-align: top;\n",
       "    }\n",
       "\n",
       "    .dataframe thead th {\n",
       "        text-align: right;\n",
       "    }\n",
       "</style>\n",
       "<table border=\"1\" class=\"dataframe\">\n",
       "  <thead>\n",
       "    <tr style=\"text-align: right;\">\n",
       "      <th></th>\n",
       "      <th>count</th>\n",
       "      <th>mean</th>\n",
       "      <th>std</th>\n",
       "      <th>min</th>\n",
       "      <th>25%</th>\n",
       "      <th>50%</th>\n",
       "      <th>75%</th>\n",
       "      <th>max</th>\n",
       "    </tr>\n",
       "    <tr>\n",
       "      <th>platform</th>\n",
       "      <th></th>\n",
       "      <th></th>\n",
       "      <th></th>\n",
       "      <th></th>\n",
       "      <th></th>\n",
       "      <th></th>\n",
       "      <th></th>\n",
       "      <th></th>\n",
       "    </tr>\n",
       "  </thead>\n",
       "  <tbody>\n",
       "    <tr>\n",
       "      <th>3DS</th>\n",
       "      <td>200.0</td>\n",
       "      <td>0.179800</td>\n",
       "      <td>0.248547</td>\n",
       "      <td>0.01</td>\n",
       "      <td>0.03</td>\n",
       "      <td>0.080</td>\n",
       "      <td>0.2100</td>\n",
       "      <td>1.38</td>\n",
       "    </tr>\n",
       "    <tr>\n",
       "      <th>PS3</th>\n",
       "      <td>212.0</td>\n",
       "      <td>0.219481</td>\n",
       "      <td>0.288101</td>\n",
       "      <td>0.01</td>\n",
       "      <td>0.03</td>\n",
       "      <td>0.100</td>\n",
       "      <td>0.2725</td>\n",
       "      <td>1.46</td>\n",
       "    </tr>\n",
       "    <tr>\n",
       "      <th>PS4</th>\n",
       "      <td>321.0</td>\n",
       "      <td>0.261464</td>\n",
       "      <td>0.310446</td>\n",
       "      <td>0.01</td>\n",
       "      <td>0.05</td>\n",
       "      <td>0.120</td>\n",
       "      <td>0.3600</td>\n",
       "      <td>1.49</td>\n",
       "    </tr>\n",
       "    <tr>\n",
       "      <th>WiiU</th>\n",
       "      <td>67.0</td>\n",
       "      <td>0.302388</td>\n",
       "      <td>0.336362</td>\n",
       "      <td>0.01</td>\n",
       "      <td>0.05</td>\n",
       "      <td>0.130</td>\n",
       "      <td>0.4700</td>\n",
       "      <td>1.30</td>\n",
       "    </tr>\n",
       "    <tr>\n",
       "      <th>X360</th>\n",
       "      <td>104.0</td>\n",
       "      <td>0.309135</td>\n",
       "      <td>0.338174</td>\n",
       "      <td>0.01</td>\n",
       "      <td>0.07</td>\n",
       "      <td>0.165</td>\n",
       "      <td>0.4350</td>\n",
       "      <td>1.36</td>\n",
       "    </tr>\n",
       "    <tr>\n",
       "      <th>XOne</th>\n",
       "      <td>203.0</td>\n",
       "      <td>0.309360</td>\n",
       "      <td>0.370887</td>\n",
       "      <td>0.01</td>\n",
       "      <td>0.04</td>\n",
       "      <td>0.150</td>\n",
       "      <td>0.4450</td>\n",
       "      <td>1.49</td>\n",
       "    </tr>\n",
       "  </tbody>\n",
       "</table>\n",
       "</div>"
      ],
      "text/plain": [
       "          count      mean       std   min   25%    50%     75%   max\n",
       "platform                                                            \n",
       "3DS       200.0  0.179800  0.248547  0.01  0.03  0.080  0.2100  1.38\n",
       "PS3       212.0  0.219481  0.288101  0.01  0.03  0.100  0.2725  1.46\n",
       "PS4       321.0  0.261464  0.310446  0.01  0.05  0.120  0.3600  1.49\n",
       "WiiU       67.0  0.302388  0.336362  0.01  0.05  0.130  0.4700  1.30\n",
       "X360      104.0  0.309135  0.338174  0.01  0.07  0.165  0.4350  1.36\n",
       "XOne      203.0  0.309360  0.370887  0.01  0.04  0.150  0.4450  1.49"
      ]
     },
     "execution_count": 24,
     "metadata": {},
     "output_type": "execute_result"
    }
   ],
   "source": [
    "top6plat.groupby('platform')['total_sales'].describe()"
   ]
  },
  {
   "cell_type": "markdown",
   "metadata": {},
   "source": [
    "Тут мы видим среднюю сумму продаж по топ-6 платформам, минимальные продажи и макимальные, а так же какие продажи модем считать меньше \"нормы\" и больше - 25 и 75% соответственно"
   ]
  },
  {
   "cell_type": "code",
   "execution_count": 25,
   "metadata": {},
   "outputs": [
    {
     "data": {
      "image/png": "[encoded data removed]",
      "text/plain": [
       "<Figure size 1080x720 with 1 Axes>"
      ]
     },
     "metadata": {
      "needs_background": "light"
     },
     "output_type": "display_data"
    }
   ],
   "source": [
    "plt.figure(figsize=(15,10))\n",
    "sns.boxplot(data=top6plat, x='platform', y='total_sales')\n",
    "plt.title('Ящик с усами', fontsize=15)\n",
    "plt.xlabel('Платформа', fontsize=15)\n",
    "plt.ylabel('Продажи',fontsize=15);"
   ]
  },
  {
   "cell_type": "markdown",
   "metadata": {},
   "source": [
    "Больше всего продаж у WiiU и XOne, затем x360 и PS4."
   ]
  },
  {
   "cell_type": "markdown",
   "metadata": {},
   "source": [
    "#### Продажи внутри одной платформы"
   ]
  },
  {
   "cell_type": "code",
   "execution_count": 26,
   "metadata": {},
   "outputs": [
    {
     "data": {
      "text/plain": [
       "0.40792645792170773"
      ]
     },
     "execution_count": 26,
     "metadata": {},
     "output_type": "execute_result"
    }
   ],
   "source": [
    "wiiu = games_sort[games_sort['platform']=='WiiU']\n",
    "wiiu['user_score'].corr(wiiu['total_sales'])"
   ]
  },
  {
   "cell_type": "code",
   "execution_count": 27,
   "metadata": {},
   "outputs": [
    {
     "data": {
      "text/plain": [
       "0.370201412480884"
      ]
     },
     "execution_count": 27,
     "metadata": {},
     "output_type": "execute_result"
    }
   ],
   "source": [
    "wiiu = games_sort[games_sort['platform']=='WiiU']\n",
    "wiiu['critic_score'].corr(wiiu['total_sales'])"
   ]
  },
  {
   "cell_type": "code",
   "execution_count": 28,
   "metadata": {},
   "outputs": [
    {
     "data": {
      "image/png": "[encoded data removed]",
      "text/plain": [
       "<Figure size 1080x720 with 1 Axes>"
      ]
     },
     "metadata": {
      "needs_background": "light"
     },
     "output_type": "display_data"
    }
   ],
   "source": [
    "plt.figure(figsize=(15,10))\n",
    "sns.scatterplot(x='user_score', y='total_sales', data=wiiu)\n",
    "plt.title('Корреляция по WiiU')\n",
    "plt.xlabel('Оценка пользователей')\n",
    "plt.ylabel('Продажи');"
   ]
  },
  {
   "cell_type": "code",
   "execution_count": 29,
   "metadata": {},
   "outputs": [
    {
     "data": {
      "image/png": "[encoded data removed]",
      "text/plain": [
       "<Figure size 1080x720 with 1 Axes>"
      ]
     },
     "metadata": {
      "needs_background": "light"
     },
     "output_type": "display_data"
    }
   ],
   "source": [
    "plt.figure(figsize=(15,10))\n",
    "sns.scatterplot(x='critic_score', y='total_sales', data=wiiu)\n",
    "plt.title('Корреляция по WiiU')\n",
    "plt.xlabel('Оценка критиков')\n",
    "plt.ylabel('Продажи');"
   ]
  },
  {
   "cell_type": "markdown",
   "metadata": {},
   "source": [
    "Продажи WiiU напрямую зависят от оценки игроков больше, чем от оценки критиков"
   ]
  },
  {
   "cell_type": "code",
   "execution_count": 30,
   "metadata": {},
   "outputs": [
    {
     "data": {
      "text/plain": [
       "-0.0703839280647581"
      ]
     },
     "execution_count": 30,
     "metadata": {},
     "output_type": "execute_result"
    }
   ],
   "source": [
    "xone = games_sort[games_sort['platform']=='XOne']\n",
    "xone['user_score'].corr(xone['total_sales'])"
   ]
  },
  {
   "cell_type": "markdown",
   "metadata": {},
   "source": [
    "корреляция между оценкой пользователей и продажами слабая обратная "
   ]
  },
  {
   "cell_type": "code",
   "execution_count": 31,
   "metadata": {},
   "outputs": [
    {
     "data": {
      "text/plain": [
       "0.42867694370333226"
      ]
     },
     "execution_count": 31,
     "metadata": {},
     "output_type": "execute_result"
    }
   ],
   "source": [
    "xone = games_sort[games_sort['platform']=='XOne']\n",
    "xone['critic_score'].corr(xone['total_sales'])"
   ]
  },
  {
   "cell_type": "markdown",
   "metadata": {},
   "source": [
    " корреляция между оценкой критиков и продажами умеренная"
   ]
  },
  {
   "cell_type": "code",
   "execution_count": 32,
   "metadata": {},
   "outputs": [
    {
     "data": {
      "text/plain": [
       "0.2151932718527028"
      ]
     },
     "execution_count": 32,
     "metadata": {},
     "output_type": "execute_result"
    }
   ],
   "source": [
    "ds = games_sort[games_sort['platform']=='3DS']\n",
    "ds['user_score'].corr(ds['total_sales'])"
   ]
  },
  {
   "cell_type": "markdown",
   "metadata": {},
   "source": [
    " корреляция между оценкой пользователей и продажами умеренная"
   ]
  },
  {
   "cell_type": "code",
   "execution_count": 33,
   "metadata": {},
   "outputs": [
    {
     "data": {
      "text/plain": [
       "0.314117492869051"
      ]
     },
     "execution_count": 33,
     "metadata": {},
     "output_type": "execute_result"
    }
   ],
   "source": [
    "ds = games_sort[games_sort['platform']=='3DS']\n",
    "ds['critic_score'].corr(ds['total_sales'])"
   ]
  },
  {
   "cell_type": "markdown",
   "metadata": {},
   "source": [
    " корреляция между оценкой критиков и продажами умеренная"
   ]
  },
  {
   "cell_type": "code",
   "execution_count": 34,
   "metadata": {},
   "outputs": [
    {
     "data": {
      "text/plain": [
       "-0.040131589472697356"
      ]
     },
     "execution_count": 34,
     "metadata": {},
     "output_type": "execute_result"
    }
   ],
   "source": [
    "ps4 = games_sort[games_sort['platform']=='PS4']\n",
    "ps4['user_score'].corr(ps4['total_sales'])"
   ]
  },
  {
   "cell_type": "markdown",
   "metadata": {},
   "source": [
    " корреляция между оценкой пользователей и продажами слабая обратная"
   ]
  },
  {
   "cell_type": "code",
   "execution_count": 35,
   "metadata": {},
   "outputs": [
    {
     "data": {
      "text/plain": [
       "0.40266141068104083"
      ]
     },
     "execution_count": 35,
     "metadata": {},
     "output_type": "execute_result"
    }
   ],
   "source": [
    "ps4 = games_sort[games_sort['platform']=='PS4']\n",
    "ps4['critic_score'].corr(ps4['total_sales'])"
   ]
  },
  {
   "cell_type": "markdown",
   "metadata": {},
   "source": [
    " корреляция между оценкой критиков и продажами умеренная"
   ]
  },
  {
   "cell_type": "code",
   "execution_count": 36,
   "metadata": {},
   "outputs": [
    {
     "data": {
      "text/plain": [
       "-0.16676141347662118"
      ]
     },
     "execution_count": 36,
     "metadata": {},
     "output_type": "execute_result"
    }
   ],
   "source": [
    "ps3 = games_sort[games_sort['platform']=='PS3']\n",
    "ps3['user_score'].corr(ps3['total_sales'])"
   ]
  },
  {
   "cell_type": "markdown",
   "metadata": {},
   "source": [
    " корреляция между оценкой пользователей и продажами слабая обратная"
   ]
  },
  {
   "cell_type": "code",
   "execution_count": 37,
   "metadata": {},
   "outputs": [
    {
     "data": {
      "text/plain": [
       "0.44657460493190704"
      ]
     },
     "execution_count": 37,
     "metadata": {},
     "output_type": "execute_result"
    }
   ],
   "source": [
    "ps3 = games_sort[games_sort['platform']=='PS3']\n",
    "ps3['critic_score'].corr(ps3['total_sales'])"
   ]
  },
  {
   "cell_type": "markdown",
   "metadata": {},
   "source": [
    " корреляция между оценкой критиков и продажами умеренная"
   ]
  },
  {
   "cell_type": "code",
   "execution_count": 38,
   "metadata": {},
   "outputs": [
    {
     "data": {
      "text/plain": [
       "-0.138444570945665"
      ]
     },
     "execution_count": 38,
     "metadata": {},
     "output_type": "execute_result"
    }
   ],
   "source": [
    "x360 = games_sort[games_sort['platform']=='X360']\n",
    "x360['user_score'].corr(x360['total_sales'])"
   ]
  },
  {
   "cell_type": "markdown",
   "metadata": {},
   "source": [
    " корреляция между оценкой пользователей и продажами слабая обратная"
   ]
  },
  {
   "cell_type": "code",
   "execution_count": 39,
   "metadata": {
    "scrolled": true
   },
   "outputs": [
    {
     "data": {
      "text/plain": [
       "0.5257228356581523"
      ]
     },
     "execution_count": 39,
     "metadata": {},
     "output_type": "execute_result"
    }
   ],
   "source": [
    "x360 = games_sort[games_sort['platform']=='X360']\n",
    "x360['critic_score'].corr(x360['total_sales'])"
   ]
  },
  {
   "cell_type": "markdown",
   "metadata": {},
   "source": [
    " корреляция между оценкой критиков и продажами умеренная"
   ]
  },
  {
   "cell_type": "markdown",
   "metadata": {},
   "source": [
    "В целом вывод такой, что продажи зависят больше от оценки критиков, только у wiiu оценка пользователей значит больше, чем оценка критиков."
   ]
  },
  {
   "cell_type": "markdown",
   "metadata": {},
   "source": [
    "#### Самые популярные жанры"
   ]
  },
  {
   "cell_type": "code",
   "execution_count": 40,
   "metadata": {},
   "outputs": [
    {
     "data": {
      "text/html": [
       "<div>\n",
       "<style scoped>\n",
       "    .dataframe tbody tr th:only-of-type {\n",
       "        vertical-align: middle;\n",
       "    }\n",
       "\n",
       "    .dataframe tbody tr th {\n",
       "        vertical-align: top;\n",
       "    }\n",
       "\n",
       "    .dataframe thead th {\n",
       "        text-align: right;\n",
       "    }\n",
       "</style>\n",
       "<table border=\"1\" class=\"dataframe\">\n",
       "  <thead>\n",
       "    <tr style=\"text-align: right;\">\n",
       "      <th></th>\n",
       "      <th>genre</th>\n",
       "      <th>total_sales</th>\n",
       "    </tr>\n",
       "  </thead>\n",
       "  <tbody>\n",
       "    <tr>\n",
       "      <th>0</th>\n",
       "      <td>Shooter</td>\n",
       "      <td>0.515</td>\n",
       "    </tr>\n",
       "    <tr>\n",
       "      <th>1</th>\n",
       "      <td>Sports</td>\n",
       "      <td>0.180</td>\n",
       "    </tr>\n",
       "    <tr>\n",
       "      <th>2</th>\n",
       "      <td>Platform</td>\n",
       "      <td>0.140</td>\n",
       "    </tr>\n",
       "    <tr>\n",
       "      <th>3</th>\n",
       "      <td>Fighting</td>\n",
       "      <td>0.125</td>\n",
       "    </tr>\n",
       "    <tr>\n",
       "      <th>4</th>\n",
       "      <td>Role-Playing</td>\n",
       "      <td>0.110</td>\n",
       "    </tr>\n",
       "    <tr>\n",
       "      <th>5</th>\n",
       "      <td>Simulation</td>\n",
       "      <td>0.100</td>\n",
       "    </tr>\n",
       "    <tr>\n",
       "      <th>6</th>\n",
       "      <td>Action</td>\n",
       "      <td>0.090</td>\n",
       "    </tr>\n",
       "    <tr>\n",
       "      <th>7</th>\n",
       "      <td>Misc</td>\n",
       "      <td>0.090</td>\n",
       "    </tr>\n",
       "    <tr>\n",
       "      <th>8</th>\n",
       "      <td>Racing</td>\n",
       "      <td>0.090</td>\n",
       "    </tr>\n",
       "    <tr>\n",
       "      <th>9</th>\n",
       "      <td>Strategy</td>\n",
       "      <td>0.060</td>\n",
       "    </tr>\n",
       "    <tr>\n",
       "      <th>10</th>\n",
       "      <td>Puzzle</td>\n",
       "      <td>0.045</td>\n",
       "    </tr>\n",
       "    <tr>\n",
       "      <th>11</th>\n",
       "      <td>Adventure</td>\n",
       "      <td>0.030</td>\n",
       "    </tr>\n",
       "  </tbody>\n",
       "</table>\n",
       "</div>"
      ],
      "text/plain": [
       "           genre  total_sales\n",
       "0        Shooter        0.515\n",
       "1         Sports        0.180\n",
       "2       Platform        0.140\n",
       "3       Fighting        0.125\n",
       "4   Role-Playing        0.110\n",
       "5     Simulation        0.100\n",
       "6         Action        0.090\n",
       "7           Misc        0.090\n",
       "8         Racing        0.090\n",
       "9       Strategy        0.060\n",
       "10        Puzzle        0.045\n",
       "11     Adventure        0.030"
      ]
     },
     "execution_count": 40,
     "metadata": {},
     "output_type": "execute_result"
    }
   ],
   "source": [
    "\n",
    "top_genre = pd.pivot_table(games_sort, index='genre', values='total_sales',\n",
    "                           aggfunc = 'median').sort_values('total_sales', ascending=False\n",
    "                                                       ).reset_index().rename_axis(None, axis=1)\n",
    "top_genre"
   ]
  },
  {
   "cell_type": "code",
   "execution_count": 41,
   "metadata": {},
   "outputs": [
    {
     "data": {
      "image/png": "[encoded data removed]",
      "text/plain": [
       "<Figure size 1080x720 with 1 Axes>"
      ]
     },
     "metadata": {
      "needs_background": "light"
     },
     "output_type": "display_data"
    }
   ],
   "source": [
    "plt.figure(figsize=(15,10))\n",
    "sns.barplot(data=top_genre, x='genre', y='total_sales') \n",
    "plt.title(\"Разброс игр по жанрам\")\n",
    "plt.xlabel(\"Жанр\")\n",
    "plt.ylabel(\"Количество игр\");"
   ]
  },
  {
   "cell_type": "markdown",
   "metadata": {},
   "source": [
    "Самые популярные жанры - это shooter, sports, platform, fighting и role-playing. Самый продаваемый - shooter, самый непопулярный - adventure."
   ]
  },
  {
   "cell_type": "markdown",
   "metadata": {},
   "source": [
    "### Шаг 4. Портрет пользователя каждого региона."
   ]
  },
  {
   "cell_type": "markdown",
   "metadata": {},
   "source": [
    "#### Пользователь NA"
   ]
  },
  {
   "cell_type": "code",
   "execution_count": 42,
   "metadata": {},
   "outputs": [
    {
     "data": {
      "text/html": [
       "<div>\n",
       "<style scoped>\n",
       "    .dataframe tbody tr th:only-of-type {\n",
       "        vertical-align: middle;\n",
       "    }\n",
       "\n",
       "    .dataframe tbody tr th {\n",
       "        vertical-align: top;\n",
       "    }\n",
       "\n",
       "    .dataframe thead th {\n",
       "        text-align: right;\n",
       "    }\n",
       "</style>\n",
       "<table border=\"1\" class=\"dataframe\">\n",
       "  <thead>\n",
       "    <tr style=\"text-align: right;\">\n",
       "      <th></th>\n",
       "      <th>na_sales</th>\n",
       "    </tr>\n",
       "    <tr>\n",
       "      <th>platform</th>\n",
       "      <th></th>\n",
       "    </tr>\n",
       "  </thead>\n",
       "  <tbody>\n",
       "    <tr>\n",
       "      <th>PS4</th>\n",
       "      <td>98.61</td>\n",
       "    </tr>\n",
       "    <tr>\n",
       "      <th>XOne</th>\n",
       "      <td>81.27</td>\n",
       "    </tr>\n",
       "    <tr>\n",
       "      <th>X360</th>\n",
       "      <td>28.30</td>\n",
       "    </tr>\n",
       "    <tr>\n",
       "      <th>3DS</th>\n",
       "      <td>22.64</td>\n",
       "    </tr>\n",
       "    <tr>\n",
       "      <th>PS3</th>\n",
       "      <td>22.05</td>\n",
       "    </tr>\n",
       "    <tr>\n",
       "      <th>WiiU</th>\n",
       "      <td>19.36</td>\n",
       "    </tr>\n",
       "    <tr>\n",
       "      <th>PC</th>\n",
       "      <td>7.23</td>\n",
       "    </tr>\n",
       "    <tr>\n",
       "      <th>PSV</th>\n",
       "      <td>2.52</td>\n",
       "    </tr>\n",
       "    <tr>\n",
       "      <th>Wii</th>\n",
       "      <td>2.08</td>\n",
       "    </tr>\n",
       "    <tr>\n",
       "      <th>PSP</th>\n",
       "      <td>0.00</td>\n",
       "    </tr>\n",
       "  </tbody>\n",
       "</table>\n",
       "</div>"
      ],
      "text/plain": [
       "          na_sales\n",
       "platform          \n",
       "PS4          98.61\n",
       "XOne         81.27\n",
       "X360         28.30\n",
       "3DS          22.64\n",
       "PS3          22.05\n",
       "WiiU         19.36\n",
       "PC            7.23\n",
       "PSV           2.52\n",
       "Wii           2.08\n",
       "PSP           0.00"
      ]
     },
     "execution_count": 42,
     "metadata": {},
     "output_type": "execute_result"
    }
   ],
   "source": [
    "na_plat = pd.pivot_table(games_sort, index='platform', values='na_sales',\n",
    "                                        aggfunc='sum').sort_values('na_sales', ascending=False)\n",
    "na_plat"
   ]
  },
  {
   "cell_type": "code",
   "execution_count": 43,
   "metadata": {},
   "outputs": [
    {
     "data": {
      "image/png": "[encoded data removed]",
      "text/plain": [
       "<Figure size 720x360 with 1 Axes>"
      ]
     },
     "metadata": {
      "needs_background": "light"
     },
     "output_type": "display_data"
    }
   ],
   "source": [
    "plt.figure(figsize=(10,5))\n",
    "sns.barplot(data=na_plat, x=na_plat.index, y='na_sales') \n",
    "plt.title(\"Продажи по платформам в Северной Америке\")\n",
    "plt.xlabel(\"Платформы\")\n",
    "plt.ylabel(\"Продажи\");"
   ]
  },
  {
   "cell_type": "code",
   "execution_count": 44,
   "metadata": {},
   "outputs": [
    {
     "data": {
      "text/html": [
       "<div>\n",
       "<style scoped>\n",
       "    .dataframe tbody tr th:only-of-type {\n",
       "        vertical-align: middle;\n",
       "    }\n",
       "\n",
       "    .dataframe tbody tr th {\n",
       "        vertical-align: top;\n",
       "    }\n",
       "\n",
       "    .dataframe thead th {\n",
       "        text-align: right;\n",
       "    }\n",
       "</style>\n",
       "<table border=\"1\" class=\"dataframe\">\n",
       "  <thead>\n",
       "    <tr style=\"text-align: right;\">\n",
       "      <th></th>\n",
       "      <th>na_sales</th>\n",
       "    </tr>\n",
       "    <tr>\n",
       "      <th>genre</th>\n",
       "      <th></th>\n",
       "    </tr>\n",
       "  </thead>\n",
       "  <tbody>\n",
       "    <tr>\n",
       "      <th>Shooter</th>\n",
       "      <td>79.02</td>\n",
       "    </tr>\n",
       "    <tr>\n",
       "      <th>Action</th>\n",
       "      <td>72.53</td>\n",
       "    </tr>\n",
       "    <tr>\n",
       "      <th>Sports</th>\n",
       "      <td>46.13</td>\n",
       "    </tr>\n",
       "    <tr>\n",
       "      <th>Role-Playing</th>\n",
       "      <td>33.47</td>\n",
       "    </tr>\n",
       "    <tr>\n",
       "      <th>Misc</th>\n",
       "      <td>15.05</td>\n",
       "    </tr>\n",
       "    <tr>\n",
       "      <th>Fighting</th>\n",
       "      <td>12.43</td>\n",
       "    </tr>\n",
       "    <tr>\n",
       "      <th>Racing</th>\n",
       "      <td>8.74</td>\n",
       "    </tr>\n",
       "    <tr>\n",
       "      <th>Platform</th>\n",
       "      <td>6.79</td>\n",
       "    </tr>\n",
       "    <tr>\n",
       "      <th>Adventure</th>\n",
       "      <td>5.64</td>\n",
       "    </tr>\n",
       "    <tr>\n",
       "      <th>Simulation</th>\n",
       "      <td>2.63</td>\n",
       "    </tr>\n",
       "    <tr>\n",
       "      <th>Strategy</th>\n",
       "      <td>0.98</td>\n",
       "    </tr>\n",
       "    <tr>\n",
       "      <th>Puzzle</th>\n",
       "      <td>0.65</td>\n",
       "    </tr>\n",
       "  </tbody>\n",
       "</table>\n",
       "</div>"
      ],
      "text/plain": [
       "              na_sales\n",
       "genre                 \n",
       "Shooter          79.02\n",
       "Action           72.53\n",
       "Sports           46.13\n",
       "Role-Playing     33.47\n",
       "Misc             15.05\n",
       "Fighting         12.43\n",
       "Racing            8.74\n",
       "Platform          6.79\n",
       "Adventure         5.64\n",
       "Simulation        2.63\n",
       "Strategy          0.98\n",
       "Puzzle            0.65"
      ]
     },
     "execution_count": 44,
     "metadata": {},
     "output_type": "execute_result"
    }
   ],
   "source": [
    "na_genre = pd.pivot_table(games_sort, index='genre', values='na_sales',\n",
    "                                        aggfunc='sum').sort_values('na_sales', ascending=False)\n",
    "na_genre"
   ]
  },
  {
   "cell_type": "code",
   "execution_count": 45,
   "metadata": {},
   "outputs": [
    {
     "data": {
      "image/png": "[encoded data removed]",
      "text/plain": [
       "<Figure size 720x360 with 1 Axes>"
      ]
     },
     "metadata": {
      "needs_background": "light"
     },
     "output_type": "display_data"
    }
   ],
   "source": [
    "plt.figure(figsize=(10,5))\n",
    "sns.barplot(data=na_genre, x=na_genre.index, y='na_sales') \n",
    "plt.title(\"Продажи по жанрам в Северной Америке\")\n",
    "plt.xlabel(\"Жанры\")\n",
    "plt.ylabel(\"Продажи\");"
   ]
  },
  {
   "cell_type": "code",
   "execution_count": 46,
   "metadata": {},
   "outputs": [
    {
     "data": {
      "text/plain": [
       "array(['E', nan, 'M', 'T', 'E10+', 'K-A', 'AO', 'EC', 'RP'], dtype=object)"
      ]
     },
     "execution_count": 46,
     "metadata": {},
     "output_type": "execute_result"
    }
   ],
   "source": [
    "games['rating'].unique()"
   ]
  },
  {
   "cell_type": "code",
   "execution_count": 47,
   "metadata": {},
   "outputs": [
    {
     "data": {
      "text/plain": [
       "array([nan, 'M', 'E', 'T', 'E10+'], dtype=object)"
      ]
     },
     "execution_count": 47,
     "metadata": {},
     "output_type": "execute_result"
    }
   ],
   "source": [
    "games_sort['rating'].unique()"
   ]
  },
  {
   "cell_type": "code",
   "execution_count": 48,
   "metadata": {},
   "outputs": [
    {
     "data": {
      "image/png": "[encoded data removed]",
      "text/plain": [
       "<Figure size 720x360 with 1 Axes>"
      ]
     },
     "metadata": {
      "needs_background": "light"
     },
     "output_type": "display_data"
    }
   ],
   "source": [
    "plt.figure(figsize=(10,5))\n",
    "sns.barplot(data=games_sort, x='rating', y='na_sales') \n",
    "plt.title(\"Продажи по рейтингам\")\n",
    "plt.xlabel(\"Рейтинг\")\n",
    "plt.ylabel(\"Продажи\");"
   ]
  },
  {
   "cell_type": "markdown",
   "metadata": {},
   "source": [
    "Пользователь Северной Америки предпочитает PS4, XOne, X360, 3DS, PS3, из жарнов - это шутер, экшн и спорт, ролевики и микс. \n",
    "\n",
    "По рейтингу преобладют игры 17+ и все возраста, чуть меньше для лиц 10+ и еще меньше 13+\n"
   ]
  },
  {
   "cell_type": "markdown",
   "metadata": {},
   "source": [
    "#### Пользователь EU"
   ]
  },
  {
   "cell_type": "code",
   "execution_count": 49,
   "metadata": {},
   "outputs": [
    {
     "data": {
      "text/html": [
       "<div>\n",
       "<style scoped>\n",
       "    .dataframe tbody tr th:only-of-type {\n",
       "        vertical-align: middle;\n",
       "    }\n",
       "\n",
       "    .dataframe tbody tr th {\n",
       "        vertical-align: top;\n",
       "    }\n",
       "\n",
       "    .dataframe thead th {\n",
       "        text-align: right;\n",
       "    }\n",
       "</style>\n",
       "<table border=\"1\" class=\"dataframe\">\n",
       "  <thead>\n",
       "    <tr style=\"text-align: right;\">\n",
       "      <th></th>\n",
       "      <th>eu_sales</th>\n",
       "    </tr>\n",
       "    <tr>\n",
       "      <th>platform</th>\n",
       "      <th></th>\n",
       "    </tr>\n",
       "  </thead>\n",
       "  <tbody>\n",
       "    <tr>\n",
       "      <th>PS4</th>\n",
       "      <td>130.04</td>\n",
       "    </tr>\n",
       "    <tr>\n",
       "      <th>XOne</th>\n",
       "      <td>46.25</td>\n",
       "    </tr>\n",
       "    <tr>\n",
       "      <th>PS3</th>\n",
       "      <td>25.54</td>\n",
       "    </tr>\n",
       "    <tr>\n",
       "      <th>PC</th>\n",
       "      <td>17.97</td>\n",
       "    </tr>\n",
       "    <tr>\n",
       "      <th>3DS</th>\n",
       "      <td>16.12</td>\n",
       "    </tr>\n",
       "    <tr>\n",
       "      <th>X360</th>\n",
       "      <td>15.49</td>\n",
       "    </tr>\n",
       "    <tr>\n",
       "      <th>WiiU</th>\n",
       "      <td>13.15</td>\n",
       "    </tr>\n",
       "    <tr>\n",
       "      <th>PSV</th>\n",
       "      <td>3.53</td>\n",
       "    </tr>\n",
       "    <tr>\n",
       "      <th>Wii</th>\n",
       "      <td>2.59</td>\n",
       "    </tr>\n",
       "    <tr>\n",
       "      <th>PSP</th>\n",
       "      <td>0.00</td>\n",
       "    </tr>\n",
       "  </tbody>\n",
       "</table>\n",
       "</div>"
      ],
      "text/plain": [
       "          eu_sales\n",
       "platform          \n",
       "PS4         130.04\n",
       "XOne         46.25\n",
       "PS3          25.54\n",
       "PC           17.97\n",
       "3DS          16.12\n",
       "X360         15.49\n",
       "WiiU         13.15\n",
       "PSV           3.53\n",
       "Wii           2.59\n",
       "PSP           0.00"
      ]
     },
     "execution_count": 49,
     "metadata": {},
     "output_type": "execute_result"
    }
   ],
   "source": [
    "eu_plat = pd.pivot_table(games_sort, index='platform', values='eu_sales',\n",
    "                                        aggfunc='sum').sort_values('eu_sales', ascending=False)\n",
    "eu_plat"
   ]
  },
  {
   "cell_type": "code",
   "execution_count": 50,
   "metadata": {},
   "outputs": [
    {
     "data": {
      "image/png": "[encoded data removed]",
      "text/plain": [
       "<Figure size 720x360 with 1 Axes>"
      ]
     },
     "metadata": {
      "needs_background": "light"
     },
     "output_type": "display_data"
    }
   ],
   "source": [
    "plt.figure(figsize=(10,5))\n",
    "sns.barplot(data=eu_plat, x=eu_plat.index, y='eu_sales') \n",
    "plt.title(\"Продажи по платформам в Европе\")\n",
    "plt.xlabel(\"Платформы\")\n",
    "plt.ylabel(\"Продажи\");"
   ]
  },
  {
   "cell_type": "code",
   "execution_count": 51,
   "metadata": {},
   "outputs": [
    {
     "data": {
      "text/html": [
       "<div>\n",
       "<style scoped>\n",
       "    .dataframe tbody tr th:only-of-type {\n",
       "        vertical-align: middle;\n",
       "    }\n",
       "\n",
       "    .dataframe tbody tr th {\n",
       "        vertical-align: top;\n",
       "    }\n",
       "\n",
       "    .dataframe thead th {\n",
       "        text-align: right;\n",
       "    }\n",
       "</style>\n",
       "<table border=\"1\" class=\"dataframe\">\n",
       "  <thead>\n",
       "    <tr style=\"text-align: right;\">\n",
       "      <th></th>\n",
       "      <th>eu_sales</th>\n",
       "    </tr>\n",
       "    <tr>\n",
       "      <th>genre</th>\n",
       "      <th></th>\n",
       "    </tr>\n",
       "  </thead>\n",
       "  <tbody>\n",
       "    <tr>\n",
       "      <th>Action</th>\n",
       "      <td>74.68</td>\n",
       "    </tr>\n",
       "    <tr>\n",
       "      <th>Shooter</th>\n",
       "      <td>65.52</td>\n",
       "    </tr>\n",
       "    <tr>\n",
       "      <th>Sports</th>\n",
       "      <td>45.73</td>\n",
       "    </tr>\n",
       "    <tr>\n",
       "      <th>Role-Playing</th>\n",
       "      <td>28.17</td>\n",
       "    </tr>\n",
       "    <tr>\n",
       "      <th>Racing</th>\n",
       "      <td>14.13</td>\n",
       "    </tr>\n",
       "    <tr>\n",
       "      <th>Misc</th>\n",
       "      <td>12.86</td>\n",
       "    </tr>\n",
       "    <tr>\n",
       "      <th>Simulation</th>\n",
       "      <td>7.30</td>\n",
       "    </tr>\n",
       "    <tr>\n",
       "      <th>Platform</th>\n",
       "      <td>6.80</td>\n",
       "    </tr>\n",
       "    <tr>\n",
       "      <th>Fighting</th>\n",
       "      <td>6.69</td>\n",
       "    </tr>\n",
       "    <tr>\n",
       "      <th>Adventure</th>\n",
       "      <td>6.49</td>\n",
       "    </tr>\n",
       "    <tr>\n",
       "      <th>Strategy</th>\n",
       "      <td>1.79</td>\n",
       "    </tr>\n",
       "    <tr>\n",
       "      <th>Puzzle</th>\n",
       "      <td>0.52</td>\n",
       "    </tr>\n",
       "  </tbody>\n",
       "</table>\n",
       "</div>"
      ],
      "text/plain": [
       "              eu_sales\n",
       "genre                 \n",
       "Action           74.68\n",
       "Shooter          65.52\n",
       "Sports           45.73\n",
       "Role-Playing     28.17\n",
       "Racing           14.13\n",
       "Misc             12.86\n",
       "Simulation        7.30\n",
       "Platform          6.80\n",
       "Fighting          6.69\n",
       "Adventure         6.49\n",
       "Strategy          1.79\n",
       "Puzzle            0.52"
      ]
     },
     "execution_count": 51,
     "metadata": {},
     "output_type": "execute_result"
    }
   ],
   "source": [
    "eu_genre = pd.pivot_table(games_sort, index='genre', values='eu_sales',\n",
    "                                        aggfunc='sum').sort_values('eu_sales', ascending=False)\n",
    "eu_genre"
   ]
  },
  {
   "cell_type": "code",
   "execution_count": 52,
   "metadata": {},
   "outputs": [
    {
     "data": {
      "image/png": "[encoded data removed]",
      "text/plain": [
       "<Figure size 720x360 with 1 Axes>"
      ]
     },
     "metadata": {
      "needs_background": "light"
     },
     "output_type": "display_data"
    }
   ],
   "source": [
    "plt.figure(figsize=(10,5))\n",
    "sns.barplot(data=eu_genre, x=eu_genre.index, y='eu_sales') \n",
    "plt.title(\"Продажи по жанрам в Европе\")\n",
    "plt.xlabel(\"Жанры\")\n",
    "plt.ylabel(\"Продажи\");"
   ]
  },
  {
   "cell_type": "code",
   "execution_count": 53,
   "metadata": {},
   "outputs": [
    {
     "data": {
      "image/png": "[encoded data removed]",
      "text/plain": [
       "<Figure size 720x360 with 1 Axes>"
      ]
     },
     "metadata": {
      "needs_background": "light"
     },
     "output_type": "display_data"
    }
   ],
   "source": [
    "plt.figure(figsize=(10,5))\n",
    "sns.barplot(data=games_sort, x='rating', y='eu_sales') \n",
    "plt.title(\"Продажи по рейтингам\")\n",
    "plt.xlabel(\"Рейтинг\")\n",
    "plt.ylabel(\"Продажи\");"
   ]
  },
  {
   "cell_type": "markdown",
   "metadata": {},
   "source": [
    "Типичный пользователь из Европы предпочитает PS4, XOne, PS3, PC, 3DS, среди жанров выделяются Action, Shooter и Sports, Role-Playing и Racing.\n",
    "\n",
    "По рейтингу ольше всего продаж игр 17+, все возраста, затем 10+ и 13+"
   ]
  },
  {
   "cell_type": "markdown",
   "metadata": {},
   "source": [
    "#### Пользователь JP"
   ]
  },
  {
   "cell_type": "code",
   "execution_count": 54,
   "metadata": {},
   "outputs": [
    {
     "data": {
      "text/html": [
       "<div>\n",
       "<style scoped>\n",
       "    .dataframe tbody tr th:only-of-type {\n",
       "        vertical-align: middle;\n",
       "    }\n",
       "\n",
       "    .dataframe tbody tr th {\n",
       "        vertical-align: top;\n",
       "    }\n",
       "\n",
       "    .dataframe thead th {\n",
       "        text-align: right;\n",
       "    }\n",
       "</style>\n",
       "<table border=\"1\" class=\"dataframe\">\n",
       "  <thead>\n",
       "    <tr style=\"text-align: right;\">\n",
       "      <th></th>\n",
       "      <th>jp_sales</th>\n",
       "    </tr>\n",
       "    <tr>\n",
       "      <th>platform</th>\n",
       "      <th></th>\n",
       "    </tr>\n",
       "  </thead>\n",
       "  <tbody>\n",
       "    <tr>\n",
       "      <th>3DS</th>\n",
       "      <td>44.24</td>\n",
       "    </tr>\n",
       "    <tr>\n",
       "      <th>PS4</th>\n",
       "      <td>15.02</td>\n",
       "    </tr>\n",
       "    <tr>\n",
       "      <th>PSV</th>\n",
       "      <td>14.54</td>\n",
       "    </tr>\n",
       "    <tr>\n",
       "      <th>PS3</th>\n",
       "      <td>11.22</td>\n",
       "    </tr>\n",
       "    <tr>\n",
       "      <th>WiiU</th>\n",
       "      <td>7.31</td>\n",
       "    </tr>\n",
       "    <tr>\n",
       "      <th>PSP</th>\n",
       "      <td>0.36</td>\n",
       "    </tr>\n",
       "    <tr>\n",
       "      <th>XOne</th>\n",
       "      <td>0.32</td>\n",
       "    </tr>\n",
       "    <tr>\n",
       "      <th>X360</th>\n",
       "      <td>0.08</td>\n",
       "    </tr>\n",
       "    <tr>\n",
       "      <th>PC</th>\n",
       "      <td>0.00</td>\n",
       "    </tr>\n",
       "    <tr>\n",
       "      <th>Wii</th>\n",
       "      <td>0.00</td>\n",
       "    </tr>\n",
       "  </tbody>\n",
       "</table>\n",
       "</div>"
      ],
      "text/plain": [
       "          jp_sales\n",
       "platform          \n",
       "3DS          44.24\n",
       "PS4          15.02\n",
       "PSV          14.54\n",
       "PS3          11.22\n",
       "WiiU          7.31\n",
       "PSP           0.36\n",
       "XOne          0.32\n",
       "X360          0.08\n",
       "PC            0.00\n",
       "Wii           0.00"
      ]
     },
     "execution_count": 54,
     "metadata": {},
     "output_type": "execute_result"
    }
   ],
   "source": [
    "jp_plat = pd.pivot_table(games_sort, index='platform', values='jp_sales',\n",
    "                                        aggfunc='sum').sort_values('jp_sales', ascending=False)\n",
    "jp_plat"
   ]
  },
  {
   "cell_type": "code",
   "execution_count": 55,
   "metadata": {},
   "outputs": [
    {
     "data": {
      "image/png": "[encoded data removed]",
      "text/plain": [
       "<Figure size 720x360 with 1 Axes>"
      ]
     },
     "metadata": {
      "needs_background": "light"
     },
     "output_type": "display_data"
    }
   ],
   "source": [
    "plt.figure(figsize=(10,5))\n",
    "sns.barplot(data=jp_plat, x=jp_plat.index, y='jp_sales') \n",
    "plt.title(\"Продажи по платформам в Японии\")\n",
    "plt.xlabel(\"Платформы\")\n",
    "plt.ylabel(\"Продажи\");"
   ]
  },
  {
   "cell_type": "code",
   "execution_count": 56,
   "metadata": {
    "scrolled": false
   },
   "outputs": [
    {
     "data": {
      "text/html": [
       "<div>\n",
       "<style scoped>\n",
       "    .dataframe tbody tr th:only-of-type {\n",
       "        vertical-align: middle;\n",
       "    }\n",
       "\n",
       "    .dataframe tbody tr th {\n",
       "        vertical-align: top;\n",
       "    }\n",
       "\n",
       "    .dataframe thead th {\n",
       "        text-align: right;\n",
       "    }\n",
       "</style>\n",
       "<table border=\"1\" class=\"dataframe\">\n",
       "  <thead>\n",
       "    <tr style=\"text-align: right;\">\n",
       "      <th></th>\n",
       "      <th>jp_sales</th>\n",
       "    </tr>\n",
       "    <tr>\n",
       "      <th>genre</th>\n",
       "      <th></th>\n",
       "    </tr>\n",
       "  </thead>\n",
       "  <tbody>\n",
       "    <tr>\n",
       "      <th>Role-Playing</th>\n",
       "      <td>31.16</td>\n",
       "    </tr>\n",
       "    <tr>\n",
       "      <th>Action</th>\n",
       "      <td>29.58</td>\n",
       "    </tr>\n",
       "    <tr>\n",
       "      <th>Fighting</th>\n",
       "      <td>6.37</td>\n",
       "    </tr>\n",
       "    <tr>\n",
       "      <th>Misc</th>\n",
       "      <td>5.61</td>\n",
       "    </tr>\n",
       "    <tr>\n",
       "      <th>Shooter</th>\n",
       "      <td>4.87</td>\n",
       "    </tr>\n",
       "    <tr>\n",
       "      <th>Adventure</th>\n",
       "      <td>3.60</td>\n",
       "    </tr>\n",
       "    <tr>\n",
       "      <th>Sports</th>\n",
       "      <td>3.26</td>\n",
       "    </tr>\n",
       "    <tr>\n",
       "      <th>Platform</th>\n",
       "      <td>2.69</td>\n",
       "    </tr>\n",
       "    <tr>\n",
       "      <th>Simulation</th>\n",
       "      <td>2.31</td>\n",
       "    </tr>\n",
       "    <tr>\n",
       "      <th>Racing</th>\n",
       "      <td>1.76</td>\n",
       "    </tr>\n",
       "    <tr>\n",
       "      <th>Strategy</th>\n",
       "      <td>0.95</td>\n",
       "    </tr>\n",
       "    <tr>\n",
       "      <th>Puzzle</th>\n",
       "      <td>0.93</td>\n",
       "    </tr>\n",
       "  </tbody>\n",
       "</table>\n",
       "</div>"
      ],
      "text/plain": [
       "              jp_sales\n",
       "genre                 \n",
       "Role-Playing     31.16\n",
       "Action           29.58\n",
       "Fighting          6.37\n",
       "Misc              5.61\n",
       "Shooter           4.87\n",
       "Adventure         3.60\n",
       "Sports            3.26\n",
       "Platform          2.69\n",
       "Simulation        2.31\n",
       "Racing            1.76\n",
       "Strategy          0.95\n",
       "Puzzle            0.93"
      ]
     },
     "execution_count": 56,
     "metadata": {},
     "output_type": "execute_result"
    }
   ],
   "source": [
    "jp_genre = pd.pivot_table(games_sort, index='genre', values='jp_sales',\n",
    "                                        aggfunc='sum').sort_values('jp_sales', ascending=False)\n",
    "jp_genre"
   ]
  },
  {
   "cell_type": "code",
   "execution_count": 57,
   "metadata": {},
   "outputs": [
    {
     "data": {
      "image/png": "[encoded data removed]",
      "text/plain": [
       "<Figure size 720x360 with 1 Axes>"
      ]
     },
     "metadata": {
      "needs_background": "light"
     },
     "output_type": "display_data"
    }
   ],
   "source": [
    "plt.figure(figsize=(10,5))\n",
    "sns.barplot(data=jp_genre, x=jp_genre.index, y='jp_sales') \n",
    "plt.title(\"Продажи по жанрам в Японии\")\n",
    "plt.xlabel(\"Жанры\")\n",
    "plt.ylabel(\"Продажи\");"
   ]
  },
  {
   "cell_type": "code",
   "execution_count": 58,
   "metadata": {},
   "outputs": [
    {
     "data": {
      "image/png": "[encoded data removed]",
      "text/plain": [
       "<Figure size 720x360 with 1 Axes>"
      ]
     },
     "metadata": {
      "needs_background": "light"
     },
     "output_type": "display_data"
    }
   ],
   "source": [
    "plt.figure(figsize=(10,5))\n",
    "sns.barplot(data=games_sort, x='rating', y='jp_sales') \n",
    "plt.title(\"Продажи по рейтингам\")\n",
    "plt.xlabel(\"Рейтинг\")\n",
    "plt.ylabel(\"Продажи\");"
   ]
  },
  {
   "cell_type": "markdown",
   "metadata": {},
   "source": [
    "Типичный пользователь Японии это игрок на 3DS, PS4, PSV, PS3, WiiU. Из жарнов предпочитает Role-Playing, Action, Fighting, Misc и Shooter\n",
    "\n",
    "По возрасту больше всего продаж для игроков от 13 лет, затем для всех возрастов, 17+ и чуть меньше 10+"
   ]
  },
  {
   "cell_type": "markdown",
   "metadata": {},
   "source": [
    "Продаж без возрастного рейтинга не так уж и много по всем регионам"
   ]
  },
  {
   "cell_type": "markdown",
   "metadata": {},
   "source": [
    "### Шаг 5. Проверка гипотез"
   ]
  },
  {
   "cell_type": "markdown",
   "metadata": {},
   "source": [
    "####  Средние пользовательские рейтинги платформ Xbox One и PC одинаковые"
   ]
  },
  {
   "cell_type": "markdown",
   "metadata": {},
   "source": [
    "Н0: Средние пользовательские рейтинги платформ Xbox One и PC одинаковые\n",
    "\n",
    "Н1: Средние пользовательские рейтинги платформ Xbox One и PC разные"
   ]
  },
  {
   "cell_type": "code",
   "execution_count": 59,
   "metadata": {},
   "outputs": [],
   "source": [
    "xone_h = games_sort[(games_sort['platform']=='XOne')]['user_score'].dropna()\n",
    "pc_h = games_sort[(games_sort['platform']=='PC')]['user_score'].dropna()"
   ]
  },
  {
   "cell_type": "code",
   "execution_count": 60,
   "metadata": {},
   "outputs": [
    {
     "name": "stdout",
     "output_type": "stream",
     "text": [
      "1.879546005509642\n",
      "2.8773743617307175\n"
     ]
    }
   ],
   "source": [
    "print(np.var(games_sort[games_sort['platform']=='XOne']['user_score']))\n",
    "print(np.var(games_sort[games_sort['platform']=='PC']['user_score']))\n"
   ]
  },
  {
   "cell_type": "code",
   "execution_count": 61,
   "metadata": {},
   "outputs": [
    {
     "name": "stdout",
     "output_type": "stream",
     "text": [
      "p-значение: 0.11601398086668832\n",
      "Не получилось отвергнуть нулевую гипотезу\n"
     ]
    }
   ],
   "source": [
    "alpha = .01\n",
    "results = st.ttest_ind(xone_h, pc_h, equal_var=False)\n",
    "print('p-значение:', results.pvalue)\n",
    "\n",
    "if (results.pvalue < alpha):\n",
    "    print(\"Отвергаем нулевую гипотезу\")\n",
    "else:\n",
    "    print(\"Не получилось отвергнуть нулевую гипотезу\")\n"
   ]
  },
  {
   "cell_type": "markdown",
   "metadata": {},
   "source": [
    "Cредние рейтинги платформ  XOne и PC не имеют статистически значимых отличий "
   ]
  },
  {
   "cell_type": "markdown",
   "metadata": {},
   "source": [
    "#### Средние пользовательские рейтинги жанров Action (англ. «действие», экшен-игры) и Sports (англ. «спортивные соревнования») разные"
   ]
  },
  {
   "cell_type": "markdown",
   "metadata": {},
   "source": [
    "Н0: Средние пользовательские рейтинги жанров Action и Sports одинаковые\n",
    "\n",
    "Н1: Средние пользовательские рейтинги жанров Action и Sports разные"
   ]
  },
  {
   "cell_type": "code",
   "execution_count": 62,
   "metadata": {},
   "outputs": [],
   "source": [
    "action_h = games_sort[(games_sort['genre']=='Action')]['user_score'].dropna()\n",
    "sports_h = games_sort[(games_sort['genre']=='Sports')]['user_score'].dropna()"
   ]
  },
  {
   "cell_type": "code",
   "execution_count": 63,
   "metadata": {},
   "outputs": [
    {
     "name": "stdout",
     "output_type": "stream",
     "text": [
      "1.89208448117539\n",
      "3.419837559675119\n"
     ]
    }
   ],
   "source": [
    "print(np.var(games_sort[games_sort['genre']=='Action']['user_score']))\n",
    "print(np.var(games_sort[games_sort['genre']=='Sports']['user_score']))\n"
   ]
  },
  {
   "cell_type": "code",
   "execution_count": 64,
   "metadata": {},
   "outputs": [
    {
     "name": "stdout",
     "output_type": "stream",
     "text": [
      "p-значение: 1.1825550382644557e-14\n",
      "Отвергаем нулевую гипотезу\n"
     ]
    }
   ],
   "source": [
    "alpha = .01\n",
    "results = st.ttest_ind(action_h, sports_h, equal_var=False)\n",
    "print('p-значение:', results.pvalue)\n",
    "\n",
    "if (results.pvalue < alpha):\n",
    "    print(\"Отвергаем нулевую гипотезу\")\n",
    "else:\n",
    "    print(\"Не получилось отвергнуть нулевую гипотезу\")\n"
   ]
  },
  {
   "cell_type": "markdown",
   "metadata": {},
   "source": [
    "Средние пользовательские рейтинги платформ Xbox One и PC не имеют статистически значимых различий, поэтому гипотезу об их сходстве отвергнуть не получилось, средние пользовательские рейтинги жанров Action  и Sports имеют статистически значимые различия, гипотезу об их равенстве отвергаем.\n",
    "Нам важно узнать одинковые рейтинги или разные, поэтому применяем метод для проверки равенства средних у двух совокупностей. "
   ]
  },
  {
   "cell_type": "markdown",
   "metadata": {},
   "source": [
    "### Шаг 6. Общий вывод"
   ]
  },
  {
   "cell_type": "markdown",
   "metadata": {},
   "source": [
    "1) Мы проанализировали данные из магазина \"Стримчик\" за несколько лет для того, чтобы определить закономерности, определяющие успешность игры. Это позволит сделать ставку на потенциально популярный продукт и спланировать рекламные кампании\n",
    "\n",
    "2) Данные оканчиваются 2016 годом, причем за 2016 они неполные, для исследования были выбраны актуальные данные, которые мы ограничили 2009 годом. Средняя длительность жизни платформы 10 лет, но судя по нашим данным и графику узнали, что к 2008 году наблюдался активный рост популярности игр в целом, но с 2009 года пошел спад, затем снова небольшой рост, именно поэтому не стали брать данные за последние 10 лет. К тому же, если платформа наращивала популярность в этот промежуток времени, то к 2017 она бы \"умерла\" Данные ограничили 3 годами до 2017.\n",
    "\n",
    "Проанализировав данные устранили аномалии и бесполезные строки, например, без названия игры, изменили тип данных и удалили дубликаты.\n",
    "\n",
    "3) Топ 6 это PS4, XOne, 3DS, PS3, X360, WiiU.\n",
    "На 2016 остается не так много платформ, большая часть уже неактуальна, ее заменяют новые и это нормально. В целом к 2016 они все уже не так актуальны, но мы знаем, что данные за 2016 неполные. Больше всего продаж у WiiU и XOne , затем X360 и PS4.\n",
    "\n",
    "4) Продажи игр зависят больше от оценки критиков, чем пользователей. Это логично, когда у игры высокий рейтинг оценщика, покупить ее уже не так рисковано. Только у wiiu оценка пользователей значит больше, чем оценка критиков. Сама платформа выделялась необычным контроллером Wii Remote — он одним из первых предложил аудитории взаимодействовать с игрой в том числе с помощью движения. Wii — одна из немногих платформ, которая будоражила и хардкорных фанатов Nintendo, и тех, кто до этого предпочитал проводить досуг не за играми.\n",
    "\n",
    "5) Самые популярные жанры - это shooter, sports, platform, fighting и role-playing. Самый высокопродаваемый - shooter, самый непопулярный - adventure. Тут тоже логика простая, чем меньше активного взаимодействия, тем хуже для популярности.\n",
    "\n",
    "6) Проанализировали данные по регионам и описали типичных пользователей:\n",
    "\n",
    "    Пользователь Северной Америки предпочитает PS4, XOne, X360, 3DS, PS3, из жарнов - это шутер, экшн и спорт, ролевики и микс. \n",
    "    Типичный пользователь из Европы предпочитает PS4, XOne, PS3, PC, 3DS, среди жанров выделяются Action, Shooter и Sports, Role-Playing и Racing.\n",
    "    Типичный пользователь Японии это игрок на 3DS, PS4, PSV, PS3, WiiU. Из жарнов предпочитает Role-Playing, Action, Fighting, Misc и Shooter    \n",
    "\n",
    "7) Средние пользовательские рейтинги платформ Xbox One и PC не имеют статистически значимых различий, поэтому гипотезу об их сходстве отвергнуть не получилось, средние пользовательские рейтинги жанров Action  и Sports имеют статистически значимые различия, гипотезу об их равенстве отвергаем.\n",
    "\n",
    "В общем можно сказать, что платформа живет до 10 лет с подъемом и падением, затем ее заменяет новая, пусть даже это следующее поколение. Но эти новые поколения почти сразу становятся популярны, так как игроки уже знакомы с создателем.  \n",
    "\n",
    "Платформы PS4 и XOne популярны в Европе и Америке, но вот в Японии список возглавляет 3DS. И в целом топ-5 платформ там другой, кроме PS4 и PS3. Поэтому стоит учитывать, либо для какой аудитории делать игру, либо выбрать универсальную популярную платформу - PS4. Жарны во всех регионах похожи, их  объединяет количество взаимодействия игрока с самой игрой, с интерфейсом. Чем больше такой активности, тем популярнее будет игра."
   ]
  }
 ],
 "metadata": {
  "ExecuteTimeLog": [
   {
    "duration": 1401,
    "start_time": "2023-01-27T17:14:56.297Z"
   },
   {
    "duration": 1131,
    "start_time": "2023-01-27T17:16:32.209Z"
   },
   {
    "duration": 95,
    "start_time": "2023-01-27T17:17:07.624Z"
   },
   {
    "duration": 28,
    "start_time": "2023-01-27T17:17:23.507Z"
   },
   {
    "duration": 20,
    "start_time": "2023-01-27T17:17:42.408Z"
   },
   {
    "duration": 111,
    "start_time": "2023-01-27T17:26:30.047Z"
   },
   {
    "duration": 13,
    "start_time": "2023-01-27T17:26:43.181Z"
   },
   {
    "duration": 11,
    "start_time": "2023-01-27T17:29:44.110Z"
   },
   {
    "duration": 4,
    "start_time": "2023-01-27T17:30:46.857Z"
   },
   {
    "duration": 12,
    "start_time": "2023-01-27T17:30:49.176Z"
   },
   {
    "duration": 11,
    "start_time": "2023-01-27T17:31:09.415Z"
   },
   {
    "duration": 1297,
    "start_time": "2023-01-28T17:39:00.366Z"
   },
   {
    "duration": 518,
    "start_time": "2023-01-28T17:39:01.664Z"
   },
   {
    "duration": 15,
    "start_time": "2023-01-28T17:39:02.184Z"
   },
   {
    "duration": 13,
    "start_time": "2023-01-28T17:39:02.201Z"
   },
   {
    "duration": 5,
    "start_time": "2023-01-28T17:39:02.215Z"
   },
   {
    "duration": 15,
    "start_time": "2023-01-28T17:39:02.221Z"
   },
   {
    "duration": 102,
    "start_time": "2023-01-28T17:56:22.170Z"
   },
   {
    "duration": 9,
    "start_time": "2023-01-28T17:56:30.624Z"
   },
   {
    "duration": 20,
    "start_time": "2023-01-28T18:12:22.693Z"
   },
   {
    "duration": 57,
    "start_time": "2023-01-28T18:15:20.360Z"
   },
   {
    "duration": 9,
    "start_time": "2023-01-28T18:15:50.230Z"
   },
   {
    "duration": 22,
    "start_time": "2023-01-28T18:18:42.868Z"
   },
   {
    "duration": 10,
    "start_time": "2023-01-28T18:25:01.048Z"
   },
   {
    "duration": 30,
    "start_time": "2023-01-28T18:25:28.870Z"
   },
   {
    "duration": 10,
    "start_time": "2023-01-28T18:25:39.540Z"
   },
   {
    "duration": 9,
    "start_time": "2023-01-28T18:25:52.395Z"
   },
   {
    "duration": 6,
    "start_time": "2023-01-28T18:26:09.167Z"
   },
   {
    "duration": 6,
    "start_time": "2023-01-28T18:28:03.423Z"
   },
   {
    "duration": 4,
    "start_time": "2023-01-28T18:34:19.168Z"
   },
   {
    "duration": 19,
    "start_time": "2023-01-28T18:34:27.741Z"
   },
   {
    "duration": 6,
    "start_time": "2023-01-28T18:35:24.641Z"
   },
   {
    "duration": 4,
    "start_time": "2023-01-28T18:37:12.402Z"
   },
   {
    "duration": 5,
    "start_time": "2023-01-28T18:37:17.492Z"
   },
   {
    "duration": 4,
    "start_time": "2023-01-28T18:37:28.754Z"
   },
   {
    "duration": 10,
    "start_time": "2023-01-28T18:37:35.905Z"
   },
   {
    "duration": 4,
    "start_time": "2023-01-28T18:37:41.397Z"
   },
   {
    "duration": 4,
    "start_time": "2023-01-28T18:38:36.529Z"
   },
   {
    "duration": 6,
    "start_time": "2023-01-28T18:40:49.033Z"
   },
   {
    "duration": 6,
    "start_time": "2023-01-28T18:41:51.601Z"
   },
   {
    "duration": 1317,
    "start_time": "2023-01-29T16:38:24.404Z"
   },
   {
    "duration": 215,
    "start_time": "2023-01-29T16:38:25.723Z"
   },
   {
    "duration": 2330,
    "start_time": "2023-01-29T16:38:25.940Z"
   },
   {
    "duration": 15,
    "start_time": "2023-01-29T16:38:28.272Z"
   },
   {
    "duration": 14,
    "start_time": "2023-01-29T16:38:28.289Z"
   },
   {
    "duration": 50,
    "start_time": "2023-01-29T16:38:28.305Z"
   },
   {
    "duration": 9,
    "start_time": "2023-01-29T16:38:28.357Z"
   },
   {
    "duration": 19,
    "start_time": "2023-01-29T16:38:28.368Z"
   },
   {
    "duration": 24,
    "start_time": "2023-01-29T16:38:28.388Z"
   },
   {
    "duration": 35,
    "start_time": "2023-01-29T16:38:28.416Z"
   },
   {
    "duration": 19,
    "start_time": "2023-01-29T16:38:28.453Z"
   },
   {
    "duration": 24,
    "start_time": "2023-01-29T16:38:28.475Z"
   },
   {
    "duration": 7,
    "start_time": "2023-01-29T16:38:28.501Z"
   },
   {
    "duration": 257,
    "start_time": "2023-01-29T16:38:28.510Z"
   },
   {
    "duration": 45,
    "start_time": "2023-01-29T16:40:29.671Z"
   },
   {
    "duration": 204,
    "start_time": "2023-01-29T16:40:37.322Z"
   },
   {
    "duration": 10,
    "start_time": "2023-01-29T16:55:12.853Z"
   },
   {
    "duration": 130,
    "start_time": "2023-01-29T17:00:47.958Z"
   },
   {
    "duration": 139,
    "start_time": "2023-01-29T17:01:01.001Z"
   },
   {
    "duration": 174,
    "start_time": "2023-01-29T17:01:13.564Z"
   },
   {
    "duration": 280,
    "start_time": "2023-01-29T17:01:28.507Z"
   },
   {
    "duration": 146,
    "start_time": "2023-01-29T17:01:54.112Z"
   },
   {
    "duration": 360,
    "start_time": "2023-01-29T17:02:03.877Z"
   },
   {
    "duration": 401,
    "start_time": "2023-01-29T17:05:13.537Z"
   },
   {
    "duration": 364,
    "start_time": "2023-01-29T17:05:39.746Z"
   },
   {
    "duration": 4,
    "start_time": "2023-01-29T17:10:47.350Z"
   },
   {
    "duration": 86,
    "start_time": "2023-01-29T17:10:47.634Z"
   },
   {
    "duration": 15,
    "start_time": "2023-01-29T17:10:47.780Z"
   },
   {
    "duration": 15,
    "start_time": "2023-01-29T17:10:47.957Z"
   },
   {
    "duration": 3,
    "start_time": "2023-01-29T17:10:48.273Z"
   },
   {
    "duration": 31,
    "start_time": "2023-01-29T17:10:48.593Z"
   },
   {
    "duration": 10,
    "start_time": "2023-01-29T17:10:49.101Z"
   },
   {
    "duration": 8,
    "start_time": "2023-01-29T17:10:49.462Z"
   },
   {
    "duration": 24,
    "start_time": "2023-01-29T17:10:49.658Z"
   },
   {
    "duration": 5,
    "start_time": "2023-01-29T17:10:49.861Z"
   },
   {
    "duration": 7,
    "start_time": "2023-01-29T17:10:50.059Z"
   },
   {
    "duration": 17,
    "start_time": "2023-01-29T17:10:50.663Z"
   },
   {
    "duration": 7,
    "start_time": "2023-01-29T17:10:51.356Z"
   },
   {
    "duration": 222,
    "start_time": "2023-01-29T17:10:51.967Z"
   },
   {
    "duration": 375,
    "start_time": "2023-01-29T17:10:52.525Z"
   },
   {
    "duration": 1502,
    "start_time": "2023-01-30T08:39:41.856Z"
   },
   {
    "duration": 199,
    "start_time": "2023-01-30T08:39:43.361Z"
   },
   {
    "duration": 27,
    "start_time": "2023-01-30T08:39:43.563Z"
   },
   {
    "duration": 35,
    "start_time": "2023-01-30T08:39:43.593Z"
   },
   {
    "duration": 8,
    "start_time": "2023-01-30T08:39:43.630Z"
   },
   {
    "duration": 61,
    "start_time": "2023-01-30T08:39:43.641Z"
   },
   {
    "duration": 13,
    "start_time": "2023-01-30T08:39:43.877Z"
   },
   {
    "duration": 11,
    "start_time": "2023-01-30T08:39:44.066Z"
   },
   {
    "duration": 37,
    "start_time": "2023-01-30T08:39:44.160Z"
   },
   {
    "duration": 7,
    "start_time": "2023-01-30T08:39:44.251Z"
   },
   {
    "duration": 58,
    "start_time": "2023-01-30T08:39:44.350Z"
   },
   {
    "duration": 19,
    "start_time": "2023-01-30T08:39:44.926Z"
   },
   {
    "duration": 6,
    "start_time": "2023-01-30T08:39:45.399Z"
   },
   {
    "duration": 300,
    "start_time": "2023-01-30T08:39:46.131Z"
   },
   {
    "duration": 427,
    "start_time": "2023-01-30T08:39:46.502Z"
   },
   {
    "duration": 1268,
    "start_time": "2023-01-30T08:43:58.497Z"
   },
   {
    "duration": 8,
    "start_time": "2023-01-30T08:44:42.557Z"
   },
   {
    "duration": 6,
    "start_time": "2023-01-30T08:44:54.110Z"
   },
   {
    "duration": 6500,
    "start_time": "2023-01-30T08:46:59.827Z"
   },
   {
    "duration": 5369,
    "start_time": "2023-01-30T08:47:33.867Z"
   },
   {
    "duration": 5163,
    "start_time": "2023-01-30T08:47:45.874Z"
   },
   {
    "duration": 4,
    "start_time": "2023-01-30T08:55:03.626Z"
   },
   {
    "duration": 96,
    "start_time": "2023-01-30T08:55:04.340Z"
   },
   {
    "duration": 17,
    "start_time": "2023-01-30T08:55:04.654Z"
   },
   {
    "duration": 23,
    "start_time": "2023-01-30T08:55:04.676Z"
   },
   {
    "duration": 3,
    "start_time": "2023-01-30T08:55:05.100Z"
   },
   {
    "duration": 34,
    "start_time": "2023-01-30T08:55:05.252Z"
   },
   {
    "duration": 11,
    "start_time": "2023-01-30T08:55:05.519Z"
   },
   {
    "duration": 9,
    "start_time": "2023-01-30T08:55:05.859Z"
   },
   {
    "duration": 22,
    "start_time": "2023-01-30T08:55:06.028Z"
   },
   {
    "duration": 6,
    "start_time": "2023-01-30T08:55:06.215Z"
   },
   {
    "duration": 7,
    "start_time": "2023-01-30T08:55:06.391Z"
   },
   {
    "duration": 18,
    "start_time": "2023-01-30T08:55:06.914Z"
   },
   {
    "duration": 5,
    "start_time": "2023-01-30T08:55:07.458Z"
   },
   {
    "duration": 221,
    "start_time": "2023-01-30T08:55:08.017Z"
   },
   {
    "duration": 360,
    "start_time": "2023-01-30T08:55:08.904Z"
   },
   {
    "duration": 6,
    "start_time": "2023-01-30T08:55:09.278Z"
   },
   {
    "duration": 4963,
    "start_time": "2023-01-30T08:55:09.488Z"
   },
   {
    "duration": 12,
    "start_time": "2023-01-30T08:57:18.616Z"
   },
   {
    "duration": 11,
    "start_time": "2023-01-30T08:57:35.156Z"
   },
   {
    "duration": 10,
    "start_time": "2023-01-30T08:57:45.653Z"
   },
   {
    "duration": 12,
    "start_time": "2023-01-30T08:58:14.950Z"
   },
   {
    "duration": 8,
    "start_time": "2023-01-30T08:58:16.730Z"
   },
   {
    "duration": 19,
    "start_time": "2023-01-30T09:12:39.079Z"
   },
   {
    "duration": 6,
    "start_time": "2023-01-30T09:13:02.297Z"
   },
   {
    "duration": 26,
    "start_time": "2023-01-30T09:13:06.149Z"
   },
   {
    "duration": 16,
    "start_time": "2023-01-30T09:19:28.597Z"
   },
   {
    "duration": 12,
    "start_time": "2023-01-30T09:24:40.078Z"
   },
   {
    "duration": 8,
    "start_time": "2023-01-30T09:24:41.619Z"
   },
   {
    "duration": 8,
    "start_time": "2023-01-30T09:24:44.973Z"
   },
   {
    "duration": 11,
    "start_time": "2023-01-30T09:24:49.290Z"
   },
   {
    "duration": 7,
    "start_time": "2023-01-30T09:24:50.307Z"
   },
   {
    "duration": 34,
    "start_time": "2023-01-30T09:26:02.282Z"
   },
   {
    "duration": 11,
    "start_time": "2023-01-30T09:33:41.433Z"
   },
   {
    "duration": 16,
    "start_time": "2023-01-30T09:34:02.060Z"
   },
   {
    "duration": 406,
    "start_time": "2023-01-30T09:34:06.644Z"
   },
   {
    "duration": 231,
    "start_time": "2023-01-30T09:35:23.755Z"
   },
   {
    "duration": 438,
    "start_time": "2023-01-30T09:35:30.880Z"
   },
   {
    "duration": 232,
    "start_time": "2023-01-30T09:35:35.160Z"
   },
   {
    "duration": 18,
    "start_time": "2023-01-30T09:39:46.979Z"
   },
   {
    "duration": 17,
    "start_time": "2023-01-30T09:40:02.556Z"
   },
   {
    "duration": 52,
    "start_time": "2023-01-30T09:40:14.664Z"
   },
   {
    "duration": 18,
    "start_time": "2023-01-30T09:40:26.004Z"
   },
   {
    "duration": 16,
    "start_time": "2023-01-30T09:44:52.332Z"
   },
   {
    "duration": 25,
    "start_time": "2023-01-30T09:45:03.809Z"
   },
   {
    "duration": 12,
    "start_time": "2023-01-30T09:45:23.671Z"
   },
   {
    "duration": 10,
    "start_time": "2023-01-30T09:45:24.562Z"
   },
   {
    "duration": 12,
    "start_time": "2023-01-30T09:45:37.272Z"
   },
   {
    "duration": 11,
    "start_time": "2023-01-30T09:45:37.891Z"
   },
   {
    "duration": 27,
    "start_time": "2023-01-30T09:45:42.082Z"
   },
   {
    "duration": 17,
    "start_time": "2023-01-30T09:46:02.550Z"
   },
   {
    "duration": 8,
    "start_time": "2023-01-30T10:02:44.325Z"
   },
   {
    "duration": 22,
    "start_time": "2023-01-30T10:02:53.253Z"
   },
   {
    "duration": 42,
    "start_time": "2023-01-30T10:05:37.325Z"
   },
   {
    "duration": 7,
    "start_time": "2023-01-30T10:06:33.067Z"
   },
   {
    "duration": 21,
    "start_time": "2023-01-30T10:06:33.961Z"
   },
   {
    "duration": 17,
    "start_time": "2023-01-30T10:07:09.791Z"
   },
   {
    "duration": 59,
    "start_time": "2023-01-30T10:08:16.810Z"
   },
   {
    "duration": 8,
    "start_time": "2023-01-30T10:19:25.576Z"
   },
   {
    "duration": 18,
    "start_time": "2023-01-30T10:19:26.252Z"
   },
   {
    "duration": 44,
    "start_time": "2023-01-30T10:19:44.214Z"
   },
   {
    "duration": 20,
    "start_time": "2023-01-30T10:21:45.995Z"
   },
   {
    "duration": 258,
    "start_time": "2023-01-30T10:23:27.050Z"
   },
   {
    "duration": 8,
    "start_time": "2023-01-30T10:37:44.975Z"
   },
   {
    "duration": 314,
    "start_time": "2023-01-30T10:38:09.701Z"
   },
   {
    "duration": 8,
    "start_time": "2023-01-30T10:38:12.620Z"
   },
   {
    "duration": 232,
    "start_time": "2023-01-30T10:38:59.911Z"
   },
   {
    "duration": 174,
    "start_time": "2023-01-30T10:39:05.884Z"
   },
   {
    "duration": 226,
    "start_time": "2023-01-30T10:41:09.310Z"
   },
   {
    "duration": 232,
    "start_time": "2023-01-30T10:41:21.519Z"
   },
   {
    "duration": 275,
    "start_time": "2023-01-30T10:41:58.956Z"
   },
   {
    "duration": 17,
    "start_time": "2023-01-30T10:49:18.882Z"
   },
   {
    "duration": 114,
    "start_time": "2023-01-30T10:49:19.564Z"
   },
   {
    "duration": 15,
    "start_time": "2023-01-30T10:49:19.894Z"
   },
   {
    "duration": 9,
    "start_time": "2023-01-30T10:49:20.181Z"
   },
   {
    "duration": 5,
    "start_time": "2023-01-30T10:49:47.598Z"
   },
   {
    "duration": 8,
    "start_time": "2023-01-30T10:50:08.202Z"
   },
   {
    "duration": 7,
    "start_time": "2023-01-30T10:50:11.818Z"
   },
   {
    "duration": 9,
    "start_time": "2023-01-30T10:55:43.372Z"
   },
   {
    "duration": 9,
    "start_time": "2023-01-30T10:55:43.992Z"
   },
   {
    "duration": 8,
    "start_time": "2023-01-30T10:55:44.415Z"
   },
   {
    "duration": 9,
    "start_time": "2023-01-30T10:55:44.671Z"
   },
   {
    "duration": 9,
    "start_time": "2023-01-30T10:55:44.864Z"
   },
   {
    "duration": 8,
    "start_time": "2023-01-30T10:55:45.061Z"
   },
   {
    "duration": 10,
    "start_time": "2023-01-30T10:55:45.298Z"
   },
   {
    "duration": 10,
    "start_time": "2023-01-30T10:55:45.902Z"
   },
   {
    "duration": 8,
    "start_time": "2023-01-30T10:55:46.557Z"
   },
   {
    "duration": 8,
    "start_time": "2023-01-30T10:55:47.162Z"
   },
   {
    "duration": 15,
    "start_time": "2023-01-30T11:12:08.626Z"
   },
   {
    "duration": 18,
    "start_time": "2023-01-30T11:13:22.601Z"
   },
   {
    "duration": 25,
    "start_time": "2023-01-30T11:13:38.070Z"
   },
   {
    "duration": 11,
    "start_time": "2023-01-30T11:14:35.519Z"
   },
   {
    "duration": 14,
    "start_time": "2023-01-30T11:14:42.499Z"
   },
   {
    "duration": 12,
    "start_time": "2023-01-30T11:15:00.915Z"
   },
   {
    "duration": 16,
    "start_time": "2023-01-30T11:15:05.499Z"
   },
   {
    "duration": 24,
    "start_time": "2023-01-30T11:18:52.626Z"
   },
   {
    "duration": 37,
    "start_time": "2023-01-30T11:19:59.899Z"
   },
   {
    "duration": 346,
    "start_time": "2023-01-30T11:23:19.731Z"
   },
   {
    "duration": 23,
    "start_time": "2023-01-30T11:23:42.409Z"
   },
   {
    "duration": 406,
    "start_time": "2023-01-30T11:25:33.743Z"
   },
   {
    "duration": 25,
    "start_time": "2023-01-30T11:36:49.442Z"
   },
   {
    "duration": 16,
    "start_time": "2023-01-30T11:37:51.038Z"
   },
   {
    "duration": 16,
    "start_time": "2023-01-30T11:38:24.910Z"
   },
   {
    "duration": 24,
    "start_time": "2023-01-30T11:38:29.826Z"
   },
   {
    "duration": 16,
    "start_time": "2023-01-30T11:39:40.206Z"
   },
   {
    "duration": 16,
    "start_time": "2023-01-30T11:39:59.524Z"
   },
   {
    "duration": 16,
    "start_time": "2023-01-30T11:41:32.655Z"
   },
   {
    "duration": 18,
    "start_time": "2023-01-30T11:41:35.382Z"
   },
   {
    "duration": 20,
    "start_time": "2023-01-30T11:55:22.231Z"
   },
   {
    "duration": 19,
    "start_time": "2023-01-30T11:59:36.116Z"
   },
   {
    "duration": 19,
    "start_time": "2023-01-30T11:59:38.869Z"
   },
   {
    "duration": 17,
    "start_time": "2023-01-30T11:59:39.051Z"
   },
   {
    "duration": 17,
    "start_time": "2023-01-30T11:59:39.249Z"
   },
   {
    "duration": 18,
    "start_time": "2023-01-30T11:59:39.761Z"
   },
   {
    "duration": 17,
    "start_time": "2023-01-30T11:59:39.925Z"
   },
   {
    "duration": 17,
    "start_time": "2023-01-30T11:59:40.101Z"
   },
   {
    "duration": 10,
    "start_time": "2023-01-30T12:04:31.839Z"
   },
   {
    "duration": 21,
    "start_time": "2023-01-30T12:05:14.101Z"
   },
   {
    "duration": 17,
    "start_time": "2023-01-30T12:07:43.706Z"
   },
   {
    "duration": 16,
    "start_time": "2023-01-30T12:08:28.955Z"
   },
   {
    "duration": 17,
    "start_time": "2023-01-30T12:18:47.026Z"
   },
   {
    "duration": 19,
    "start_time": "2023-01-30T12:18:52.877Z"
   },
   {
    "duration": 18,
    "start_time": "2023-01-30T12:20:04.816Z"
   },
   {
    "duration": 16,
    "start_time": "2023-01-30T12:23:11.354Z"
   },
   {
    "duration": 18,
    "start_time": "2023-01-30T12:23:13.922Z"
   },
   {
    "duration": 17,
    "start_time": "2023-01-30T12:25:14.118Z"
   },
   {
    "duration": 20,
    "start_time": "2023-01-30T12:25:15.332Z"
   },
   {
    "duration": 18,
    "start_time": "2023-01-30T12:49:40.202Z"
   },
   {
    "duration": 20,
    "start_time": "2023-01-30T12:49:47.446Z"
   },
   {
    "duration": 16,
    "start_time": "2023-01-30T12:58:43.082Z"
   },
   {
    "duration": 10,
    "start_time": "2023-01-30T12:58:50.344Z"
   },
   {
    "duration": 6,
    "start_time": "2023-01-30T12:59:15.502Z"
   },
   {
    "duration": 11,
    "start_time": "2023-01-30T12:59:53.665Z"
   },
   {
    "duration": 11,
    "start_time": "2023-01-30T13:00:01.275Z"
   },
   {
    "duration": 14,
    "start_time": "2023-01-30T13:00:16.619Z"
   },
   {
    "duration": 9,
    "start_time": "2023-01-30T13:01:16.518Z"
   },
   {
    "duration": 9,
    "start_time": "2023-01-30T13:01:16.945Z"
   },
   {
    "duration": 7,
    "start_time": "2023-01-30T13:01:17.446Z"
   },
   {
    "duration": 6,
    "start_time": "2023-01-30T13:02:20.358Z"
   },
   {
    "duration": 7,
    "start_time": "2023-01-30T13:04:01.769Z"
   },
   {
    "duration": 10,
    "start_time": "2023-01-30T13:04:02.107Z"
   },
   {
    "duration": 6,
    "start_time": "2023-01-30T13:04:02.473Z"
   },
   {
    "duration": 6,
    "start_time": "2023-01-30T13:04:07.686Z"
   },
   {
    "duration": 9,
    "start_time": "2023-01-30T13:06:56.126Z"
   },
   {
    "duration": 10,
    "start_time": "2023-01-30T13:06:56.710Z"
   },
   {
    "duration": 5,
    "start_time": "2023-01-30T13:06:57.308Z"
   },
   {
    "duration": 8,
    "start_time": "2023-01-30T13:07:30.902Z"
   },
   {
    "duration": 9,
    "start_time": "2023-01-30T13:07:31.243Z"
   },
   {
    "duration": 5,
    "start_time": "2023-01-30T13:07:31.904Z"
   },
   {
    "duration": 9,
    "start_time": "2023-01-30T13:11:20.105Z"
   },
   {
    "duration": 10,
    "start_time": "2023-01-30T13:11:20.992Z"
   },
   {
    "duration": 4,
    "start_time": "2023-01-30T13:11:21.564Z"
   },
   {
    "duration": 10,
    "start_time": "2023-01-30T13:13:20.663Z"
   },
   {
    "duration": 6,
    "start_time": "2023-01-30T13:13:46.167Z"
   },
   {
    "duration": 10,
    "start_time": "2023-01-30T13:15:40.582Z"
   },
   {
    "duration": 10,
    "start_time": "2023-01-30T13:15:41.297Z"
   },
   {
    "duration": 5,
    "start_time": "2023-01-30T13:15:42.223Z"
   },
   {
    "duration": 3,
    "start_time": "2023-01-30T13:16:44.467Z"
   },
   {
    "duration": 105,
    "start_time": "2023-01-30T13:16:45.211Z"
   },
   {
    "duration": 16,
    "start_time": "2023-01-30T13:16:45.411Z"
   },
   {
    "duration": 17,
    "start_time": "2023-01-30T13:16:45.562Z"
   },
   {
    "duration": 3,
    "start_time": "2023-01-30T13:16:45.885Z"
   },
   {
    "duration": 34,
    "start_time": "2023-01-30T13:16:46.057Z"
   },
   {
    "duration": 10,
    "start_time": "2023-01-30T13:16:46.394Z"
   },
   {
    "duration": 11,
    "start_time": "2023-01-30T13:16:46.759Z"
   },
   {
    "duration": 23,
    "start_time": "2023-01-30T13:16:46.905Z"
   },
   {
    "duration": 6,
    "start_time": "2023-01-30T13:16:47.090Z"
   },
   {
    "duration": 8,
    "start_time": "2023-01-30T13:16:47.253Z"
   },
   {
    "duration": 18,
    "start_time": "2023-01-30T13:16:47.775Z"
   },
   {
    "duration": 5,
    "start_time": "2023-01-30T13:16:48.300Z"
   },
   {
    "duration": 226,
    "start_time": "2023-01-30T13:16:48.819Z"
   },
   {
    "duration": 423,
    "start_time": "2023-01-30T13:16:49.351Z"
   },
   {
    "duration": 7,
    "start_time": "2023-01-30T13:16:49.777Z"
   },
   {
    "duration": 5035,
    "start_time": "2023-01-30T13:16:49.837Z"
   },
   {
    "duration": 19,
    "start_time": "2023-01-30T13:16:54.874Z"
   },
   {
    "duration": 15,
    "start_time": "2023-01-30T13:16:54.895Z"
   },
   {
    "duration": 34,
    "start_time": "2023-01-30T13:16:54.912Z"
   },
   {
    "duration": 36,
    "start_time": "2023-01-30T13:16:54.948Z"
   },
   {
    "duration": 36,
    "start_time": "2023-01-30T13:16:54.986Z"
   },
   {
    "duration": 54,
    "start_time": "2023-01-30T13:16:55.024Z"
   },
   {
    "duration": 279,
    "start_time": "2023-01-30T13:16:55.080Z"
   },
   {
    "duration": 10,
    "start_time": "2023-01-30T13:16:55.362Z"
   },
   {
    "duration": 270,
    "start_time": "2023-01-30T13:16:55.385Z"
   },
   {
    "duration": 506,
    "start_time": "2023-01-30T13:16:55.657Z"
   },
   {
    "duration": 19,
    "start_time": "2023-01-30T13:16:56.165Z"
   },
   {
    "duration": 8,
    "start_time": "2023-01-30T13:16:56.186Z"
   },
   {
    "duration": 11,
    "start_time": "2023-01-30T13:16:56.195Z"
   },
   {
    "duration": 14,
    "start_time": "2023-01-30T13:16:56.208Z"
   },
   {
    "duration": 30,
    "start_time": "2023-01-30T13:16:56.223Z"
   },
   {
    "duration": 12,
    "start_time": "2023-01-30T13:16:56.255Z"
   },
   {
    "duration": 18,
    "start_time": "2023-01-30T13:16:56.269Z"
   },
   {
    "duration": 11,
    "start_time": "2023-01-30T13:16:56.290Z"
   },
   {
    "duration": 33,
    "start_time": "2023-01-30T13:16:56.309Z"
   },
   {
    "duration": 12,
    "start_time": "2023-01-30T13:16:56.344Z"
   },
   {
    "duration": 18,
    "start_time": "2023-01-30T13:16:56.888Z"
   },
   {
    "duration": 249,
    "start_time": "2023-01-30T13:16:57.065Z"
   },
   {
    "duration": 19,
    "start_time": "2023-01-30T13:16:57.808Z"
   },
   {
    "duration": 15,
    "start_time": "2023-01-30T13:16:57.968Z"
   },
   {
    "duration": 18,
    "start_time": "2023-01-30T13:16:58.153Z"
   },
   {
    "duration": 15,
    "start_time": "2023-01-30T13:16:58.345Z"
   },
   {
    "duration": 18,
    "start_time": "2023-01-30T13:16:58.527Z"
   },
   {
    "duration": 15,
    "start_time": "2023-01-30T13:16:59.064Z"
   },
   {
    "duration": 15,
    "start_time": "2023-01-30T13:16:59.231Z"
   },
   {
    "duration": 17,
    "start_time": "2023-01-30T13:16:59.425Z"
   },
   {
    "duration": 18,
    "start_time": "2023-01-30T13:16:59.653Z"
   },
   {
    "duration": 23,
    "start_time": "2023-01-30T13:16:59.789Z"
   },
   {
    "duration": 17,
    "start_time": "2023-01-30T13:17:00.358Z"
   },
   {
    "duration": 16,
    "start_time": "2023-01-30T13:17:00.525Z"
   },
   {
    "duration": 18,
    "start_time": "2023-01-30T13:17:00.695Z"
   },
   {
    "duration": 16,
    "start_time": "2023-01-30T13:17:00.883Z"
   },
   {
    "duration": 19,
    "start_time": "2023-01-30T13:17:01.071Z"
   },
   {
    "duration": 9,
    "start_time": "2023-01-30T13:17:02.194Z"
   },
   {
    "duration": 10,
    "start_time": "2023-01-30T13:17:02.386Z"
   },
   {
    "duration": 6,
    "start_time": "2023-01-30T13:17:02.574Z"
   },
   {
    "duration": 11,
    "start_time": "2023-01-30T13:21:50.548Z"
   },
   {
    "duration": 15,
    "start_time": "2023-01-30T13:22:26.386Z"
   },
   {
    "duration": 18,
    "start_time": "2023-01-30T13:23:22.246Z"
   },
   {
    "duration": 11,
    "start_time": "2023-01-30T13:23:26.667Z"
   },
   {
    "duration": 10,
    "start_time": "2023-01-30T13:23:27.196Z"
   },
   {
    "duration": 6,
    "start_time": "2023-01-30T13:23:27.725Z"
   },
   {
    "duration": 10,
    "start_time": "2023-01-30T13:26:08.164Z"
   },
   {
    "duration": 13,
    "start_time": "2023-01-30T13:26:08.872Z"
   },
   {
    "duration": 6,
    "start_time": "2023-01-30T13:27:22.889Z"
   },
   {
    "duration": 9,
    "start_time": "2023-01-30T13:52:32.023Z"
   },
   {
    "duration": 3,
    "start_time": "2023-01-30T14:03:35.109Z"
   },
   {
    "duration": 100,
    "start_time": "2023-01-30T14:03:35.418Z"
   },
   {
    "duration": 32,
    "start_time": "2023-01-30T14:03:35.580Z"
   },
   {
    "duration": 16,
    "start_time": "2023-01-30T14:03:35.723Z"
   },
   {
    "duration": 5,
    "start_time": "2023-01-30T14:03:36.045Z"
   },
   {
    "duration": 34,
    "start_time": "2023-01-30T14:03:36.188Z"
   },
   {
    "duration": 10,
    "start_time": "2023-01-30T14:03:36.524Z"
   },
   {
    "duration": 10,
    "start_time": "2023-01-30T14:03:36.879Z"
   },
   {
    "duration": 24,
    "start_time": "2023-01-30T14:03:37.053Z"
   },
   {
    "duration": 6,
    "start_time": "2023-01-30T14:03:37.237Z"
   },
   {
    "duration": 8,
    "start_time": "2023-01-30T14:03:37.411Z"
   },
   {
    "duration": 21,
    "start_time": "2023-01-30T14:03:37.930Z"
   },
   {
    "duration": 4,
    "start_time": "2023-01-30T14:03:38.488Z"
   },
   {
    "duration": 234,
    "start_time": "2023-01-30T14:03:39.010Z"
   },
   {
    "duration": 452,
    "start_time": "2023-01-30T14:03:39.537Z"
   },
   {
    "duration": 7,
    "start_time": "2023-01-30T14:03:39.991Z"
   },
   {
    "duration": 5322,
    "start_time": "2023-01-30T14:03:40.098Z"
   },
   {
    "duration": 13,
    "start_time": "2023-01-30T14:03:45.422Z"
   },
   {
    "duration": 46,
    "start_time": "2023-01-30T14:03:45.437Z"
   },
   {
    "duration": 100,
    "start_time": "2023-01-30T14:03:45.486Z"
   },
   {
    "duration": 109,
    "start_time": "2023-01-30T14:03:45.588Z"
   },
   {
    "duration": 53,
    "start_time": "2023-01-30T14:03:45.698Z"
   },
   {
    "duration": 108,
    "start_time": "2023-01-30T14:03:45.754Z"
   },
   {
    "duration": 292,
    "start_time": "2023-01-30T14:03:45.863Z"
   },
   {
    "duration": 9,
    "start_time": "2023-01-30T14:03:46.157Z"
   },
   {
    "duration": 43,
    "start_time": "2023-01-30T14:03:46.170Z"
   },
   {
    "duration": 471,
    "start_time": "2023-01-30T14:03:46.215Z"
   },
   {
    "duration": 222,
    "start_time": "2023-01-30T14:03:46.688Z"
   },
   {
    "duration": 9,
    "start_time": "2023-01-30T14:03:46.911Z"
   },
   {
    "duration": 46,
    "start_time": "2023-01-30T14:03:46.922Z"
   },
   {
    "duration": 50,
    "start_time": "2023-01-30T14:03:46.970Z"
   },
   {
    "duration": 53,
    "start_time": "2023-01-30T14:03:47.022Z"
   },
   {
    "duration": 38,
    "start_time": "2023-01-30T14:03:47.077Z"
   },
   {
    "duration": 39,
    "start_time": "2023-01-30T14:03:47.117Z"
   },
   {
    "duration": 77,
    "start_time": "2023-01-30T14:03:47.158Z"
   },
   {
    "duration": 44,
    "start_time": "2023-01-30T14:03:47.236Z"
   },
   {
    "duration": 76,
    "start_time": "2023-01-30T14:03:47.284Z"
   },
   {
    "duration": 89,
    "start_time": "2023-01-30T14:03:47.362Z"
   },
   {
    "duration": 88,
    "start_time": "2023-01-30T14:03:47.454Z"
   },
   {
    "duration": 318,
    "start_time": "2023-01-30T14:03:47.544Z"
   },
   {
    "duration": 17,
    "start_time": "2023-01-30T14:03:48.226Z"
   },
   {
    "duration": 18,
    "start_time": "2023-01-30T14:03:48.432Z"
   },
   {
    "duration": 24,
    "start_time": "2023-01-30T14:03:48.612Z"
   },
   {
    "duration": 23,
    "start_time": "2023-01-30T14:03:48.794Z"
   },
   {
    "duration": 22,
    "start_time": "2023-01-30T14:03:48.954Z"
   },
   {
    "duration": 23,
    "start_time": "2023-01-30T14:03:49.453Z"
   },
   {
    "duration": 23,
    "start_time": "2023-01-30T14:03:49.610Z"
   },
   {
    "duration": 22,
    "start_time": "2023-01-30T14:03:49.775Z"
   },
   {
    "duration": 19,
    "start_time": "2023-01-30T14:03:49.942Z"
   },
   {
    "duration": 25,
    "start_time": "2023-01-30T14:03:50.117Z"
   },
   {
    "duration": 16,
    "start_time": "2023-01-30T14:03:50.682Z"
   },
   {
    "duration": 18,
    "start_time": "2023-01-30T14:03:50.817Z"
   },
   {
    "duration": 20,
    "start_time": "2023-01-30T14:03:50.965Z"
   },
   {
    "duration": 17,
    "start_time": "2023-01-30T14:03:51.152Z"
   },
   {
    "duration": 19,
    "start_time": "2023-01-30T14:03:51.356Z"
   },
   {
    "duration": 9,
    "start_time": "2023-01-30T14:03:52.383Z"
   },
   {
    "duration": 14,
    "start_time": "2023-01-30T14:03:52.548Z"
   },
   {
    "duration": 7,
    "start_time": "2023-01-30T14:03:52.715Z"
   },
   {
    "duration": 11,
    "start_time": "2023-01-30T14:03:53.263Z"
   },
   {
    "duration": 13,
    "start_time": "2023-01-30T14:03:53.423Z"
   },
   {
    "duration": 11,
    "start_time": "2023-01-30T14:03:53.590Z"
   },
   {
    "duration": 1229,
    "start_time": "2023-01-30T16:46:58.516Z"
   },
   {
    "duration": 131,
    "start_time": "2023-01-30T16:46:59.747Z"
   },
   {
    "duration": 23,
    "start_time": "2023-01-30T16:46:59.880Z"
   },
   {
    "duration": 81,
    "start_time": "2023-01-30T16:46:59.905Z"
   },
   {
    "duration": 38,
    "start_time": "2023-01-30T16:46:59.988Z"
   },
   {
    "duration": 115,
    "start_time": "2023-01-30T16:47:00.028Z"
   },
   {
    "duration": 90,
    "start_time": "2023-01-30T16:47:00.145Z"
   },
   {
    "duration": 74,
    "start_time": "2023-01-30T16:47:00.236Z"
   },
   {
    "duration": 56,
    "start_time": "2023-01-30T16:47:00.312Z"
   },
   {
    "duration": 42,
    "start_time": "2023-01-30T16:47:00.373Z"
   },
   {
    "duration": 82,
    "start_time": "2023-01-30T16:47:00.417Z"
   },
   {
    "duration": 72,
    "start_time": "2023-01-30T16:47:00.502Z"
   },
   {
    "duration": 73,
    "start_time": "2023-01-30T16:47:00.577Z"
   },
   {
    "duration": 354,
    "start_time": "2023-01-30T16:47:00.651Z"
   },
   {
    "duration": 403,
    "start_time": "2023-01-30T16:47:01.007Z"
   },
   {
    "duration": 6,
    "start_time": "2023-01-30T16:47:01.412Z"
   },
   {
    "duration": 4904,
    "start_time": "2023-01-30T16:47:01.419Z"
   },
   {
    "duration": 10,
    "start_time": "2023-01-30T16:47:06.325Z"
   },
   {
    "duration": 28,
    "start_time": "2023-01-30T16:47:06.337Z"
   },
   {
    "duration": 32,
    "start_time": "2023-01-30T16:47:06.366Z"
   },
   {
    "duration": 23,
    "start_time": "2023-01-30T16:47:06.400Z"
   },
   {
    "duration": 115,
    "start_time": "2023-01-30T16:47:06.425Z"
   },
   {
    "duration": 0,
    "start_time": "2023-01-30T16:47:06.701Z"
   },
   {
    "duration": 0,
    "start_time": "2023-01-30T16:47:06.702Z"
   },
   {
    "duration": 0,
    "start_time": "2023-01-30T16:47:06.703Z"
   },
   {
    "duration": 1,
    "start_time": "2023-01-30T16:47:06.704Z"
   },
   {
    "duration": 0,
    "start_time": "2023-01-30T16:47:06.706Z"
   },
   {
    "duration": 0,
    "start_time": "2023-01-30T16:47:06.707Z"
   },
   {
    "duration": 0,
    "start_time": "2023-01-30T16:47:06.708Z"
   },
   {
    "duration": 0,
    "start_time": "2023-01-30T16:47:06.709Z"
   },
   {
    "duration": 0,
    "start_time": "2023-01-30T16:47:06.710Z"
   },
   {
    "duration": 1,
    "start_time": "2023-01-30T16:47:06.711Z"
   },
   {
    "duration": 0,
    "start_time": "2023-01-30T16:47:06.713Z"
   },
   {
    "duration": 0,
    "start_time": "2023-01-30T16:47:06.715Z"
   },
   {
    "duration": 0,
    "start_time": "2023-01-30T16:47:06.717Z"
   },
   {
    "duration": 0,
    "start_time": "2023-01-30T16:47:06.718Z"
   },
   {
    "duration": 0,
    "start_time": "2023-01-30T16:47:06.720Z"
   },
   {
    "duration": 0,
    "start_time": "2023-01-30T16:47:06.753Z"
   },
   {
    "duration": 0,
    "start_time": "2023-01-30T16:47:06.755Z"
   },
   {
    "duration": 0,
    "start_time": "2023-01-30T16:47:06.755Z"
   },
   {
    "duration": 0,
    "start_time": "2023-01-30T16:47:06.756Z"
   },
   {
    "duration": 0,
    "start_time": "2023-01-30T16:47:06.757Z"
   },
   {
    "duration": 0,
    "start_time": "2023-01-30T16:47:06.761Z"
   },
   {
    "duration": 0,
    "start_time": "2023-01-30T16:47:06.764Z"
   },
   {
    "duration": 0,
    "start_time": "2023-01-30T16:47:06.767Z"
   },
   {
    "duration": 0,
    "start_time": "2023-01-30T16:47:06.768Z"
   },
   {
    "duration": 0,
    "start_time": "2023-01-30T16:47:06.769Z"
   },
   {
    "duration": 0,
    "start_time": "2023-01-30T16:47:06.770Z"
   },
   {
    "duration": 0,
    "start_time": "2023-01-30T16:47:06.770Z"
   },
   {
    "duration": 0,
    "start_time": "2023-01-30T16:47:06.771Z"
   },
   {
    "duration": 0,
    "start_time": "2023-01-30T16:47:06.772Z"
   },
   {
    "duration": 0,
    "start_time": "2023-01-30T16:47:06.773Z"
   },
   {
    "duration": 0,
    "start_time": "2023-01-30T16:47:06.778Z"
   },
   {
    "duration": 0,
    "start_time": "2023-01-30T16:47:06.780Z"
   },
   {
    "duration": 0,
    "start_time": "2023-01-30T16:47:06.781Z"
   },
   {
    "duration": 0,
    "start_time": "2023-01-30T16:47:06.783Z"
   },
   {
    "duration": 0,
    "start_time": "2023-01-30T16:47:06.784Z"
   },
   {
    "duration": 0,
    "start_time": "2023-01-30T16:47:06.785Z"
   },
   {
    "duration": 0,
    "start_time": "2023-01-30T16:47:06.787Z"
   },
   {
    "duration": 0,
    "start_time": "2023-01-30T16:47:06.788Z"
   },
   {
    "duration": 0,
    "start_time": "2023-01-30T16:47:06.789Z"
   },
   {
    "duration": 9,
    "start_time": "2023-01-30T16:54:43.079Z"
   },
   {
    "duration": 1215,
    "start_time": "2023-01-30T16:56:27.665Z"
   },
   {
    "duration": 123,
    "start_time": "2023-01-30T16:56:28.882Z"
   },
   {
    "duration": 18,
    "start_time": "2023-01-30T16:56:29.007Z"
   },
   {
    "duration": 13,
    "start_time": "2023-01-30T16:56:29.026Z"
   },
   {
    "duration": 5,
    "start_time": "2023-01-30T16:56:29.042Z"
   },
   {
    "duration": 41,
    "start_time": "2023-01-30T16:56:29.048Z"
   },
   {
    "duration": 8,
    "start_time": "2023-01-30T16:56:29.090Z"
   },
   {
    "duration": 10,
    "start_time": "2023-01-30T16:56:29.100Z"
   },
   {
    "duration": 23,
    "start_time": "2023-01-30T16:56:29.112Z"
   },
   {
    "duration": 8,
    "start_time": "2023-01-30T16:56:29.160Z"
   },
   {
    "duration": 17,
    "start_time": "2023-01-30T16:56:29.170Z"
   },
   {
    "duration": 37,
    "start_time": "2023-01-30T16:56:29.189Z"
   },
   {
    "duration": 6,
    "start_time": "2023-01-30T16:56:29.228Z"
   },
   {
    "duration": 253,
    "start_time": "2023-01-30T16:56:29.237Z"
   },
   {
    "duration": 415,
    "start_time": "2023-01-30T16:56:29.492Z"
   },
   {
    "duration": 6,
    "start_time": "2023-01-30T16:56:29.909Z"
   },
   {
    "duration": 5089,
    "start_time": "2023-01-30T16:56:29.918Z"
   },
   {
    "duration": 12,
    "start_time": "2023-01-30T16:56:35.009Z"
   },
   {
    "duration": 22,
    "start_time": "2023-01-30T16:56:35.023Z"
   },
   {
    "duration": 58,
    "start_time": "2023-01-30T16:56:35.047Z"
   },
   {
    "duration": 10,
    "start_time": "2023-01-30T16:56:35.107Z"
   },
   {
    "duration": 24,
    "start_time": "2023-01-30T16:56:35.119Z"
   },
   {
    "duration": 110,
    "start_time": "2023-01-30T16:56:35.144Z"
   },
   {
    "duration": 0,
    "start_time": "2023-01-30T16:56:35.427Z"
   },
   {
    "duration": 0,
    "start_time": "2023-01-30T16:56:35.428Z"
   },
   {
    "duration": 0,
    "start_time": "2023-01-30T16:56:35.430Z"
   },
   {
    "duration": 0,
    "start_time": "2023-01-30T16:56:35.430Z"
   },
   {
    "duration": 0,
    "start_time": "2023-01-30T16:56:35.431Z"
   },
   {
    "duration": 0,
    "start_time": "2023-01-30T16:56:35.433Z"
   },
   {
    "duration": 0,
    "start_time": "2023-01-30T16:56:35.434Z"
   },
   {
    "duration": 0,
    "start_time": "2023-01-30T16:56:35.435Z"
   },
   {
    "duration": 0,
    "start_time": "2023-01-30T16:56:35.436Z"
   },
   {
    "duration": 0,
    "start_time": "2023-01-30T16:56:35.458Z"
   },
   {
    "duration": 0,
    "start_time": "2023-01-30T16:56:35.458Z"
   },
   {
    "duration": 0,
    "start_time": "2023-01-30T16:56:35.459Z"
   },
   {
    "duration": 0,
    "start_time": "2023-01-30T16:56:35.460Z"
   },
   {
    "duration": 0,
    "start_time": "2023-01-30T16:56:35.461Z"
   },
   {
    "duration": 0,
    "start_time": "2023-01-30T16:56:35.462Z"
   },
   {
    "duration": 0,
    "start_time": "2023-01-30T16:56:35.463Z"
   },
   {
    "duration": 0,
    "start_time": "2023-01-30T16:56:35.464Z"
   },
   {
    "duration": 0,
    "start_time": "2023-01-30T16:56:35.465Z"
   },
   {
    "duration": 0,
    "start_time": "2023-01-30T16:56:35.465Z"
   },
   {
    "duration": 0,
    "start_time": "2023-01-30T16:56:35.466Z"
   },
   {
    "duration": 0,
    "start_time": "2023-01-30T16:56:35.467Z"
   },
   {
    "duration": 0,
    "start_time": "2023-01-30T16:56:35.468Z"
   },
   {
    "duration": 0,
    "start_time": "2023-01-30T16:56:35.479Z"
   },
   {
    "duration": 0,
    "start_time": "2023-01-30T16:56:35.480Z"
   },
   {
    "duration": 0,
    "start_time": "2023-01-30T16:56:35.482Z"
   },
   {
    "duration": 0,
    "start_time": "2023-01-30T16:56:35.483Z"
   },
   {
    "duration": 0,
    "start_time": "2023-01-30T16:56:35.484Z"
   },
   {
    "duration": 0,
    "start_time": "2023-01-30T16:56:35.485Z"
   },
   {
    "duration": 0,
    "start_time": "2023-01-30T16:56:35.486Z"
   },
   {
    "duration": 0,
    "start_time": "2023-01-30T16:56:35.487Z"
   },
   {
    "duration": 0,
    "start_time": "2023-01-30T16:56:35.488Z"
   },
   {
    "duration": 0,
    "start_time": "2023-01-30T16:56:35.489Z"
   },
   {
    "duration": 0,
    "start_time": "2023-01-30T16:56:35.491Z"
   },
   {
    "duration": 0,
    "start_time": "2023-01-30T16:56:35.492Z"
   },
   {
    "duration": 1,
    "start_time": "2023-01-30T16:56:35.493Z"
   },
   {
    "duration": 0,
    "start_time": "2023-01-30T16:56:35.495Z"
   },
   {
    "duration": 0,
    "start_time": "2023-01-30T16:56:35.496Z"
   },
   {
    "duration": 0,
    "start_time": "2023-01-30T16:56:35.497Z"
   },
   {
    "duration": 0,
    "start_time": "2023-01-30T16:56:35.498Z"
   },
   {
    "duration": 1259,
    "start_time": "2023-01-31T19:23:57.459Z"
   },
   {
    "duration": 143,
    "start_time": "2023-01-31T19:23:59.730Z"
   },
   {
    "duration": 17,
    "start_time": "2023-01-31T19:24:00.090Z"
   },
   {
    "duration": 17,
    "start_time": "2023-01-31T19:24:00.531Z"
   },
   {
    "duration": 3,
    "start_time": "2023-01-31T19:24:03.191Z"
   },
   {
    "duration": 32,
    "start_time": "2023-01-31T19:24:04.557Z"
   },
   {
    "duration": 8,
    "start_time": "2023-01-31T19:24:10.467Z"
   },
   {
    "duration": 8,
    "start_time": "2023-01-31T19:24:11.492Z"
   },
   {
    "duration": 23,
    "start_time": "2023-01-31T19:24:13.419Z"
   },
   {
    "duration": 5,
    "start_time": "2023-01-31T19:24:13.793Z"
   },
   {
    "duration": 5,
    "start_time": "2023-01-31T19:24:14.191Z"
   },
   {
    "duration": 27,
    "start_time": "2023-01-31T19:24:15.208Z"
   },
   {
    "duration": 83,
    "start_time": "2023-01-31T19:31:09.516Z"
   },
   {
    "duration": 19,
    "start_time": "2023-01-31T19:33:00.618Z"
   },
   {
    "duration": 90,
    "start_time": "2023-01-31T19:35:03.901Z"
   },
   {
    "duration": 3,
    "start_time": "2023-01-31T19:35:15.958Z"
   },
   {
    "duration": 125,
    "start_time": "2023-01-31T19:35:16.512Z"
   },
   {
    "duration": 13,
    "start_time": "2023-01-31T19:35:16.718Z"
   },
   {
    "duration": 14,
    "start_time": "2023-01-31T19:35:16.930Z"
   },
   {
    "duration": 2,
    "start_time": "2023-01-31T19:35:18.028Z"
   },
   {
    "duration": 39,
    "start_time": "2023-01-31T19:35:18.533Z"
   },
   {
    "duration": 8,
    "start_time": "2023-01-31T19:35:19.243Z"
   },
   {
    "duration": 7,
    "start_time": "2023-01-31T19:35:19.760Z"
   },
   {
    "duration": 19,
    "start_time": "2023-01-31T19:35:20.029Z"
   },
   {
    "duration": 6,
    "start_time": "2023-01-31T19:35:20.270Z"
   },
   {
    "duration": 7,
    "start_time": "2023-01-31T19:35:20.556Z"
   },
   {
    "duration": 37,
    "start_time": "2023-01-31T19:35:21.308Z"
   },
   {
    "duration": 5,
    "start_time": "2023-01-31T19:35:23.787Z"
   },
   {
    "duration": 238,
    "start_time": "2023-01-31T19:35:26.827Z"
   },
   {
    "duration": 364,
    "start_time": "2023-01-31T19:35:28.234Z"
   },
   {
    "duration": 5,
    "start_time": "2023-01-31T19:35:29.612Z"
   },
   {
    "duration": 4132,
    "start_time": "2023-01-31T19:35:30.094Z"
   },
   {
    "duration": 12,
    "start_time": "2023-01-31T19:35:34.236Z"
   },
   {
    "duration": 31,
    "start_time": "2023-01-31T19:35:34.249Z"
   },
   {
    "duration": 21,
    "start_time": "2023-01-31T19:35:40.394Z"
   },
   {
    "duration": 7,
    "start_time": "2023-01-31T19:35:46.619Z"
   },
   {
    "duration": 21,
    "start_time": "2023-01-31T19:36:40.838Z"
   },
   {
    "duration": 13,
    "start_time": "2023-01-31T19:36:45.204Z"
   },
   {
    "duration": 10,
    "start_time": "2023-01-31T19:37:56.344Z"
   },
   {
    "duration": 142,
    "start_time": "2023-01-31T19:38:11.314Z"
   },
   {
    "duration": 205,
    "start_time": "2023-01-31T19:38:16.236Z"
   },
   {
    "duration": 6,
    "start_time": "2023-01-31T19:42:05.914Z"
   },
   {
    "duration": 7,
    "start_time": "2023-01-31T19:42:07.204Z"
   },
   {
    "duration": 13,
    "start_time": "2023-01-31T19:42:42.464Z"
   },
   {
    "duration": 6,
    "start_time": "2023-01-31T19:42:54.586Z"
   },
   {
    "duration": 6,
    "start_time": "2023-01-31T19:43:10.280Z"
   },
   {
    "duration": 190,
    "start_time": "2023-01-31T19:43:30.443Z"
   },
   {
    "duration": 160,
    "start_time": "2023-01-31T19:43:46.923Z"
   },
   {
    "duration": 7,
    "start_time": "2023-01-31T19:48:06.638Z"
   },
   {
    "duration": 6,
    "start_time": "2023-01-31T19:48:23.162Z"
   },
   {
    "duration": 7,
    "start_time": "2023-01-31T19:48:30.331Z"
   },
   {
    "duration": 7,
    "start_time": "2023-01-31T19:48:48.070Z"
   },
   {
    "duration": 6,
    "start_time": "2023-01-31T19:48:51.680Z"
   },
   {
    "duration": 6,
    "start_time": "2023-01-31T19:49:02.115Z"
   },
   {
    "duration": 8,
    "start_time": "2023-01-31T19:49:09.664Z"
   },
   {
    "duration": 7,
    "start_time": "2023-01-31T19:49:17.430Z"
   },
   {
    "duration": 6,
    "start_time": "2023-01-31T19:49:24.642Z"
   },
   {
    "duration": 7,
    "start_time": "2023-01-31T19:49:32.297Z"
   },
   {
    "duration": 14,
    "start_time": "2023-01-31T19:50:06.011Z"
   },
   {
    "duration": 194,
    "start_time": "2023-01-31T19:50:26.651Z"
   },
   {
    "duration": 14,
    "start_time": "2023-01-31T19:50:31.588Z"
   },
   {
    "duration": 13,
    "start_time": "2023-01-31T19:50:35.958Z"
   },
   {
    "duration": 16,
    "start_time": "2023-01-31T19:50:54.729Z"
   },
   {
    "duration": 14,
    "start_time": "2023-01-31T19:50:55.233Z"
   },
   {
    "duration": 15,
    "start_time": "2023-01-31T19:50:55.642Z"
   },
   {
    "duration": 20,
    "start_time": "2023-01-31T19:54:51.085Z"
   },
   {
    "duration": 19,
    "start_time": "2023-01-31T19:54:51.836Z"
   },
   {
    "duration": 24,
    "start_time": "2023-01-31T19:54:52.085Z"
   },
   {
    "duration": 15,
    "start_time": "2023-01-31T19:54:52.340Z"
   },
   {
    "duration": 14,
    "start_time": "2023-01-31T19:54:52.622Z"
   },
   {
    "duration": 13,
    "start_time": "2023-01-31T19:57:07.081Z"
   },
   {
    "duration": 14,
    "start_time": "2023-01-31T19:58:01.379Z"
   },
   {
    "duration": 8,
    "start_time": "2023-01-31T19:58:53.590Z"
   },
   {
    "duration": 8,
    "start_time": "2023-01-31T19:58:54.369Z"
   },
   {
    "duration": 4,
    "start_time": "2023-01-31T19:58:55.115Z"
   },
   {
    "duration": 10,
    "start_time": "2023-01-31T20:01:21.759Z"
   },
   {
    "duration": 10,
    "start_time": "2023-01-31T20:01:22.344Z"
   },
   {
    "duration": 7,
    "start_time": "2023-01-31T20:01:22.840Z"
   },
   {
    "duration": 1179,
    "start_time": "2023-02-01T15:47:22.766Z"
   },
   {
    "duration": 124,
    "start_time": "2023-02-01T15:47:23.947Z"
   },
   {
    "duration": 20,
    "start_time": "2023-02-01T15:47:24.073Z"
   },
   {
    "duration": 17,
    "start_time": "2023-02-01T15:47:24.095Z"
   },
   {
    "duration": 8,
    "start_time": "2023-02-01T15:47:24.113Z"
   },
   {
    "duration": 35,
    "start_time": "2023-02-01T15:47:24.122Z"
   },
   {
    "duration": 10,
    "start_time": "2023-02-01T15:47:24.159Z"
   },
   {
    "duration": 10,
    "start_time": "2023-02-01T15:47:24.171Z"
   },
   {
    "duration": 49,
    "start_time": "2023-02-01T15:47:24.183Z"
   },
   {
    "duration": 7,
    "start_time": "2023-02-01T15:47:24.236Z"
   },
   {
    "duration": 13,
    "start_time": "2023-02-01T15:47:24.246Z"
   },
   {
    "duration": 34,
    "start_time": "2023-02-01T15:47:24.261Z"
   },
   {
    "duration": 24,
    "start_time": "2023-02-01T15:47:24.297Z"
   },
   {
    "duration": 333,
    "start_time": "2023-02-01T15:47:24.323Z"
   },
   {
    "duration": 404,
    "start_time": "2023-02-01T15:47:24.659Z"
   },
   {
    "duration": 8,
    "start_time": "2023-02-01T15:47:25.066Z"
   },
   {
    "duration": 4915,
    "start_time": "2023-02-01T15:47:25.077Z"
   },
   {
    "duration": 12,
    "start_time": "2023-02-01T15:47:29.994Z"
   },
   {
    "duration": 26,
    "start_time": "2023-02-01T15:47:30.008Z"
   },
   {
    "duration": 35,
    "start_time": "2023-02-01T15:47:30.036Z"
   },
   {
    "duration": 10,
    "start_time": "2023-02-01T15:47:30.073Z"
   },
   {
    "duration": 37,
    "start_time": "2023-02-01T15:47:30.084Z"
   },
   {
    "duration": 191,
    "start_time": "2023-02-01T15:47:30.123Z"
   },
   {
    "duration": 52,
    "start_time": "2023-02-01T15:47:30.316Z"
   },
   {
    "duration": 240,
    "start_time": "2023-02-01T15:47:30.370Z"
   },
   {
    "duration": 13,
    "start_time": "2023-02-01T15:47:30.612Z"
   },
   {
    "duration": 18,
    "start_time": "2023-02-01T15:47:30.627Z"
   },
   {
    "duration": 209,
    "start_time": "2023-02-01T15:47:30.649Z"
   },
   {
    "duration": 204,
    "start_time": "2023-02-01T15:47:30.860Z"
   },
   {
    "duration": 7,
    "start_time": "2023-02-01T15:47:31.066Z"
   },
   {
    "duration": 40,
    "start_time": "2023-02-01T15:47:31.075Z"
   },
   {
    "duration": 19,
    "start_time": "2023-02-01T15:47:31.117Z"
   },
   {
    "duration": 22,
    "start_time": "2023-02-01T15:47:31.138Z"
   },
   {
    "duration": 17,
    "start_time": "2023-02-01T15:47:31.161Z"
   },
   {
    "duration": 26,
    "start_time": "2023-02-01T15:47:31.180Z"
   },
   {
    "duration": 16,
    "start_time": "2023-02-01T15:47:31.207Z"
   },
   {
    "duration": 34,
    "start_time": "2023-02-01T15:47:31.225Z"
   },
   {
    "duration": 25,
    "start_time": "2023-02-01T15:47:31.261Z"
   },
   {
    "duration": 42,
    "start_time": "2023-02-01T15:47:31.288Z"
   },
   {
    "duration": 32,
    "start_time": "2023-02-01T15:47:31.331Z"
   },
   {
    "duration": 244,
    "start_time": "2023-02-01T15:47:31.364Z"
   },
   {
    "duration": 21,
    "start_time": "2023-02-01T15:47:31.610Z"
   },
   {
    "duration": 30,
    "start_time": "2023-02-01T15:47:31.632Z"
   },
   {
    "duration": 17,
    "start_time": "2023-02-01T15:47:31.664Z"
   },
   {
    "duration": 26,
    "start_time": "2023-02-01T15:47:31.683Z"
   },
   {
    "duration": 23,
    "start_time": "2023-02-01T15:47:31.711Z"
   },
   {
    "duration": 17,
    "start_time": "2023-02-01T15:47:31.736Z"
   },
   {
    "duration": 16,
    "start_time": "2023-02-01T15:47:31.755Z"
   },
   {
    "duration": 51,
    "start_time": "2023-02-01T15:47:31.773Z"
   },
   {
    "duration": 16,
    "start_time": "2023-02-01T15:47:31.826Z"
   },
   {
    "duration": 17,
    "start_time": "2023-02-01T15:47:31.844Z"
   },
   {
    "duration": 15,
    "start_time": "2023-02-01T15:47:31.864Z"
   },
   {
    "duration": 46,
    "start_time": "2023-02-01T15:47:31.880Z"
   },
   {
    "duration": 28,
    "start_time": "2023-02-01T15:47:31.928Z"
   },
   {
    "duration": 16,
    "start_time": "2023-02-01T15:47:31.958Z"
   },
   {
    "duration": 21,
    "start_time": "2023-02-01T15:47:31.976Z"
   },
   {
    "duration": 32,
    "start_time": "2023-02-01T15:47:31.999Z"
   },
   {
    "duration": 9,
    "start_time": "2023-02-01T15:47:32.033Z"
   },
   {
    "duration": 9,
    "start_time": "2023-02-01T15:47:32.044Z"
   },
   {
    "duration": 17,
    "start_time": "2023-02-01T15:47:32.055Z"
   },
   {
    "duration": 9,
    "start_time": "2023-02-01T15:47:32.074Z"
   },
   {
    "duration": 22,
    "start_time": "2023-02-01T15:47:32.085Z"
   },
   {
    "duration": 1246,
    "start_time": "2023-02-01T15:50:47.894Z"
   },
   {
    "duration": 98,
    "start_time": "2023-02-01T15:50:49.142Z"
   },
   {
    "duration": 19,
    "start_time": "2023-02-01T15:50:49.242Z"
   },
   {
    "duration": 18,
    "start_time": "2023-02-01T15:50:49.263Z"
   },
   {
    "duration": 4,
    "start_time": "2023-02-01T15:50:49.284Z"
   },
   {
    "duration": 45,
    "start_time": "2023-02-01T15:50:49.290Z"
   },
   {
    "duration": 10,
    "start_time": "2023-02-01T15:50:49.337Z"
   },
   {
    "duration": 25,
    "start_time": "2023-02-01T15:50:49.349Z"
   },
   {
    "duration": 44,
    "start_time": "2023-02-01T15:50:49.376Z"
   },
   {
    "duration": 15,
    "start_time": "2023-02-01T15:50:49.422Z"
   },
   {
    "duration": 22,
    "start_time": "2023-02-01T15:50:49.438Z"
   },
   {
    "duration": 41,
    "start_time": "2023-02-01T15:50:49.461Z"
   },
   {
    "duration": 5,
    "start_time": "2023-02-01T15:50:49.504Z"
   },
   {
    "duration": 244,
    "start_time": "2023-02-01T15:50:49.512Z"
   },
   {
    "duration": 371,
    "start_time": "2023-02-01T15:50:49.758Z"
   },
   {
    "duration": 6,
    "start_time": "2023-02-01T15:50:50.130Z"
   },
   {
    "duration": 4870,
    "start_time": "2023-02-01T15:50:50.138Z"
   },
   {
    "duration": 21,
    "start_time": "2023-02-01T15:50:55.011Z"
   },
   {
    "duration": 23,
    "start_time": "2023-02-01T15:50:55.034Z"
   },
   {
    "duration": 56,
    "start_time": "2023-02-01T15:50:55.059Z"
   },
   {
    "duration": 8,
    "start_time": "2023-02-01T15:50:55.116Z"
   },
   {
    "duration": 30,
    "start_time": "2023-02-01T15:50:55.126Z"
   },
   {
    "duration": 24,
    "start_time": "2023-02-01T15:50:55.159Z"
   },
   {
    "duration": 180,
    "start_time": "2023-02-01T15:50:55.185Z"
   },
   {
    "duration": 240,
    "start_time": "2023-02-01T15:50:55.366Z"
   },
   {
    "duration": 13,
    "start_time": "2023-02-01T15:50:55.608Z"
   },
   {
    "duration": 7,
    "start_time": "2023-02-01T15:50:55.622Z"
   },
   {
    "duration": 215,
    "start_time": "2023-02-01T15:50:55.631Z"
   },
   {
    "duration": 193,
    "start_time": "2023-02-01T15:50:55.848Z"
   },
   {
    "duration": 8,
    "start_time": "2023-02-01T15:50:56.042Z"
   },
   {
    "duration": 18,
    "start_time": "2023-02-01T15:50:56.052Z"
   },
   {
    "duration": 16,
    "start_time": "2023-02-01T15:50:56.072Z"
   },
   {
    "duration": 12,
    "start_time": "2023-02-01T15:50:56.090Z"
   },
   {
    "duration": 9,
    "start_time": "2023-02-01T15:50:56.122Z"
   },
   {
    "duration": 15,
    "start_time": "2023-02-01T15:50:56.133Z"
   },
   {
    "duration": 12,
    "start_time": "2023-02-01T15:50:56.150Z"
   },
   {
    "duration": 13,
    "start_time": "2023-02-01T15:50:56.164Z"
   },
   {
    "duration": 9,
    "start_time": "2023-02-01T15:50:56.179Z"
   },
   {
    "duration": 35,
    "start_time": "2023-02-01T15:50:56.190Z"
   },
   {
    "duration": 22,
    "start_time": "2023-02-01T15:50:56.227Z"
   },
   {
    "duration": 270,
    "start_time": "2023-02-01T15:50:56.253Z"
   },
   {
    "duration": 15,
    "start_time": "2023-02-01T15:50:56.525Z"
   },
   {
    "duration": 16,
    "start_time": "2023-02-01T15:50:56.541Z"
   },
   {
    "duration": 23,
    "start_time": "2023-02-01T15:50:56.558Z"
   },
   {
    "duration": 41,
    "start_time": "2023-02-01T15:50:56.583Z"
   },
   {
    "duration": 19,
    "start_time": "2023-02-01T15:50:56.625Z"
   },
   {
    "duration": 15,
    "start_time": "2023-02-01T15:50:56.646Z"
   },
   {
    "duration": 21,
    "start_time": "2023-02-01T15:50:56.663Z"
   },
   {
    "duration": 45,
    "start_time": "2023-02-01T15:50:56.685Z"
   },
   {
    "duration": 15,
    "start_time": "2023-02-01T15:50:56.731Z"
   },
   {
    "duration": 19,
    "start_time": "2023-02-01T15:50:56.748Z"
   },
   {
    "duration": 18,
    "start_time": "2023-02-01T15:50:56.768Z"
   },
   {
    "duration": 41,
    "start_time": "2023-02-01T15:50:56.787Z"
   },
   {
    "duration": 20,
    "start_time": "2023-02-01T15:50:56.830Z"
   },
   {
    "duration": 15,
    "start_time": "2023-02-01T15:50:56.852Z"
   },
   {
    "duration": 24,
    "start_time": "2023-02-01T15:50:56.869Z"
   },
   {
    "duration": 28,
    "start_time": "2023-02-01T15:50:56.895Z"
   },
   {
    "duration": 9,
    "start_time": "2023-02-01T15:50:56.925Z"
   },
   {
    "duration": 5,
    "start_time": "2023-02-01T15:50:56.936Z"
   },
   {
    "duration": 12,
    "start_time": "2023-02-01T15:50:56.942Z"
   },
   {
    "duration": 9,
    "start_time": "2023-02-01T15:50:56.956Z"
   },
   {
    "duration": 13,
    "start_time": "2023-02-01T15:50:56.967Z"
   },
   {
    "duration": 1216,
    "start_time": "2023-02-01T16:01:36.606Z"
   },
   {
    "duration": 98,
    "start_time": "2023-02-01T16:01:37.824Z"
   },
   {
    "duration": 18,
    "start_time": "2023-02-01T16:01:37.924Z"
   },
   {
    "duration": 16,
    "start_time": "2023-02-01T16:01:37.944Z"
   },
   {
    "duration": 3,
    "start_time": "2023-02-01T16:01:37.964Z"
   },
   {
    "duration": 65,
    "start_time": "2023-02-01T16:01:37.969Z"
   },
   {
    "duration": 11,
    "start_time": "2023-02-01T16:01:38.036Z"
   },
   {
    "duration": 10,
    "start_time": "2023-02-01T16:01:38.049Z"
   },
   {
    "duration": 23,
    "start_time": "2023-02-01T16:01:38.060Z"
   },
   {
    "duration": 5,
    "start_time": "2023-02-01T16:01:38.085Z"
   },
   {
    "duration": 39,
    "start_time": "2023-02-01T16:01:38.091Z"
   },
   {
    "duration": 31,
    "start_time": "2023-02-01T16:01:38.132Z"
   },
   {
    "duration": 6,
    "start_time": "2023-02-01T16:01:38.164Z"
   },
   {
    "duration": 272,
    "start_time": "2023-02-01T16:01:38.174Z"
   },
   {
    "duration": 369,
    "start_time": "2023-02-01T16:01:38.448Z"
   },
   {
    "duration": 7,
    "start_time": "2023-02-01T16:01:38.821Z"
   },
   {
    "duration": 4464,
    "start_time": "2023-02-01T16:01:38.830Z"
   },
   {
    "duration": 11,
    "start_time": "2023-02-01T16:01:43.295Z"
   },
   {
    "duration": 10,
    "start_time": "2023-02-01T16:01:43.320Z"
   },
   {
    "duration": 44,
    "start_time": "2023-02-01T16:01:43.332Z"
   },
   {
    "duration": 13,
    "start_time": "2023-02-01T16:01:43.378Z"
   },
   {
    "duration": 43,
    "start_time": "2023-02-01T16:01:43.393Z"
   },
   {
    "duration": 169,
    "start_time": "2023-02-01T16:01:43.437Z"
   },
   {
    "duration": 42,
    "start_time": "2023-02-01T16:01:43.608Z"
   },
   {
    "duration": 242,
    "start_time": "2023-02-01T16:01:43.652Z"
   },
   {
    "duration": 7,
    "start_time": "2023-02-01T16:01:43.896Z"
   },
   {
    "duration": 63,
    "start_time": "2023-02-01T16:01:43.904Z"
   },
   {
    "duration": 196,
    "start_time": "2023-02-01T16:01:43.969Z"
   },
   {
    "duration": 198,
    "start_time": "2023-02-01T16:01:44.166Z"
   },
   {
    "duration": 8,
    "start_time": "2023-02-01T16:01:44.365Z"
   },
   {
    "duration": 22,
    "start_time": "2023-02-01T16:01:44.375Z"
   },
   {
    "duration": 14,
    "start_time": "2023-02-01T16:01:44.399Z"
   },
   {
    "duration": 15,
    "start_time": "2023-02-01T16:01:44.415Z"
   },
   {
    "duration": 25,
    "start_time": "2023-02-01T16:01:44.432Z"
   },
   {
    "duration": 15,
    "start_time": "2023-02-01T16:01:44.459Z"
   },
   {
    "duration": 25,
    "start_time": "2023-02-01T16:01:44.475Z"
   },
   {
    "duration": 34,
    "start_time": "2023-02-01T16:01:44.501Z"
   },
   {
    "duration": 26,
    "start_time": "2023-02-01T16:01:44.536Z"
   },
   {
    "duration": 35,
    "start_time": "2023-02-01T16:01:44.564Z"
   },
   {
    "duration": 122,
    "start_time": "2023-02-01T16:01:44.601Z"
   },
   {
    "duration": 267,
    "start_time": "2023-02-01T16:01:44.729Z"
   },
   {
    "duration": 27,
    "start_time": "2023-02-01T16:01:44.998Z"
   },
   {
    "duration": 38,
    "start_time": "2023-02-01T16:01:45.027Z"
   },
   {
    "duration": 37,
    "start_time": "2023-02-01T16:01:45.067Z"
   },
   {
    "duration": 34,
    "start_time": "2023-02-01T16:01:45.106Z"
   },
   {
    "duration": 23,
    "start_time": "2023-02-01T16:01:45.142Z"
   },
   {
    "duration": 27,
    "start_time": "2023-02-01T16:01:45.167Z"
   },
   {
    "duration": 29,
    "start_time": "2023-02-01T16:01:45.196Z"
   },
   {
    "duration": 36,
    "start_time": "2023-02-01T16:01:45.227Z"
   },
   {
    "duration": 19,
    "start_time": "2023-02-01T16:01:45.265Z"
   },
   {
    "duration": 36,
    "start_time": "2023-02-01T16:01:45.286Z"
   },
   {
    "duration": 31,
    "start_time": "2023-02-01T16:01:45.324Z"
   },
   {
    "duration": 46,
    "start_time": "2023-02-01T16:01:45.357Z"
   },
   {
    "duration": 39,
    "start_time": "2023-02-01T16:01:45.405Z"
   },
   {
    "duration": 25,
    "start_time": "2023-02-01T16:01:45.447Z"
   },
   {
    "duration": 23,
    "start_time": "2023-02-01T16:01:45.474Z"
   },
   {
    "duration": 19,
    "start_time": "2023-02-01T16:01:45.499Z"
   },
   {
    "duration": 25,
    "start_time": "2023-02-01T16:01:45.519Z"
   },
   {
    "duration": 29,
    "start_time": "2023-02-01T16:01:45.546Z"
   },
   {
    "duration": 26,
    "start_time": "2023-02-01T16:01:45.576Z"
   },
   {
    "duration": 11,
    "start_time": "2023-02-01T16:01:45.604Z"
   },
   {
    "duration": 14,
    "start_time": "2023-02-01T16:01:45.616Z"
   },
   {
    "duration": 1560,
    "start_time": "2023-02-01T21:38:48.025Z"
   },
   {
    "duration": 132,
    "start_time": "2023-02-01T21:38:49.587Z"
   },
   {
    "duration": 24,
    "start_time": "2023-02-01T21:38:49.721Z"
   },
   {
    "duration": 54,
    "start_time": "2023-02-01T21:38:49.748Z"
   },
   {
    "duration": 17,
    "start_time": "2023-02-01T21:38:49.804Z"
   },
   {
    "duration": 32,
    "start_time": "2023-02-01T21:38:49.997Z"
   },
   {
    "duration": 10,
    "start_time": "2023-02-01T21:38:50.492Z"
   },
   {
    "duration": 12,
    "start_time": "2023-02-01T21:38:50.854Z"
   },
   {
    "duration": 25,
    "start_time": "2023-02-01T21:38:51.094Z"
   },
   {
    "duration": 7,
    "start_time": "2023-02-01T21:38:51.264Z"
   },
   {
    "duration": 7,
    "start_time": "2023-02-01T21:38:51.422Z"
   },
   {
    "duration": 32,
    "start_time": "2023-02-01T21:38:51.899Z"
   },
   {
    "duration": 6,
    "start_time": "2023-02-01T21:38:52.890Z"
   },
   {
    "duration": 279,
    "start_time": "2023-02-01T21:38:54.150Z"
   },
   {
    "duration": 428,
    "start_time": "2023-02-01T21:38:55.021Z"
   },
   {
    "duration": 7,
    "start_time": "2023-02-01T21:38:56.163Z"
   },
   {
    "duration": 5405,
    "start_time": "2023-02-01T21:38:56.410Z"
   },
   {
    "duration": 13,
    "start_time": "2023-02-01T21:39:01.817Z"
   },
   {
    "duration": 45,
    "start_time": "2023-02-01T21:39:01.842Z"
   },
   {
    "duration": 74,
    "start_time": "2023-02-01T21:39:01.889Z"
   },
   {
    "duration": 10,
    "start_time": "2023-02-01T21:39:04.053Z"
   },
   {
    "duration": 27,
    "start_time": "2023-02-01T21:39:06.054Z"
   },
   {
    "duration": 15,
    "start_time": "2023-02-01T21:39:06.662Z"
   },
   {
    "duration": 194,
    "start_time": "2023-02-01T21:39:09.330Z"
   },
   {
    "duration": 255,
    "start_time": "2023-02-01T21:39:10.395Z"
   },
   {
    "duration": 6,
    "start_time": "2023-02-01T21:39:12.423Z"
   },
   {
    "duration": 9,
    "start_time": "2023-02-01T21:39:12.918Z"
   },
   {
    "duration": 222,
    "start_time": "2023-02-01T21:39:13.403Z"
   },
   {
    "duration": 212,
    "start_time": "2023-02-01T21:39:13.854Z"
   },
   {
    "duration": 8,
    "start_time": "2023-02-01T21:40:07.298Z"
   },
   {
    "duration": 7,
    "start_time": "2023-02-01T21:40:09.629Z"
   },
   {
    "duration": 9,
    "start_time": "2023-02-01T21:40:13.104Z"
   },
   {
    "duration": 9,
    "start_time": "2023-02-01T21:40:15.399Z"
   },
   {
    "duration": 7,
    "start_time": "2023-02-01T21:40:16.567Z"
   },
   {
    "duration": 11,
    "start_time": "2023-02-01T21:40:19.092Z"
   },
   {
    "duration": 7,
    "start_time": "2023-02-01T21:40:20.025Z"
   },
   {
    "duration": 7,
    "start_time": "2023-02-01T21:40:33.860Z"
   },
   {
    "duration": 8,
    "start_time": "2023-02-01T21:40:35.260Z"
   },
   {
    "duration": 7,
    "start_time": "2023-02-01T21:40:42.558Z"
   },
   {
    "duration": 17,
    "start_time": "2023-02-01T21:41:42.622Z"
   },
   {
    "duration": 267,
    "start_time": "2023-02-01T21:41:42.819Z"
   },
   {
    "duration": 128,
    "start_time": "2023-02-01T21:44:41.728Z"
   },
   {
    "duration": 13,
    "start_time": "2023-02-01T21:50:03.686Z"
   },
   {
    "duration": 15,
    "start_time": "2023-02-01T21:54:25.653Z"
   },
   {
    "duration": 14,
    "start_time": "2023-02-01T21:54:32.288Z"
   },
   {
    "duration": 10,
    "start_time": "2023-02-01T22:10:51.851Z"
   },
   {
    "duration": 10,
    "start_time": "2023-02-01T22:11:02.994Z"
   },
   {
    "duration": 26,
    "start_time": "2023-02-01T22:11:14.236Z"
   },
   {
    "duration": 20,
    "start_time": "2023-02-01T22:12:32.626Z"
   },
   {
    "duration": 19,
    "start_time": "2023-02-01T22:12:45.981Z"
   },
   {
    "duration": 16,
    "start_time": "2023-02-01T22:15:40.333Z"
   },
   {
    "duration": 28,
    "start_time": "2023-02-01T22:16:14.885Z"
   },
   {
    "duration": 11,
    "start_time": "2023-02-01T22:17:56.447Z"
   },
   {
    "duration": 29,
    "start_time": "2023-02-01T22:18:24.963Z"
   },
   {
    "duration": 16,
    "start_time": "2023-02-01T22:22:19.148Z"
   },
   {
    "duration": 22,
    "start_time": "2023-02-01T22:22:26.079Z"
   },
   {
    "duration": 16,
    "start_time": "2023-02-01T22:22:58.699Z"
   },
   {
    "duration": 16,
    "start_time": "2023-02-01T22:34:25.710Z"
   },
   {
    "duration": 17,
    "start_time": "2023-02-01T22:35:12.982Z"
   },
   {
    "duration": 18,
    "start_time": "2023-02-01T22:38:22.959Z"
   },
   {
    "duration": 217,
    "start_time": "2023-02-01T22:38:45.223Z"
   },
   {
    "duration": 73,
    "start_time": "2023-02-01T22:42:50.617Z"
   },
   {
    "duration": 6,
    "start_time": "2023-02-01T22:56:00.717Z"
   },
   {
    "duration": 6,
    "start_time": "2023-02-01T22:58:46.289Z"
   },
   {
    "duration": 17,
    "start_time": "2023-02-01T23:03:28.777Z"
   },
   {
    "duration": 11,
    "start_time": "2023-02-01T23:04:03.185Z"
   },
   {
    "duration": 14,
    "start_time": "2023-02-01T23:04:17.180Z"
   },
   {
    "duration": 15,
    "start_time": "2023-02-01T23:04:17.778Z"
   },
   {
    "duration": 5,
    "start_time": "2023-02-01T23:04:19.643Z"
   },
   {
    "duration": 16,
    "start_time": "2023-02-01T23:04:21.318Z"
   },
   {
    "duration": 151,
    "start_time": "2023-02-01T23:06:21.776Z"
   },
   {
    "duration": 204,
    "start_time": "2023-02-01T23:07:08.618Z"
   },
   {
    "duration": 189,
    "start_time": "2023-02-01T23:08:09.986Z"
   },
   {
    "duration": 253,
    "start_time": "2023-02-01T23:08:38.787Z"
   },
   {
    "duration": 430,
    "start_time": "2023-02-01T23:09:22.287Z"
   },
   {
    "duration": 210,
    "start_time": "2023-02-01T23:09:47.590Z"
   },
   {
    "duration": 197,
    "start_time": "2023-02-01T23:10:04.144Z"
   },
   {
    "duration": 15,
    "start_time": "2023-02-01T23:10:05.415Z"
   },
   {
    "duration": 17,
    "start_time": "2023-02-01T23:10:05.885Z"
   },
   {
    "duration": 228,
    "start_time": "2023-02-01T23:10:06.438Z"
   },
   {
    "duration": 15,
    "start_time": "2023-02-01T23:10:08.288Z"
   },
   {
    "duration": 16,
    "start_time": "2023-02-01T23:10:08.741Z"
   },
   {
    "duration": 227,
    "start_time": "2023-02-01T23:10:09.194Z"
   },
   {
    "duration": 6,
    "start_time": "2023-02-01T23:10:59.493Z"
   },
   {
    "duration": 5,
    "start_time": "2023-02-01T23:11:15.925Z"
   },
   {
    "duration": 18,
    "start_time": "2023-02-01T23:20:36.174Z"
   },
   {
    "duration": 16,
    "start_time": "2023-02-01T23:24:54.337Z"
   },
   {
    "duration": 176,
    "start_time": "2023-02-01T23:25:05.379Z"
   },
   {
    "duration": 206,
    "start_time": "2023-02-01T23:26:23.000Z"
   },
   {
    "duration": 199,
    "start_time": "2023-02-01T23:26:33.048Z"
   },
   {
    "duration": 184,
    "start_time": "2023-02-01T23:27:29.658Z"
   },
   {
    "duration": 233,
    "start_time": "2023-02-01T23:28:48.669Z"
   },
   {
    "duration": 281,
    "start_time": "2023-02-01T23:29:54.537Z"
   },
   {
    "duration": 202,
    "start_time": "2023-02-01T23:30:35.344Z"
   },
   {
    "duration": 10,
    "start_time": "2023-02-01T23:34:25.878Z"
   },
   {
    "duration": 8,
    "start_time": "2023-02-01T23:34:44.579Z"
   },
   {
    "duration": 6,
    "start_time": "2023-02-01T23:34:50.030Z"
   },
   {
    "duration": 8,
    "start_time": "2023-02-01T23:37:41.401Z"
   },
   {
    "duration": 7,
    "start_time": "2023-02-01T23:37:42.109Z"
   },
   {
    "duration": 5,
    "start_time": "2023-02-01T23:37:49.795Z"
   },
   {
    "duration": 5,
    "start_time": "2023-02-01T23:42:04.279Z"
   },
   {
    "duration": 5,
    "start_time": "2023-02-01T23:49:52.782Z"
   },
   {
    "duration": 1245,
    "start_time": "2023-02-01T23:51:22.036Z"
   },
   {
    "duration": 100,
    "start_time": "2023-02-01T23:51:23.284Z"
   },
   {
    "duration": 21,
    "start_time": "2023-02-01T23:51:23.387Z"
   },
   {
    "duration": 35,
    "start_time": "2023-02-01T23:51:23.410Z"
   },
   {
    "duration": 16,
    "start_time": "2023-02-01T23:51:23.447Z"
   },
   {
    "duration": 51,
    "start_time": "2023-02-01T23:51:23.464Z"
   },
   {
    "duration": 10,
    "start_time": "2023-02-01T23:51:23.516Z"
   },
   {
    "duration": 39,
    "start_time": "2023-02-01T23:51:23.528Z"
   },
   {
    "duration": 52,
    "start_time": "2023-02-01T23:51:23.570Z"
   },
   {
    "duration": 31,
    "start_time": "2023-02-01T23:51:23.624Z"
   },
   {
    "duration": 29,
    "start_time": "2023-02-01T23:51:23.657Z"
   },
   {
    "duration": 55,
    "start_time": "2023-02-01T23:51:23.688Z"
   },
   {
    "duration": 26,
    "start_time": "2023-02-01T23:51:23.745Z"
   },
   {
    "duration": 276,
    "start_time": "2023-02-01T23:51:23.776Z"
   },
   {
    "duration": 429,
    "start_time": "2023-02-01T23:51:24.054Z"
   },
   {
    "duration": 6,
    "start_time": "2023-02-01T23:51:24.485Z"
   },
   {
    "duration": 5084,
    "start_time": "2023-02-01T23:51:24.494Z"
   },
   {
    "duration": 13,
    "start_time": "2023-02-01T23:51:29.580Z"
   },
   {
    "duration": 21,
    "start_time": "2023-02-01T23:51:29.594Z"
   },
   {
    "duration": 64,
    "start_time": "2023-02-01T23:51:29.617Z"
   },
   {
    "duration": 21,
    "start_time": "2023-02-01T23:51:29.683Z"
   },
   {
    "duration": 48,
    "start_time": "2023-02-01T23:51:29.706Z"
   },
   {
    "duration": 40,
    "start_time": "2023-02-01T23:51:29.755Z"
   },
   {
    "duration": 195,
    "start_time": "2023-02-01T23:51:29.797Z"
   },
   {
    "duration": 260,
    "start_time": "2023-02-01T23:51:29.994Z"
   },
   {
    "duration": 7,
    "start_time": "2023-02-01T23:51:30.256Z"
   },
   {
    "duration": 48,
    "start_time": "2023-02-01T23:51:30.266Z"
   },
   {
    "duration": 247,
    "start_time": "2023-02-01T23:51:30.316Z"
   },
   {
    "duration": 212,
    "start_time": "2023-02-01T23:51:30.566Z"
   },
   {
    "duration": 6,
    "start_time": "2023-02-01T23:51:30.780Z"
   },
   {
    "duration": 40,
    "start_time": "2023-02-01T23:51:30.788Z"
   },
   {
    "duration": 35,
    "start_time": "2023-02-01T23:51:30.830Z"
   },
   {
    "duration": 37,
    "start_time": "2023-02-01T23:51:30.867Z"
   },
   {
    "duration": 50,
    "start_time": "2023-02-01T23:51:30.906Z"
   },
   {
    "duration": 26,
    "start_time": "2023-02-01T23:51:30.958Z"
   },
   {
    "duration": 47,
    "start_time": "2023-02-01T23:51:30.985Z"
   },
   {
    "duration": 53,
    "start_time": "2023-02-01T23:51:31.034Z"
   },
   {
    "duration": 72,
    "start_time": "2023-02-01T23:51:31.089Z"
   },
   {
    "duration": 75,
    "start_time": "2023-02-01T23:51:31.163Z"
   },
   {
    "duration": 74,
    "start_time": "2023-02-01T23:51:31.240Z"
   },
   {
    "duration": 266,
    "start_time": "2023-02-01T23:51:31.319Z"
   },
   {
    "duration": 16,
    "start_time": "2023-02-01T23:51:31.587Z"
   },
   {
    "duration": 224,
    "start_time": "2023-02-01T23:51:31.604Z"
   },
   {
    "duration": 22,
    "start_time": "2023-02-01T23:51:31.830Z"
   },
   {
    "duration": 237,
    "start_time": "2023-02-01T23:51:31.854Z"
   },
   {
    "duration": 5,
    "start_time": "2023-02-01T23:51:32.093Z"
   },
   {
    "duration": 45,
    "start_time": "2023-02-01T23:51:32.100Z"
   },
   {
    "duration": 249,
    "start_time": "2023-02-01T23:51:32.147Z"
   },
   {
    "duration": 16,
    "start_time": "2023-02-01T23:51:32.398Z"
   },
   {
    "duration": 198,
    "start_time": "2023-02-01T23:51:32.416Z"
   },
   {
    "duration": 25,
    "start_time": "2023-02-01T23:51:32.616Z"
   },
   {
    "duration": 242,
    "start_time": "2023-02-01T23:51:32.643Z"
   },
   {
    "duration": 212,
    "start_time": "2023-02-01T23:51:32.887Z"
   },
   {
    "duration": 18,
    "start_time": "2023-02-01T23:51:33.101Z"
   },
   {
    "duration": 192,
    "start_time": "2023-02-01T23:51:33.121Z"
   },
   {
    "duration": 15,
    "start_time": "2023-02-01T23:51:33.315Z"
   },
   {
    "duration": 513,
    "start_time": "2023-02-01T23:51:33.340Z"
   },
   {
    "duration": 234,
    "start_time": "2023-02-01T23:51:33.855Z"
   },
   {
    "duration": 6,
    "start_time": "2023-02-01T23:51:34.092Z"
   },
   {
    "duration": 17,
    "start_time": "2023-02-01T23:51:34.099Z"
   },
   {
    "duration": 9,
    "start_time": "2023-02-01T23:51:34.118Z"
   },
   {
    "duration": 11,
    "start_time": "2023-02-01T23:51:34.129Z"
   },
   {
    "duration": 17,
    "start_time": "2023-02-01T23:51:34.142Z"
   },
   {
    "duration": 20,
    "start_time": "2023-02-01T23:51:34.161Z"
   },
   {
    "duration": 1315,
    "start_time": "2023-02-02T15:35:31.928Z"
   },
   {
    "duration": 138,
    "start_time": "2023-02-02T15:35:33.245Z"
   },
   {
    "duration": 18,
    "start_time": "2023-02-02T15:35:33.385Z"
   },
   {
    "duration": 14,
    "start_time": "2023-02-02T15:35:33.406Z"
   },
   {
    "duration": 14,
    "start_time": "2023-02-02T15:35:33.421Z"
   },
   {
    "duration": 42,
    "start_time": "2023-02-02T15:35:33.437Z"
   },
   {
    "duration": 8,
    "start_time": "2023-02-02T15:35:33.480Z"
   },
   {
    "duration": 28,
    "start_time": "2023-02-02T15:35:33.490Z"
   },
   {
    "duration": 35,
    "start_time": "2023-02-02T15:35:33.520Z"
   },
   {
    "duration": 10,
    "start_time": "2023-02-02T15:35:33.557Z"
   },
   {
    "duration": 17,
    "start_time": "2023-02-02T15:35:33.569Z"
   },
   {
    "duration": 34,
    "start_time": "2023-02-02T15:35:33.587Z"
   },
   {
    "duration": 5,
    "start_time": "2023-02-02T15:35:33.623Z"
   },
   {
    "duration": 242,
    "start_time": "2023-02-02T15:35:33.629Z"
   },
   {
    "duration": 356,
    "start_time": "2023-02-02T15:35:33.873Z"
   },
   {
    "duration": 6,
    "start_time": "2023-02-02T15:35:34.230Z"
   },
   {
    "duration": 4705,
    "start_time": "2023-02-02T15:35:34.237Z"
   },
   {
    "duration": 12,
    "start_time": "2023-02-02T15:35:38.944Z"
   },
   {
    "duration": 10,
    "start_time": "2023-02-02T15:35:38.958Z"
   },
   {
    "duration": 26,
    "start_time": "2023-02-02T15:35:38.970Z"
   },
   {
    "duration": 35,
    "start_time": "2023-02-02T15:35:38.997Z"
   },
   {
    "duration": 42,
    "start_time": "2023-02-02T15:35:39.034Z"
   },
   {
    "duration": 223,
    "start_time": "2023-02-02T15:35:39.078Z"
   },
   {
    "duration": 43,
    "start_time": "2023-02-02T15:35:39.303Z"
   },
   {
    "duration": 234,
    "start_time": "2023-02-02T15:35:39.348Z"
   },
   {
    "duration": 6,
    "start_time": "2023-02-02T15:35:39.584Z"
   },
   {
    "duration": 7,
    "start_time": "2023-02-02T15:35:39.626Z"
   },
   {
    "duration": 229,
    "start_time": "2023-02-02T15:35:39.637Z"
   },
   {
    "duration": 206,
    "start_time": "2023-02-02T15:35:39.868Z"
   },
   {
    "duration": 6,
    "start_time": "2023-02-02T15:35:40.076Z"
   },
   {
    "duration": 30,
    "start_time": "2023-02-02T15:35:40.084Z"
   },
   {
    "duration": 16,
    "start_time": "2023-02-02T15:35:40.116Z"
   },
   {
    "duration": 21,
    "start_time": "2023-02-02T15:35:40.133Z"
   },
   {
    "duration": 23,
    "start_time": "2023-02-02T15:35:40.155Z"
   },
   {
    "duration": 20,
    "start_time": "2023-02-02T15:35:40.180Z"
   },
   {
    "duration": 13,
    "start_time": "2023-02-02T15:35:40.202Z"
   },
   {
    "duration": 28,
    "start_time": "2023-02-02T15:35:40.217Z"
   },
   {
    "duration": 30,
    "start_time": "2023-02-02T15:35:40.247Z"
   },
   {
    "duration": 23,
    "start_time": "2023-02-02T15:35:40.280Z"
   },
   {
    "duration": 52,
    "start_time": "2023-02-02T15:35:40.305Z"
   },
   {
    "duration": 286,
    "start_time": "2023-02-02T15:35:40.359Z"
   },
   {
    "duration": 17,
    "start_time": "2023-02-02T15:35:40.646Z"
   },
   {
    "duration": 189,
    "start_time": "2023-02-02T15:35:40.664Z"
   },
   {
    "duration": 15,
    "start_time": "2023-02-02T15:35:40.855Z"
   },
   {
    "duration": 234,
    "start_time": "2023-02-02T15:35:40.872Z"
   },
   {
    "duration": 6,
    "start_time": "2023-02-02T15:35:41.108Z"
   },
   {
    "duration": 22,
    "start_time": "2023-02-02T15:35:41.128Z"
   },
   {
    "duration": 212,
    "start_time": "2023-02-02T15:35:41.152Z"
   },
   {
    "duration": 14,
    "start_time": "2023-02-02T15:35:41.366Z"
   },
   {
    "duration": 189,
    "start_time": "2023-02-02T15:35:41.381Z"
   },
   {
    "duration": 14,
    "start_time": "2023-02-02T15:35:41.572Z"
   },
   {
    "duration": 202,
    "start_time": "2023-02-02T15:35:41.588Z"
   },
   {
    "duration": 199,
    "start_time": "2023-02-02T15:35:41.792Z"
   },
   {
    "duration": 19,
    "start_time": "2023-02-02T15:35:41.993Z"
   },
   {
    "duration": 181,
    "start_time": "2023-02-02T15:35:42.014Z"
   },
   {
    "duration": 14,
    "start_time": "2023-02-02T15:35:42.197Z"
   },
   {
    "duration": 333,
    "start_time": "2023-02-02T15:35:42.213Z"
   },
   {
    "duration": 215,
    "start_time": "2023-02-02T15:35:42.548Z"
   },
   {
    "duration": 6,
    "start_time": "2023-02-02T15:35:42.764Z"
   },
   {
    "duration": 19,
    "start_time": "2023-02-02T15:35:42.772Z"
   },
   {
    "duration": 28,
    "start_time": "2023-02-02T15:35:42.793Z"
   },
   {
    "duration": 25,
    "start_time": "2023-02-02T15:35:42.823Z"
   },
   {
    "duration": 34,
    "start_time": "2023-02-02T15:35:42.850Z"
   },
   {
    "duration": 12,
    "start_time": "2023-02-02T15:35:42.886Z"
   }
  ],
  "kernelspec": {
   "display_name": "Python 3 (ipykernel)",
   "language": "python",
   "name": "python3"
  },
  "language_info": {
   "codemirror_mode": {
    "name": "ipython",
    "version": 3
   },
   "file_extension": ".py",
   "mimetype": "text/x-python",
   "name": "python",
   "nbconvert_exporter": "python",
   "pygments_lexer": "ipython3",
   "version": "3.9.5"
  },
  "toc": {
   "base_numbering": 1,
   "nav_menu": {},
   "number_sections": true,
   "sideBar": true,
   "skip_h1_title": true,
   "title_cell": "Table of Contents",
   "title_sidebar": "Contents",
   "toc_cell": false,
   "toc_position": {},
   "toc_section_display": true,
   "toc_window_display": true
  }
 },
 "nbformat": 4,
 "nbformat_minor": 2
}
