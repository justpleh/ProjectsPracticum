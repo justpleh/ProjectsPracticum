{
 "cells": [
  {
   "cell_type": "markdown",
   "metadata": {},
   "source": [
    "# Увеличение выручки крупного онлайн - магазина"
   ]
  },
  {
   "cell_type": "markdown",
   "metadata": {},
   "source": [
    " Вместе с отделом маркетинга мы подготовили список гипотез для увеличения выручки. \n",
    " \n",
    " Нам предстоит приоритизировать гипотезы, запустить A/B-тест и проанализировать результаты"
   ]
  },
  {
   "cell_type": "markdown",
   "metadata": {},
   "source": [
    "В нашем распоряжении 3 датасета:\n",
    "\n",
    "Файл hypothesis.csv хсодержит 9 гипотез об увеличении выручки с указанными параметрами Reach, Impact, Confidence, Effort\n",
    "\n",
    "Файлы orders.csv и visitors.csv содержат данные о проведенном A/B тесте и его результатах"
   ]
  },
  {
   "cell_type": "markdown",
   "metadata": {},
   "source": [
    "## Часть 1. Приоритизация гипотез"
   ]
  },
  {
   "cell_type": "markdown",
   "metadata": {},
   "source": [
    "### Применим фреймворк ICE для приоритизации гипотез. Отсортируем их по убыванию приоритета"
   ]
  },
  {
   "cell_type": "code",
   "execution_count": 1,
   "metadata": {},
   "outputs": [],
   "source": [
    "import pandas as pd\n",
    "import numpy as np\n",
    "import matplotlib.pyplot as plt\n",
    "import os\n",
    "import scipy.stats as stats\n",
    "import datetime as dt"
   ]
  },
  {
   "cell_type": "code",
   "execution_count": 2,
   "metadata": {},
   "outputs": [
    {
     "data": {
      "text/html": [
       "<div>\n",
       "<style scoped>\n",
       "    .dataframe tbody tr th:only-of-type {\n",
       "        vertical-align: middle;\n",
       "    }\n",
       "\n",
       "    .dataframe tbody tr th {\n",
       "        vertical-align: top;\n",
       "    }\n",
       "\n",
       "    .dataframe thead th {\n",
       "        text-align: right;\n",
       "    }\n",
       "</style>\n",
       "<table border=\"1\" class=\"dataframe\">\n",
       "  <thead>\n",
       "    <tr style=\"text-align: right;\">\n",
       "      <th></th>\n",
       "      <th>Hypothesis</th>\n",
       "      <th>Reach</th>\n",
       "      <th>Impact</th>\n",
       "      <th>Confidence</th>\n",
       "      <th>Efforts</th>\n",
       "    </tr>\n",
       "  </thead>\n",
       "  <tbody>\n",
       "    <tr>\n",
       "      <th>0</th>\n",
       "      <td>Добавить два новых канала привлечения трафика,...</td>\n",
       "      <td>3</td>\n",
       "      <td>10</td>\n",
       "      <td>8</td>\n",
       "      <td>6</td>\n",
       "    </tr>\n",
       "    <tr>\n",
       "      <th>1</th>\n",
       "      <td>Запустить собственную службу доставки, что сок...</td>\n",
       "      <td>2</td>\n",
       "      <td>5</td>\n",
       "      <td>4</td>\n",
       "      <td>10</td>\n",
       "    </tr>\n",
       "    <tr>\n",
       "      <th>2</th>\n",
       "      <td>Добавить блоки рекомендаций товаров на сайт ин...</td>\n",
       "      <td>8</td>\n",
       "      <td>3</td>\n",
       "      <td>7</td>\n",
       "      <td>3</td>\n",
       "    </tr>\n",
       "    <tr>\n",
       "      <th>3</th>\n",
       "      <td>Изменить структура категорий, что увеличит кон...</td>\n",
       "      <td>8</td>\n",
       "      <td>3</td>\n",
       "      <td>3</td>\n",
       "      <td>8</td>\n",
       "    </tr>\n",
       "    <tr>\n",
       "      <th>4</th>\n",
       "      <td>Изменить цвет фона главной страницы, чтобы уве...</td>\n",
       "      <td>3</td>\n",
       "      <td>1</td>\n",
       "      <td>1</td>\n",
       "      <td>1</td>\n",
       "    </tr>\n",
       "    <tr>\n",
       "      <th>5</th>\n",
       "      <td>Добавить страницу отзывов клиентов о магазине,...</td>\n",
       "      <td>3</td>\n",
       "      <td>2</td>\n",
       "      <td>2</td>\n",
       "      <td>3</td>\n",
       "    </tr>\n",
       "    <tr>\n",
       "      <th>6</th>\n",
       "      <td>Показать на главной странице баннеры с актуаль...</td>\n",
       "      <td>5</td>\n",
       "      <td>3</td>\n",
       "      <td>8</td>\n",
       "      <td>3</td>\n",
       "    </tr>\n",
       "    <tr>\n",
       "      <th>7</th>\n",
       "      <td>Добавить форму подписки на все основные страни...</td>\n",
       "      <td>10</td>\n",
       "      <td>7</td>\n",
       "      <td>8</td>\n",
       "      <td>5</td>\n",
       "    </tr>\n",
       "    <tr>\n",
       "      <th>8</th>\n",
       "      <td>Запустить акцию, дающую скидку на товар в день...</td>\n",
       "      <td>1</td>\n",
       "      <td>9</td>\n",
       "      <td>9</td>\n",
       "      <td>5</td>\n",
       "    </tr>\n",
       "  </tbody>\n",
       "</table>\n",
       "</div>"
      ],
      "text/plain": [
       "                                          Hypothesis  Reach  Impact  \\\n",
       "0  Добавить два новых канала привлечения трафика,...      3      10   \n",
       "1  Запустить собственную службу доставки, что сок...      2       5   \n",
       "2  Добавить блоки рекомендаций товаров на сайт ин...      8       3   \n",
       "3  Изменить структура категорий, что увеличит кон...      8       3   \n",
       "4  Изменить цвет фона главной страницы, чтобы уве...      3       1   \n",
       "5  Добавить страницу отзывов клиентов о магазине,...      3       2   \n",
       "6  Показать на главной странице баннеры с актуаль...      5       3   \n",
       "7  Добавить форму подписки на все основные страни...     10       7   \n",
       "8  Запустить акцию, дающую скидку на товар в день...      1       9   \n",
       "\n",
       "   Confidence  Efforts  \n",
       "0           8        6  \n",
       "1           4       10  \n",
       "2           7        3  \n",
       "3           3        8  \n",
       "4           1        1  \n",
       "5           2        3  \n",
       "6           8        3  \n",
       "7           8        5  \n",
       "8           9        5  "
      ]
     },
     "execution_count": 2,
     "metadata": {},
     "output_type": "execute_result"
    }
   ],
   "source": [
    "pth1 = 'hypothesis.csv'\n",
    "pth2 = '/datasets/hypothesis.csv'\n",
    "\n",
    "if os.path.exists(pth1):\n",
    "    hypothesis = pd.read_csv(pth1)\n",
    "elif os.path.exists(pth2):\n",
    "    hypothesis = pd.read_csv(pth2)\n",
    "else:\n",
    "    print('Something is wrong')\n",
    "    \n",
    "hypothesis"
   ]
  },
  {
   "cell_type": "markdown",
   "metadata": {},
   "source": [
    "Мы видим 9 разных гипотез:\n",
    "\n",
    "1) Добавить два новых канала привлечения трафика, что позволит привлекать на 30% больше пользователей\n",
    "\n",
    "2) Запустить собственную службу доставки, что сократит срок доставки заказов\n",
    "\n",
    "3) Добавить блоки рекомендаций товаров на сайт интернет магазина, чтобы повысить конверсию и средний чек заказа\n",
    "\n",
    "4) Изменить структуру категорий, что увеличит конверсию, т.к. пользователи быстрее найдут нужный товар\n",
    "\n",
    "5) Изменить цвет фона главной страницы, чтобы увеличить вовлеченность пользователей\n",
    "\n",
    "6) Добавить страницу отзывов клиентов о магазине, что позволит увеличить количество заказов\n",
    "\n",
    "7) Показать на главной странице баннеры с актуальными акциями и распродажами, чтобы увеличить конверсию\n",
    "\n",
    "8) Добавить форму подписки на все основные страницы, чтобы собрать базу клиентов для email-рассылок\n",
    "\n",
    "9) Запустить акцию, дающую скидку на товар в день рождения"
   ]
  },
  {
   "cell_type": "code",
   "execution_count": 3,
   "metadata": {},
   "outputs": [
    {
     "data": {
      "text/html": [
       "<div>\n",
       "<style scoped>\n",
       "    .dataframe tbody tr th:only-of-type {\n",
       "        vertical-align: middle;\n",
       "    }\n",
       "\n",
       "    .dataframe tbody tr th {\n",
       "        vertical-align: top;\n",
       "    }\n",
       "\n",
       "    .dataframe thead th {\n",
       "        text-align: right;\n",
       "    }\n",
       "</style>\n",
       "<table border=\"1\" class=\"dataframe\">\n",
       "  <thead>\n",
       "    <tr style=\"text-align: right;\">\n",
       "      <th></th>\n",
       "      <th>Hypothesis</th>\n",
       "      <th>Reach</th>\n",
       "      <th>Impact</th>\n",
       "      <th>Confidence</th>\n",
       "      <th>Efforts</th>\n",
       "      <th>ICE</th>\n",
       "    </tr>\n",
       "  </thead>\n",
       "  <tbody>\n",
       "    <tr>\n",
       "      <th>8</th>\n",
       "      <td>Запустить акцию, дающую скидку на товар в день...</td>\n",
       "      <td>1</td>\n",
       "      <td>9</td>\n",
       "      <td>9</td>\n",
       "      <td>5</td>\n",
       "      <td>16.200000</td>\n",
       "    </tr>\n",
       "    <tr>\n",
       "      <th>0</th>\n",
       "      <td>Добавить два новых канала привлечения трафика,...</td>\n",
       "      <td>3</td>\n",
       "      <td>10</td>\n",
       "      <td>8</td>\n",
       "      <td>6</td>\n",
       "      <td>13.333333</td>\n",
       "    </tr>\n",
       "    <tr>\n",
       "      <th>7</th>\n",
       "      <td>Добавить форму подписки на все основные страни...</td>\n",
       "      <td>10</td>\n",
       "      <td>7</td>\n",
       "      <td>8</td>\n",
       "      <td>5</td>\n",
       "      <td>11.200000</td>\n",
       "    </tr>\n",
       "    <tr>\n",
       "      <th>6</th>\n",
       "      <td>Показать на главной странице баннеры с актуаль...</td>\n",
       "      <td>5</td>\n",
       "      <td>3</td>\n",
       "      <td>8</td>\n",
       "      <td>3</td>\n",
       "      <td>8.000000</td>\n",
       "    </tr>\n",
       "    <tr>\n",
       "      <th>2</th>\n",
       "      <td>Добавить блоки рекомендаций товаров на сайт ин...</td>\n",
       "      <td>8</td>\n",
       "      <td>3</td>\n",
       "      <td>7</td>\n",
       "      <td>3</td>\n",
       "      <td>7.000000</td>\n",
       "    </tr>\n",
       "    <tr>\n",
       "      <th>1</th>\n",
       "      <td>Запустить собственную службу доставки, что сок...</td>\n",
       "      <td>2</td>\n",
       "      <td>5</td>\n",
       "      <td>4</td>\n",
       "      <td>10</td>\n",
       "      <td>2.000000</td>\n",
       "    </tr>\n",
       "    <tr>\n",
       "      <th>5</th>\n",
       "      <td>Добавить страницу отзывов клиентов о магазине,...</td>\n",
       "      <td>3</td>\n",
       "      <td>2</td>\n",
       "      <td>2</td>\n",
       "      <td>3</td>\n",
       "      <td>1.333333</td>\n",
       "    </tr>\n",
       "    <tr>\n",
       "      <th>3</th>\n",
       "      <td>Изменить структура категорий, что увеличит кон...</td>\n",
       "      <td>8</td>\n",
       "      <td>3</td>\n",
       "      <td>3</td>\n",
       "      <td>8</td>\n",
       "      <td>1.125000</td>\n",
       "    </tr>\n",
       "    <tr>\n",
       "      <th>4</th>\n",
       "      <td>Изменить цвет фона главной страницы, чтобы уве...</td>\n",
       "      <td>3</td>\n",
       "      <td>1</td>\n",
       "      <td>1</td>\n",
       "      <td>1</td>\n",
       "      <td>1.000000</td>\n",
       "    </tr>\n",
       "  </tbody>\n",
       "</table>\n",
       "</div>"
      ],
      "text/plain": [
       "                                          Hypothesis  Reach  Impact  \\\n",
       "8  Запустить акцию, дающую скидку на товар в день...      1       9   \n",
       "0  Добавить два новых канала привлечения трафика,...      3      10   \n",
       "7  Добавить форму подписки на все основные страни...     10       7   \n",
       "6  Показать на главной странице баннеры с актуаль...      5       3   \n",
       "2  Добавить блоки рекомендаций товаров на сайт ин...      8       3   \n",
       "1  Запустить собственную службу доставки, что сок...      2       5   \n",
       "5  Добавить страницу отзывов клиентов о магазине,...      3       2   \n",
       "3  Изменить структура категорий, что увеличит кон...      8       3   \n",
       "4  Изменить цвет фона главной страницы, чтобы уве...      3       1   \n",
       "\n",
       "   Confidence  Efforts        ICE  \n",
       "8           9        5  16.200000  \n",
       "0           8        6  13.333333  \n",
       "7           8        5  11.200000  \n",
       "6           8        3   8.000000  \n",
       "2           7        3   7.000000  \n",
       "1           4       10   2.000000  \n",
       "5           2        3   1.333333  \n",
       "3           3        8   1.125000  \n",
       "4           1        1   1.000000  "
      ]
     },
     "execution_count": 3,
     "metadata": {},
     "output_type": "execute_result"
    }
   ],
   "source": [
    "hypothesis['ICE'] = hypothesis['Impact'] * hypothesis['Confidence'] /hypothesis['Efforts']\n",
    "hypothesis = hypothesis.sort_values(by = 'ICE', ascending=False)\n",
    "hypothesis"
   ]
  },
  {
   "cell_type": "markdown",
   "metadata": {},
   "source": [
    "Можно заметить, что в приоритете запуск акций, чуть ниже новые каналы трафика и форма подписки. На последнем месте - изменение цвета фона"
   ]
  },
  {
   "cell_type": "markdown",
   "metadata": {},
   "source": [
    "### Применим фреймворк RICE для приоритизации гипотез. Отсортируем их по убыванию приоритета"
   ]
  },
  {
   "cell_type": "code",
   "execution_count": 4,
   "metadata": {},
   "outputs": [
    {
     "data": {
      "text/html": [
       "<div>\n",
       "<style scoped>\n",
       "    .dataframe tbody tr th:only-of-type {\n",
       "        vertical-align: middle;\n",
       "    }\n",
       "\n",
       "    .dataframe tbody tr th {\n",
       "        vertical-align: top;\n",
       "    }\n",
       "\n",
       "    .dataframe thead th {\n",
       "        text-align: right;\n",
       "    }\n",
       "</style>\n",
       "<table border=\"1\" class=\"dataframe\">\n",
       "  <thead>\n",
       "    <tr style=\"text-align: right;\">\n",
       "      <th></th>\n",
       "      <th>Hypothesis</th>\n",
       "      <th>Reach</th>\n",
       "      <th>Impact</th>\n",
       "      <th>Confidence</th>\n",
       "      <th>Efforts</th>\n",
       "      <th>ICE</th>\n",
       "      <th>RICE</th>\n",
       "    </tr>\n",
       "  </thead>\n",
       "  <tbody>\n",
       "    <tr>\n",
       "      <th>7</th>\n",
       "      <td>Добавить форму подписки на все основные страни...</td>\n",
       "      <td>10</td>\n",
       "      <td>7</td>\n",
       "      <td>8</td>\n",
       "      <td>5</td>\n",
       "      <td>11.200000</td>\n",
       "      <td>112.0</td>\n",
       "    </tr>\n",
       "    <tr>\n",
       "      <th>2</th>\n",
       "      <td>Добавить блоки рекомендаций товаров на сайт ин...</td>\n",
       "      <td>8</td>\n",
       "      <td>3</td>\n",
       "      <td>7</td>\n",
       "      <td>3</td>\n",
       "      <td>7.000000</td>\n",
       "      <td>56.0</td>\n",
       "    </tr>\n",
       "    <tr>\n",
       "      <th>0</th>\n",
       "      <td>Добавить два новых канала привлечения трафика,...</td>\n",
       "      <td>3</td>\n",
       "      <td>10</td>\n",
       "      <td>8</td>\n",
       "      <td>6</td>\n",
       "      <td>13.333333</td>\n",
       "      <td>40.0</td>\n",
       "    </tr>\n",
       "    <tr>\n",
       "      <th>6</th>\n",
       "      <td>Показать на главной странице баннеры с актуаль...</td>\n",
       "      <td>5</td>\n",
       "      <td>3</td>\n",
       "      <td>8</td>\n",
       "      <td>3</td>\n",
       "      <td>8.000000</td>\n",
       "      <td>40.0</td>\n",
       "    </tr>\n",
       "    <tr>\n",
       "      <th>8</th>\n",
       "      <td>Запустить акцию, дающую скидку на товар в день...</td>\n",
       "      <td>1</td>\n",
       "      <td>9</td>\n",
       "      <td>9</td>\n",
       "      <td>5</td>\n",
       "      <td>16.200000</td>\n",
       "      <td>16.2</td>\n",
       "    </tr>\n",
       "    <tr>\n",
       "      <th>3</th>\n",
       "      <td>Изменить структура категорий, что увеличит кон...</td>\n",
       "      <td>8</td>\n",
       "      <td>3</td>\n",
       "      <td>3</td>\n",
       "      <td>8</td>\n",
       "      <td>1.125000</td>\n",
       "      <td>9.0</td>\n",
       "    </tr>\n",
       "    <tr>\n",
       "      <th>1</th>\n",
       "      <td>Запустить собственную службу доставки, что сок...</td>\n",
       "      <td>2</td>\n",
       "      <td>5</td>\n",
       "      <td>4</td>\n",
       "      <td>10</td>\n",
       "      <td>2.000000</td>\n",
       "      <td>4.0</td>\n",
       "    </tr>\n",
       "    <tr>\n",
       "      <th>5</th>\n",
       "      <td>Добавить страницу отзывов клиентов о магазине,...</td>\n",
       "      <td>3</td>\n",
       "      <td>2</td>\n",
       "      <td>2</td>\n",
       "      <td>3</td>\n",
       "      <td>1.333333</td>\n",
       "      <td>4.0</td>\n",
       "    </tr>\n",
       "    <tr>\n",
       "      <th>4</th>\n",
       "      <td>Изменить цвет фона главной страницы, чтобы уве...</td>\n",
       "      <td>3</td>\n",
       "      <td>1</td>\n",
       "      <td>1</td>\n",
       "      <td>1</td>\n",
       "      <td>1.000000</td>\n",
       "      <td>3.0</td>\n",
       "    </tr>\n",
       "  </tbody>\n",
       "</table>\n",
       "</div>"
      ],
      "text/plain": [
       "                                          Hypothesis  Reach  Impact  \\\n",
       "7  Добавить форму подписки на все основные страни...     10       7   \n",
       "2  Добавить блоки рекомендаций товаров на сайт ин...      8       3   \n",
       "0  Добавить два новых канала привлечения трафика,...      3      10   \n",
       "6  Показать на главной странице баннеры с актуаль...      5       3   \n",
       "8  Запустить акцию, дающую скидку на товар в день...      1       9   \n",
       "3  Изменить структура категорий, что увеличит кон...      8       3   \n",
       "1  Запустить собственную службу доставки, что сок...      2       5   \n",
       "5  Добавить страницу отзывов клиентов о магазине,...      3       2   \n",
       "4  Изменить цвет фона главной страницы, чтобы уве...      3       1   \n",
       "\n",
       "   Confidence  Efforts        ICE   RICE  \n",
       "7           8        5  11.200000  112.0  \n",
       "2           7        3   7.000000   56.0  \n",
       "0           8        6  13.333333   40.0  \n",
       "6           8        3   8.000000   40.0  \n",
       "8           9        5  16.200000   16.2  \n",
       "3           3        8   1.125000    9.0  \n",
       "1           4       10   2.000000    4.0  \n",
       "5           2        3   1.333333    4.0  \n",
       "4           1        1   1.000000    3.0  "
      ]
     },
     "execution_count": 4,
     "metadata": {},
     "output_type": "execute_result"
    }
   ],
   "source": [
    "hypothesis['RICE'] = hypothesis['Reach'] * hypothesis['Impact'] * hypothesis['Confidence'] / hypothesis['Efforts']\n",
    "hypothesis = hypothesis.sort_values(by= 'RICE', ascending=False)\n",
    "hypothesis"
   ]
  },
  {
   "cell_type": "markdown",
   "metadata": {},
   "source": [
    "Здесь же мы видим, что в приоритете форма подписки на страницы для базы рассылок, почти в 2 раза отстает блок рекомендаций с категориями, новые каналы трафика и баннеры с акциями (на одном месте), а на самом последнем месте по-прежнему цвет фона."
   ]
  },
  {
   "cell_type": "markdown",
   "metadata": {},
   "source": [
    "Ключевое отличие RICE от ICE скоринга заключается в том, что добавляется элемент «охвата», что меняет общую формулу вычисления.\n",
    "\n",
    "Уровень охвата измеряется количеством людей (целевой аудитории) или событий за определённый период времени.\n",
    "\n",
    "Влияние — показывает, какой вклад какая–либо функция или другая составляющая проекта вносит в общий продукт.\n",
    "\n",
    "Уверенность — измеряется в процентах, которые показывают точность оценки охвата, влияния и трудозатрат.\n",
    "\n",
    "Трудозатраты — подсчитывают затраты на рабочую силу, которая оценивается как количество человеко–часов/недель/месяцев и т.д., в зависимости от потребностей.\n",
    "\n",
    "Из-за того, что добавили уровень охвата, который влияет на рейтинг напрямую, изменился и приоритет."
   ]
  },
  {
   "cell_type": "markdown",
   "metadata": {},
   "source": [
    "## Часть 2. Анализ A/B-теста"
   ]
  },
  {
   "cell_type": "code",
   "execution_count": 5,
   "metadata": {},
   "outputs": [
    {
     "data": {
      "text/html": [
       "<div>\n",
       "<style scoped>\n",
       "    .dataframe tbody tr th:only-of-type {\n",
       "        vertical-align: middle;\n",
       "    }\n",
       "\n",
       "    .dataframe tbody tr th {\n",
       "        vertical-align: top;\n",
       "    }\n",
       "\n",
       "    .dataframe thead th {\n",
       "        text-align: right;\n",
       "    }\n",
       "</style>\n",
       "<table border=\"1\" class=\"dataframe\">\n",
       "  <thead>\n",
       "    <tr style=\"text-align: right;\">\n",
       "      <th></th>\n",
       "      <th>transactionId</th>\n",
       "      <th>visitorId</th>\n",
       "      <th>date</th>\n",
       "      <th>revenue</th>\n",
       "      <th>group</th>\n",
       "    </tr>\n",
       "  </thead>\n",
       "  <tbody>\n",
       "    <tr>\n",
       "      <th>0</th>\n",
       "      <td>3667963787</td>\n",
       "      <td>3312258926</td>\n",
       "      <td>2019-08-15</td>\n",
       "      <td>1650</td>\n",
       "      <td>B</td>\n",
       "    </tr>\n",
       "    <tr>\n",
       "      <th>1</th>\n",
       "      <td>2804400009</td>\n",
       "      <td>3642806036</td>\n",
       "      <td>2019-08-15</td>\n",
       "      <td>730</td>\n",
       "      <td>B</td>\n",
       "    </tr>\n",
       "    <tr>\n",
       "      <th>2</th>\n",
       "      <td>2961555356</td>\n",
       "      <td>4069496402</td>\n",
       "      <td>2019-08-15</td>\n",
       "      <td>400</td>\n",
       "      <td>A</td>\n",
       "    </tr>\n",
       "    <tr>\n",
       "      <th>3</th>\n",
       "      <td>3797467345</td>\n",
       "      <td>1196621759</td>\n",
       "      <td>2019-08-15</td>\n",
       "      <td>9759</td>\n",
       "      <td>B</td>\n",
       "    </tr>\n",
       "    <tr>\n",
       "      <th>4</th>\n",
       "      <td>2282983706</td>\n",
       "      <td>2322279887</td>\n",
       "      <td>2019-08-15</td>\n",
       "      <td>2308</td>\n",
       "      <td>B</td>\n",
       "    </tr>\n",
       "  </tbody>\n",
       "</table>\n",
       "</div>"
      ],
      "text/plain": [
       "   transactionId   visitorId        date  revenue group\n",
       "0     3667963787  3312258926  2019-08-15     1650     B\n",
       "1     2804400009  3642806036  2019-08-15      730     B\n",
       "2     2961555356  4069496402  2019-08-15      400     A\n",
       "3     3797467345  1196621759  2019-08-15     9759     B\n",
       "4     2282983706  2322279887  2019-08-15     2308     B"
      ]
     },
     "execution_count": 5,
     "metadata": {},
     "output_type": "execute_result"
    }
   ],
   "source": [
    "pth1 = 'orders.csv'\n",
    "pth2 = '/datasets/orders.csv'\n",
    "\n",
    "if os.path.exists(pth1):\n",
    "    orders = pd.read_csv(pth1)\n",
    "elif os.path.exists(pth2):\n",
    "    orders = pd.read_csv(pth2)\n",
    "else:\n",
    "    print('Something is wrong')\n",
    "    \n",
    "orders.head()"
   ]
  },
  {
   "cell_type": "code",
   "execution_count": 6,
   "metadata": {},
   "outputs": [
    {
     "name": "stdout",
     "output_type": "stream",
     "text": [
      "<class 'pandas.core.frame.DataFrame'>\n",
      "RangeIndex: 1197 entries, 0 to 1196\n",
      "Data columns (total 5 columns):\n",
      " #   Column         Non-Null Count  Dtype \n",
      "---  ------         --------------  ----- \n",
      " 0   transactionId  1197 non-null   int64 \n",
      " 1   visitorId      1197 non-null   int64 \n",
      " 2   date           1197 non-null   object\n",
      " 3   revenue        1197 non-null   int64 \n",
      " 4   group          1197 non-null   object\n",
      "dtypes: int64(3), object(2)\n",
      "memory usage: 46.9+ KB\n"
     ]
    }
   ],
   "source": [
    "orders.info()"
   ]
  },
  {
   "cell_type": "code",
   "execution_count": 7,
   "metadata": {},
   "outputs": [
    {
     "data": {
      "text/plain": [
       "transactionId    0\n",
       "visitorId        0\n",
       "date             0\n",
       "revenue          0\n",
       "group            0\n",
       "dtype: int64"
      ]
     },
     "execution_count": 7,
     "metadata": {},
     "output_type": "execute_result"
    }
   ],
   "source": [
    "orders.isnull().sum()"
   ]
  },
  {
   "cell_type": "code",
   "execution_count": 8,
   "metadata": {},
   "outputs": [
    {
     "data": {
      "text/html": [
       "<div>\n",
       "<style scoped>\n",
       "    .dataframe tbody tr th:only-of-type {\n",
       "        vertical-align: middle;\n",
       "    }\n",
       "\n",
       "    .dataframe tbody tr th {\n",
       "        vertical-align: top;\n",
       "    }\n",
       "\n",
       "    .dataframe thead th {\n",
       "        text-align: right;\n",
       "    }\n",
       "</style>\n",
       "<table border=\"1\" class=\"dataframe\">\n",
       "  <thead>\n",
       "    <tr style=\"text-align: right;\">\n",
       "      <th></th>\n",
       "      <th>transactionId</th>\n",
       "      <th>visitorId</th>\n",
       "      <th>date</th>\n",
       "      <th>revenue</th>\n",
       "      <th>group</th>\n",
       "    </tr>\n",
       "  </thead>\n",
       "  <tbody>\n",
       "  </tbody>\n",
       "</table>\n",
       "</div>"
      ],
      "text/plain": [
       "Empty DataFrame\n",
       "Columns: [transactionId, visitorId, date, revenue, group]\n",
       "Index: []"
      ]
     },
     "execution_count": 8,
     "metadata": {},
     "output_type": "execute_result"
    }
   ],
   "source": [
    "duplicateRows = orders[orders.duplicated (keep='last')]\n",
    "duplicateRows"
   ]
  },
  {
   "cell_type": "code",
   "execution_count": 9,
   "metadata": {},
   "outputs": [],
   "source": [
    "orders['date'] = orders['date'].map(\n",
    "    lambda x: dt.datetime.strptime(x, '%Y-%m-%d')\n",
    ")"
   ]
  },
  {
   "cell_type": "code",
   "execution_count": 10,
   "metadata": {},
   "outputs": [
    {
     "data": {
      "text/html": [
       "<div>\n",
       "<style scoped>\n",
       "    .dataframe tbody tr th:only-of-type {\n",
       "        vertical-align: middle;\n",
       "    }\n",
       "\n",
       "    .dataframe tbody tr th {\n",
       "        vertical-align: top;\n",
       "    }\n",
       "\n",
       "    .dataframe thead th {\n",
       "        text-align: right;\n",
       "    }\n",
       "</style>\n",
       "<table border=\"1\" class=\"dataframe\">\n",
       "  <thead>\n",
       "    <tr style=\"text-align: right;\">\n",
       "      <th></th>\n",
       "      <th>date</th>\n",
       "      <th>group</th>\n",
       "      <th>visitors</th>\n",
       "    </tr>\n",
       "  </thead>\n",
       "  <tbody>\n",
       "    <tr>\n",
       "      <th>0</th>\n",
       "      <td>2019-08-01</td>\n",
       "      <td>A</td>\n",
       "      <td>719</td>\n",
       "    </tr>\n",
       "    <tr>\n",
       "      <th>1</th>\n",
       "      <td>2019-08-02</td>\n",
       "      <td>A</td>\n",
       "      <td>619</td>\n",
       "    </tr>\n",
       "    <tr>\n",
       "      <th>2</th>\n",
       "      <td>2019-08-03</td>\n",
       "      <td>A</td>\n",
       "      <td>507</td>\n",
       "    </tr>\n",
       "    <tr>\n",
       "      <th>3</th>\n",
       "      <td>2019-08-04</td>\n",
       "      <td>A</td>\n",
       "      <td>717</td>\n",
       "    </tr>\n",
       "    <tr>\n",
       "      <th>4</th>\n",
       "      <td>2019-08-05</td>\n",
       "      <td>A</td>\n",
       "      <td>756</td>\n",
       "    </tr>\n",
       "  </tbody>\n",
       "</table>\n",
       "</div>"
      ],
      "text/plain": [
       "         date group  visitors\n",
       "0  2019-08-01     A       719\n",
       "1  2019-08-02     A       619\n",
       "2  2019-08-03     A       507\n",
       "3  2019-08-04     A       717\n",
       "4  2019-08-05     A       756"
      ]
     },
     "execution_count": 10,
     "metadata": {},
     "output_type": "execute_result"
    }
   ],
   "source": [
    "pth1 = 'visitors.csv'\n",
    "pth2 = '/datasets/visitors.csv'\n",
    "\n",
    "if os.path.exists(pth1):\n",
    "    visitors = pd.read_csv(pth1)\n",
    "elif os.path.exists(pth2):\n",
    "    visitors = pd.read_csv(pth2)\n",
    "else:\n",
    "    print('Something is wrong')\n",
    "    \n",
    "visitors.head()"
   ]
  },
  {
   "cell_type": "code",
   "execution_count": 11,
   "metadata": {},
   "outputs": [
    {
     "name": "stdout",
     "output_type": "stream",
     "text": [
      "<class 'pandas.core.frame.DataFrame'>\n",
      "RangeIndex: 62 entries, 0 to 61\n",
      "Data columns (total 3 columns):\n",
      " #   Column    Non-Null Count  Dtype \n",
      "---  ------    --------------  ----- \n",
      " 0   date      62 non-null     object\n",
      " 1   group     62 non-null     object\n",
      " 2   visitors  62 non-null     int64 \n",
      "dtypes: int64(1), object(2)\n",
      "memory usage: 1.6+ KB\n"
     ]
    }
   ],
   "source": [
    "visitors.info()"
   ]
  },
  {
   "cell_type": "code",
   "execution_count": 12,
   "metadata": {},
   "outputs": [
    {
     "data": {
      "text/plain": [
       "date        0\n",
       "group       0\n",
       "visitors    0\n",
       "dtype: int64"
      ]
     },
     "execution_count": 12,
     "metadata": {},
     "output_type": "execute_result"
    }
   ],
   "source": [
    "visitors.isnull().sum()"
   ]
  },
  {
   "cell_type": "code",
   "execution_count": 13,
   "metadata": {},
   "outputs": [
    {
     "data": {
      "text/html": [
       "<div>\n",
       "<style scoped>\n",
       "    .dataframe tbody tr th:only-of-type {\n",
       "        vertical-align: middle;\n",
       "    }\n",
       "\n",
       "    .dataframe tbody tr th {\n",
       "        vertical-align: top;\n",
       "    }\n",
       "\n",
       "    .dataframe thead th {\n",
       "        text-align: right;\n",
       "    }\n",
       "</style>\n",
       "<table border=\"1\" class=\"dataframe\">\n",
       "  <thead>\n",
       "    <tr style=\"text-align: right;\">\n",
       "      <th></th>\n",
       "      <th>date</th>\n",
       "      <th>group</th>\n",
       "      <th>visitors</th>\n",
       "    </tr>\n",
       "  </thead>\n",
       "  <tbody>\n",
       "  </tbody>\n",
       "</table>\n",
       "</div>"
      ],
      "text/plain": [
       "Empty DataFrame\n",
       "Columns: [date, group, visitors]\n",
       "Index: []"
      ]
     },
     "execution_count": 13,
     "metadata": {},
     "output_type": "execute_result"
    }
   ],
   "source": [
    "duplicateRows2 = visitors[visitors.duplicated (keep='last')]\n",
    "duplicateRows2"
   ]
  },
  {
   "cell_type": "code",
   "execution_count": 14,
   "metadata": {},
   "outputs": [],
   "source": [
    "visitors['date'] = visitors['date'].map(\n",
    "    lambda x: dt.datetime.strptime(x, '%Y-%m-%d')\n",
    ")"
   ]
  },
  {
   "cell_type": "markdown",
   "metadata": {},
   "source": [
    "У нас есть 2 датасета без пропусков и дубликатов, можно работать дальше. В первом датасете 1197 строк, собраны id заказов и пользователей, совершивших заказ, сумма, дата заказа и группа. В втором - 62 строки - дата, группа и количество пользователей в указанную дату в указанной группе A/B-теста"
   ]
  },
  {
   "cell_type": "markdown",
   "metadata": {},
   "source": [
    "### Построим график кумулятивной выручки по группам"
   ]
  },
  {
   "cell_type": "code",
   "execution_count": 15,
   "metadata": {},
   "outputs": [
    {
     "name": "stdout",
     "output_type": "stream",
     "text": [
      "        date group  orders  buyers  revenue  visitors\n",
      "0 2019-08-01     A      24      20   148579       719\n",
      "1 2019-08-01     B      21      20   101217       713\n",
      "2 2019-08-02     A      44      38   242401      1338\n",
      "3 2019-08-02     B      45      43   266748      1294\n",
      "4 2019-08-03     A      68      62   354874      1845\n"
     ]
    }
   ],
   "source": [
    "datesGroups = orders[['date','group']].drop_duplicates()\n",
    "ordersAggregated = datesGroups.apply(lambda x: orders[np.logical_and(orders['date'] <= x['date'],\\\n",
    "                                                                     orders['group'] == x['group'])]\\\n",
    ".agg({'date' : 'max', 'group' : 'max', 'transactionId' : 'nunique', 'visitorId' : 'nunique', 'revenue' : 'sum'}),\\\n",
    "                                     axis=1).sort_values(by=['date','group'])\n",
    "\n",
    "visitorsAggregated = datesGroups.apply(lambda x: visitors[np.logical_and(visitors['date'] <= x['date'],\\\n",
    "                                                                         visitors['group'] == x['group'])]\n",
    "                                       .agg({'date' : 'max', 'group' : 'max', 'visitors' : 'sum'}), axis=1)\\\n",
    "                                       .sort_values(by=['date','group'])\n",
    "\n",
    "cumulativeData = ordersAggregated.merge(visitorsAggregated, left_on=['date', 'group'], right_on=['date', 'group'])\n",
    "cumulativeData.columns = ['date', 'group', 'orders', 'buyers', 'revenue', 'visitors']\n",
    "\n",
    "print(cumulativeData.head(5)) "
   ]
  },
  {
   "cell_type": "code",
   "execution_count": 16,
   "metadata": {},
   "outputs": [
    {
     "data": {
      "image/png": "[encoded data removed]",
      "text/plain": [
       "<Figure size 1440x432 with 1 Axes>"
      ]
     },
     "metadata": {
      "needs_background": "light"
     },
     "output_type": "display_data"
    }
   ],
   "source": [
    "# датафрейм с кумулятивным количеством заказов и кумулятивной выручкой по дням в группе А\n",
    "cumulativeRevenueA = cumulativeData[cumulativeData['group']=='A'][['date','revenue', 'orders']]\n",
    "\n",
    "# датафрейм с кумулятивным количеством заказов и кумулятивной выручкой по дням в группе B\n",
    "cumulativeRevenueB = cumulativeData[cumulativeData['group']=='B'][['date','revenue', 'orders']]\n",
    "\n",
    "plt.figure(figsize=(20,6))\n",
    "plt.grid()\n",
    "plt.title('График кумулятивной выручки по группам')\n",
    "plt.xlabel('Дата')\n",
    "plt.ylabel('Выручка')\n",
    "\n",
    "# Строим график выручки группы А\n",
    "plt.plot(cumulativeRevenueA['date'], cumulativeRevenueA['revenue'], label='A')\n",
    "\n",
    "# Строим график выручки группы B\n",
    "plt.plot(cumulativeRevenueB['date'], cumulativeRevenueB['revenue'], label='B')\n",
    "\n",
    "plt.legend();"
   ]
  },
  {
   "cell_type": "markdown",
   "metadata": {},
   "source": [
    "Выручка в группе А равномерно увеличивается на протяжении всего теста, в группе В в одной точке дала резкий рост и в целом выше, чем в А. Такой всплеск может говорить о резком увеличении числа заказов или о появлении очень дорогих."
   ]
  },
  {
   "cell_type": "markdown",
   "metadata": {},
   "source": [
    "### Построим график кумулятивного среднего чека по группам"
   ]
  },
  {
   "cell_type": "code",
   "execution_count": 17,
   "metadata": {},
   "outputs": [
    {
     "data": {
      "image/png": "[encoded data removed]",
      "text/plain": [
       "<Figure size 1440x432 with 1 Axes>"
      ]
     },
     "metadata": {
      "needs_background": "light"
     },
     "output_type": "display_data"
    }
   ],
   "source": [
    "plt.figure(figsize=(20,6))\n",
    "plt.grid()\n",
    "plt.title('График кумулятивного среднего чека по группам')\n",
    "plt.xlabel('Дата')\n",
    "plt.ylabel('Кумулятивный средний чек')\n",
    "\n",
    "plt.plot(cumulativeRevenueA['date'], cumulativeRevenueA['revenue']/cumulativeRevenueA['orders'], label='A')\n",
    "plt.plot(cumulativeRevenueB['date'], cumulativeRevenueB['revenue']/cumulativeRevenueB['orders'], label='B')\n",
    "plt.legend();"
   ]
  },
  {
   "cell_type": "markdown",
   "metadata": {},
   "source": [
    "Средний чек стабилизируется к концу теста, у группы А показатели растут, а у В падают, но плавно. У это же группы был резкий скачок, вероятно это связано все таки с очень дорогими заказми."
   ]
  },
  {
   "cell_type": "markdown",
   "metadata": {},
   "source": [
    "### Построим график относительного изменения кумулятивного среднего чека группы B к группе A"
   ]
  },
  {
   "cell_type": "code",
   "execution_count": 18,
   "metadata": {},
   "outputs": [
    {
     "data": {
      "image/png": "[encoded data removed]",
      "text/plain": [
       "<Figure size 1440x432 with 1 Axes>"
      ]
     },
     "metadata": {
      "needs_background": "light"
     },
     "output_type": "display_data"
    }
   ],
   "source": [
    "# собираем данные в одном датафрейме\n",
    "mergedCumulativeRevenue = cumulativeRevenueA.merge(cumulativeRevenueB, left_on='date', right_on='date',\\\n",
    "                                                   how='left', suffixes=['A', 'B'])\n",
    "plt.figure(figsize=(20,6))\n",
    "plt.grid()\n",
    "plt.title('График относительного изменения кумулятивного среднего чека группы B к группе A')\n",
    "plt.xlabel('Дата')\n",
    "\n",
    "# cтроим отношение средних чеков\n",
    "plt.plot(mergedCumulativeRevenue['date'], (mergedCumulativeRevenue['revenueB']/mergedCumulativeRevenue['ordersB']\\\n",
    "                                          )/(mergedCumulativeRevenue['revenueA']/mergedCumulativeRevenue['ordersA'])-1)\n",
    "\n",
    "# добавляем ось X\n",
    "plt.axhline(y=0, color='black', linestyle='--');"
   ]
  },
  {
   "cell_type": "markdown",
   "metadata": {},
   "source": [
    "В нескольких точках график изменения резко скачет, значит в  данных есть аномалии и выбросы, их нужно убрать."
   ]
  },
  {
   "cell_type": "markdown",
   "metadata": {},
   "source": [
    "### Построим график кумулятивного среднего количества заказов на посетителя по группам"
   ]
  },
  {
   "cell_type": "code",
   "execution_count": 19,
   "metadata": {},
   "outputs": [
    {
     "data": {
      "image/png": "[encoded data removed]",
      "text/plain": [
       "<Figure size 1440x432 with 1 Axes>"
      ]
     },
     "metadata": {
      "needs_background": "light"
     },
     "output_type": "display_data"
    }
   ],
   "source": [
    "# датафрейм с кумулятивным количеством заказов, посетителями и кумулятивной выручкой по дням в группе А\n",
    "cumulativordersA = cumulativeData[cumulativeData['group']=='A'][['date','revenue', 'orders', 'visitors']]\n",
    "\n",
    "# датафрейм с кумулятивным количеством заказов, посетителями и кумулятивной выручкой по дням в группе B\n",
    "cumulativeordersB = cumulativeData[cumulativeData['group']=='B'][['date','revenue', 'orders', 'visitors']]\n",
    "\n",
    "plt.figure(figsize=(20,6))\n",
    "plt.grid()\n",
    "plt.title('График кумулятивного среднего количества заказов на посетителя по группам')\n",
    "plt.xlabel('Дата')\n",
    "plt.ylabel('Кумулятивное среднее количество заказов')\n",
    "\n",
    "plt.plot(cumulativordersA['date'], cumulativordersA['orders']/cumulativordersA['visitors'], label='A')\n",
    "plt.plot(cumulativeordersB['date'], cumulativeordersB['orders']/cumulativeordersB['visitors'], label='B')\n",
    "plt.legend();"
   ]
  },
  {
   "cell_type": "markdown",
   "metadata": {},
   "source": [
    "Мы видим, что среднее количество заказов в группе В  выше, чем в группе А, и наблюдаем выбросы в самом начале и стабилизацию под конец"
   ]
  },
  {
   "cell_type": "markdown",
   "metadata": {},
   "source": [
    "### Построим график относительного изменения кумулятивного среднего количества заказов на посетителя группы B к группе A\n"
   ]
  },
  {
   "cell_type": "code",
   "execution_count": 20,
   "metadata": {},
   "outputs": [
    {
     "data": {
      "image/png": "[encoded data removed]",
      "text/plain": [
       "<Figure size 1440x432 with 1 Axes>"
      ]
     },
     "metadata": {
      "needs_background": "light"
     },
     "output_type": "display_data"
    }
   ],
   "source": [
    "# собираем данные в одном датафрейме\n",
    "mergedCumulativeOrders = cumulativordersA.merge(cumulativeordersB, left_on='date', right_on='date',\\\n",
    "                                                   how='left', suffixes=['A', 'B'])\n",
    "plt.figure(figsize=(20,6))\n",
    "plt.grid()\n",
    "plt.title('График относительного изменения кумулятивного среднего количества заказов на посетителя группы B к группе A')\n",
    "plt.xlabel('Дата')\n",
    "\n",
    "# cтроим отношение \n",
    "plt.plot(mergedCumulativeOrders['date'], (mergedCumulativeOrders['ordersB']/mergedCumulativeOrders['visitorsB']\\\n",
    "                                          )/(mergedCumulativeOrders['ordersA']/mergedCumulativeOrders['visitorsA'])-1)\n",
    "\n",
    "# добавляем ось X\n",
    "plt.axhline(y=0, color='black', linestyle='--');"
   ]
  },
  {
   "cell_type": "markdown",
   "metadata": {},
   "source": [
    "График различия резко прыгнул в самом начале, потом так же резко упал и постепенно рос и стабилизировался. В начале теста есть явные выбросы."
   ]
  },
  {
   "cell_type": "markdown",
   "metadata": {},
   "source": [
    "### Построим точечный график количества заказов по пользователям"
   ]
  },
  {
   "cell_type": "code",
   "execution_count": 21,
   "metadata": {},
   "outputs": [
    {
     "data": {
      "text/plain": [
       "<matplotlib.collections.PathCollection at 0x7fe15c3bd460>"
      ]
     },
     "execution_count": 21,
     "metadata": {},
     "output_type": "execute_result"
    },
    {
     "data": {
      "image/png": "[encoded data removed]",
      "text/plain": [
       "<Figure size 1080x360 with 1 Axes>"
      ]
     },
     "metadata": {
      "needs_background": "light"
     },
     "output_type": "display_data"
    }
   ],
   "source": [
    "ordersUsers = orders.merge(visitors, left_on='date', right_on='date', how='left')\n",
    "ordersByUsers = (\n",
    "    ordersUsers.groupby('visitorId', as_index=False)\n",
    "    .agg({'transactionId': 'nunique'})\n",
    ")\n",
    "\n",
    "ordersByUsers.columns = ['userId', 'orders']\n",
    "\n",
    "x_values = pd.Series(range(0,len(ordersByUsers)))\n",
    "plt.figure(figsize=(15,5))\n",
    "plt.grid()\n",
    "plt.title('График количества заказов на пользователя')\n",
    "plt.scatter(x_values, ordersByUsers['orders']) \n"
   ]
  },
  {
   "cell_type": "markdown",
   "metadata": {},
   "source": [
    "На графике видно, что много пользователей с 1-2 заказами, меньше с 3 и еще меньше с 4. Есть и рекордсмены - у них больше 8"
   ]
  },
  {
   "cell_type": "markdown",
   "metadata": {},
   "source": [
    "### Посчитаем 95-й и 99-й перцентили количества заказов на пользователя. Выберем границу для определения аномальных пользователей"
   ]
  },
  {
   "cell_type": "code",
   "execution_count": 22,
   "metadata": {},
   "outputs": [
    {
     "name": "stdout",
     "output_type": "stream",
     "text": [
      "[2. 4.]\n"
     ]
    }
   ],
   "source": [
    "print(np.percentile(ordersByUsers['orders'], [95, 99])) "
   ]
  },
  {
   "cell_type": "markdown",
   "metadata": {},
   "source": [
    "Не более 5% пользователей оформили больше 2 заказов, и 10% пользователей сделали заказ не более 1 раза. Границу можно установить на 3 заказах."
   ]
  },
  {
   "cell_type": "markdown",
   "metadata": {},
   "source": [
    "### Построим точечный график стоимостей заказов"
   ]
  },
  {
   "cell_type": "code",
   "execution_count": 23,
   "metadata": {},
   "outputs": [
    {
     "data": {
      "image/png": "[encoded data removed]",
      "text/plain": [
       "<Figure size 1080x360 with 1 Axes>"
      ]
     },
     "metadata": {
      "needs_background": "light"
     },
     "output_type": "display_data"
    }
   ],
   "source": [
    "x_values = pd.Series(range(0,len(orders['revenue'])))\n",
    "plt.figure(figsize=(15,5))\n",
    "plt.grid()\n",
    "plt.title('График стоимостей заказов')\n",
    "plt.scatter(x_values, orders['revenue'], alpha=0.1);"
   ]
  },
  {
   "cell_type": "code",
   "execution_count": 24,
   "metadata": {},
   "outputs": [
    {
     "data": {
      "image/png": "[encoded data removed]",
      "text/plain": [
       "<Figure size 1080x360 with 1 Axes>"
      ]
     },
     "metadata": {
      "needs_background": "light"
     },
     "output_type": "display_data"
    }
   ],
   "source": [
    "x_values = pd.Series(range(0,len(orders['revenue'])))\n",
    "plt.figure(figsize=(15,5))\n",
    "plt.grid()\n",
    "plt.title('График стоимостей заказов')\n",
    "plt.scatter(x_values, orders['revenue'], alpha=0.6)\n",
    "plt.ylim((0,60000));"
   ]
  },
  {
   "cell_type": "markdown",
   "metadata": {},
   "source": [
    "Пока мало что можно сказать, но есть заказ сильно выбивающийся, он как раз и дал такой скачок в графике.Основная масса до 20000."
   ]
  },
  {
   "cell_type": "markdown",
   "metadata": {},
   "source": [
    "### Посчитаем 95-й и 99-й перцентили стоимости заказов"
   ]
  },
  {
   "cell_type": "code",
   "execution_count": 25,
   "metadata": {},
   "outputs": [
    {
     "name": "stdout",
     "output_type": "stream",
     "text": [
      "[28000.  58233.2]\n"
     ]
    }
   ],
   "source": [
    "print(np.percentile(orders['revenue'], [ 95, 99])) "
   ]
  },
  {
   "cell_type": "markdown",
   "metadata": {},
   "source": [
    "Не  более 5% сделали заказы на 28000 и не более 1% - на 58233.2. Установить верхнюю границу можно на 30000"
   ]
  },
  {
   "cell_type": "markdown",
   "metadata": {},
   "source": [
    "### Посчитаем статистическую значимость различий в среднем количестве заказов на посетителя между группами по «сырым» данным"
   ]
  },
  {
   "cell_type": "markdown",
   "metadata": {},
   "source": [
    "Сформулируем гипотезы. Нулевая: различий в среднем количестве заказов между группами нет. Альтернативная: различия в среднем между группами есть."
   ]
  },
  {
   "cell_type": "code",
   "execution_count": 26,
   "metadata": {},
   "outputs": [
    {
     "name": "stdout",
     "output_type": "stream",
     "text": [
      "        date  ordersPerDateA  revenuePerDateA  ordersPerDateB  \\\n",
      "0 2019-08-01              24           148579              21   \n",
      "1 2019-08-02              20            93822              24   \n",
      "2 2019-08-03              24           112473              16   \n",
      "3 2019-08-04              16            70825              17   \n",
      "4 2019-08-05              25           124218              23   \n",
      "\n",
      "   revenuePerDateB  ordersCummulativeA  revenueCummulativeA  \\\n",
      "0           101217                  24               148579   \n",
      "1           165531                  44               242401   \n",
      "2           114248                  68               354874   \n",
      "3           108571                  84               425699   \n",
      "4            92428                 109               549917   \n",
      "\n",
      "   ordersCummulativeB  revenueCummulativeB  visitorsPerDateA  \\\n",
      "0                  21               101217               719   \n",
      "1                  45               266748               619   \n",
      "2                  61               380996               507   \n",
      "3                  78               489567               717   \n",
      "4                 101               581995               756   \n",
      "\n",
      "   visitorsPerDateB  visitorsCummulativeA  visitorsCummulativeB  \n",
      "0               713                   719                   713  \n",
      "1               581                  1338                  1294  \n",
      "2               509                  1845                  1803  \n",
      "3               770                  2562                  2573  \n",
      "4               707                  3318                  3280  \n"
     ]
    }
   ],
   "source": [
    "visitorsADaily = visitors[visitors['group'] == 'A'][['date', 'visitors']]\n",
    "visitorsADaily.columns = ['date', 'visitorsPerDateA'] #количество пользователей в выбранную дату в группе A\n",
    "\n",
    "visitorsACummulative = visitorsADaily.apply(\n",
    "    lambda x: visitorsADaily[visitorsADaily['date'] <= x['date']].agg(\n",
    "        {'date': 'max', 'visitorsPerDateA': 'sum'}\n",
    "    ),\n",
    "    axis=1,\n",
    ")\n",
    "visitorsACummulative.columns = ['date', 'visitorsCummulativeA'] # #количество пользователей до выбранной\n",
    "                                                                #даты включительно в группе A\n",
    "\n",
    "visitorsBDaily = visitors[visitors['group'] == 'B'][['date', 'visitors']]\n",
    "visitorsBDaily.columns = ['date', 'visitorsPerDateB'] #количество пользователей в выбранную дату в группе B\n",
    "visitorsBCummulative = visitorsBDaily.apply(\n",
    "    lambda x: visitorsBDaily[visitorsBDaily['date'] <= x['date']].agg(\n",
    "        {'date': 'max', 'visitorsPerDateB': 'sum'}\n",
    "    ),\n",
    "    axis=1,\n",
    ")\n",
    "visitorsBCummulative.columns = ['date', 'visitorsCummulativeB'] #количество пользователей до выбранной\n",
    "                                                                #даты включительно в группе B\n",
    "\n",
    "ordersADaily = (\n",
    "    orders[orders['group'] == 'A'][['date', 'transactionId', 'visitorId', 'revenue']]\n",
    "    .groupby('date', as_index=False)\n",
    "    .agg({'transactionId': pd.Series.nunique, 'revenue': 'sum'})\n",
    ")\n",
    "ordersADaily.columns = ['date', 'ordersPerDateA', 'revenuePerDateA'] #количество заказов в выбранную дату и \n",
    "                                                                     #суммарная выручка в выбранную дату в группе A\n",
    "\n",
    "ordersACummulative = ordersADaily.apply(\n",
    "    lambda x: ordersADaily[ordersADaily['date'] <= x['date']].agg(\n",
    "        {'date': 'max', 'ordersPerDateA': 'sum', 'revenuePerDateA': 'sum'}\n",
    "    ),\n",
    "    axis=1,\n",
    ").sort_values(by=['date'])\n",
    "ordersACummulative.columns = [\n",
    "    'date',\n",
    "    'ordersCummulativeA', #суммарное число заказов до выбранной даты включительно в группе A\n",
    "    'revenueCummulativeA', #суммарная выручка до выбранной даты включительно в группе A\n",
    "]\n",
    "\n",
    "ordersBDaily = (\n",
    "    orders[orders['group'] == 'B'][['date', 'transactionId', 'visitorId', 'revenue']]\n",
    "    .groupby('date', as_index=False)\n",
    "    .agg({'transactionId': pd.Series.nunique, 'revenue': 'sum'})\n",
    ")\n",
    "ordersBDaily.columns = ['date', 'ordersPerDateB', 'revenuePerDateB'] ##количество заказов в выбранную дату и \n",
    "                                                                     #суммарная выручка в выбранную дату в группе B\n",
    "\n",
    "ordersBCummulative = ordersBDaily.apply(\n",
    "    lambda x: ordersBDaily[ordersBDaily['date'] <= x['date']].agg(\n",
    "        {'date': 'max', 'ordersPerDateB': 'sum', 'revenuePerDateB': 'sum'}\n",
    "    ),\n",
    "    axis=1,\n",
    ").sort_values(by=['date'])\n",
    "ordersBCummulative.columns = [\n",
    "    'date',\n",
    "    'ordersCummulativeB',  ##суммарное число заказов до выбранной даты включительно в группе B\n",
    "    'revenueCummulativeB', #суммарная выручка до выбранной даты включительно в группе B\n",
    "]\n",
    "\n",
    "data = (\n",
    "    ordersADaily.merge(\n",
    "        ordersBDaily, left_on='date', right_on='date', how='left'\n",
    "    )\n",
    "    .merge(ordersACummulative, left_on='date', right_on='date', how='left')\n",
    "    .merge(ordersBCummulative, left_on='date', right_on='date', how='left')\n",
    "    .merge(visitorsADaily, left_on='date', right_on='date', how='left')\n",
    "    .merge(visitorsBDaily, left_on='date', right_on='date', how='left')\n",
    "    .merge(visitorsACummulative, left_on='date', right_on='date', how='left')\n",
    "    .merge(visitorsBCummulative, left_on='date', right_on='date', how='left')\n",
    ")\n",
    "\n",
    "print(data.head(5)) \n"
   ]
  },
  {
   "cell_type": "code",
   "execution_count": 27,
   "metadata": {},
   "outputs": [],
   "source": [
    "ordersByUsersA = (\n",
    "    orders[orders['group'] == 'A']\n",
    "    .groupby('visitorId', as_index=False)\n",
    "    .agg({'transactionId': pd.Series.nunique})\n",
    ")\n",
    "ordersByUsersA.columns = ['userId', 'orders']\n",
    "\n",
    "ordersByUsersB = (\n",
    "    orders[orders['group'] == 'B']\n",
    "    .groupby('visitorId', as_index=False)\n",
    "    .agg({'transactionId': pd.Series.nunique})\n",
    ")\n",
    "ordersByUsersB.columns = ['userId', 'orders']"
   ]
  },
  {
   "cell_type": "code",
   "execution_count": 28,
   "metadata": {},
   "outputs": [
    {
     "name": "stdout",
     "output_type": "stream",
     "text": [
      "0.017\n",
      "0.138\n"
     ]
    }
   ],
   "source": [
    "sampleA = pd.concat(\n",
    "    [\n",
    "        ordersByUsersA['orders'],\n",
    "        pd.Series(\n",
    "            0,\n",
    "            index=np.arange(\n",
    "                data['visitorsPerDateA'].sum() - len(ordersByUsersA['orders'])\n",
    "            ),\n",
    "            name='orders',\n",
    "        ),\n",
    "    ],\n",
    "    axis=0,\n",
    ")\n",
    "\n",
    "sampleB = pd.concat(\n",
    "    [\n",
    "        ordersByUsersB['orders'],\n",
    "        pd.Series(\n",
    "            0,\n",
    "            index=np.arange(\n",
    "                data['visitorsPerDateB'].sum() - len(ordersByUsersB['orders'])\n",
    "            ),\n",
    "            name='orders',\n",
    "        ),\n",
    "    ],\n",
    "    axis=0,\n",
    ")\n",
    "\n",
    "print(\"{0:.3f}\".format(stats.mannwhitneyu(sampleA, sampleB)[1]))\n",
    "\n",
    "print(\"{0:.3f}\".format(sampleB.mean() / sampleA.mean() - 1))\n"
   ]
  },
  {
   "cell_type": "markdown",
   "metadata": {},
   "source": [
    "Первое число — p-value = 0.017 меньше 0.05. Значит, нулевую гипотезу о том, что статистически значимых различий в среднем числе заказов между группами нет,  отвергаем. Группа В лучше А на почти на 14%"
   ]
  },
  {
   "cell_type": "markdown",
   "metadata": {},
   "source": [
    "### Посчитаем статистическую значимость различий в среднем чеке заказа между группами по «сырым» данным"
   ]
  },
  {
   "cell_type": "markdown",
   "metadata": {},
   "source": [
    "Теперь проверим статистическую значимость различий в среднем чеке между сегментами. Нулевая гипотеза: различий в среднем чеке между группами нет. Альтернативная гипотеза: различия в среднем чеке между группами есть"
   ]
  },
  {
   "cell_type": "code",
   "execution_count": 29,
   "metadata": {},
   "outputs": [
    {
     "name": "stdout",
     "output_type": "stream",
     "text": [
      "0.729\n",
      "0.259\n"
     ]
    }
   ],
   "source": [
    "print('{0:.3f}'.format(stats.mannwhitneyu(orders[orders['group']=='A']['revenue'],\\\n",
    "                                          orders[orders['group']=='B']['revenue'])[1]))\n",
    "print('{0:.3f}'.format(orders[orders['group']=='B']['revenue'].mean()/orders[orders['group']=='A']['revenue'].mean()-1))"
   ]
  },
  {
   "cell_type": "markdown",
   "metadata": {},
   "source": [
    "P-value значительно больше 0.05. Значит, причин отвергать нулевую гипотезу и считать, что в среднем чеке есть различия, нет. Средний чек группы B выше среднего чека группы A почти на 26%.\n"
   ]
  },
  {
   "cell_type": "markdown",
   "metadata": {},
   "source": [
    "### Посчитаем статистическую значимость различий в среднем количестве заказов на посетителя между группами по «очищенным» данным"
   ]
  },
  {
   "cell_type": "markdown",
   "metadata": {},
   "source": [
    "Мы взяли границу в стоимости на 30000, а в количестве заказов на 2\n",
    "\n",
    "Сделаем срезы пользователей с числом заказов больше 2 — usersWithManyOrders и пользователей, совершивших заказы дороже 30 000 — usersWithExpensiveOrders. Объединим их в таблице abnormalUsers"
   ]
  },
  {
   "cell_type": "code",
   "execution_count": 30,
   "metadata": {},
   "outputs": [
    {
     "name": "stdout",
     "output_type": "stream",
     "text": [
      "1099    148427295\n",
      "18      199603092\n",
      "928     204675465\n",
      "23      237748145\n",
      "37      249864742\n",
      "dtype: int64\n",
      "68\n"
     ]
    }
   ],
   "source": [
    "usersWithManyOrders = pd.concat(\n",
    "    [\n",
    "        ordersByUsersA[ordersByUsersA['orders'] > 2]['userId'],\n",
    "        ordersByUsersB[ordersByUsersB['orders'] > 2]['userId'],\n",
    "    ],\n",
    "    axis=0,\n",
    ")\n",
    "usersWithExpensiveOrders = orders[orders['revenue'] > 30000]['visitorId']\n",
    "abnormalUsers = (\n",
    "    pd.concat([usersWithManyOrders, usersWithExpensiveOrders], axis=0)\n",
    "    .drop_duplicates()\n",
    "    .sort_values()\n",
    ")\n",
    "print(abnormalUsers.head(5))\n",
    "print(abnormalUsers.shape[0])"
   ]
  },
  {
   "cell_type": "markdown",
   "metadata": {},
   "source": [
    "Итого 68 аномальных посетителей. Узнаем, как их действия повлияли на результаты теста. Посчитаем статистическую значимость различий в среднем количестве заказов между группами теста по очищенным данным."
   ]
  },
  {
   "cell_type": "code",
   "execution_count": 31,
   "metadata": {},
   "outputs": [],
   "source": [
    "sampleAFiltered = pd.concat(\n",
    "    [\n",
    "        ordersByUsersA[\n",
    "            np.logical_not(ordersByUsersA['userId'].isin(abnormalUsers))\n",
    "        ]['orders'],\n",
    "        pd.Series(\n",
    "            0,\n",
    "            index=np.arange(\n",
    "                data['visitorsPerDateA'].sum() - len(ordersByUsersA['orders'])\n",
    "            ),\n",
    "            name='orders',\n",
    "        ),\n",
    "    ],\n",
    "    axis=0,\n",
    ")\n",
    "\n",
    "sampleBFiltered = pd.concat(\n",
    "    [\n",
    "        ordersByUsersB[\n",
    "            np.logical_not(ordersByUsersB['userId'].isin(abnormalUsers))\n",
    "        ]['orders'],\n",
    "        pd.Series(\n",
    "            0,\n",
    "            index=np.arange(\n",
    "                data['visitorsPerDateB'].sum() - len(ordersByUsersB['orders'])\n",
    "            ),\n",
    "            name='orders',\n",
    "        ),\n",
    "    ],\n",
    "    axis=0,\n",
    ")"
   ]
  },
  {
   "cell_type": "code",
   "execution_count": 32,
   "metadata": {},
   "outputs": [
    {
     "name": "stdout",
     "output_type": "stream",
     "text": [
      "0.013\n",
      "0.172\n"
     ]
    }
   ],
   "source": [
    "print('{0:.3f}'.format(stats.mannwhitneyu(sampleAFiltered, sampleBFiltered)[1]))\n",
    "print('{0:.3f}'.format(sampleBFiltered.mean()/sampleAFiltered.mean()-1))"
   ]
  },
  {
   "cell_type": "markdown",
   "metadata": {},
   "source": [
    "Первое число — p-value = 0.013 по прежнему меньше 0.05. Значит, нулевую гипотезу о том, что статистически значимых различий в среднем числе заказов между группами нет, отвергаем. Группа В лучше А на почти на 17%"
   ]
  },
  {
   "cell_type": "markdown",
   "metadata": {},
   "source": [
    "### Посчитаем статистическую значимость различий в среднем чеке заказа между группами по «очищенным» данным"
   ]
  },
  {
   "cell_type": "code",
   "execution_count": 33,
   "metadata": {},
   "outputs": [
    {
     "name": "stdout",
     "output_type": "stream",
     "text": [
      "0.720\n",
      "-0.023\n"
     ]
    }
   ],
   "source": [
    "print(\n",
    "    '{0:.3f}'.format(\n",
    "        stats.mannwhitneyu(\n",
    "            orders[\n",
    "                np.logical_and(\n",
    "                    orders['group'] == 'A',\n",
    "                    np.logical_not(orders['visitorId'].isin(abnormalUsers)),\n",
    "                )\n",
    "            ]['revenue'],\n",
    "            orders[\n",
    "                np.logical_and(\n",
    "                    orders['group'] == 'B',\n",
    "                    np.logical_not(orders['visitorId'].isin(abnormalUsers)),\n",
    "                )\n",
    "            ]['revenue'],\n",
    "        )[1]\n",
    "    )\n",
    ")\n",
    "\n",
    "print(\n",
    "    \"{0:.3f}\".format(\n",
    "        orders[\n",
    "            np.logical_and(\n",
    "                orders['group'] == 'B',\n",
    "                np.logical_not(orders['visitorId'].isin(abnormalUsers)),\n",
    "            )\n",
    "        ]['revenue'].mean()\n",
    "        / orders[\n",
    "            np.logical_and(\n",
    "                orders['group'] == 'A',\n",
    "                np.logical_not(orders['visitorId'].isin(abnormalUsers)),\n",
    "            )\n",
    "        ]['revenue'].mean()\n",
    "        - 1\n",
    "    )\n",
    ")"
   ]
  },
  {
   "cell_type": "markdown",
   "metadata": {},
   "source": [
    "P-value значительно снова больше 0.05, почти не изменился. Значит, причин отвергать нулевую гипотезу и считать, что в среднем чеке есть различия, нет. А вот по группам изменения существенные. По очищенным данным можно заметить, что группа А лучше, чем В на 2%"
   ]
  },
  {
   "cell_type": "markdown",
   "metadata": {},
   "source": [
    "Итог:\n",
    "\n",
    "Есть статистически значимое различие по среднему количеству заказов между группами и по «сырым», и по данным после фильтрации аномалий;\n",
    "\n",
    "Нет статистически значимого различия по среднему чеку между группами ни по «сырым», ни по данным после фильтрации аномалий;\n"
   ]
  },
  {
   "cell_type": "markdown",
   "metadata": {},
   "source": [
    "### Примем решение по результатам теста и объясним его"
   ]
  },
  {
   "cell_type": "markdown",
   "metadata": {},
   "source": [
    "# Приоретизация гипотез\n",
    "\n",
    "1. В начале исследования мы приоретизировали 9 гипотез для по увеличению выручки интернет-магазина с указанными параметрами Reach, Impact, Confidence, Effort. Среди них при приоретизации с помощью ICE в топ вошли запуск акций, новые каналы трафика и форма подписки. На последнем месте - изменение цвета фона\n",
    "\n",
    "2. А при приоретизации с помощью RICE - приоритете форма подписки на страницы для базы рассылок, почти в 2 раза отстает блок рекомендаций с категориями, новые каналы трафика и баннеры с акциями (на одном месте), а на самом последнем месте по-прежнему цвет фона.\n",
    "\n",
    "3. Ключевое отличие RICE от ICE скоринга заключается в том, что добавляется элемент «охвата», что меняет общую формулу вычисления.\n",
    "\n",
    "    Уровень охвата измеряется количеством людей (целевой аудитории) или событий за определённый период времени.\n",
    "\n",
    "    Влияние — показывает, какой вклад какая–либо функция или другая составляющая проекта вносит в общий продукт.\n",
    "\n",
    "    Уверенность — измеряется в процентах, которые показывают точность оценки охвата, влияния и трудозатрат.\n",
    "\n",
    "    Трудозатраты — подсчитывают затраты на рабочую силу, которая оценивается как количество человеко–часов/недель/месяцев и т.д., в зависимости от потребностей.\n",
    "\n",
    "    Из-за того, что добавили уровень охвата, который влияет на рейтинг напрямую, изменился и приоритет.\n",
    "\n",
    "# А\\В тест\n",
    "\n",
    "В ходе изучения результатов А\\В теста мы  построили графики, чтобы понять какая из групп по итогу лучше. Узнали, есть ли статистические значимые различия в среднем чеке и среднем количестве заказов на пользователя.\n",
    "\n",
    "1. Мы заметили, что выручка в группе А равномерно увеличивается на протяжении всего теста, в группе В в одной точке дала резкий рост и в целом выше, чем в А. Благодаря графику мы увидели, что в данных явно есть выбросы.\n",
    "\n",
    "2. Средний чек в целом стабилизируется к концу теста, у группы А показатели растут, а у В падают, но плавно. У этой же группы был резкий скачок\n",
    "\n",
    "3. Среднее количество заказов в группе В  выше, чем в группе А, наблюдаем снова выбросы в самом начале и стабилизацию под конец\n",
    "\n",
    "По итогу исследования рекомендую завершить тест - группа В по показателям  лучше группы А.\n",
    "\n",
    "Статистически значимые различия по среднему количеству заказов между группами как по сырым, так и по очищенным данным есть.\n",
    "\n",
    "А вот по среднему чеку - нет, даже несмотря на то, что по сырым данным группа В лучше на 26%, а по чистым на 2% лучше группа А."
   ]
  }
 ],
 "metadata": {
  "ExecuteTimeLog": [
   {
    "duration": 741,
    "start_time": "2023-04-05T13:01:15.743Z"
   },
   {
    "duration": 174,
    "start_time": "2023-04-05T13:02:11.593Z"
   },
   {
    "duration": 59,
    "start_time": "2023-04-05T13:02:21.139Z"
   },
   {
    "duration": 57,
    "start_time": "2023-04-05T13:02:29.603Z"
   },
   {
    "duration": 6,
    "start_time": "2023-04-05T13:09:40.706Z"
   },
   {
    "duration": 9,
    "start_time": "2023-04-05T13:09:46.901Z"
   },
   {
    "duration": 5,
    "start_time": "2023-04-05T13:11:19.035Z"
   },
   {
    "duration": 12,
    "start_time": "2023-04-05T13:11:22.537Z"
   },
   {
    "duration": 140,
    "start_time": "2023-04-05T13:11:53.332Z"
   },
   {
    "duration": 68,
    "start_time": "2023-04-05T13:12:21.273Z"
   },
   {
    "duration": 180,
    "start_time": "2023-04-05T13:38:36.240Z"
   },
   {
    "duration": 244,
    "start_time": "2023-04-05T13:39:00.242Z"
   },
   {
    "duration": 169,
    "start_time": "2023-04-05T13:39:09.102Z"
   },
   {
    "duration": 189,
    "start_time": "2023-04-05T13:42:49.903Z"
   },
   {
    "duration": 70,
    "start_time": "2023-04-05T14:22:56.249Z"
   },
   {
    "duration": 13,
    "start_time": "2023-04-05T14:23:00.868Z"
   },
   {
    "duration": 34,
    "start_time": "2023-04-05T14:24:21.670Z"
   },
   {
    "duration": 166,
    "start_time": "2023-04-05T14:25:00.475Z"
   },
   {
    "duration": 61,
    "start_time": "2023-04-05T14:33:24.217Z"
   },
   {
    "duration": 268,
    "start_time": "2023-04-05T14:33:33.635Z"
   },
   {
    "duration": 243,
    "start_time": "2023-04-05T14:35:12.145Z"
   },
   {
    "duration": 143,
    "start_time": "2023-04-05T14:35:18.234Z"
   },
   {
    "duration": 230,
    "start_time": "2023-04-05T14:35:21.842Z"
   },
   {
    "duration": 400,
    "start_time": "2023-04-05T14:37:29.865Z"
   },
   {
    "duration": 386,
    "start_time": "2023-04-05T14:38:14.389Z"
   },
   {
    "duration": 268,
    "start_time": "2023-04-05T14:44:11.641Z"
   },
   {
    "duration": 277,
    "start_time": "2023-04-05T14:44:16.782Z"
   },
   {
    "duration": 405,
    "start_time": "2023-04-05T14:49:13.307Z"
   },
   {
    "duration": 341,
    "start_time": "2023-04-05T14:49:18.162Z"
   },
   {
    "duration": 973,
    "start_time": "2023-04-07T15:52:05.156Z"
   },
   {
    "duration": 144,
    "start_time": "2023-04-07T15:52:06.132Z"
   },
   {
    "duration": 15,
    "start_time": "2023-04-07T15:52:06.278Z"
   },
   {
    "duration": 17,
    "start_time": "2023-04-07T15:52:06.295Z"
   },
   {
    "duration": 138,
    "start_time": "2023-04-07T15:52:06.586Z"
   },
   {
    "duration": 96,
    "start_time": "2023-04-07T15:52:06.783Z"
   },
   {
    "duration": 308,
    "start_time": "2023-04-07T15:52:07.056Z"
   },
   {
    "duration": 356,
    "start_time": "2023-04-07T15:52:07.368Z"
   },
   {
    "duration": 331,
    "start_time": "2023-04-07T15:52:07.727Z"
   },
   {
    "duration": 438,
    "start_time": "2023-04-07T15:52:08.158Z"
   },
   {
    "duration": 1086,
    "start_time": "2023-04-07T15:52:12.227Z"
   },
   {
    "duration": 406,
    "start_time": "2023-04-07T15:54:03.873Z"
   },
   {
    "duration": 453,
    "start_time": "2023-04-07T15:59:06.007Z"
   },
   {
    "duration": 180,
    "start_time": "2023-04-07T16:27:29.411Z"
   },
   {
    "duration": 18,
    "start_time": "2023-04-07T16:29:59.191Z"
   },
   {
    "duration": 164,
    "start_time": "2023-04-07T16:33:17.870Z"
   },
   {
    "duration": 168,
    "start_time": "2023-04-07T16:34:07.274Z"
   },
   {
    "duration": 483,
    "start_time": "2023-04-07T16:34:32.932Z"
   },
   {
    "duration": 394,
    "start_time": "2023-04-07T16:35:03.004Z"
   },
   {
    "duration": 441,
    "start_time": "2023-04-07T16:35:26.968Z"
   },
   {
    "duration": 385,
    "start_time": "2023-04-07T16:35:43.435Z"
   },
   {
    "duration": 375,
    "start_time": "2023-04-07T16:36:01.326Z"
   },
   {
    "duration": 187,
    "start_time": "2023-04-07T16:36:21.409Z"
   },
   {
    "duration": 290,
    "start_time": "2023-04-07T16:36:26.397Z"
   },
   {
    "duration": 6,
    "start_time": "2023-04-07T16:42:08.662Z"
   },
   {
    "duration": 5,
    "start_time": "2023-04-07T16:44:05.702Z"
   },
   {
    "duration": 5,
    "start_time": "2023-04-07T16:44:08.597Z"
   },
   {
    "duration": 137,
    "start_time": "2023-04-07T16:51:28.243Z"
   },
   {
    "duration": 230,
    "start_time": "2023-04-07T16:51:58.701Z"
   },
   {
    "duration": 20,
    "start_time": "2023-04-07T16:57:34.006Z"
   },
   {
    "duration": 143,
    "start_time": "2023-04-07T16:58:03.524Z"
   },
   {
    "duration": 18,
    "start_time": "2023-04-07T16:59:27.220Z"
   },
   {
    "duration": 540,
    "start_time": "2023-04-07T16:59:59.313Z"
   },
   {
    "duration": 31,
    "start_time": "2023-04-07T17:00:06.541Z"
   },
   {
    "duration": 11,
    "start_time": "2023-04-07T17:53:50.960Z"
   },
   {
    "duration": 959,
    "start_time": "2023-04-07T17:57:49.462Z"
   },
   {
    "duration": 710,
    "start_time": "2023-04-07T17:58:36.807Z"
   },
   {
    "duration": 900,
    "start_time": "2023-04-07T17:59:16.805Z"
   },
   {
    "duration": 10,
    "start_time": "2023-04-07T17:59:44.152Z"
   },
   {
    "duration": 9,
    "start_time": "2023-04-07T18:01:02.699Z"
   },
   {
    "duration": 21,
    "start_time": "2023-04-07T18:01:11.950Z"
   },
   {
    "duration": 745,
    "start_time": "2023-04-07T18:03:17.074Z"
   },
   {
    "duration": 17,
    "start_time": "2023-04-07T18:03:38.810Z"
   },
   {
    "duration": 7,
    "start_time": "2023-04-07T18:14:53.161Z"
   },
   {
    "duration": 1371,
    "start_time": "2023-04-08T06:58:17.905Z"
   },
   {
    "duration": 111,
    "start_time": "2023-04-08T06:58:19.279Z"
   },
   {
    "duration": 36,
    "start_time": "2023-04-08T06:58:19.392Z"
   },
   {
    "duration": 20,
    "start_time": "2023-04-08T06:58:19.431Z"
   },
   {
    "duration": 91,
    "start_time": "2023-04-08T06:58:19.453Z"
   },
   {
    "duration": 88,
    "start_time": "2023-04-08T06:58:19.546Z"
   },
   {
    "duration": 495,
    "start_time": "2023-04-08T06:58:19.636Z"
   },
   {
    "duration": 904,
    "start_time": "2023-04-08T06:58:20.132Z"
   },
   {
    "duration": 610,
    "start_time": "2023-04-08T06:58:21.038Z"
   },
   {
    "duration": 913,
    "start_time": "2023-04-08T06:58:21.651Z"
   },
   {
    "duration": 857,
    "start_time": "2023-04-08T06:58:22.566Z"
   },
   {
    "duration": 800,
    "start_time": "2023-04-08T06:58:23.426Z"
   },
   {
    "duration": 310,
    "start_time": "2023-04-08T06:58:24.228Z"
   },
   {
    "duration": 5,
    "start_time": "2023-04-08T06:58:24.540Z"
   },
   {
    "duration": 389,
    "start_time": "2023-04-08T06:58:24.548Z"
   },
   {
    "duration": 5,
    "start_time": "2023-04-08T06:58:24.939Z"
   },
   {
    "duration": 508,
    "start_time": "2023-04-08T06:58:24.946Z"
   },
   {
    "duration": 385,
    "start_time": "2023-04-08T06:58:25.455Z"
   },
   {
    "duration": 83,
    "start_time": "2023-04-08T06:58:25.842Z"
   },
   {
    "duration": 15,
    "start_time": "2023-04-08T06:58:25.928Z"
   },
   {
    "duration": 92,
    "start_time": "2023-04-08T06:58:25.946Z"
   },
   {
    "duration": 93,
    "start_time": "2023-04-08T06:58:26.042Z"
   },
   {
    "duration": 38,
    "start_time": "2023-04-08T06:58:26.137Z"
   },
   {
    "duration": 16,
    "start_time": "2023-04-08T06:58:26.224Z"
   },
   {
    "duration": 1250,
    "start_time": "2023-04-08T07:07:01.792Z"
   },
   {
    "duration": 106,
    "start_time": "2023-04-08T07:07:03.045Z"
   },
   {
    "duration": 20,
    "start_time": "2023-04-08T07:07:03.153Z"
   },
   {
    "duration": 15,
    "start_time": "2023-04-08T07:07:03.222Z"
   },
   {
    "duration": 98,
    "start_time": "2023-04-08T07:07:03.238Z"
   },
   {
    "duration": 87,
    "start_time": "2023-04-08T07:07:03.338Z"
   },
   {
    "duration": 529,
    "start_time": "2023-04-08T07:07:03.427Z"
   },
   {
    "duration": 636,
    "start_time": "2023-04-08T07:07:03.958Z"
   },
   {
    "duration": 438,
    "start_time": "2023-04-08T07:07:04.595Z"
   },
   {
    "duration": 893,
    "start_time": "2023-04-08T07:07:05.037Z"
   },
   {
    "duration": 832,
    "start_time": "2023-04-08T07:07:05.932Z"
   },
   {
    "duration": 707,
    "start_time": "2023-04-08T07:07:06.822Z"
   },
   {
    "duration": 430,
    "start_time": "2023-04-08T07:07:07.531Z"
   },
   {
    "duration": 63,
    "start_time": "2023-04-08T07:07:07.963Z"
   },
   {
    "duration": 396,
    "start_time": "2023-04-08T07:07:08.029Z"
   },
   {
    "duration": 4,
    "start_time": "2023-04-08T07:07:08.428Z"
   },
   {
    "duration": 530,
    "start_time": "2023-04-08T07:07:08.435Z"
   },
   {
    "duration": 360,
    "start_time": "2023-04-08T07:07:08.967Z"
   },
   {
    "duration": 98,
    "start_time": "2023-04-08T07:07:09.328Z"
   },
   {
    "duration": 11,
    "start_time": "2023-04-08T07:07:09.428Z"
   },
   {
    "duration": 9,
    "start_time": "2023-04-08T07:07:09.442Z"
   },
   {
    "duration": 75,
    "start_time": "2023-04-08T07:07:09.454Z"
   },
   {
    "duration": 95,
    "start_time": "2023-04-08T07:07:09.531Z"
   },
   {
    "duration": 21,
    "start_time": "2023-04-08T07:07:09.628Z"
   },
   {
    "duration": 48,
    "start_time": "2023-04-08T16:41:28.459Z"
   },
   {
    "duration": 1616,
    "start_time": "2023-04-08T16:41:36.486Z"
   },
   {
    "duration": 313,
    "start_time": "2023-04-08T16:41:38.104Z"
   },
   {
    "duration": 17,
    "start_time": "2023-04-08T16:41:38.419Z"
   },
   {
    "duration": 14,
    "start_time": "2023-04-08T16:41:38.823Z"
   },
   {
    "duration": 193,
    "start_time": "2023-04-08T16:41:40.574Z"
   },
   {
    "duration": 11,
    "start_time": "2023-04-08T16:41:41.337Z"
   },
   {
    "duration": 376,
    "start_time": "2023-04-08T16:48:19.043Z"
   },
   {
    "duration": 111,
    "start_time": "2023-04-08T16:48:19.442Z"
   },
   {
    "duration": 3,
    "start_time": "2023-04-08T16:48:36.153Z"
   },
   {
    "duration": 13,
    "start_time": "2023-04-08T16:48:41.135Z"
   },
   {
    "duration": 58,
    "start_time": "2023-04-08T16:48:42.185Z"
   },
   {
    "duration": 11,
    "start_time": "2023-04-08T16:48:42.515Z"
   },
   {
    "duration": 224,
    "start_time": "2023-04-08T16:48:43.705Z"
   },
   {
    "duration": 5,
    "start_time": "2023-04-08T16:49:18.631Z"
   },
   {
    "duration": 86,
    "start_time": "2023-04-08T16:50:01.593Z"
   },
   {
    "duration": 271,
    "start_time": "2023-04-08T16:52:03.284Z"
   },
   {
    "duration": 329,
    "start_time": "2023-04-08T16:52:06.494Z"
   },
   {
    "duration": 58,
    "start_time": "2023-04-08T16:52:39.561Z"
   },
   {
    "duration": 236,
    "start_time": "2023-04-08T16:53:18.396Z"
   },
   {
    "duration": 351,
    "start_time": "2023-04-08T16:53:42.284Z"
   },
   {
    "duration": 269,
    "start_time": "2023-04-08T16:54:01.044Z"
   },
   {
    "duration": 276,
    "start_time": "2023-04-08T16:57:29.007Z"
   },
   {
    "duration": 1229,
    "start_time": "2023-04-08T16:58:51.425Z"
   },
   {
    "duration": 336,
    "start_time": "2023-04-08T17:00:28.708Z"
   },
   {
    "duration": 156,
    "start_time": "2023-04-08T17:03:56.979Z"
   },
   {
    "duration": 5,
    "start_time": "2023-04-08T17:03:59.186Z"
   },
   {
    "duration": 248,
    "start_time": "2023-04-08T17:04:00.951Z"
   },
   {
    "duration": 167,
    "start_time": "2023-04-08T17:04:01.924Z"
   },
   {
    "duration": 159,
    "start_time": "2023-04-08T17:04:12.172Z"
   },
   {
    "duration": 176,
    "start_time": "2023-04-08T17:05:15.590Z"
   },
   {
    "duration": 150,
    "start_time": "2023-04-08T17:05:22.221Z"
   },
   {
    "duration": 177,
    "start_time": "2023-04-08T17:05:29.114Z"
   },
   {
    "duration": 162,
    "start_time": "2023-04-08T17:05:33.410Z"
   },
   {
    "duration": 183,
    "start_time": "2023-04-08T17:05:37.600Z"
   },
   {
    "duration": 179,
    "start_time": "2023-04-08T17:05:50.300Z"
   },
   {
    "duration": 154,
    "start_time": "2023-04-08T17:05:56.748Z"
   },
   {
    "duration": 1402,
    "start_time": "2023-04-09T14:16:57.855Z"
   },
   {
    "duration": 121,
    "start_time": "2023-04-09T14:16:59.259Z"
   },
   {
    "duration": 13,
    "start_time": "2023-04-09T14:16:59.382Z"
   },
   {
    "duration": 15,
    "start_time": "2023-04-09T14:17:00.799Z"
   },
   {
    "duration": 156,
    "start_time": "2023-04-09T14:17:02.696Z"
   },
   {
    "duration": 16,
    "start_time": "2023-04-09T14:17:03.260Z"
   },
   {
    "duration": 7,
    "start_time": "2023-04-09T14:17:03.795Z"
   },
   {
    "duration": 104,
    "start_time": "2023-04-09T14:18:21.420Z"
   },
   {
    "duration": 7,
    "start_time": "2023-04-09T14:18:27.112Z"
   },
   {
    "duration": 9,
    "start_time": "2023-04-09T14:18:36.151Z"
   },
   {
    "duration": 13,
    "start_time": "2023-04-09T14:19:18.664Z"
   },
   {
    "duration": 95,
    "start_time": "2023-04-09T14:19:18.936Z"
   },
   {
    "duration": 10,
    "start_time": "2023-04-09T14:19:19.193Z"
   },
   {
    "duration": 6,
    "start_time": "2023-04-09T14:19:19.627Z"
   },
   {
    "duration": 8,
    "start_time": "2023-04-09T14:19:20.362Z"
   },
   {
    "duration": 10,
    "start_time": "2023-04-09T14:29:53.342Z"
   },
   {
    "duration": 13,
    "start_time": "2023-04-09T14:30:02.846Z"
   },
   {
    "duration": 13,
    "start_time": "2023-04-09T14:30:13.204Z"
   }
  ],
  "kernelspec": {
   "display_name": "Python 3 (ipykernel)",
   "language": "python",
   "name": "python3"
  },
  "language_info": {
   "codemirror_mode": {
    "name": "ipython",
    "version": 3
   },
   "file_extension": ".py",
   "mimetype": "text/x-python",
   "name": "python",
   "nbconvert_exporter": "python",
   "pygments_lexer": "ipython3",
   "version": "3.9.5"
  },
  "toc": {
   "base_numbering": 1,
   "nav_menu": {},
   "number_sections": true,
   "sideBar": true,
   "skip_h1_title": true,
   "title_cell": "Contents",
   "title_sidebar": "Contents",
   "toc_cell": false,
   "toc_position": {},
   "toc_section_display": true,
   "toc_window_display": true
  }
 },
 "nbformat": 4,
 "nbformat_minor": 2
}
