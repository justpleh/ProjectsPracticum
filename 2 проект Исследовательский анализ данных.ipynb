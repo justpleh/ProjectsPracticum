{
 "cells": [
  {
   "cell_type": "markdown",
   "metadata": {},
   "source": [
    "# Исследование объявлений о продаже квартир\n",
    "\n",
    "В вашем распоряжении данные сервиса Яндекс.Недвижимость — архив объявлений о продаже квартир в Санкт-Петербурге и соседних населённых пунктов за несколько лет. Нужно научиться определять рыночную стоимость объектов недвижимости. Ваша задача — установить параметры. Это позволит построить автоматизированную систему: она отследит аномалии и мошенническую деятельность. \n",
    "\n",
    "По каждой квартире на продажу доступны два вида данных. Первые вписаны пользователем, вторые — получены автоматически на основе картографических данных. Например, расстояние до центра, аэропорта, ближайшего парка и водоёма. "
   ]
  },
  {
   "cell_type": "markdown",
   "metadata": {},
   "source": [
    "### Откройте файл с данными и изучите общую информацию. "
   ]
  },
  {
   "cell_type": "code",
   "execution_count": 1,
   "metadata": {
    "scrolled": true
   },
   "outputs": [],
   "source": [
    "import pandas as pd\n",
    "import numpy as np\n",
    "import matplotlib.pyplot as plt\n",
    "import seaborn as sns\n",
    "import os"
   ]
  },
  {
   "cell_type": "code",
   "execution_count": 2,
   "metadata": {},
   "outputs": [],
   "source": [
    "pth2 = 'real_estate_data.csv'\n",
    "pth1 = '/datasets/real_estate_data.csv'\n",
    "\n",
    "if os.path.exists(pth1):\n",
    "    data = pd.read_csv(pth1, sep='\\t')\n",
    "elif os.path.exists(pth2):\n",
    "    data = pd.read_csv(pth2, sep='\\t')\n",
    "else:\n",
    "    print('Something is wrong')"
   ]
  },
  {
   "cell_type": "code",
   "execution_count": 3,
   "metadata": {},
   "outputs": [
    {
     "data": {
      "text/html": [
       "<div>\n",
       "<style scoped>\n",
       "    .dataframe tbody tr th:only-of-type {\n",
       "        vertical-align: middle;\n",
       "    }\n",
       "\n",
       "    .dataframe tbody tr th {\n",
       "        vertical-align: top;\n",
       "    }\n",
       "\n",
       "    .dataframe thead th {\n",
       "        text-align: right;\n",
       "    }\n",
       "</style>\n",
       "<table border=\"1\" class=\"dataframe\">\n",
       "  <thead>\n",
       "    <tr style=\"text-align: right;\">\n",
       "      <th></th>\n",
       "      <th>total_images</th>\n",
       "      <th>last_price</th>\n",
       "      <th>total_area</th>\n",
       "      <th>first_day_exposition</th>\n",
       "      <th>rooms</th>\n",
       "      <th>ceiling_height</th>\n",
       "      <th>floors_total</th>\n",
       "      <th>living_area</th>\n",
       "      <th>floor</th>\n",
       "      <th>is_apartment</th>\n",
       "      <th>...</th>\n",
       "      <th>kitchen_area</th>\n",
       "      <th>balcony</th>\n",
       "      <th>locality_name</th>\n",
       "      <th>airports_nearest</th>\n",
       "      <th>cityCenters_nearest</th>\n",
       "      <th>parks_around3000</th>\n",
       "      <th>parks_nearest</th>\n",
       "      <th>ponds_around3000</th>\n",
       "      <th>ponds_nearest</th>\n",
       "      <th>days_exposition</th>\n",
       "    </tr>\n",
       "  </thead>\n",
       "  <tbody>\n",
       "    <tr>\n",
       "      <th>0</th>\n",
       "      <td>20</td>\n",
       "      <td>13000000.0</td>\n",
       "      <td>108.0</td>\n",
       "      <td>2019-03-07T00:00:00</td>\n",
       "      <td>3</td>\n",
       "      <td>2.70</td>\n",
       "      <td>16.0</td>\n",
       "      <td>51.0</td>\n",
       "      <td>8</td>\n",
       "      <td>NaN</td>\n",
       "      <td>...</td>\n",
       "      <td>25.0</td>\n",
       "      <td>NaN</td>\n",
       "      <td>Санкт-Петербург</td>\n",
       "      <td>18863.0</td>\n",
       "      <td>16028.0</td>\n",
       "      <td>1.0</td>\n",
       "      <td>482.0</td>\n",
       "      <td>2.0</td>\n",
       "      <td>755.0</td>\n",
       "      <td>NaN</td>\n",
       "    </tr>\n",
       "    <tr>\n",
       "      <th>1</th>\n",
       "      <td>7</td>\n",
       "      <td>3350000.0</td>\n",
       "      <td>40.4</td>\n",
       "      <td>2018-12-04T00:00:00</td>\n",
       "      <td>1</td>\n",
       "      <td>NaN</td>\n",
       "      <td>11.0</td>\n",
       "      <td>18.6</td>\n",
       "      <td>1</td>\n",
       "      <td>NaN</td>\n",
       "      <td>...</td>\n",
       "      <td>11.0</td>\n",
       "      <td>2.0</td>\n",
       "      <td>посёлок Шушары</td>\n",
       "      <td>12817.0</td>\n",
       "      <td>18603.0</td>\n",
       "      <td>0.0</td>\n",
       "      <td>NaN</td>\n",
       "      <td>0.0</td>\n",
       "      <td>NaN</td>\n",
       "      <td>81.0</td>\n",
       "    </tr>\n",
       "    <tr>\n",
       "      <th>2</th>\n",
       "      <td>10</td>\n",
       "      <td>5196000.0</td>\n",
       "      <td>56.0</td>\n",
       "      <td>2015-08-20T00:00:00</td>\n",
       "      <td>2</td>\n",
       "      <td>NaN</td>\n",
       "      <td>5.0</td>\n",
       "      <td>34.3</td>\n",
       "      <td>4</td>\n",
       "      <td>NaN</td>\n",
       "      <td>...</td>\n",
       "      <td>8.3</td>\n",
       "      <td>0.0</td>\n",
       "      <td>Санкт-Петербург</td>\n",
       "      <td>21741.0</td>\n",
       "      <td>13933.0</td>\n",
       "      <td>1.0</td>\n",
       "      <td>90.0</td>\n",
       "      <td>2.0</td>\n",
       "      <td>574.0</td>\n",
       "      <td>558.0</td>\n",
       "    </tr>\n",
       "    <tr>\n",
       "      <th>3</th>\n",
       "      <td>0</td>\n",
       "      <td>64900000.0</td>\n",
       "      <td>159.0</td>\n",
       "      <td>2015-07-24T00:00:00</td>\n",
       "      <td>3</td>\n",
       "      <td>NaN</td>\n",
       "      <td>14.0</td>\n",
       "      <td>NaN</td>\n",
       "      <td>9</td>\n",
       "      <td>NaN</td>\n",
       "      <td>...</td>\n",
       "      <td>NaN</td>\n",
       "      <td>0.0</td>\n",
       "      <td>Санкт-Петербург</td>\n",
       "      <td>28098.0</td>\n",
       "      <td>6800.0</td>\n",
       "      <td>2.0</td>\n",
       "      <td>84.0</td>\n",
       "      <td>3.0</td>\n",
       "      <td>234.0</td>\n",
       "      <td>424.0</td>\n",
       "    </tr>\n",
       "    <tr>\n",
       "      <th>4</th>\n",
       "      <td>2</td>\n",
       "      <td>10000000.0</td>\n",
       "      <td>100.0</td>\n",
       "      <td>2018-06-19T00:00:00</td>\n",
       "      <td>2</td>\n",
       "      <td>3.03</td>\n",
       "      <td>14.0</td>\n",
       "      <td>32.0</td>\n",
       "      <td>13</td>\n",
       "      <td>NaN</td>\n",
       "      <td>...</td>\n",
       "      <td>41.0</td>\n",
       "      <td>NaN</td>\n",
       "      <td>Санкт-Петербург</td>\n",
       "      <td>31856.0</td>\n",
       "      <td>8098.0</td>\n",
       "      <td>2.0</td>\n",
       "      <td>112.0</td>\n",
       "      <td>1.0</td>\n",
       "      <td>48.0</td>\n",
       "      <td>121.0</td>\n",
       "    </tr>\n",
       "  </tbody>\n",
       "</table>\n",
       "<p>5 rows × 22 columns</p>\n",
       "</div>"
      ],
      "text/plain": [
       "   total_images  last_price  total_area first_day_exposition  rooms  \\\n",
       "0            20  13000000.0       108.0  2019-03-07T00:00:00      3   \n",
       "1             7   3350000.0        40.4  2018-12-04T00:00:00      1   \n",
       "2            10   5196000.0        56.0  2015-08-20T00:00:00      2   \n",
       "3             0  64900000.0       159.0  2015-07-24T00:00:00      3   \n",
       "4             2  10000000.0       100.0  2018-06-19T00:00:00      2   \n",
       "\n",
       "   ceiling_height  floors_total  living_area  floor is_apartment  ...  \\\n",
       "0            2.70          16.0         51.0      8          NaN  ...   \n",
       "1             NaN          11.0         18.6      1          NaN  ...   \n",
       "2             NaN           5.0         34.3      4          NaN  ...   \n",
       "3             NaN          14.0          NaN      9          NaN  ...   \n",
       "4            3.03          14.0         32.0     13          NaN  ...   \n",
       "\n",
       "   kitchen_area  balcony    locality_name  airports_nearest  \\\n",
       "0          25.0      NaN  Санкт-Петербург           18863.0   \n",
       "1          11.0      2.0   посёлок Шушары           12817.0   \n",
       "2           8.3      0.0  Санкт-Петербург           21741.0   \n",
       "3           NaN      0.0  Санкт-Петербург           28098.0   \n",
       "4          41.0      NaN  Санкт-Петербург           31856.0   \n",
       "\n",
       "  cityCenters_nearest  parks_around3000  parks_nearest  ponds_around3000  \\\n",
       "0             16028.0               1.0          482.0               2.0   \n",
       "1             18603.0               0.0            NaN               0.0   \n",
       "2             13933.0               1.0           90.0               2.0   \n",
       "3              6800.0               2.0           84.0               3.0   \n",
       "4              8098.0               2.0          112.0               1.0   \n",
       "\n",
       "   ponds_nearest  days_exposition  \n",
       "0          755.0              NaN  \n",
       "1            NaN             81.0  \n",
       "2          574.0            558.0  \n",
       "3          234.0            424.0  \n",
       "4           48.0            121.0  \n",
       "\n",
       "[5 rows x 22 columns]"
      ]
     },
     "metadata": {},
     "output_type": "display_data"
    },
    {
     "name": "stdout",
     "output_type": "stream",
     "text": [
      "<class 'pandas.core.frame.DataFrame'>\n",
      "RangeIndex: 23699 entries, 0 to 23698\n",
      "Data columns (total 22 columns):\n",
      " #   Column                Non-Null Count  Dtype  \n",
      "---  ------                --------------  -----  \n",
      " 0   total_images          23699 non-null  int64  \n",
      " 1   last_price            23699 non-null  float64\n",
      " 2   total_area            23699 non-null  float64\n",
      " 3   first_day_exposition  23699 non-null  object \n",
      " 4   rooms                 23699 non-null  int64  \n",
      " 5   ceiling_height        14504 non-null  float64\n",
      " 6   floors_total          23613 non-null  float64\n",
      " 7   living_area           21796 non-null  float64\n",
      " 8   floor                 23699 non-null  int64  \n",
      " 9   is_apartment          2775 non-null   object \n",
      " 10  studio                23699 non-null  bool   \n",
      " 11  open_plan             23699 non-null  bool   \n",
      " 12  kitchen_area          21421 non-null  float64\n",
      " 13  balcony               12180 non-null  float64\n",
      " 14  locality_name         23650 non-null  object \n",
      " 15  airports_nearest      18157 non-null  float64\n",
      " 16  cityCenters_nearest   18180 non-null  float64\n",
      " 17  parks_around3000      18181 non-null  float64\n",
      " 18  parks_nearest         8079 non-null   float64\n",
      " 19  ponds_around3000      18181 non-null  float64\n",
      " 20  ponds_nearest         9110 non-null   float64\n",
      " 21  days_exposition       20518 non-null  float64\n",
      "dtypes: bool(2), float64(14), int64(3), object(3)\n",
      "memory usage: 3.7+ MB\n"
     ]
    },
    {
     "data": {
      "image/png": "[encoded data removed]",
      "text/plain": [
       "<Figure size 1080x1440 with 20 Axes>"
      ]
     },
     "metadata": {
      "needs_background": "light"
     },
     "output_type": "display_data"
    }
   ],
   "source": [
    "display(data.head())\n",
    "data.info()\n",
    "data.hist(figsize=(15, 20));"
   ]
  },
  {
   "cell_type": "markdown",
   "metadata": {},
   "source": [
    "### Предобработка данных"
   ]
  },
  {
   "cell_type": "code",
   "execution_count": 4,
   "metadata": {},
   "outputs": [
    {
     "data": {
      "text/plain": [
       "total_images                0\n",
       "last_price                  0\n",
       "total_area                  0\n",
       "first_day_exposition        0\n",
       "rooms                       0\n",
       "ceiling_height           9195\n",
       "floors_total               86\n",
       "living_area              1903\n",
       "floor                       0\n",
       "is_apartment            20924\n",
       "studio                      0\n",
       "open_plan                   0\n",
       "kitchen_area             2278\n",
       "balcony                 11519\n",
       "locality_name              49\n",
       "airports_nearest         5542\n",
       "cityCenters_nearest      5519\n",
       "parks_around3000         5518\n",
       "parks_nearest           15620\n",
       "ponds_around3000         5518\n",
       "ponds_nearest           14589\n",
       "days_exposition          3181\n",
       "dtype: int64"
      ]
     },
     "execution_count": 4,
     "metadata": {},
     "output_type": "execute_result"
    }
   ],
   "source": [
    "data.isna().sum()"
   ]
  },
  {
   "cell_type": "markdown",
   "metadata": {},
   "source": [
    "Больше всего пропусков в колонке \"is_apartment\". Апартаменты по сути те же квартиры, но с доп сервисом для жильцов, как гостиничный номер, только с покупкой помещения\n",
    "Возможно данных нет, потому что они False?\n",
    "Известно, что часть данных указана пользователем, а часть - картографическая, то есть рассчитана на основе местоположения. Пропуски есть и в тех и в других. Есть вероятность, что картографические данные не указаны, потому что не было точного адреса\n",
    "\n",
    "Например, если пользователь не указал наличие балкона, можно предположить, что его нет, тогда и значения можно указать как 0.\n",
    "Пропуски в таких столбцах, как living_area, kitchen_area могут быть из-за того, что не все владельцы знают их точный метраж, при этом общая площадь квартиры в столбце total_area указана у всех объявлений. Можем заменить их средним по общей площади и местоположению, но кто знает, возможно в квартире была перепланировка."
   ]
  },
  {
   "cell_type": "code",
   "execution_count": 7,
   "metadata": {
    "scrolled": true
   },
   "outputs": [
    {
     "name": "stdout",
     "output_type": "stream",
     "text": [
      "                locality_name  airports_nearest  cityCenters_nearest  \\\n",
      "0             Санкт-Петербург           18863.0              16028.0   \n",
      "1              посёлок Шушары           12817.0              18603.0   \n",
      "2             Санкт-Петербург           21741.0              13933.0   \n",
      "3             Санкт-Петербург           28098.0               6800.0   \n",
      "4             Санкт-Петербург           31856.0               8098.0   \n",
      "5   городской посёлок Янино-1               NaN                  NaN   \n",
      "6           посёлок Парголово           52996.0              19143.0   \n",
      "7             Санкт-Петербург           23982.0              11634.0   \n",
      "8              посёлок Мурино               NaN                  NaN   \n",
      "9             Санкт-Петербург           50898.0              15008.0   \n",
      "10            Санкт-Петербург           38357.0              13878.0   \n",
      "11                  Ломоносов           48252.0              51677.0   \n",
      "12                  Сертолово               NaN                  NaN   \n",
      "13                   Петергоф           37868.0              33058.0   \n",
      "14                     Пушкин           20782.0              30759.0   \n",
      "15            Санкт-Петербург           12900.0              14259.0   \n",
      "16            Санкт-Петербург           22108.0              10698.0   \n",
      "17            Санкт-Петербург           33564.0              14616.0   \n",
      "18            Санкт-Петербург           44060.0              10842.0   \n",
      "19            Санкт-Петербург           38900.0              12843.0   \n",
      "\n",
      "    parks_around3000  parks_nearest  ponds_around3000  ponds_nearest  \n",
      "0                1.0          482.0               2.0          755.0  \n",
      "1                0.0            NaN               0.0            NaN  \n",
      "2                1.0           90.0               2.0          574.0  \n",
      "3                2.0           84.0               3.0          234.0  \n",
      "4                2.0          112.0               1.0           48.0  \n",
      "5                NaN            NaN               NaN            NaN  \n",
      "6                0.0            NaN               0.0            NaN  \n",
      "7                0.0            NaN               0.0            NaN  \n",
      "8                NaN            NaN               NaN            NaN  \n",
      "9                0.0            NaN               0.0            NaN  \n",
      "10               1.0          310.0               2.0          553.0  \n",
      "11               0.0            NaN               0.0            NaN  \n",
      "12               NaN            NaN               NaN            NaN  \n",
      "13               1.0          294.0               3.0          298.0  \n",
      "14               0.0            NaN               1.0           96.0  \n",
      "15               1.0          590.0               1.0          296.0  \n",
      "16               3.0          420.0               0.0            NaN  \n",
      "17               0.0            NaN               1.0          859.0  \n",
      "18               1.0          759.0               0.0            NaN  \n",
      "19               0.0            NaN               0.0            NaN  \n"
     ]
    }
   ],
   "source": [
    "data['balcony'] = data['balcony'].fillna(0)\n",
    "\n",
    "parks = data.iloc[:, 14:21]\n",
    "print(parks.head(20))\n",
    "data['parks_around3000'] = data['parks_around3000'].fillna(value=0).astype(int)\n",
    "data['ponds_around3000'] = data['ponds_around3000'].fillna(value=0).astype(int)\n",
    "data['is_apartment'] = data['is_apartment'].fillna(False)\n",
    "\n",
    "\n"
   ]
  },
  {
   "cell_type": "markdown",
   "metadata": {},
   "source": [
    "Нашли закономерность в пропусках, если количество парков или водоемов не указано, или 0, то и в другом столбце по паркам\\ водоемам данные пропущены, заменяем их 0\n"
   ]
  },
  {
   "cell_type": "code",
   "execution_count": 8,
   "metadata": {},
   "outputs": [
    {
     "data": {
      "text/plain": [
       "total_images                0\n",
       "last_price                  0\n",
       "total_area                  0\n",
       "first_day_exposition        0\n",
       "rooms                       0\n",
       "ceiling_height           9118\n",
       "floors_total                0\n",
       "living_area              1870\n",
       "floor                       0\n",
       "is_apartment                0\n",
       "studio                      0\n",
       "open_plan                   0\n",
       "kitchen_area             2231\n",
       "balcony                     0\n",
       "locality_name              48\n",
       "airports_nearest         5532\n",
       "cityCenters_nearest      5509\n",
       "parks_around3000            0\n",
       "parks_nearest           15568\n",
       "ponds_around3000            0\n",
       "ponds_nearest           14552\n",
       "days_exposition          3172\n",
       "dtype: int64"
      ]
     },
     "execution_count": 8,
     "metadata": {},
     "output_type": "execute_result"
    }
   ],
   "source": [
    "data['first_day_exposition'] = pd.to_datetime(data['first_day_exposition'], format='%Y.%m.%dT%H:%M:%S')\n",
    "data['balcony'] = pd.to_numeric(data['balcony'], errors='coerce') \n",
    "data['balcony'] = data['balcony'].astype('int')\n",
    "\n",
    "data['last_price'] = data['last_price'].astype('int')\n",
    "data = data.dropna(axis='index', how='any', subset=['floors_total'])\n",
    "data['floors_total'] = data['floors_total'].astype('int')\n",
    "\n",
    "data.isna().sum()"
   ]
  },
  {
   "cell_type": "code",
   "execution_count": 9,
   "metadata": {},
   "outputs": [],
   "source": [
    "ceiling_medians = data.pivot_table(index='floors_total', values='ceiling_height', aggfunc=['median', 'count'])\n",
    "ceiling_medians.columns = ['median', 'count']\n",
    "\n",
    "for floor in ceiling_medians.index:\n",
    "    data.loc[(data['floors_total'].isna()) | \n",
    "             ((data['floors_total'] == floor) & (ceiling_medians.loc[floor, 'count'] == 0)), \n",
    "             'ceiling_height'] = data['ceiling_height'].describe()[5]\n",
    "for floor in ceiling_medians.index:\n",
    "    data.loc[(data['ceiling_height'].isna()) & \n",
    "             (data['floors_total'] == floor), \n",
    "             'ceiling_height'] = ceiling_medians.loc[floor, 'median']\n"
   ]
  },
  {
   "cell_type": "markdown",
   "metadata": {},
   "source": [
    "Тип данных меняем, чтобы было удобнее рабоать с ними"
   ]
  },
  {
   "cell_type": "code",
   "execution_count": 10,
   "metadata": {},
   "outputs": [],
   "source": [
    "data['locality_name'] = data['locality_name'].str.lower()\n",
    "word_list = ['деревня ', 'поселок ', 'поселок городского типа ', 'посёлок ', 'посёлок городского типа ', \n",
    "             'село ', 'коттеджный поселок ', 'садовое товарищество ', 'городской поселок ', \n",
    "             'поселок станции ', 'городской посёлок ', 'садоводческое некоммерческое товарищество ',\n",
    "             'поселок при железнодорожной станции ', 'типа ']\n",
    "name = ''\n",
    "for word in word_list:\n",
    "    data['locality_name'] = data['locality_name'].replace(word, name, regex = True)\n",
    "\n"
   ]
  },
  {
   "cell_type": "code",
   "execution_count": 11,
   "metadata": {},
   "outputs": [
    {
     "data": {
      "text/plain": [
       "321"
      ]
     },
     "execution_count": 11,
     "metadata": {},
     "output_type": "execute_result"
    }
   ],
   "source": [
    "# check\n",
    "data.locality_name.nunique()"
   ]
  },
  {
   "cell_type": "markdown",
   "metadata": {},
   "source": [
    "Так мы избавимся от дубликатов, потому что, например, деревня Мурино и Мурино это одно и то же. Так как данные из одного региона, то кране маловероятно, что два населенных пункта будут иметь одно название, с разницей только в типе (деревня\\поселок)"
   ]
  },
  {
   "cell_type": "markdown",
   "metadata": {},
   "source": [
    "#### check nan"
   ]
  },
  {
   "cell_type": "code",
   "execution_count": 12,
   "metadata": {},
   "outputs": [
    {
     "name": "stdout",
     "output_type": "stream",
     "text": [
      "<class 'pandas.core.frame.DataFrame'>\n",
      "Int64Index: 23613 entries, 0 to 23698\n",
      "Data columns (total 22 columns):\n",
      " #   Column                Non-Null Count  Dtype         \n",
      "---  ------                --------------  -----         \n",
      " 0   total_images          23613 non-null  int64         \n",
      " 1   last_price            23613 non-null  int64         \n",
      " 2   total_area            23613 non-null  float64       \n",
      " 3   first_day_exposition  23613 non-null  datetime64[ns]\n",
      " 4   rooms                 23613 non-null  int64         \n",
      " 5   ceiling_height        23613 non-null  float64       \n",
      " 6   floors_total          23613 non-null  int64         \n",
      " 7   living_area           21743 non-null  float64       \n",
      " 8   floor                 23613 non-null  int64         \n",
      " 9   is_apartment          23613 non-null  bool          \n",
      " 10  studio                23613 non-null  bool          \n",
      " 11  open_plan             23613 non-null  bool          \n",
      " 12  kitchen_area          21382 non-null  float64       \n",
      " 13  balcony               23613 non-null  int64         \n",
      " 14  locality_name         23565 non-null  object        \n",
      " 15  airports_nearest      18081 non-null  float64       \n",
      " 16  cityCenters_nearest   18104 non-null  float64       \n",
      " 17  parks_around3000      23613 non-null  int64         \n",
      " 18  parks_nearest         8045 non-null   float64       \n",
      " 19  ponds_around3000      23613 non-null  int64         \n",
      " 20  ponds_nearest         9061 non-null   float64       \n",
      " 21  days_exposition       20441 non-null  float64       \n",
      "dtypes: bool(3), datetime64[ns](1), float64(9), int64(8), object(1)\n",
      "memory usage: 3.7+ MB\n"
     ]
    }
   ],
   "source": [
    "# check\n",
    "data.info()"
   ]
  },
  {
   "cell_type": "code",
   "execution_count": 13,
   "metadata": {},
   "outputs": [
    {
     "name": "stdout",
     "output_type": "stream",
     "text": [
      "после I удаления 23595\n",
      "после II удаления 23372\n",
      "после III удаления 22165\n",
      "после IV удаления 22105\n",
      "после V удаления 22079\n",
      "после VI удаления 21965\n",
      "после VII удаления 21937\n"
     ]
    }
   ],
   "source": [
    "\n",
    "data.loc[data['ceiling_height'] > 11, 'ceiling_height'] = data['ceiling_height']/10 \n",
    "#убираем аномально высокие потолки(вероятно указаны неверно)\n",
    "\n",
    "\n",
    "data = data[\n",
    "    (\n",
    "        (data['ceiling_height'] >= 2) & (data['ceiling_height'] <= 5) | (data['ceiling_height'].isna())\n",
    "    ) \n",
    "   ]\n",
    "print ('после I удаления', data.shape[0])\n",
    "data = data[(data ['total_area'] <= 200) | (data ['total_area'].isna()) ]\n",
    "print ('после II удаления', data.shape[0])\n",
    "data = data[\n",
    "    (\n",
    "        (data['days_exposition'] >= 10) & (data['days_exposition'] <= 1200) | (data['days_exposition'].isna())\n",
    "    ) \n",
    "   ]\n",
    "print ('после III удаления', data.shape[0])\n",
    "data = data[\n",
    "    (\n",
    "        (data['last_price'] >= 500000) & (data['last_price'] <= 50000000) | (data['last_price'].isna())\n",
    "    ) \n",
    "   ]\n",
    "print ('после IV удаления', data.shape[0])\n",
    "data = data[\n",
    "    (\n",
    "        (data['living_area'] >= 10) & (data['living_area'] <= 150) | (data['living_area'].isna())\n",
    "    ) \n",
    "   ]\n",
    "print ('после V удаления', data.shape[0])\n",
    "data = data[\n",
    "    (\n",
    "        (data['kitchen_area'] >= 5) & (data['kitchen_area'] <= 50) | (data['kitchen_area'].isna())\n",
    "    ) \n",
    "   ]\n",
    "print ('после VI удаления', data.shape[0])\n",
    "data = data[data.floors_total <= 30]\n",
    "data = data[(data ['floors_total'] <= 30) | (data ['floors_total'].isna()) ]\n",
    "print ('после VII удаления', data.shape[0])\n",
    "\n"
   ]
  },
  {
   "cell_type": "markdown",
   "metadata": {},
   "source": [
    "<div class=\"alert alert-dan ger\">\n",
    "<font size=\"4\"><b>❌ Комментарий ревьюера в3</b></font>\n",
    "    <br /> \n",
    "    <font size=\"3\", color = \"black\">\n",
    "<br />\n",
    "\n",
    "    data = data[data.days_exposition <= 365]\n",
    "    data = data[data.living_area <= 150]\n",
    "    data = data[data.kitchen_area <= 50]\n",
    "                                                                             \n",
    "Так мы познакомились с особенностью фильтрации в библиотеке пандас, все NaN убегают вместе со значениями, которые не подходят под нашу фильтрацию, поэтому процент потери записей огромен\n",
    "        \n",
    "Минус 5000 записей\n",
    "        \n",
    "стоит настроить условия фильтрации, чтобы не потерять записи с пропусками\n",
    "        \n",
    "<b>алгоритм фильтрации столбца с пропусками: задаем основное условие фильтрации, + прибавляем условие не трогать записи с пропусками</b>\n",
    "        \n",
    "стоит обратить внимание на весь код фильтрации, т.к. в нескольких колонках встречаются пропуски"
   ]
  },
  {
   "cell_type": "markdown",
   "metadata": {},
   "source": [
    "<div class=\"alert alert-dan ger\">\n",
    "<font size=\"4\"><b>❌ Комментарий ревьюера в3</b></font>\n",
    "    <br /> \n",
    "    <font size=\"3\", color = \"black\">\n",
    "<br />          \n",
    "Выборка data['days_exposition'] имеет длинный правый хвост, не стоит обрезать подобный хвост на таких значениях, оптимально ориентироваться на значения 0,99 квантиля, это где-то 1200 дней ...\n",
    "        \n",
    "       data = data[data.days_exposition <= 365]\n",
    "                                              \n",
    "        \n",
    "Если при фильтрации теряем больше одного процента данных от изначального объема, стоит еще раз пересмотреть условия фильтрации"
   ]
  },
  {
   "cell_type": "markdown",
   "metadata": {},
   "source": [
    "#### check gap"
   ]
  },
  {
   "cell_type": "code",
   "execution_count": 14,
   "metadata": {},
   "outputs": [
    {
     "name": "stdout",
     "output_type": "stream",
     "text": [
      "<class 'pandas.core.frame.DataFrame'>\n",
      "Int64Index: 21937 entries, 0 to 23698\n",
      "Data columns (total 22 columns):\n",
      " #   Column                Non-Null Count  Dtype         \n",
      "---  ------                --------------  -----         \n",
      " 0   total_images          21937 non-null  int64         \n",
      " 1   last_price            21937 non-null  int64         \n",
      " 2   total_area            21937 non-null  float64       \n",
      " 3   first_day_exposition  21937 non-null  datetime64[ns]\n",
      " 4   rooms                 21937 non-null  int64         \n",
      " 5   ceiling_height        21937 non-null  float64       \n",
      " 6   floors_total          21937 non-null  int64         \n",
      " 7   living_area           20182 non-null  float64       \n",
      " 8   floor                 21937 non-null  int64         \n",
      " 9   is_apartment          21937 non-null  bool          \n",
      " 10  studio                21937 non-null  bool          \n",
      " 11  open_plan             21937 non-null  bool          \n",
      " 12  kitchen_area          19851 non-null  float64       \n",
      " 13  balcony               21937 non-null  int64         \n",
      " 14  locality_name         21892 non-null  object        \n",
      " 15  airports_nearest      16691 non-null  float64       \n",
      " 16  cityCenters_nearest   16711 non-null  float64       \n",
      " 17  parks_around3000      21937 non-null  int64         \n",
      " 18  parks_nearest         7396 non-null   float64       \n",
      " 19  ponds_around3000      21937 non-null  int64         \n",
      " 20  ponds_nearest         8315 non-null   float64       \n",
      " 21  days_exposition       18859 non-null  float64       \n",
      "dtypes: bool(3), datetime64[ns](1), float64(9), int64(8), object(1)\n",
      "memory usage: 3.4+ MB\n"
     ]
    }
   ],
   "source": [
    "# check\n",
    "data.info()"
   ]
  },
  {
   "cell_type": "code",
   "execution_count": 15,
   "metadata": {
    "scrolled": false
   },
   "outputs": [
    {
     "data": {
      "text/html": [
       "<style  type=\"text/css\" >\n",
       "</style><table id=\"T_59997_\" ><thead>    <tr>        <th class=\"blank level0\" ></th>        <th class=\"col_heading level0 col0\" >rooms</th>        <th class=\"col_heading level0 col1\" >total_area</th>        <th class=\"col_heading level0 col2\" >ceiling_height</th>        <th class=\"col_heading level0 col3\" >days_exposition</th>        <th class=\"col_heading level0 col4\" >last_price</th>        <th class=\"col_heading level0 col5\" >living_area</th>        <th class=\"col_heading level0 col6\" >kitchen_area</th>        <th class=\"col_heading level0 col7\" >floor</th>        <th class=\"col_heading level0 col8\" >floors_total</th>    </tr></thead><tbody>\n",
       "                <tr>\n",
       "                        <th id=\"T_59997_level0_row0\" class=\"row_heading level0 row0\" >count</th>\n",
       "                        <td id=\"T_59997_row0_col0\" class=\"data row0 col0\" >21,937.00</td>\n",
       "                        <td id=\"T_59997_row0_col1\" class=\"data row0 col1\" >21,937.00</td>\n",
       "                        <td id=\"T_59997_row0_col2\" class=\"data row0 col2\" >21,937.00</td>\n",
       "                        <td id=\"T_59997_row0_col3\" class=\"data row0 col3\" >18,859.00</td>\n",
       "                        <td id=\"T_59997_row0_col4\" class=\"data row0 col4\" >21,937.00</td>\n",
       "                        <td id=\"T_59997_row0_col5\" class=\"data row0 col5\" >20,182.00</td>\n",
       "                        <td id=\"T_59997_row0_col6\" class=\"data row0 col6\" >19,851.00</td>\n",
       "                        <td id=\"T_59997_row0_col7\" class=\"data row0 col7\" >21,937.00</td>\n",
       "                        <td id=\"T_59997_row0_col8\" class=\"data row0 col8\" >21,937.00</td>\n",
       "            </tr>\n",
       "            <tr>\n",
       "                        <th id=\"T_59997_level0_row1\" class=\"row_heading level0 row1\" >min</th>\n",
       "                        <td id=\"T_59997_row1_col0\" class=\"data row1 col0\" >0.00</td>\n",
       "                        <td id=\"T_59997_row1_col1\" class=\"data row1 col1\" >12.00</td>\n",
       "                        <td id=\"T_59997_row1_col2\" class=\"data row1 col2\" >2.00</td>\n",
       "                        <td id=\"T_59997_row1_col3\" class=\"data row1 col3\" >10.00</td>\n",
       "                        <td id=\"T_59997_row1_col4\" class=\"data row1 col4\" >500,000.00</td>\n",
       "                        <td id=\"T_59997_row1_col5\" class=\"data row1 col5\" >10.00</td>\n",
       "                        <td id=\"T_59997_row1_col6\" class=\"data row1 col6\" >5.00</td>\n",
       "                        <td id=\"T_59997_row1_col7\" class=\"data row1 col7\" >1.00</td>\n",
       "                        <td id=\"T_59997_row1_col8\" class=\"data row1 col8\" >1.00</td>\n",
       "            </tr>\n",
       "            <tr>\n",
       "                        <th id=\"T_59997_level0_row2\" class=\"row_heading level0 row2\" >max</th>\n",
       "                        <td id=\"T_59997_row2_col0\" class=\"data row2 col0\" >11.00</td>\n",
       "                        <td id=\"T_59997_row2_col1\" class=\"data row2 col1\" >200.00</td>\n",
       "                        <td id=\"T_59997_row2_col2\" class=\"data row2 col2\" >4.80</td>\n",
       "                        <td id=\"T_59997_row2_col3\" class=\"data row2 col3\" >1,200.00</td>\n",
       "                        <td id=\"T_59997_row2_col4\" class=\"data row2 col4\" >50,000,000.00</td>\n",
       "                        <td id=\"T_59997_row2_col5\" class=\"data row2 col5\" >147.20</td>\n",
       "                        <td id=\"T_59997_row2_col6\" class=\"data row2 col6\" >50.00</td>\n",
       "                        <td id=\"T_59997_row2_col7\" class=\"data row2 col7\" >27.00</td>\n",
       "                        <td id=\"T_59997_row2_col8\" class=\"data row2 col8\" >29.00</td>\n",
       "            </tr>\n",
       "    </tbody></table>"
      ],
      "text/plain": [
       "<pandas.io.formats.style.Styler at 0x7fb5f68304c0>"
      ]
     },
     "execution_count": 15,
     "metadata": {},
     "output_type": "execute_result"
    }
   ],
   "source": [
    "# check\n",
    "\n",
    "# Показатели о кол-ве объявлений в датасете, минимальных и максимальных значениях \n",
    "# в выбранных параметрах о продаже квартир\n",
    "# сырые данные\n",
    "\n",
    "(\n",
    "    data[['rooms', 'total_area', 'ceiling_height', 'days_exposition', 'last_price', 'living_area',  'kitchen_area',\n",
    "          'floor', 'floors_total']]\n",
    "    .apply (['count', 'min', 'max'])   \n",
    "    .style.format(\"{:,.2f}\")\n",
    ")"
   ]
  },
  {
   "cell_type": "code",
   "execution_count": 16,
   "metadata": {},
   "outputs": [
    {
     "data": {
      "image/png": "[encoded data removed]",
      "text/plain": [
       "<Figure size 1080x216 with 1 Axes>"
      ]
     },
     "metadata": {
      "needs_background": "light"
     },
     "output_type": "display_data"
    }
   ],
   "source": [
    "# check\n",
    "data.hist(column = 'ceiling_height', bins = 10, figsize = (15,3), range = (3.5,5));"
   ]
  },
  {
   "cell_type": "code",
   "execution_count": 17,
   "metadata": {},
   "outputs": [
    {
     "data": {
      "image/png": "[encoded data removed]",
      "text/plain": [
       "<Figure size 1080x216 with 1 Axes>"
      ]
     },
     "metadata": {
      "needs_background": "light"
     },
     "output_type": "display_data"
    },
    {
     "data": {
      "image/png": "[encoded data removed]",
      "text/plain": [
       "<Figure size 1080x216 with 1 Axes>"
      ]
     },
     "metadata": {
      "needs_background": "light"
     },
     "output_type": "display_data"
    }
   ],
   "source": [
    "# check\n",
    "data.hist(column = 'days_exposition', bins = 50, figsize = (15,3), range = (0,5));\n",
    "\n",
    "data.hist(column = 'days_exposition', bins = 50, figsize = (15,3), range = (0,5))\n",
    "plt.ylim(0, 40);"
   ]
  },
  {
   "cell_type": "code",
   "execution_count": 18,
   "metadata": {},
   "outputs": [],
   "source": [
    "# check\n",
    "\n",
    "try:\n",
    "    df_check = pd.read_csv('https://code.s3.yandex.net/datasets/real_estate_data.csv', sep='\\t')\n",
    "# если не получилось прочитать файл из локальной папки, то загружаем данные из сети\n",
    "except:\n",
    "    df_check = pd.read_csv('real_estate_data.csv', sep='\\t')"
   ]
  },
  {
   "cell_type": "code",
   "execution_count": 19,
   "metadata": {},
   "outputs": [
    {
     "data": {
      "text/html": [
       "<div>\n",
       "<style scoped>\n",
       "    .dataframe tbody tr th:only-of-type {\n",
       "        vertical-align: middle;\n",
       "    }\n",
       "\n",
       "    .dataframe tbody tr th {\n",
       "        vertical-align: top;\n",
       "    }\n",
       "\n",
       "    .dataframe thead th {\n",
       "        text-align: right;\n",
       "    }\n",
       "</style>\n",
       "<table border=\"1\" class=\"dataframe\">\n",
       "  <thead>\n",
       "    <tr style=\"text-align: right;\">\n",
       "      <th></th>\n",
       "      <th>rooms</th>\n",
       "    </tr>\n",
       "  </thead>\n",
       "  <tbody>\n",
       "    <tr>\n",
       "      <th>1</th>\n",
       "      <td>8047</td>\n",
       "    </tr>\n",
       "    <tr>\n",
       "      <th>2</th>\n",
       "      <td>7940</td>\n",
       "    </tr>\n",
       "    <tr>\n",
       "      <th>3</th>\n",
       "      <td>5814</td>\n",
       "    </tr>\n",
       "    <tr>\n",
       "      <th>4</th>\n",
       "      <td>1180</td>\n",
       "    </tr>\n",
       "    <tr>\n",
       "      <th>5</th>\n",
       "      <td>326</td>\n",
       "    </tr>\n",
       "    <tr>\n",
       "      <th>0</th>\n",
       "      <td>197</td>\n",
       "    </tr>\n",
       "    <tr>\n",
       "      <th>6</th>\n",
       "      <td>105</td>\n",
       "    </tr>\n",
       "    <tr>\n",
       "      <th>7</th>\n",
       "      <td>59</td>\n",
       "    </tr>\n",
       "    <tr>\n",
       "      <th>8</th>\n",
       "      <td>12</td>\n",
       "    </tr>\n",
       "    <tr>\n",
       "      <th>9</th>\n",
       "      <td>8</td>\n",
       "    </tr>\n",
       "    <tr>\n",
       "      <th>10</th>\n",
       "      <td>3</td>\n",
       "    </tr>\n",
       "    <tr>\n",
       "      <th>11</th>\n",
       "      <td>2</td>\n",
       "    </tr>\n",
       "    <tr>\n",
       "      <th>14</th>\n",
       "      <td>2</td>\n",
       "    </tr>\n",
       "    <tr>\n",
       "      <th>19</th>\n",
       "      <td>1</td>\n",
       "    </tr>\n",
       "    <tr>\n",
       "      <th>16</th>\n",
       "      <td>1</td>\n",
       "    </tr>\n",
       "    <tr>\n",
       "      <th>12</th>\n",
       "      <td>1</td>\n",
       "    </tr>\n",
       "    <tr>\n",
       "      <th>15</th>\n",
       "      <td>1</td>\n",
       "    </tr>\n",
       "  </tbody>\n",
       "</table>\n",
       "</div>"
      ],
      "text/plain": [
       "    rooms\n",
       "1    8047\n",
       "2    7940\n",
       "3    5814\n",
       "4    1180\n",
       "5     326\n",
       "0     197\n",
       "6     105\n",
       "7      59\n",
       "8      12\n",
       "9       8\n",
       "10      3\n",
       "11      2\n",
       "14      2\n",
       "19      1\n",
       "16      1\n",
       "12      1\n",
       "15      1"
      ]
     },
     "execution_count": 19,
     "metadata": {},
     "output_type": "execute_result"
    }
   ],
   "source": [
    "# check\n",
    "df_check.rooms.value_counts().to_frame()"
   ]
  },
  {
   "cell_type": "code",
   "execution_count": 20,
   "metadata": {
    "scrolled": false
   },
   "outputs": [
    {
     "data": {
      "image/png": "[encoded data removed]",
      "text/plain": [
       "<Figure size 1080x216 with 1 Axes>"
      ]
     },
     "metadata": {
      "needs_background": "light"
     },
     "output_type": "display_data"
    }
   ],
   "source": [
    "# check\n",
    "df_check.total_area.hist(bins = 150, figsize = (15,3));"
   ]
  },
  {
   "cell_type": "code",
   "execution_count": 21,
   "metadata": {
    "scrolled": true
   },
   "outputs": [
    {
     "data": {
      "image/png": "[encoded data removed]",
      "text/plain": [
       "<Figure size 1080x216 with 1 Axes>"
      ]
     },
     "metadata": {
      "needs_background": "light"
     },
     "output_type": "display_data"
    }
   ],
   "source": [
    "# check\n",
    "df_check.total_area.hist(bins = 150, figsize = (15,3), range = (180,500));"
   ]
  },
  {
   "cell_type": "code",
   "execution_count": 22,
   "metadata": {
    "scrolled": false
   },
   "outputs": [
    {
     "data": {
      "image/png": "[encoded data removed]",
      "text/plain": [
       "<Figure size 1080x216 with 1 Axes>"
      ]
     },
     "metadata": {
      "needs_background": "light"
     },
     "output_type": "display_data"
    }
   ],
   "source": [
    "# check\n",
    "df_check.total_area.hist(bins = 15, figsize = (15,3), range = (180,500));"
   ]
  },
  {
   "cell_type": "code",
   "execution_count": 23,
   "metadata": {
    "scrolled": false
   },
   "outputs": [
    {
     "data": {
      "image/png": "[encoded data removed]",
      "text/plain": [
       "<Figure size 1080x216 with 1 Axes>"
      ]
     },
     "metadata": {
      "needs_background": "light"
     },
     "output_type": "display_data"
    }
   ],
   "source": [
    "# check\n",
    "df_check.total_area.hist(bins = 15, figsize = (15,3), range = (0,25));"
   ]
  },
  {
   "cell_type": "code",
   "execution_count": 24,
   "metadata": {},
   "outputs": [
    {
     "data": {
      "text/html": [
       "<style  type=\"text/css\" >\n",
       "</style><table id=\"T_c6f25_\" ><thead>    <tr>        <th class=\"blank level0\" ></th>        <th class=\"col_heading level0 col0\" >rooms</th>        <th class=\"col_heading level0 col1\" >total_area</th>        <th class=\"col_heading level0 col2\" >ceiling_height</th>        <th class=\"col_heading level0 col3\" >days_exposition</th>        <th class=\"col_heading level0 col4\" >last_price</th>        <th class=\"col_heading level0 col5\" >living_area</th>        <th class=\"col_heading level0 col6\" >kitchen_area</th>        <th class=\"col_heading level0 col7\" >floor</th>        <th class=\"col_heading level0 col8\" >floors_total</th>    </tr></thead><tbody>\n",
       "                <tr>\n",
       "                        <th id=\"T_c6f25_level0_row0\" class=\"row_heading level0 row0\" >0.0012</th>\n",
       "                        <td id=\"T_c6f25_row0_col0\" class=\"data row0 col0\" >0.00</td>\n",
       "                        <td id=\"T_c6f25_row0_col1\" class=\"data row0 col1\" >20.50</td>\n",
       "                        <td id=\"T_c6f25_row0_col2\" class=\"data row0 col2\" >2.40</td>\n",
       "                        <td id=\"T_c6f25_row0_col3\" class=\"data row0 col3\" >10.00</td>\n",
       "                        <td id=\"T_c6f25_row0_col4\" class=\"data row0 col4\" >600,000.00</td>\n",
       "                        <td id=\"T_c6f25_row0_col5\" class=\"data row0 col5\" >10.00</td>\n",
       "                        <td id=\"T_c6f25_row0_col6\" class=\"data row0 col6\" >5.00</td>\n",
       "                        <td id=\"T_c6f25_row0_col7\" class=\"data row0 col7\" >1.00</td>\n",
       "                        <td id=\"T_c6f25_row0_col8\" class=\"data row0 col8\" >2.00</td>\n",
       "            </tr>\n",
       "            <tr>\n",
       "                        <th id=\"T_c6f25_level0_row1\" class=\"row_heading level0 row1\" >0.01</th>\n",
       "                        <td id=\"T_c6f25_row1_col0\" class=\"data row1 col0\" >1.00</td>\n",
       "                        <td id=\"T_c6f25_row1_col1\" class=\"data row1 col1\" >26.00</td>\n",
       "                        <td id=\"T_c6f25_row1_col2\" class=\"data row1 col2\" >2.50</td>\n",
       "                        <td id=\"T_c6f25_row1_col3\" class=\"data row1 col3\" >11.00</td>\n",
       "                        <td id=\"T_c6f25_row1_col4\" class=\"data row1 col4\" >1,003,600.00</td>\n",
       "                        <td id=\"T_c6f25_row1_col5\" class=\"data row1 col5\" >13.26</td>\n",
       "                        <td id=\"T_c6f25_row1_col6\" class=\"data row1 col6\" >5.00</td>\n",
       "                        <td id=\"T_c6f25_row1_col7\" class=\"data row1 col7\" >1.00</td>\n",
       "                        <td id=\"T_c6f25_row1_col8\" class=\"data row1 col8\" >2.00</td>\n",
       "            </tr>\n",
       "            <tr>\n",
       "                        <th id=\"T_c6f25_level0_row2\" class=\"row_heading level0 row2\" >0.5</th>\n",
       "                        <td id=\"T_c6f25_row2_col0\" class=\"data row2 col0\" >2.00</td>\n",
       "                        <td id=\"T_c6f25_row2_col1\" class=\"data row2 col1\" >52.00</td>\n",
       "                        <td id=\"T_c6f25_row2_col2\" class=\"data row2 col2\" >2.65</td>\n",
       "                        <td id=\"T_c6f25_row2_col3\" class=\"data row2 col3\" >104.00</td>\n",
       "                        <td id=\"T_c6f25_row2_col4\" class=\"data row2 col4\" >4,600,000.00</td>\n",
       "                        <td id=\"T_c6f25_row2_col5\" class=\"data row2 col5\" >30.00</td>\n",
       "                        <td id=\"T_c6f25_row2_col6\" class=\"data row2 col6\" >9.09</td>\n",
       "                        <td id=\"T_c6f25_row2_col7\" class=\"data row2 col7\" >4.00</td>\n",
       "                        <td id=\"T_c6f25_row2_col8\" class=\"data row2 col8\" >9.00</td>\n",
       "            </tr>\n",
       "            <tr>\n",
       "                        <th id=\"T_c6f25_level0_row3\" class=\"row_heading level0 row3\" >0.99</th>\n",
       "                        <td id=\"T_c6f25_row3_col0\" class=\"data row3 col0\" >5.00</td>\n",
       "                        <td id=\"T_c6f25_row3_col1\" class=\"data row3 col1\" >158.00</td>\n",
       "                        <td id=\"T_c6f25_row3_col2\" class=\"data row3 col2\" >3.50</td>\n",
       "                        <td id=\"T_c6f25_row3_col3\" class=\"data row3 col3\" >986.42</td>\n",
       "                        <td id=\"T_c6f25_row3_col4\" class=\"data row3 col4\" >25,874,680.00</td>\n",
       "                        <td id=\"T_c6f25_row3_col5\" class=\"data row3 col5\" >96.00</td>\n",
       "                        <td id=\"T_c6f25_row3_col6\" class=\"data row3 col6\" >31.00</td>\n",
       "                        <td id=\"T_c6f25_row3_col7\" class=\"data row3 col7\" >22.00</td>\n",
       "                        <td id=\"T_c6f25_row3_col8\" class=\"data row3 col8\" >26.00</td>\n",
       "            </tr>\n",
       "            <tr>\n",
       "                        <th id=\"T_c6f25_level0_row4\" class=\"row_heading level0 row4\" >0.9988</th>\n",
       "                        <td id=\"T_c6f25_row4_col0\" class=\"data row4 col0\" >6.00</td>\n",
       "                        <td id=\"T_c6f25_row4_col1\" class=\"data row4 col1\" >190.68</td>\n",
       "                        <td id=\"T_c6f25_row4_col2\" class=\"data row4 col2\" >4.10</td>\n",
       "                        <td id=\"T_c6f25_row4_col3\" class=\"data row4 col3\" >1,164.74</td>\n",
       "                        <td id=\"T_c6f25_row4_col4\" class=\"data row4 col4\" >43,000,000.00</td>\n",
       "                        <td id=\"T_c6f25_row4_col5\" class=\"data row4 col5\" >125.41</td>\n",
       "                        <td id=\"T_c6f25_row4_col6\" class=\"data row4 col6\" >45.00</td>\n",
       "                        <td id=\"T_c6f25_row4_col7\" class=\"data row4 col7\" >26.00</td>\n",
       "                        <td id=\"T_c6f25_row4_col8\" class=\"data row4 col8\" >27.00</td>\n",
       "            </tr>\n",
       "    </tbody></table>"
      ],
      "text/plain": [
       "<pandas.io.formats.style.Styler at 0x7fb5f65702b0>"
      ]
     },
     "execution_count": 24,
     "metadata": {},
     "output_type": "execute_result"
    }
   ],
   "source": [
    "# check\n",
    "\n",
    "# Значения параметров объектов недвижимости на разных квантилях\n",
    "\n",
    "(\n",
    "    data[['rooms', 'total_area', 'ceiling_height', 'days_exposition', 'last_price', 'living_area',  \n",
    "        'kitchen_area', 'floor',   'floors_total']]\n",
    "    .quantile([0.0012, 0.01, .5, .99, .9988]) # выбираем размах в 0,9976 квантилей \n",
    "    .style.format(\"{:,.2f}\")\n",
    ")"
   ]
  },
  {
   "cell_type": "markdown",
   "metadata": {},
   "source": [
    "### Посчитайте и добавьте в таблицу новые столбцы"
   ]
  },
  {
   "cell_type": "code",
   "execution_count": 25,
   "metadata": {},
   "outputs": [
    {
     "data": {
      "text/html": [
       "<div>\n",
       "<style scoped>\n",
       "    .dataframe tbody tr th:only-of-type {\n",
       "        vertical-align: middle;\n",
       "    }\n",
       "\n",
       "    .dataframe tbody tr th {\n",
       "        vertical-align: top;\n",
       "    }\n",
       "\n",
       "    .dataframe thead th {\n",
       "        text-align: right;\n",
       "    }\n",
       "</style>\n",
       "<table border=\"1\" class=\"dataframe\">\n",
       "  <thead>\n",
       "    <tr style=\"text-align: right;\">\n",
       "      <th></th>\n",
       "      <th>total_images</th>\n",
       "      <th>last_price</th>\n",
       "      <th>total_area</th>\n",
       "      <th>first_day_exposition</th>\n",
       "      <th>rooms</th>\n",
       "      <th>ceiling_height</th>\n",
       "      <th>floors_total</th>\n",
       "      <th>living_area</th>\n",
       "      <th>floor</th>\n",
       "      <th>is_apartment</th>\n",
       "      <th>...</th>\n",
       "      <th>balcony</th>\n",
       "      <th>locality_name</th>\n",
       "      <th>airports_nearest</th>\n",
       "      <th>cityCenters_nearest</th>\n",
       "      <th>parks_around3000</th>\n",
       "      <th>parks_nearest</th>\n",
       "      <th>ponds_around3000</th>\n",
       "      <th>ponds_nearest</th>\n",
       "      <th>days_exposition</th>\n",
       "      <th>price</th>\n",
       "    </tr>\n",
       "  </thead>\n",
       "  <tbody>\n",
       "    <tr>\n",
       "      <th>0</th>\n",
       "      <td>20</td>\n",
       "      <td>13000000</td>\n",
       "      <td>108.00</td>\n",
       "      <td>2019-03-07</td>\n",
       "      <td>3</td>\n",
       "      <td>2.70</td>\n",
       "      <td>16</td>\n",
       "      <td>51.0</td>\n",
       "      <td>8</td>\n",
       "      <td>False</td>\n",
       "      <td>...</td>\n",
       "      <td>0</td>\n",
       "      <td>санкт-петербург</td>\n",
       "      <td>18863.0</td>\n",
       "      <td>16028.0</td>\n",
       "      <td>1</td>\n",
       "      <td>482.0</td>\n",
       "      <td>2</td>\n",
       "      <td>755.0</td>\n",
       "      <td>NaN</td>\n",
       "      <td>120370</td>\n",
       "    </tr>\n",
       "    <tr>\n",
       "      <th>1</th>\n",
       "      <td>7</td>\n",
       "      <td>3350000</td>\n",
       "      <td>40.40</td>\n",
       "      <td>2018-12-04</td>\n",
       "      <td>1</td>\n",
       "      <td>2.75</td>\n",
       "      <td>11</td>\n",
       "      <td>18.6</td>\n",
       "      <td>1</td>\n",
       "      <td>False</td>\n",
       "      <td>...</td>\n",
       "      <td>2</td>\n",
       "      <td>шушары</td>\n",
       "      <td>12817.0</td>\n",
       "      <td>18603.0</td>\n",
       "      <td>0</td>\n",
       "      <td>NaN</td>\n",
       "      <td>0</td>\n",
       "      <td>NaN</td>\n",
       "      <td>81.0</td>\n",
       "      <td>82920</td>\n",
       "    </tr>\n",
       "    <tr>\n",
       "      <th>2</th>\n",
       "      <td>10</td>\n",
       "      <td>5196000</td>\n",
       "      <td>56.00</td>\n",
       "      <td>2015-08-20</td>\n",
       "      <td>2</td>\n",
       "      <td>2.55</td>\n",
       "      <td>5</td>\n",
       "      <td>34.3</td>\n",
       "      <td>4</td>\n",
       "      <td>False</td>\n",
       "      <td>...</td>\n",
       "      <td>0</td>\n",
       "      <td>санкт-петербург</td>\n",
       "      <td>21741.0</td>\n",
       "      <td>13933.0</td>\n",
       "      <td>1</td>\n",
       "      <td>90.0</td>\n",
       "      <td>2</td>\n",
       "      <td>574.0</td>\n",
       "      <td>558.0</td>\n",
       "      <td>92785</td>\n",
       "    </tr>\n",
       "    <tr>\n",
       "      <th>4</th>\n",
       "      <td>2</td>\n",
       "      <td>10000000</td>\n",
       "      <td>100.00</td>\n",
       "      <td>2018-06-19</td>\n",
       "      <td>2</td>\n",
       "      <td>3.03</td>\n",
       "      <td>14</td>\n",
       "      <td>32.0</td>\n",
       "      <td>13</td>\n",
       "      <td>False</td>\n",
       "      <td>...</td>\n",
       "      <td>0</td>\n",
       "      <td>санкт-петербург</td>\n",
       "      <td>31856.0</td>\n",
       "      <td>8098.0</td>\n",
       "      <td>2</td>\n",
       "      <td>112.0</td>\n",
       "      <td>1</td>\n",
       "      <td>48.0</td>\n",
       "      <td>121.0</td>\n",
       "      <td>100000</td>\n",
       "    </tr>\n",
       "    <tr>\n",
       "      <th>5</th>\n",
       "      <td>10</td>\n",
       "      <td>2890000</td>\n",
       "      <td>30.40</td>\n",
       "      <td>2018-09-10</td>\n",
       "      <td>1</td>\n",
       "      <td>2.65</td>\n",
       "      <td>12</td>\n",
       "      <td>14.4</td>\n",
       "      <td>5</td>\n",
       "      <td>False</td>\n",
       "      <td>...</td>\n",
       "      <td>0</td>\n",
       "      <td>городской янино-1</td>\n",
       "      <td>NaN</td>\n",
       "      <td>NaN</td>\n",
       "      <td>0</td>\n",
       "      <td>NaN</td>\n",
       "      <td>0</td>\n",
       "      <td>NaN</td>\n",
       "      <td>55.0</td>\n",
       "      <td>95065</td>\n",
       "    </tr>\n",
       "    <tr>\n",
       "      <th>...</th>\n",
       "      <td>...</td>\n",
       "      <td>...</td>\n",
       "      <td>...</td>\n",
       "      <td>...</td>\n",
       "      <td>...</td>\n",
       "      <td>...</td>\n",
       "      <td>...</td>\n",
       "      <td>...</td>\n",
       "      <td>...</td>\n",
       "      <td>...</td>\n",
       "      <td>...</td>\n",
       "      <td>...</td>\n",
       "      <td>...</td>\n",
       "      <td>...</td>\n",
       "      <td>...</td>\n",
       "      <td>...</td>\n",
       "      <td>...</td>\n",
       "      <td>...</td>\n",
       "      <td>...</td>\n",
       "      <td>...</td>\n",
       "      <td>...</td>\n",
       "    </tr>\n",
       "    <tr>\n",
       "      <th>23694</th>\n",
       "      <td>9</td>\n",
       "      <td>9700000</td>\n",
       "      <td>133.81</td>\n",
       "      <td>2017-03-21</td>\n",
       "      <td>3</td>\n",
       "      <td>3.70</td>\n",
       "      <td>5</td>\n",
       "      <td>73.3</td>\n",
       "      <td>3</td>\n",
       "      <td>False</td>\n",
       "      <td>...</td>\n",
       "      <td>0</td>\n",
       "      <td>санкт-петербург</td>\n",
       "      <td>24665.0</td>\n",
       "      <td>4232.0</td>\n",
       "      <td>1</td>\n",
       "      <td>796.0</td>\n",
       "      <td>3</td>\n",
       "      <td>381.0</td>\n",
       "      <td>NaN</td>\n",
       "      <td>72490</td>\n",
       "    </tr>\n",
       "    <tr>\n",
       "      <th>23695</th>\n",
       "      <td>14</td>\n",
       "      <td>3100000</td>\n",
       "      <td>59.00</td>\n",
       "      <td>2018-01-15</td>\n",
       "      <td>3</td>\n",
       "      <td>2.55</td>\n",
       "      <td>5</td>\n",
       "      <td>38.0</td>\n",
       "      <td>4</td>\n",
       "      <td>False</td>\n",
       "      <td>...</td>\n",
       "      <td>0</td>\n",
       "      <td>тосно</td>\n",
       "      <td>NaN</td>\n",
       "      <td>NaN</td>\n",
       "      <td>0</td>\n",
       "      <td>NaN</td>\n",
       "      <td>0</td>\n",
       "      <td>NaN</td>\n",
       "      <td>45.0</td>\n",
       "      <td>52542</td>\n",
       "    </tr>\n",
       "    <tr>\n",
       "      <th>23696</th>\n",
       "      <td>18</td>\n",
       "      <td>2500000</td>\n",
       "      <td>56.70</td>\n",
       "      <td>2018-02-11</td>\n",
       "      <td>2</td>\n",
       "      <td>2.80</td>\n",
       "      <td>3</td>\n",
       "      <td>29.7</td>\n",
       "      <td>1</td>\n",
       "      <td>False</td>\n",
       "      <td>...</td>\n",
       "      <td>0</td>\n",
       "      <td>рождествено</td>\n",
       "      <td>NaN</td>\n",
       "      <td>NaN</td>\n",
       "      <td>0</td>\n",
       "      <td>NaN</td>\n",
       "      <td>0</td>\n",
       "      <td>NaN</td>\n",
       "      <td>NaN</td>\n",
       "      <td>44091</td>\n",
       "    </tr>\n",
       "    <tr>\n",
       "      <th>23697</th>\n",
       "      <td>13</td>\n",
       "      <td>11475000</td>\n",
       "      <td>76.75</td>\n",
       "      <td>2017-03-28</td>\n",
       "      <td>2</td>\n",
       "      <td>3.00</td>\n",
       "      <td>17</td>\n",
       "      <td>NaN</td>\n",
       "      <td>12</td>\n",
       "      <td>False</td>\n",
       "      <td>...</td>\n",
       "      <td>2</td>\n",
       "      <td>санкт-петербург</td>\n",
       "      <td>39140.0</td>\n",
       "      <td>10364.0</td>\n",
       "      <td>2</td>\n",
       "      <td>173.0</td>\n",
       "      <td>3</td>\n",
       "      <td>196.0</td>\n",
       "      <td>602.0</td>\n",
       "      <td>149511</td>\n",
       "    </tr>\n",
       "    <tr>\n",
       "      <th>23698</th>\n",
       "      <td>4</td>\n",
       "      <td>1350000</td>\n",
       "      <td>32.30</td>\n",
       "      <td>2017-07-21</td>\n",
       "      <td>1</td>\n",
       "      <td>2.50</td>\n",
       "      <td>5</td>\n",
       "      <td>12.3</td>\n",
       "      <td>1</td>\n",
       "      <td>False</td>\n",
       "      <td>...</td>\n",
       "      <td>0</td>\n",
       "      <td>новый учхоз</td>\n",
       "      <td>NaN</td>\n",
       "      <td>NaN</td>\n",
       "      <td>0</td>\n",
       "      <td>NaN</td>\n",
       "      <td>0</td>\n",
       "      <td>NaN</td>\n",
       "      <td>NaN</td>\n",
       "      <td>41795</td>\n",
       "    </tr>\n",
       "  </tbody>\n",
       "</table>\n",
       "<p>21928 rows × 23 columns</p>\n",
       "</div>"
      ],
      "text/plain": [
       "       total_images  last_price  total_area first_day_exposition  rooms  \\\n",
       "0                20    13000000      108.00           2019-03-07      3   \n",
       "1                 7     3350000       40.40           2018-12-04      1   \n",
       "2                10     5196000       56.00           2015-08-20      2   \n",
       "4                 2    10000000      100.00           2018-06-19      2   \n",
       "5                10     2890000       30.40           2018-09-10      1   \n",
       "...             ...         ...         ...                  ...    ...   \n",
       "23694             9     9700000      133.81           2017-03-21      3   \n",
       "23695            14     3100000       59.00           2018-01-15      3   \n",
       "23696            18     2500000       56.70           2018-02-11      2   \n",
       "23697            13    11475000       76.75           2017-03-28      2   \n",
       "23698             4     1350000       32.30           2017-07-21      1   \n",
       "\n",
       "       ceiling_height  floors_total  living_area  floor  is_apartment  ...  \\\n",
       "0                2.70            16         51.0      8         False  ...   \n",
       "1                2.75            11         18.6      1         False  ...   \n",
       "2                2.55             5         34.3      4         False  ...   \n",
       "4                3.03            14         32.0     13         False  ...   \n",
       "5                2.65            12         14.4      5         False  ...   \n",
       "...               ...           ...          ...    ...           ...  ...   \n",
       "23694            3.70             5         73.3      3         False  ...   \n",
       "23695            2.55             5         38.0      4         False  ...   \n",
       "23696            2.80             3         29.7      1         False  ...   \n",
       "23697            3.00            17          NaN     12         False  ...   \n",
       "23698            2.50             5         12.3      1         False  ...   \n",
       "\n",
       "       balcony      locality_name  airports_nearest  cityCenters_nearest  \\\n",
       "0            0    санкт-петербург           18863.0              16028.0   \n",
       "1            2             шушары           12817.0              18603.0   \n",
       "2            0    санкт-петербург           21741.0              13933.0   \n",
       "4            0    санкт-петербург           31856.0               8098.0   \n",
       "5            0  городской янино-1               NaN                  NaN   \n",
       "...        ...                ...               ...                  ...   \n",
       "23694        0    санкт-петербург           24665.0               4232.0   \n",
       "23695        0              тосно               NaN                  NaN   \n",
       "23696        0        рождествено               NaN                  NaN   \n",
       "23697        2    санкт-петербург           39140.0              10364.0   \n",
       "23698        0        новый учхоз               NaN                  NaN   \n",
       "\n",
       "      parks_around3000  parks_nearest  ponds_around3000  ponds_nearest  \\\n",
       "0                    1          482.0                 2          755.0   \n",
       "1                    0            NaN                 0            NaN   \n",
       "2                    1           90.0                 2          574.0   \n",
       "4                    2          112.0                 1           48.0   \n",
       "5                    0            NaN                 0            NaN   \n",
       "...                ...            ...               ...            ...   \n",
       "23694                1          796.0                 3          381.0   \n",
       "23695                0            NaN                 0            NaN   \n",
       "23696                0            NaN                 0            NaN   \n",
       "23697                2          173.0                 3          196.0   \n",
       "23698                0            NaN                 0            NaN   \n",
       "\n",
       "       days_exposition   price  \n",
       "0                  NaN  120370  \n",
       "1                 81.0   82920  \n",
       "2                558.0   92785  \n",
       "4                121.0  100000  \n",
       "5                 55.0   95065  \n",
       "...                ...     ...  \n",
       "23694              NaN   72490  \n",
       "23695             45.0   52542  \n",
       "23696              NaN   44091  \n",
       "23697            602.0  149511  \n",
       "23698              NaN   41795  \n",
       "\n",
       "[21928 rows x 23 columns]"
      ]
     },
     "execution_count": 25,
     "metadata": {},
     "output_type": "execute_result"
    }
   ],
   "source": [
    "data['price'] = data['last_price'] / data['total_area']\n",
    "data['price'] = data['price'].astype('int')\n",
    "data = data[(data ['price'] <= 500000) | (data ['price'].isna()) ]\n",
    "\n",
    "data"
   ]
  },
  {
   "cell_type": "code",
   "execution_count": 26,
   "metadata": {},
   "outputs": [],
   "source": [
    "data['weekday'] = data['first_day_exposition'].dt.weekday\n",
    "data['month'] = data['first_day_exposition'].dt.month\n",
    "data['year'] = data['first_day_exposition'].dt.year"
   ]
  },
  {
   "cell_type": "code",
   "execution_count": 27,
   "metadata": {},
   "outputs": [],
   "source": [
    "def floor_category(row):\n",
    "    floors_total = row['floors_total']\n",
    "    floor = row['floor']\n",
    "    if floor == 1:\n",
    "        return 'первый'\n",
    "    elif floor == floors_total:\n",
    "        return 'последний'\n",
    "    elif 1 < floor < floors_total:\n",
    "        return 'другой'"
   ]
  },
  {
   "cell_type": "code",
   "execution_count": 28,
   "metadata": {},
   "outputs": [],
   "source": [
    "data['floor_category'] = data.apply(floor_category, axis = 1)\n",
    "data['center_km'] = data['cityCenters_nearest'] / 1000\n",
    "data['center_km'] = data['center_km'].fillna(value=0).astype(int)\n"
   ]
  },
  {
   "cell_type": "markdown",
   "metadata": {},
   "source": [
    "Доавляем столбец с типом этажа - для людей имеет разница, только последний это этаж или первый, поэтому и оставляем только три типа. Так же меняем километры на метры в раастоянии до центра города, добавляем столбец с ценой за квадратный метр и меняем тип данных."
   ]
  },
  {
   "cell_type": "code",
   "execution_count": 29,
   "metadata": {
    "scrolled": true
   },
   "outputs": [
    {
     "data": {
      "text/html": [
       "<div>\n",
       "<style scoped>\n",
       "    .dataframe tbody tr th:only-of-type {\n",
       "        vertical-align: middle;\n",
       "    }\n",
       "\n",
       "    .dataframe tbody tr th {\n",
       "        vertical-align: top;\n",
       "    }\n",
       "\n",
       "    .dataframe thead th {\n",
       "        text-align: right;\n",
       "    }\n",
       "</style>\n",
       "<table border=\"1\" class=\"dataframe\">\n",
       "  <thead>\n",
       "    <tr style=\"text-align: right;\">\n",
       "      <th></th>\n",
       "      <th>total_images</th>\n",
       "      <th>last_price</th>\n",
       "      <th>total_area</th>\n",
       "      <th>first_day_exposition</th>\n",
       "      <th>rooms</th>\n",
       "      <th>ceiling_height</th>\n",
       "      <th>floors_total</th>\n",
       "      <th>living_area</th>\n",
       "      <th>floor</th>\n",
       "      <th>is_apartment</th>\n",
       "      <th>...</th>\n",
       "      <th>parks_nearest</th>\n",
       "      <th>ponds_around3000</th>\n",
       "      <th>ponds_nearest</th>\n",
       "      <th>days_exposition</th>\n",
       "      <th>price</th>\n",
       "      <th>weekday</th>\n",
       "      <th>month</th>\n",
       "      <th>year</th>\n",
       "      <th>floor_category</th>\n",
       "      <th>center_km</th>\n",
       "    </tr>\n",
       "  </thead>\n",
       "  <tbody>\n",
       "    <tr>\n",
       "      <th>0</th>\n",
       "      <td>20</td>\n",
       "      <td>13000000</td>\n",
       "      <td>108.00</td>\n",
       "      <td>2019-03-07</td>\n",
       "      <td>3</td>\n",
       "      <td>2.70</td>\n",
       "      <td>16</td>\n",
       "      <td>51.00</td>\n",
       "      <td>8</td>\n",
       "      <td>False</td>\n",
       "      <td>...</td>\n",
       "      <td>482.0</td>\n",
       "      <td>2</td>\n",
       "      <td>755.0</td>\n",
       "      <td>NaN</td>\n",
       "      <td>120370</td>\n",
       "      <td>3</td>\n",
       "      <td>3</td>\n",
       "      <td>2019</td>\n",
       "      <td>другой</td>\n",
       "      <td>16</td>\n",
       "    </tr>\n",
       "    <tr>\n",
       "      <th>1</th>\n",
       "      <td>7</td>\n",
       "      <td>3350000</td>\n",
       "      <td>40.40</td>\n",
       "      <td>2018-12-04</td>\n",
       "      <td>1</td>\n",
       "      <td>2.75</td>\n",
       "      <td>11</td>\n",
       "      <td>18.60</td>\n",
       "      <td>1</td>\n",
       "      <td>False</td>\n",
       "      <td>...</td>\n",
       "      <td>NaN</td>\n",
       "      <td>0</td>\n",
       "      <td>NaN</td>\n",
       "      <td>81.0</td>\n",
       "      <td>82920</td>\n",
       "      <td>1</td>\n",
       "      <td>12</td>\n",
       "      <td>2018</td>\n",
       "      <td>первый</td>\n",
       "      <td>18</td>\n",
       "    </tr>\n",
       "    <tr>\n",
       "      <th>2</th>\n",
       "      <td>10</td>\n",
       "      <td>5196000</td>\n",
       "      <td>56.00</td>\n",
       "      <td>2015-08-20</td>\n",
       "      <td>2</td>\n",
       "      <td>2.55</td>\n",
       "      <td>5</td>\n",
       "      <td>34.30</td>\n",
       "      <td>4</td>\n",
       "      <td>False</td>\n",
       "      <td>...</td>\n",
       "      <td>90.0</td>\n",
       "      <td>2</td>\n",
       "      <td>574.0</td>\n",
       "      <td>558.0</td>\n",
       "      <td>92785</td>\n",
       "      <td>3</td>\n",
       "      <td>8</td>\n",
       "      <td>2015</td>\n",
       "      <td>другой</td>\n",
       "      <td>13</td>\n",
       "    </tr>\n",
       "    <tr>\n",
       "      <th>4</th>\n",
       "      <td>2</td>\n",
       "      <td>10000000</td>\n",
       "      <td>100.00</td>\n",
       "      <td>2018-06-19</td>\n",
       "      <td>2</td>\n",
       "      <td>3.03</td>\n",
       "      <td>14</td>\n",
       "      <td>32.00</td>\n",
       "      <td>13</td>\n",
       "      <td>False</td>\n",
       "      <td>...</td>\n",
       "      <td>112.0</td>\n",
       "      <td>1</td>\n",
       "      <td>48.0</td>\n",
       "      <td>121.0</td>\n",
       "      <td>100000</td>\n",
       "      <td>1</td>\n",
       "      <td>6</td>\n",
       "      <td>2018</td>\n",
       "      <td>другой</td>\n",
       "      <td>8</td>\n",
       "    </tr>\n",
       "    <tr>\n",
       "      <th>5</th>\n",
       "      <td>10</td>\n",
       "      <td>2890000</td>\n",
       "      <td>30.40</td>\n",
       "      <td>2018-09-10</td>\n",
       "      <td>1</td>\n",
       "      <td>2.65</td>\n",
       "      <td>12</td>\n",
       "      <td>14.40</td>\n",
       "      <td>5</td>\n",
       "      <td>False</td>\n",
       "      <td>...</td>\n",
       "      <td>NaN</td>\n",
       "      <td>0</td>\n",
       "      <td>NaN</td>\n",
       "      <td>55.0</td>\n",
       "      <td>95065</td>\n",
       "      <td>0</td>\n",
       "      <td>9</td>\n",
       "      <td>2018</td>\n",
       "      <td>другой</td>\n",
       "      <td>0</td>\n",
       "    </tr>\n",
       "    <tr>\n",
       "      <th>6</th>\n",
       "      <td>6</td>\n",
       "      <td>3700000</td>\n",
       "      <td>37.30</td>\n",
       "      <td>2017-11-02</td>\n",
       "      <td>1</td>\n",
       "      <td>2.66</td>\n",
       "      <td>26</td>\n",
       "      <td>10.60</td>\n",
       "      <td>6</td>\n",
       "      <td>False</td>\n",
       "      <td>...</td>\n",
       "      <td>NaN</td>\n",
       "      <td>0</td>\n",
       "      <td>NaN</td>\n",
       "      <td>155.0</td>\n",
       "      <td>99195</td>\n",
       "      <td>3</td>\n",
       "      <td>11</td>\n",
       "      <td>2017</td>\n",
       "      <td>другой</td>\n",
       "      <td>19</td>\n",
       "    </tr>\n",
       "    <tr>\n",
       "      <th>7</th>\n",
       "      <td>5</td>\n",
       "      <td>7915000</td>\n",
       "      <td>71.60</td>\n",
       "      <td>2019-04-18</td>\n",
       "      <td>2</td>\n",
       "      <td>2.75</td>\n",
       "      <td>24</td>\n",
       "      <td>NaN</td>\n",
       "      <td>22</td>\n",
       "      <td>False</td>\n",
       "      <td>...</td>\n",
       "      <td>NaN</td>\n",
       "      <td>0</td>\n",
       "      <td>NaN</td>\n",
       "      <td>NaN</td>\n",
       "      <td>110544</td>\n",
       "      <td>3</td>\n",
       "      <td>4</td>\n",
       "      <td>2019</td>\n",
       "      <td>другой</td>\n",
       "      <td>11</td>\n",
       "    </tr>\n",
       "    <tr>\n",
       "      <th>8</th>\n",
       "      <td>20</td>\n",
       "      <td>2900000</td>\n",
       "      <td>33.16</td>\n",
       "      <td>2018-05-23</td>\n",
       "      <td>1</td>\n",
       "      <td>2.70</td>\n",
       "      <td>27</td>\n",
       "      <td>15.43</td>\n",
       "      <td>26</td>\n",
       "      <td>False</td>\n",
       "      <td>...</td>\n",
       "      <td>NaN</td>\n",
       "      <td>0</td>\n",
       "      <td>NaN</td>\n",
       "      <td>189.0</td>\n",
       "      <td>87454</td>\n",
       "      <td>2</td>\n",
       "      <td>5</td>\n",
       "      <td>2018</td>\n",
       "      <td>другой</td>\n",
       "      <td>0</td>\n",
       "    </tr>\n",
       "    <tr>\n",
       "      <th>9</th>\n",
       "      <td>18</td>\n",
       "      <td>5400000</td>\n",
       "      <td>61.00</td>\n",
       "      <td>2017-02-26</td>\n",
       "      <td>3</td>\n",
       "      <td>2.50</td>\n",
       "      <td>9</td>\n",
       "      <td>43.60</td>\n",
       "      <td>7</td>\n",
       "      <td>False</td>\n",
       "      <td>...</td>\n",
       "      <td>NaN</td>\n",
       "      <td>0</td>\n",
       "      <td>NaN</td>\n",
       "      <td>289.0</td>\n",
       "      <td>88524</td>\n",
       "      <td>6</td>\n",
       "      <td>2</td>\n",
       "      <td>2017</td>\n",
       "      <td>другой</td>\n",
       "      <td>15</td>\n",
       "    </tr>\n",
       "    <tr>\n",
       "      <th>10</th>\n",
       "      <td>5</td>\n",
       "      <td>5050000</td>\n",
       "      <td>39.60</td>\n",
       "      <td>2017-11-16</td>\n",
       "      <td>1</td>\n",
       "      <td>2.67</td>\n",
       "      <td>12</td>\n",
       "      <td>20.30</td>\n",
       "      <td>3</td>\n",
       "      <td>False</td>\n",
       "      <td>...</td>\n",
       "      <td>310.0</td>\n",
       "      <td>2</td>\n",
       "      <td>553.0</td>\n",
       "      <td>137.0</td>\n",
       "      <td>127525</td>\n",
       "      <td>3</td>\n",
       "      <td>11</td>\n",
       "      <td>2017</td>\n",
       "      <td>другой</td>\n",
       "      <td>13</td>\n",
       "    </tr>\n",
       "  </tbody>\n",
       "</table>\n",
       "<p>10 rows × 28 columns</p>\n",
       "</div>"
      ],
      "text/plain": [
       "    total_images  last_price  total_area first_day_exposition  rooms  \\\n",
       "0             20    13000000      108.00           2019-03-07      3   \n",
       "1              7     3350000       40.40           2018-12-04      1   \n",
       "2             10     5196000       56.00           2015-08-20      2   \n",
       "4              2    10000000      100.00           2018-06-19      2   \n",
       "5             10     2890000       30.40           2018-09-10      1   \n",
       "6              6     3700000       37.30           2017-11-02      1   \n",
       "7              5     7915000       71.60           2019-04-18      2   \n",
       "8             20     2900000       33.16           2018-05-23      1   \n",
       "9             18     5400000       61.00           2017-02-26      3   \n",
       "10             5     5050000       39.60           2017-11-16      1   \n",
       "\n",
       "    ceiling_height  floors_total  living_area  floor  is_apartment  ...  \\\n",
       "0             2.70            16        51.00      8         False  ...   \n",
       "1             2.75            11        18.60      1         False  ...   \n",
       "2             2.55             5        34.30      4         False  ...   \n",
       "4             3.03            14        32.00     13         False  ...   \n",
       "5             2.65            12        14.40      5         False  ...   \n",
       "6             2.66            26        10.60      6         False  ...   \n",
       "7             2.75            24          NaN     22         False  ...   \n",
       "8             2.70            27        15.43     26         False  ...   \n",
       "9             2.50             9        43.60      7         False  ...   \n",
       "10            2.67            12        20.30      3         False  ...   \n",
       "\n",
       "    parks_nearest  ponds_around3000  ponds_nearest  days_exposition   price  \\\n",
       "0           482.0                 2          755.0              NaN  120370   \n",
       "1             NaN                 0            NaN             81.0   82920   \n",
       "2            90.0                 2          574.0            558.0   92785   \n",
       "4           112.0                 1           48.0            121.0  100000   \n",
       "5             NaN                 0            NaN             55.0   95065   \n",
       "6             NaN                 0            NaN            155.0   99195   \n",
       "7             NaN                 0            NaN              NaN  110544   \n",
       "8             NaN                 0            NaN            189.0   87454   \n",
       "9             NaN                 0            NaN            289.0   88524   \n",
       "10          310.0                 2          553.0            137.0  127525   \n",
       "\n",
       "    weekday  month  year  floor_category  center_km  \n",
       "0         3      3  2019          другой         16  \n",
       "1         1     12  2018          первый         18  \n",
       "2         3      8  2015          другой         13  \n",
       "4         1      6  2018          другой          8  \n",
       "5         0      9  2018          другой          0  \n",
       "6         3     11  2017          другой         19  \n",
       "7         3      4  2019          другой         11  \n",
       "8         2      5  2018          другой          0  \n",
       "9         6      2  2017          другой         15  \n",
       "10        3     11  2017          другой         13  \n",
       "\n",
       "[10 rows x 28 columns]"
      ]
     },
     "metadata": {},
     "output_type": "display_data"
    }
   ],
   "source": [
    "display(data.head(10))"
   ]
  },
  {
   "cell_type": "markdown",
   "metadata": {},
   "source": [
    "### Проведите исследовательский анализ данных"
   ]
  },
  {
   "cell_type": "code",
   "execution_count": 30,
   "metadata": {
    "scrolled": false
   },
   "outputs": [
    {
     "data": {
      "image/png": "[encoded data removed]",
      "text/plain": [
       "<Figure size 864x216 with 1 Axes>"
      ]
     },
     "metadata": {
      "needs_background": "light"
     },
     "output_type": "display_data"
    },
    {
     "data": {
      "image/png": "[encoded data removed]",
      "text/plain": [
       "<Figure size 864x216 with 1 Axes>"
      ]
     },
     "metadata": {
      "needs_background": "light"
     },
     "output_type": "display_data"
    },
    {
     "data": {
      "image/png": "[encoded data removed]",
      "text/plain": [
       "<Figure size 864x216 with 1 Axes>"
      ]
     },
     "metadata": {
      "needs_background": "light"
     },
     "output_type": "display_data"
    },
    {
     "data": {
      "image/png": "[encoded data removed]",
      "text/plain": [
       "<Figure size 864x216 with 1 Axes>"
      ]
     },
     "metadata": {
      "needs_background": "light"
     },
     "output_type": "display_data"
    },
    {
     "data": {
      "image/png": "[encoded data removed]",
      "text/plain": [
       "<Figure size 864x216 with 1 Axes>"
      ]
     },
     "metadata": {
      "needs_background": "light"
     },
     "output_type": "display_data"
    },
    {
     "data": {
      "image/png": "[encoded data removed]",
      "text/plain": [
       "<Figure size 864x216 with 1 Axes>"
      ]
     },
     "metadata": {
      "needs_background": "light"
     },
     "output_type": "display_data"
    },
    {
     "data": {
      "image/png": "[encoded data removed]",
      "text/plain": [
       "<Figure size 864x216 with 1 Axes>"
      ]
     },
     "metadata": {
      "needs_background": "light"
     },
     "output_type": "display_data"
    },
    {
     "data": {
      "image/png": "[encoded data removed]",
      "text/plain": [
       "<Figure size 864x216 with 1 Axes>"
      ]
     },
     "metadata": {
      "needs_background": "light"
     },
     "output_type": "display_data"
    },
    {
     "data": {
      "image/png": "[encoded data removed]",
      "text/plain": [
       "<Figure size 864x216 with 1 Axes>"
      ]
     },
     "metadata": {
      "needs_background": "light"
     },
     "output_type": "display_data"
    },
    {
     "data": {
      "image/png": "[encoded data removed]",
      "text/plain": [
       "<Figure size 864x216 with 1 Axes>"
      ]
     },
     "metadata": {
      "needs_background": "light"
     },
     "output_type": "display_data"
    },
    {
     "data": {
      "image/png": "[encoded data removed]",
      "text/plain": [
       "<Figure size 864x216 with 1 Axes>"
      ]
     },
     "metadata": {
      "needs_background": "light"
     },
     "output_type": "display_data"
    },
    {
     "data": {
      "image/png": "[encoded data removed]",
      "text/plain": [
       "<Figure size 864x216 with 1 Axes>"
      ]
     },
     "metadata": {
      "needs_background": "light"
     },
     "output_type": "display_data"
    },
    {
     "data": {
      "image/png": "[encoded data removed]",
      "text/plain": [
       "<Figure size 864x216 with 1 Axes>"
      ]
     },
     "metadata": {
      "needs_background": "light"
     },
     "output_type": "display_data"
    },
    {
     "data": {
      "image/png": "[encoded data removed]",
      "text/plain": [
       "<Figure size 360x360 with 1 Axes>"
      ]
     },
     "metadata": {
      "needs_background": "light"
     },
     "output_type": "display_data"
    },
    {
     "data": {
      "image/png": "[encoded data removed]",
      "text/plain": [
       "<Figure size 360x360 with 1 Axes>"
      ]
     },
     "metadata": {
      "needs_background": "light"
     },
     "output_type": "display_data"
    },
    {
     "data": {
      "image/png": "[encoded data removed]",
      "text/plain": [
       "<Figure size 360x360 with 1 Axes>"
      ]
     },
     "metadata": {
      "needs_background": "light"
     },
     "output_type": "display_data"
    },
    {
     "data": {
      "image/png": "[encoded data removed]",
      "text/plain": [
       "<Figure size 360x360 with 1 Axes>"
      ]
     },
     "metadata": {
      "needs_background": "light"
     },
     "output_type": "display_data"
    }
   ],
   "source": [
    "data.plot(title='Общая площадь', y = 'total_area', kind = 'hist', bins = 100, grid=True, figsize = (12,3), range = (0,500))\n",
    "data.plot(title='Цена', y = 'last_price', kind = 'hist', bins = 100, grid=True, range = (0,15000000), figsize = (12,3))\n",
    "data.plot(title='Количество комнат', y = 'rooms', kind = 'hist', bins = 40, grid=True, figsize = (12,3))\n",
    "data.plot(title='Высота потолков', y = 'ceiling_height', kind = 'hist', bins = 30, range = (2,5), grid=True, figsize = (12,3))\n",
    "\n",
    "data.plot(title='Жилая площадь', y = 'living_area', kind = 'hist', bins = 30, range = (0, 200), grid=True, figsize = (12,3))\n",
    "data.plot(title='Площадь кухни', y = 'kitchen_area', kind = 'hist', bins = 30, range = (0, 100), grid=True, figsize = (12,3))\n",
    "data.plot(title='Этаж квартиры', y = 'floor', kind = 'hist', bins = 50, range = (0, 30), grid=True, figsize = (12,3))\n",
    "data.plot(title='количество этажей в доме', y = 'floors_total', kind = 'hist', bins = 50, range = (0, 40), grid=True, figsize = (12,3))\n",
    "\n",
    "data.plot(title='Расстояние центр', y = 'center_km', kind = 'hist', bins = 100, grid=True, figsize = (12,3))\n",
    "data.plot(title='Расстояние аэропорт', y = 'airports_nearest', kind = 'hist', bins = 100, range = (500, 100000), grid=True, figsize = (12,3))\n",
    "data.plot(title='Расстояние парк', y = 'parks_nearest', kind = 'hist', bins = 100, range = (0, 5000), grid=True, figsize = (12,3))\n",
    "data.plot(title='День', y = 'weekday', kind = 'hist', bins = 30, range = (0,7), grid=True, figsize = (12,3))\n",
    "data.plot(title='Месяц', y = 'month', kind = 'hist', bins = 50, range = (1,12), grid=True, figsize = (12,3))\n",
    "\n",
    "\n",
    "for column in ['floor_category', 'weekday', 'month', 'year']:\n",
    "    sns.catplot(x=column, y=\"last_price\", kind=\"box\", data=data, palette='husl')\n",
    "\n",
    "\n"
   ]
  },
  {
   "cell_type": "code",
   "execution_count": 31,
   "metadata": {},
   "outputs": [
    {
     "data": {
      "text/plain": [
       "count    21928.000000\n",
       "mean        10.520887\n",
       "std          9.550815\n",
       "min          0.000000\n",
       "25%          1.000000\n",
       "50%         11.000000\n",
       "75%         15.000000\n",
       "max         65.000000\n",
       "Name: center_km, dtype: float64"
      ]
     },
     "execution_count": 31,
     "metadata": {},
     "output_type": "execute_result"
    }
   ],
   "source": [
    "data['airports_nearest'].describe()\n",
    "data['center_km'].describe()"
   ]
  },
  {
   "cell_type": "markdown",
   "metadata": {},
   "source": [
    "Как можно заметить, в основном продают 1-2 - комнатные квартиры, больше 4 вообще редкость, а больше 5, например 7-комнатные, вообще вызывают подозрения (хотя в петербурге это может быть и коммунальная квартира)\n",
    "\n",
    "Большинство квартир до 100 кв. метров, с высотой потолков 2.5 - 3 метра.\n",
    "\n",
    "Жилая площадь в основном до 50 квадратов, кухня в среднем 10 метров (от 5 до 15 встречается чаще всего). Большая часть квартир на 1-6 этажах, но много так же до 10 этажей включительно\n",
    "\n",
    "Если парк рядом, то расстояние до него до 1 км, в среднем ~500 метров (неудивительно, в Ленобласти сплошные парки)\n",
    "\n",
    "Начиная с пятницы объявлений все меньше, начинаются выходные. А по месясам проседает летом и зимой, больше всего объявлений в первые месяцы весны и осени.\n",
    "\n",
    "До центра в среднем 10 км, а до аэропорта 30, исключили так же совсем мелкие значения, меньше км до аропорта - довольно странно"
   ]
  },
  {
   "cell_type": "code",
   "execution_count": 32,
   "metadata": {},
   "outputs": [
    {
     "name": "stdout",
     "output_type": "stream",
     "text": [
      "count    18855.000000\n",
      "mean       184.507080\n",
      "std        206.942316\n",
      "min         10.000000\n",
      "25%         45.000000\n",
      "50%        104.000000\n",
      "75%        239.500000\n",
      "max       1200.000000\n",
      "Name: days_exposition, dtype: float64\n"
     ]
    },
    {
     "data": {
      "text/plain": [
       "<AxesSubplot:>"
      ]
     },
     "execution_count": 32,
     "metadata": {},
     "output_type": "execute_result"
    },
    {
     "data": {
      "image/png": "[encoded data removed]",
      "text/plain": [
       "<Figure size 864x576 with 1 Axes>"
      ]
     },
     "metadata": {
      "needs_background": "light"
     },
     "output_type": "display_data"
    }
   ],
   "source": [
    "print(data['days_exposition'].describe())\n",
    "\n",
    "data['days_exposition'].hist(bins=200, figsize=(12,8))"
   ]
  },
  {
   "cell_type": "markdown",
   "metadata": {},
   "source": [
    "Медианное время продажи - 104 дня, среднее 184 день. Есть квартиры, которые продали в первые несколько дней после публикации объявления, но есть и те, что продавались месяцами."
   ]
  },
  {
   "cell_type": "markdown",
   "metadata": {},
   "source": [
    "Получается, что быстрыми продажами можно считать менее 45 дней, а долгими - больше 232"
   ]
  },
  {
   "cell_type": "code",
   "execution_count": 33,
   "metadata": {
    "scrolled": false
   },
   "outputs": [
    {
     "data": {
      "image/png": "[encoded data removed]",
      "text/plain": [
       "<Figure size 360x360 with 1 Axes>"
      ]
     },
     "metadata": {
      "needs_background": "light"
     },
     "output_type": "display_data"
    },
    {
     "data": {
      "image/png": "[encoded data removed]",
      "text/plain": [
       "<Figure size 360x360 with 1 Axes>"
      ]
     },
     "metadata": {
      "needs_background": "light"
     },
     "output_type": "display_data"
    },
    {
     "data": {
      "image/png": "[encoded data removed]",
      "text/plain": [
       "<Figure size 360x360 with 1 Axes>"
      ]
     },
     "metadata": {
      "needs_background": "light"
     },
     "output_type": "display_data"
    },
    {
     "data": {
      "image/png": "[encoded data removed]",
      "text/plain": [
       "<Figure size 360x360 with 1 Axes>"
      ]
     },
     "metadata": {
      "needs_background": "light"
     },
     "output_type": "display_data"
    },
    {
     "data": {
      "image/png": "[encoded data removed]",
      "text/plain": [
       "<Figure size 360x360 with 1 Axes>"
      ]
     },
     "metadata": {
      "needs_background": "light"
     },
     "output_type": "display_data"
    },
    {
     "data": {
      "image/png": "[encoded data removed]",
      "text/plain": [
       "<Figure size 360x360 with 1 Axes>"
      ]
     },
     "metadata": {
      "needs_background": "light"
     },
     "output_type": "display_data"
    },
    {
     "data": {
      "image/png": "[encoded data removed]",
      "text/plain": [
       "<Figure size 360x360 with 1 Axes>"
      ]
     },
     "metadata": {
      "needs_background": "light"
     },
     "output_type": "display_data"
    },
    {
     "data": {
      "image/png": "[encoded data removed]",
      "text/plain": [
       "<Figure size 360x360 with 1 Axes>"
      ]
     },
     "metadata": {
      "needs_background": "light"
     },
     "output_type": "display_data"
    }
   ],
   "source": [
    "(\n",
    "    data.pivot_table(index='total_area', values='last_price')\n",
    "    .plot(title='Зависимость цены от площади', grid=True, style='o', figsize=(5, 5))\n",
    ")\n",
    "plt.show()\n",
    "\n",
    "(\n",
    "    data.pivot_table(index='living_area', values='last_price')\n",
    "    .plot(title='Зависимость цены от  жилой площади', grid=True, style='o', figsize=(5, 5))\n",
    ")\n",
    "plt.show()\n",
    "\n",
    "(\n",
    "    data.pivot_table(index='kitchen_area', values='last_price')\n",
    "    .plot(title='Зависимость цены от площади кухни', grid=True, style='o', figsize=(5, 5))\n",
    ")\n",
    "plt.show()\n",
    "\n",
    "(\n",
    "    data.query('rooms > 0').pivot_table(index='rooms', values='last_price')\n",
    "    .plot(title='Зависимость цены от комнат', grid=True, style='o-', figsize=(5, 5))\n",
    ")\n",
    "plt.show()\n",
    "(\n",
    "    data.pivot_table(index='floor_category', values='last_price', aggfunc='median')\n",
    "    .plot(title='Зависимость цены от типа этажа', grid=True, style='o-', figsize=(5, 5))\n",
    ")\n",
    "plt.show()\n",
    "\n",
    "(\n",
    "    data.pivot_table(index='weekday', values='last_price', aggfunc='median')\n",
    "    .plot(title='Зависимость цены от дня недели', grid=True, style='o-', figsize=(5, 5))\n",
    ")\n",
    "plt.show()\n",
    "\n",
    "(\n",
    "    data.pivot_table(index='month', values='last_price', aggfunc='median')\n",
    "    .plot(title='Зависимость цены от месяца', grid=True, style='o-', figsize=(5, 5))\n",
    ")\n",
    "plt.show()\n",
    "(\n",
    "    data.pivot_table(index='year', values='last_price', aggfunc='median')\n",
    "    .plot(title='Зависимость цены от года', grid=True, style='o-', figsize=(5, 5))\n",
    ")\n",
    "plt.show()"
   ]
  },
  {
   "cell_type": "markdown",
   "metadata": {},
   "source": [
    "Графики говорят, что чем больше площадь, тем выше стоимость, чуть меньше зависимость от конкретно жилой площади, и почти не влияет площадь кухни. \n",
    "\n",
    "Зависимость между количеством комнат и стоимостью есть, но не сильная, комнат может быть много и при небольшой общей площади.\n",
    "Самые дешевые квартиры на первом этаже, чуть дороже на последнем, \"самый сок\" оказался посередине.\n",
    "\n",
    "Самые дорогие объявления дают в апреле, а вот самые дешевые в июне (это еще и при том, что летом вообще объявлений меньше)\n",
    "С 2014 цена начала резко падать, достигла \"пика\" в 2017, а с 2019 опять рост.\n"
   ]
  },
  {
   "cell_type": "code",
   "execution_count": 34,
   "metadata": {},
   "outputs": [
    {
     "data": {
      "text/plain": [
       "<AxesSubplot:title={'center':'Изменение средней цены за метр по годам'}, xlabel='year'>"
      ]
     },
     "execution_count": 34,
     "metadata": {},
     "output_type": "execute_result"
    },
    {
     "data": {
      "image/png": "[encoded data removed]",
      "text/plain": [
       "<Figure size 864x216 with 1 Axes>"
      ]
     },
     "metadata": {
      "needs_background": "light"
     },
     "output_type": "display_data"
    }
   ],
   "source": [
    "med_year = data.groupby('year')['price'].mean()\n",
    "med_year.plot(title='Изменение средней цены за метр по годам', x = 'year', y = 'price', style='o-', grid=True, figsize = (12,3))\n"
   ]
  },
  {
   "cell_type": "code",
   "execution_count": 35,
   "metadata": {},
   "outputs": [
    {
     "data": {
      "text/plain": [
       "<AxesSubplot:title={'center':'Изменение средней площади по годам'}, xlabel='year'>"
      ]
     },
     "execution_count": 35,
     "metadata": {},
     "output_type": "execute_result"
    },
    {
     "data": {
      "image/png": "[encoded data removed]",
      "text/plain": [
       "<Figure size 864x216 with 1 Axes>"
      ]
     },
     "metadata": {
      "needs_background": "light"
     },
     "output_type": "display_data"
    }
   ],
   "source": [
    "med_year_squere = data.groupby('year')['total_area'].mean()\n",
    "med_year_squere.plot(title='Изменение средней площади по годам', x = 'year', y = 'total_area', style='o-', grid=True, figsize = (12,3))\n"
   ]
  },
  {
   "cell_type": "markdown",
   "metadata": {},
   "source": [
    "Можно заметить, что графики очень похожи, то есть в целом уменьшалась и площадь и цена за кадратный метр, в глаза бросается исключение  20Можно заметить, что средняя площадь с годами уменьшалась (это есть и сейчас - большое количество крохотных студий), а цена за метр росла. В целом это взаимозависимые факторы, чтобы цена квартиры оставалась в рамках платежеспособности населения, площадь, от которой цена и завсит, снижается. Простой пример упаковка молока - милилитров все меньше, а цена на уровне19 - средняя цена за метр выросла сильнее, чем средняя площадь."
   ]
  },
  {
   "cell_type": "code",
   "execution_count": 36,
   "metadata": {},
   "outputs": [
    {
     "data": {
      "image/png": "[encoded data removed]",
      "text/plain": [
       "<Figure size 432x288 with 1 Axes>"
      ]
     },
     "metadata": {
      "needs_background": "light"
     },
     "output_type": "display_data"
    }
   ],
   "source": [
    "# check\n",
    "data.groupby('year')['price'].count().plot.bar(rot = 0);"
   ]
  },
  {
   "cell_type": "code",
   "execution_count": 37,
   "metadata": {},
   "outputs": [
    {
     "data": {
      "text/html": [
       "<div>\n",
       "<style scoped>\n",
       "    .dataframe tbody tr th:only-of-type {\n",
       "        vertical-align: middle;\n",
       "    }\n",
       "\n",
       "    .dataframe tbody tr th {\n",
       "        vertical-align: top;\n",
       "    }\n",
       "\n",
       "    .dataframe thead th {\n",
       "        text-align: right;\n",
       "    }\n",
       "</style>\n",
       "<table border=\"1\" class=\"dataframe\">\n",
       "  <thead>\n",
       "    <tr style=\"text-align: right;\">\n",
       "      <th></th>\n",
       "      <th>price</th>\n",
       "    </tr>\n",
       "    <tr>\n",
       "      <th>locality_name</th>\n",
       "      <th></th>\n",
       "    </tr>\n",
       "  </thead>\n",
       "  <tbody>\n",
       "    <tr>\n",
       "      <th>санкт-петербург</th>\n",
       "      <td>111865</td>\n",
       "    </tr>\n",
       "    <tr>\n",
       "      <th>пушкин</th>\n",
       "      <td>102648</td>\n",
       "    </tr>\n",
       "    <tr>\n",
       "      <th>кудрово</th>\n",
       "      <td>95230</td>\n",
       "    </tr>\n",
       "    <tr>\n",
       "      <th>парголово</th>\n",
       "      <td>89921</td>\n",
       "    </tr>\n",
       "    <tr>\n",
       "      <th>мурино</th>\n",
       "      <td>86094</td>\n",
       "    </tr>\n",
       "    <tr>\n",
       "      <th>шушары</th>\n",
       "      <td>78654</td>\n",
       "    </tr>\n",
       "    <tr>\n",
       "      <th>колпино</th>\n",
       "      <td>75196</td>\n",
       "    </tr>\n",
       "    <tr>\n",
       "      <th>гатчина</th>\n",
       "      <td>68673</td>\n",
       "    </tr>\n",
       "    <tr>\n",
       "      <th>всеволожск</th>\n",
       "      <td>67377</td>\n",
       "    </tr>\n",
       "    <tr>\n",
       "      <th>выборг</th>\n",
       "      <td>58166</td>\n",
       "    </tr>\n",
       "  </tbody>\n",
       "</table>\n",
       "</div>"
      ],
      "text/plain": [
       "                  price\n",
       "locality_name          \n",
       "санкт-петербург  111865\n",
       "пушкин           102648\n",
       "кудрово           95230\n",
       "парголово         89921\n",
       "мурино            86094\n",
       "шушары            78654\n",
       "колпино           75196\n",
       "гатчина           68673\n",
       "всеволожск        67377\n",
       "выборг            58166"
      ]
     },
     "execution_count": 37,
     "metadata": {},
     "output_type": "execute_result"
    }
   ],
   "source": [
    "city_max = data['locality_name'].value_counts().head(10)\n",
    "city_price = data.query('locality_name in (@city_max.index)').pivot_table(values='price', index='locality_name')\n",
    "city_price = city_price.astype(int)\n",
    "city_price.sort_values('price', ascending=False)\n"
   ]
  },
  {
   "cell_type": "code",
   "execution_count": 38,
   "metadata": {},
   "outputs": [
    {
     "data": {
      "text/plain": [
       "<AxesSubplot:ylabel='locality_name'>"
      ]
     },
     "execution_count": 38,
     "metadata": {},
     "output_type": "execute_result"
    },
    {
     "data": {
      "image/png": "[encoded data removed]",
      "text/plain": [
       "<Figure size 1368x432 with 1 Axes>"
      ]
     },
     "metadata": {
      "needs_background": "light"
     },
     "output_type": "display_data"
    }
   ],
   "source": [
    "city_price.plot(kind = 'barh', figsize = (19,6), rot = -5, legend = False, fontsize = 16)\n"
   ]
  },
  {
   "cell_type": "markdown",
   "metadata": {},
   "source": [
    "Самая высокая цена за метр в Петербурге, затем чуть ниже в Пушкине, Кудрово и Парголово - это все пригород Спб, хотя Пушкин достаточно далеко. Из топ-10 дешевле всего недвижимость в Выборге."
   ]
  },
  {
   "cell_type": "code",
   "execution_count": 39,
   "metadata": {},
   "outputs": [
    {
     "data": {
      "image/png": "[encoded data removed]",
      "text/plain": [
       "<Figure size 720x360 with 1 Axes>"
      ]
     },
     "metadata": {
      "needs_background": "light"
     },
     "output_type": "display_data"
    }
   ],
   "source": [
    "(\n",
    "    data.query('locality_name == \"санкт-петербург\"')\n",
    "    .pivot_table(index='center_km', values='last_price')\n",
    "    .plot(grid=True, style='o-', xlim=(0,15), figsize=(10, 5))\n",
    ")\n",
    "plt.show()"
   ]
  },
  {
   "cell_type": "markdown",
   "metadata": {},
   "source": [
    "Чем дальше от центра, тем дешевле квадратный метр, но на расстоянии 3 км стоимость упала, вероятно это не самое комфортное расстояние до толп туристов\n"
   ]
  },
  {
   "cell_type": "code",
   "execution_count": 40,
   "metadata": {},
   "outputs": [
    {
     "data": {
      "image/png": "[encoded data removed]",
      "text/plain": [
       "<Figure size 720x360 with 1 Axes>"
      ]
     },
     "metadata": {
      "needs_background": "light"
     },
     "output_type": "display_data"
    }
   ],
   "source": [
    "(\n",
    "    data.query('locality_name == \"санкт-петербург\"')\n",
    "    .pivot_table(index='center_km', values='last_price')\n",
    "    .plot(grid=True, style='o-', figsize=(10, 5))\n",
    ")\n",
    "plt.show()"
   ]
  },
  {
   "cell_type": "code",
   "execution_count": 41,
   "metadata": {},
   "outputs": [
    {
     "name": "stdout",
     "output_type": "stream",
     "text": [
      "      total_images  last_price  total_area first_day_exposition  rooms  \\\n",
      "748             13    14350000        74.0           2017-11-28      2   \n",
      "5961             6     2250000        32.0           2018-02-27      1   \n",
      "\n",
      "      ceiling_height  floors_total  living_area  floor  is_apartment  ...  \\\n",
      "748             3.13             5         30.0      3         False  ...   \n",
      "5961            2.70             2         16.5      2         False  ...   \n",
      "\n",
      "      parks_nearest  ponds_around3000  ponds_nearest  days_exposition   price  \\\n",
      "748          1496.0                 0            NaN            128.0  193918   \n",
      "5961            NaN                 0            NaN            178.0   70312   \n",
      "\n",
      "      weekday  month  year  floor_category  center_km  \n",
      "748         1     11  2017          другой         27  \n",
      "5961        1      2  2018       последний         27  \n",
      "\n",
      "[2 rows x 28 columns]\n",
      "70\n",
      "100\n",
      "309\n",
      "68\n",
      "98\n",
      "502\n"
     ]
    }
   ],
   "source": [
    "print(data.loc[((data['locality_name'] == \"санкт-петербург\") & (data['center_km'] == 27))])\n",
    "print(len(data.loc[((data['floor_category'] == \"первый\") & (data['center_km'] == 3))]))\n",
    "print(len(data.loc[((data['floor_category'] == \"последний\") & (data['center_km'] == 3))]))\n",
    "print(len(data.loc[((data['floor_category'] == \"другой\") & (data['center_km'] == 3))]))\n",
    "print(len(data.loc[((data['floor_category'] == \"первый\") & (data['center_km'] == 5))]))\n",
    "print(len(data.loc[((data['floor_category'] == \"последний\") & (data['center_km'] == 5))]))\n",
    "print(len(data.loc[((data['floor_category'] == \"другой\") & (data['center_km'] == 5))]))"
   ]
  },
  {
   "cell_type": "markdown",
   "metadata": {},
   "source": [
    "На 27 км от центра есть всего две квартиры, одна из которых в 74 квадрата стоимостью больше 14 млн, она и дала такой пик на графике. 2 комнаты, высокие потолки, рядом парк и почти 200 тыс за квадратный метр"
   ]
  },
  {
   "cell_type": "markdown",
   "metadata": {},
   "source": [
    "### Общий вывод"
   ]
  },
  {
   "cell_type": "markdown",
   "metadata": {},
   "source": [
    "В ходе исследования мы проанализировали представленные данные, удалили дубликаты и аномально большие и маленькие нелогичные значения, а так же те, что выходят за рамки исследования. В целом можно заметить довольно логичные закономерности - стоимость квартиры зависит от площади, причем от площади зависимость сильнее, чем от количества комнат, типа этажа и удаленности от центра города, как и от центра района. Присутствует и сезонность - летом и зимой объявлений меньше, кому хочется продавать квартиру находясь в отпуске или в суматохе праздников?\n",
    "\n",
    "Посмотрев на графики можно заметить преобладание довольно средних потолков 2.5-3 метра с количеством комнат от 1 до 3, но есть квартиры и больше, при условии метража до 100 квадратов. \n",
    "\n",
    "В среднем квартиры продают за 104 дня, но бывает и дольше - несколько месяцев. Кому-то совсем везет - квартира продается аж за несколько дней после публикации.\n",
    "\n",
    "Дороже всего квартиры в Петербруге и его пригороде, если смотреть чуть дальше, то дороже всего в Выборге.\n",
    "\n",
    "Самые дорогие объявления были в 2014, потом резко упали, это связано с тем, что в 2014-15 годах Россия столкнулась с серьезным валютно-финансовым кризисом, грозящим перерасти в глубокий экономический кризис, но ситуация начала выправляться, а значит и стоимость квартир - понемногу расти. При этом средняя площадь квартир уменьшалась, а средняя цена за метр росла.\n",
    "\n",
    "Суммируя можно сказать, что самые дорогие квартиры - те, что находятся не на первом\\последнем этаже, с большой площадью и количеством комнат, в относительной близости к центру Санкт-Петербурга и ближайшему парку. Самые дешевые же, наоборот, если смотреть по Лен области, то далеко от СПб, рядом нет парков, этаж первый, а жилплощадь совсем небольшая."
   ]
  }
 ],
 "metadata": {
  "ExecuteTimeLog": [
   {
    "duration": 927,
    "start_time": "2023-01-10T16:27:30.464Z"
   },
   {
    "duration": 328,
    "start_time": "2023-01-10T16:28:04.880Z"
   },
   {
    "duration": 101,
    "start_time": "2023-01-10T16:28:26.792Z"
   },
   {
    "duration": 2175,
    "start_time": "2023-01-10T16:32:04.111Z"
   },
   {
    "duration": 2136,
    "start_time": "2023-01-10T16:46:25.118Z"
   },
   {
    "duration": 38,
    "start_time": "2023-01-10T17:03:17.829Z"
   },
   {
    "duration": 13,
    "start_time": "2023-01-10T17:03:27.698Z"
   },
   {
    "duration": 3426,
    "start_time": "2023-01-11T15:32:31.482Z"
   },
   {
    "duration": 15,
    "start_time": "2023-01-11T15:32:36.585Z"
   },
   {
    "duration": 11,
    "start_time": "2023-01-11T15:32:37.660Z"
   },
   {
    "duration": 8,
    "start_time": "2023-01-11T15:34:31.252Z"
   },
   {
    "duration": 7,
    "start_time": "2023-01-11T15:36:44.005Z"
   },
   {
    "duration": 12,
    "start_time": "2023-01-11T15:37:09.573Z"
   },
   {
    "duration": 8,
    "start_time": "2023-01-11T15:45:24.610Z"
   },
   {
    "duration": 9,
    "start_time": "2023-01-11T15:45:38.670Z"
   },
   {
    "duration": 10,
    "start_time": "2023-01-11T15:45:57.478Z"
   },
   {
    "duration": 77,
    "start_time": "2023-01-11T15:47:14.671Z"
   },
   {
    "duration": 22,
    "start_time": "2023-01-11T15:49:09.636Z"
   },
   {
    "duration": 22,
    "start_time": "2023-01-11T15:50:19.559Z"
   },
   {
    "duration": 92,
    "start_time": "2023-01-11T16:07:06.057Z"
   },
   {
    "duration": 18,
    "start_time": "2023-01-11T16:07:18.261Z"
   },
   {
    "duration": 44,
    "start_time": "2023-01-12T10:13:01.242Z"
   },
   {
    "duration": 3051,
    "start_time": "2023-01-12T10:13:09.395Z"
   },
   {
    "duration": 14,
    "start_time": "2023-01-12T10:13:12.448Z"
   },
   {
    "duration": 39,
    "start_time": "2023-01-12T10:13:12.463Z"
   },
   {
    "duration": 8,
    "start_time": "2023-01-12T10:13:12.504Z"
   },
   {
    "duration": 13,
    "start_time": "2023-01-12T10:14:18.958Z"
   },
   {
    "duration": 12,
    "start_time": "2023-01-12T10:14:41.694Z"
   },
   {
    "duration": 12,
    "start_time": "2023-01-12T10:14:53.449Z"
   },
   {
    "duration": 11,
    "start_time": "2023-01-12T10:14:59.343Z"
   },
   {
    "duration": 12,
    "start_time": "2023-01-12T10:15:27.000Z"
   },
   {
    "duration": 75,
    "start_time": "2023-01-12T10:24:20.131Z"
   },
   {
    "duration": 23,
    "start_time": "2023-01-12T10:26:28.637Z"
   },
   {
    "duration": 1976,
    "start_time": "2023-01-12T11:10:28.838Z"
   },
   {
    "duration": 9,
    "start_time": "2023-01-12T11:10:30.816Z"
   },
   {
    "duration": 134,
    "start_time": "2023-01-12T11:10:30.827Z"
   },
   {
    "duration": 25,
    "start_time": "2023-01-12T11:10:30.965Z"
   },
   {
    "duration": 7,
    "start_time": "2023-01-12T11:18:50.150Z"
   },
   {
    "duration": 39,
    "start_time": "2023-01-12T11:19:49.990Z"
   },
   {
    "duration": 12,
    "start_time": "2023-01-12T11:19:54.349Z"
   },
   {
    "duration": 6,
    "start_time": "2023-01-12T11:20:01.212Z"
   },
   {
    "duration": 9,
    "start_time": "2023-01-12T11:20:59.014Z"
   },
   {
    "duration": 8,
    "start_time": "2023-01-12T11:21:05.231Z"
   },
   {
    "duration": 46,
    "start_time": "2023-01-12T11:24:51.813Z"
   },
   {
    "duration": 5,
    "start_time": "2023-01-12T11:24:56.212Z"
   },
   {
    "duration": 5,
    "start_time": "2023-01-12T11:26:23.970Z"
   },
   {
    "duration": 7,
    "start_time": "2023-01-12T11:35:40.094Z"
   },
   {
    "duration": 7,
    "start_time": "2023-01-12T11:39:09.064Z"
   },
   {
    "duration": 31,
    "start_time": "2023-01-12T11:48:32.067Z"
   },
   {
    "duration": 60,
    "start_time": "2023-01-12T11:49:24.953Z"
   },
   {
    "duration": 26,
    "start_time": "2023-01-12T11:50:22.014Z"
   },
   {
    "duration": 66,
    "start_time": "2023-01-12T11:50:56.460Z"
   },
   {
    "duration": 92,
    "start_time": "2023-01-12T11:59:44.638Z"
   },
   {
    "duration": 56,
    "start_time": "2023-01-12T12:00:11.806Z"
   },
   {
    "duration": 232,
    "start_time": "2023-01-12T12:00:32.437Z"
   },
   {
    "duration": 121,
    "start_time": "2023-01-12T12:01:46.191Z"
   },
   {
    "duration": 112,
    "start_time": "2023-01-12T12:03:09.240Z"
   },
   {
    "duration": 2153,
    "start_time": "2023-01-12T12:42:03.706Z"
   },
   {
    "duration": 10,
    "start_time": "2023-01-12T12:42:05.861Z"
   },
   {
    "duration": 30,
    "start_time": "2023-01-12T12:42:08.372Z"
   },
   {
    "duration": 27,
    "start_time": "2023-01-12T12:42:12.662Z"
   },
   {
    "duration": 100,
    "start_time": "2023-01-12T12:44:57.815Z"
   },
   {
    "duration": 129,
    "start_time": "2023-01-12T12:45:10.754Z"
   },
   {
    "duration": 105,
    "start_time": "2023-01-12T12:53:15.074Z"
   },
   {
    "duration": 117,
    "start_time": "2023-01-12T12:53:41.878Z"
   },
   {
    "duration": 98,
    "start_time": "2023-01-12T12:58:42.703Z"
   },
   {
    "duration": 118,
    "start_time": "2023-01-12T12:58:53.500Z"
   },
   {
    "duration": 119,
    "start_time": "2023-01-12T12:59:13.296Z"
   },
   {
    "duration": 98,
    "start_time": "2023-01-12T13:04:11.331Z"
   },
   {
    "duration": 110,
    "start_time": "2023-01-12T13:08:30.064Z"
   },
   {
    "duration": 297,
    "start_time": "2023-01-12T13:09:25.903Z"
   },
   {
    "duration": 283,
    "start_time": "2023-01-12T13:10:17.089Z"
   },
   {
    "duration": 236,
    "start_time": "2023-01-12T13:10:33.462Z"
   },
   {
    "duration": 236,
    "start_time": "2023-01-12T13:11:02.099Z"
   },
   {
    "duration": 1934,
    "start_time": "2023-01-12T13:11:47.058Z"
   },
   {
    "duration": 9,
    "start_time": "2023-01-12T13:11:48.994Z"
   },
   {
    "duration": 31,
    "start_time": "2023-01-12T13:11:49.123Z"
   },
   {
    "duration": 34,
    "start_time": "2023-01-12T13:11:49.644Z"
   },
   {
    "duration": 272,
    "start_time": "2023-01-12T13:11:49.874Z"
   },
   {
    "duration": 323,
    "start_time": "2023-01-12T13:16:59.362Z"
   },
   {
    "duration": 239,
    "start_time": "2023-01-12T13:17:13.008Z"
   },
   {
    "duration": 35,
    "start_time": "2023-01-12T13:20:29.415Z"
   },
   {
    "duration": 257,
    "start_time": "2023-01-12T13:36:09.404Z"
   },
   {
    "duration": 308,
    "start_time": "2023-01-12T13:37:17.880Z"
   },
   {
    "duration": 79,
    "start_time": "2023-01-12T13:44:30.110Z"
   },
   {
    "duration": 257,
    "start_time": "2023-01-12T13:45:50.458Z"
   },
   {
    "duration": 254,
    "start_time": "2023-01-12T13:46:26.153Z"
   },
   {
    "duration": 53,
    "start_time": "2023-01-12T13:46:53.457Z"
   },
   {
    "duration": 294,
    "start_time": "2023-01-12T13:47:14.504Z"
   },
   {
    "duration": 247,
    "start_time": "2023-01-12T13:47:43.259Z"
   },
   {
    "duration": 247,
    "start_time": "2023-01-12T13:48:56.485Z"
   },
   {
    "duration": 264,
    "start_time": "2023-01-12T13:55:03.465Z"
   },
   {
    "duration": 297,
    "start_time": "2023-01-12T13:55:45.941Z"
   },
   {
    "duration": 275,
    "start_time": "2023-01-12T13:55:58.942Z"
   },
   {
    "duration": 56,
    "start_time": "2023-01-12T13:56:19.435Z"
   },
   {
    "duration": 160,
    "start_time": "2023-01-12T13:56:27.383Z"
   },
   {
    "duration": 67,
    "start_time": "2023-01-12T13:56:36.374Z"
   },
   {
    "duration": 267,
    "start_time": "2023-01-12T13:56:40.640Z"
   },
   {
    "duration": 296,
    "start_time": "2023-01-12T14:03:51.733Z"
   },
   {
    "duration": 304,
    "start_time": "2023-01-12T14:04:53.897Z"
   },
   {
    "duration": 2032,
    "start_time": "2023-01-12T14:07:25.654Z"
   },
   {
    "duration": 16,
    "start_time": "2023-01-12T14:07:27.688Z"
   },
   {
    "duration": 52,
    "start_time": "2023-01-12T14:07:27.706Z"
   },
   {
    "duration": 23,
    "start_time": "2023-01-12T14:07:27.760Z"
   },
   {
    "duration": 325,
    "start_time": "2023-01-12T14:07:27.785Z"
   },
   {
    "duration": 4,
    "start_time": "2023-01-12T14:07:28.112Z"
   },
   {
    "duration": 8,
    "start_time": "2023-01-12T14:10:48.700Z"
   },
   {
    "duration": 10,
    "start_time": "2023-01-12T14:11:54.356Z"
   },
   {
    "duration": 64,
    "start_time": "2023-01-12T14:28:03.274Z"
   },
   {
    "duration": 10,
    "start_time": "2023-01-12T14:28:12.476Z"
   },
   {
    "duration": 10,
    "start_time": "2023-01-12T14:28:32.524Z"
   },
   {
    "duration": 10,
    "start_time": "2023-01-12T14:29:02.509Z"
   },
   {
    "duration": 13,
    "start_time": "2023-01-12T14:29:11.024Z"
   },
   {
    "duration": 12,
    "start_time": "2023-01-12T14:29:30.534Z"
   },
   {
    "duration": 13,
    "start_time": "2023-01-12T14:29:49.077Z"
   },
   {
    "duration": 12,
    "start_time": "2023-01-12T14:30:00.304Z"
   },
   {
    "duration": 11,
    "start_time": "2023-01-12T14:30:26.101Z"
   },
   {
    "duration": 9,
    "start_time": "2023-01-12T14:31:54.740Z"
   },
   {
    "duration": 14,
    "start_time": "2023-01-12T14:32:04.982Z"
   },
   {
    "duration": 9,
    "start_time": "2023-01-12T14:32:33.005Z"
   },
   {
    "duration": 6,
    "start_time": "2023-01-12T14:32:49.482Z"
   },
   {
    "duration": 6,
    "start_time": "2023-01-12T14:32:53.819Z"
   },
   {
    "duration": 1920,
    "start_time": "2023-01-12T14:33:00.515Z"
   },
   {
    "duration": 10,
    "start_time": "2023-01-12T14:33:02.437Z"
   },
   {
    "duration": 52,
    "start_time": "2023-01-12T14:33:02.449Z"
   },
   {
    "duration": 25,
    "start_time": "2023-01-12T14:33:02.760Z"
   },
   {
    "duration": 327,
    "start_time": "2023-01-12T14:33:02.984Z"
   },
   {
    "duration": 7,
    "start_time": "2023-01-12T14:33:03.313Z"
   },
   {
    "duration": 9,
    "start_time": "2023-01-12T14:35:35.698Z"
   },
   {
    "duration": 11,
    "start_time": "2023-01-12T14:35:50.936Z"
   },
   {
    "duration": 12,
    "start_time": "2023-01-12T14:36:08.793Z"
   },
   {
    "duration": 10,
    "start_time": "2023-01-12T14:36:25.817Z"
   },
   {
    "duration": 298,
    "start_time": "2023-01-12T14:38:22.038Z"
   },
   {
    "duration": 317,
    "start_time": "2023-01-12T14:45:30.916Z"
   },
   {
    "duration": 319,
    "start_time": "2023-01-12T14:46:30.308Z"
   },
   {
    "duration": 319,
    "start_time": "2023-01-12T14:46:46.408Z"
   },
   {
    "duration": 11,
    "start_time": "2023-01-12T14:48:05.947Z"
   },
   {
    "duration": 13,
    "start_time": "2023-01-12T14:53:56.263Z"
   },
   {
    "duration": 13,
    "start_time": "2023-01-12T14:54:07.022Z"
   },
   {
    "duration": 5,
    "start_time": "2023-01-12T14:54:15.666Z"
   },
   {
    "duration": 11,
    "start_time": "2023-01-12T14:54:18.310Z"
   },
   {
    "duration": 1989,
    "start_time": "2023-01-12T14:54:26.046Z"
   },
   {
    "duration": 10,
    "start_time": "2023-01-12T14:54:28.037Z"
   },
   {
    "duration": 50,
    "start_time": "2023-01-12T14:54:28.048Z"
   },
   {
    "duration": 23,
    "start_time": "2023-01-12T14:54:28.100Z"
   },
   {
    "duration": 302,
    "start_time": "2023-01-12T14:54:28.124Z"
   },
   {
    "duration": 9,
    "start_time": "2023-01-12T14:54:28.429Z"
   },
   {
    "duration": 10,
    "start_time": "2023-01-12T14:59:27.314Z"
   },
   {
    "duration": 9,
    "start_time": "2023-01-12T14:59:33.844Z"
   },
   {
    "duration": 9,
    "start_time": "2023-01-12T14:59:43.404Z"
   },
   {
    "duration": 13,
    "start_time": "2023-01-12T15:00:03.832Z"
   },
   {
    "duration": 10,
    "start_time": "2023-01-12T15:00:10.476Z"
   },
   {
    "duration": 16,
    "start_time": "2023-01-12T15:03:24.503Z"
   },
   {
    "duration": 18,
    "start_time": "2023-01-12T15:04:19.187Z"
   },
   {
    "duration": 770,
    "start_time": "2023-01-12T15:07:38.696Z"
   },
   {
    "duration": 13,
    "start_time": "2023-01-12T15:08:54.089Z"
   },
   {
    "duration": 13,
    "start_time": "2023-01-12T15:09:35.246Z"
   },
   {
    "duration": 9,
    "start_time": "2023-01-12T15:11:25.493Z"
   },
   {
    "duration": 52,
    "start_time": "2023-01-12T18:17:39.511Z"
   },
   {
    "duration": 9,
    "start_time": "2023-01-12T18:17:40.285Z"
   },
   {
    "duration": 7,
    "start_time": "2023-01-12T18:17:42.004Z"
   },
   {
    "duration": 3137,
    "start_time": "2023-01-12T18:17:55.802Z"
   },
   {
    "duration": 10,
    "start_time": "2023-01-12T18:17:59.732Z"
   },
   {
    "duration": 51,
    "start_time": "2023-01-12T18:18:00.614Z"
   },
   {
    "duration": 28,
    "start_time": "2023-01-12T18:18:01.562Z"
   },
   {
    "duration": 51,
    "start_time": "2023-01-12T18:18:02.125Z"
   },
   {
    "duration": 22,
    "start_time": "2023-01-12T18:18:04.373Z"
   },
   {
    "duration": 18,
    "start_time": "2023-01-12T18:18:11.181Z"
   },
   {
    "duration": 21,
    "start_time": "2023-01-12T18:18:16.042Z"
   },
   {
    "duration": 17,
    "start_time": "2023-01-12T18:18:20.302Z"
   },
   {
    "duration": 40,
    "start_time": "2023-01-12T18:19:33.785Z"
   },
   {
    "duration": 196,
    "start_time": "2023-01-12T18:19:38.245Z"
   },
   {
    "duration": 188,
    "start_time": "2023-01-12T18:19:46.685Z"
   },
   {
    "duration": 13,
    "start_time": "2023-01-12T18:19:51.548Z"
   },
   {
    "duration": 14,
    "start_time": "2023-01-12T18:19:57.623Z"
   },
   {
    "duration": 12,
    "start_time": "2023-01-12T19:11:52.969Z"
   },
   {
    "duration": 187,
    "start_time": "2023-01-12T19:12:44.617Z"
   },
   {
    "duration": 3504,
    "start_time": "2023-01-13T15:45:57.469Z"
   },
   {
    "duration": 10,
    "start_time": "2023-01-13T15:46:00.975Z"
   },
   {
    "duration": 56,
    "start_time": "2023-01-13T15:46:01.249Z"
   },
   {
    "duration": 26,
    "start_time": "2023-01-13T15:46:01.761Z"
   },
   {
    "duration": 382,
    "start_time": "2023-01-13T15:46:02.021Z"
   },
   {
    "duration": 44,
    "start_time": "2023-01-13T15:46:02.405Z"
   },
   {
    "duration": 218,
    "start_time": "2023-01-13T15:46:04.265Z"
   },
   {
    "duration": 103,
    "start_time": "2023-01-13T15:54:40.270Z"
   },
   {
    "duration": 23,
    "start_time": "2023-01-13T15:54:41.703Z"
   },
   {
    "duration": 196,
    "start_time": "2023-01-13T15:54:42.727Z"
   },
   {
    "duration": 15,
    "start_time": "2023-01-13T15:54:44.592Z"
   },
   {
    "duration": 183,
    "start_time": "2023-01-13T15:54:46.204Z"
   },
   {
    "duration": 19,
    "start_time": "2023-01-13T15:56:33.644Z"
   },
   {
    "duration": 24,
    "start_time": "2023-01-13T15:56:34.783Z"
   },
   {
    "duration": 200,
    "start_time": "2023-01-13T15:56:35.233Z"
   },
   {
    "duration": 14,
    "start_time": "2023-01-13T15:56:35.513Z"
   },
   {
    "duration": 266,
    "start_time": "2023-01-13T15:56:36.377Z"
   },
   {
    "duration": 27,
    "start_time": "2023-01-13T16:05:57.018Z"
   },
   {
    "duration": 26,
    "start_time": "2023-01-13T16:06:22.401Z"
   },
   {
    "duration": 241,
    "start_time": "2023-01-13T16:06:23.316Z"
   },
   {
    "duration": 20,
    "start_time": "2023-01-13T16:06:24.304Z"
   },
   {
    "duration": 224,
    "start_time": "2023-01-13T16:06:26.040Z"
   },
   {
    "duration": 234,
    "start_time": "2023-01-13T16:10:11.194Z"
   },
   {
    "duration": 354,
    "start_time": "2023-01-13T16:10:28.453Z"
   },
   {
    "duration": 26,
    "start_time": "2023-01-13T16:20:16.079Z"
   },
   {
    "duration": 364,
    "start_time": "2023-01-13T16:20:19.934Z"
   },
   {
    "duration": 1700,
    "start_time": "2023-01-13T16:22:59.187Z"
   },
   {
    "duration": 1781,
    "start_time": "2023-01-13T16:23:28.197Z"
   },
   {
    "duration": 2132,
    "start_time": "2023-01-13T16:23:33.289Z"
   },
   {
    "duration": 65,
    "start_time": "2023-01-13T16:24:54.703Z"
   },
   {
    "duration": 588,
    "start_time": "2023-01-13T16:25:12.841Z"
   },
   {
    "duration": 262,
    "start_time": "2023-01-13T16:26:27.412Z"
   },
   {
    "duration": 6226,
    "start_time": "2023-01-13T16:26:41.875Z"
   },
   {
    "duration": 2518,
    "start_time": "2023-01-13T16:26:58.786Z"
   },
   {
    "duration": 10,
    "start_time": "2023-01-13T16:27:01.306Z"
   },
   {
    "duration": 53,
    "start_time": "2023-01-13T16:27:01.318Z"
   },
   {
    "duration": 32,
    "start_time": "2023-01-13T16:27:01.374Z"
   },
   {
    "duration": 377,
    "start_time": "2023-01-13T16:27:01.408Z"
   },
   {
    "duration": 13,
    "start_time": "2023-01-13T16:27:01.787Z"
   },
   {
    "duration": 334,
    "start_time": "2023-01-13T16:27:01.897Z"
   },
   {
    "duration": 6846,
    "start_time": "2023-01-13T16:27:02.533Z"
   },
   {
    "duration": 2473,
    "start_time": "2023-01-13T16:58:11.620Z"
   },
   {
    "duration": 462,
    "start_time": "2023-01-13T17:03:07.784Z"
   },
   {
    "duration": 888,
    "start_time": "2023-01-13T17:03:19.470Z"
   },
   {
    "duration": 2078,
    "start_time": "2023-01-13T17:03:45.090Z"
   },
   {
    "duration": 10,
    "start_time": "2023-01-13T17:03:47.170Z"
   },
   {
    "duration": 21,
    "start_time": "2023-01-13T17:03:47.182Z"
   },
   {
    "duration": 35,
    "start_time": "2023-01-13T17:03:47.422Z"
   },
   {
    "duration": 356,
    "start_time": "2023-01-13T17:03:48.119Z"
   },
   {
    "duration": 7,
    "start_time": "2023-01-13T17:03:48.477Z"
   },
   {
    "duration": 284,
    "start_time": "2023-01-13T17:03:49.242Z"
   },
   {
    "duration": 457,
    "start_time": "2023-01-13T17:03:50.246Z"
   },
   {
    "duration": 1384,
    "start_time": "2023-01-13T17:05:25.522Z"
   },
   {
    "duration": 405,
    "start_time": "2023-01-13T17:05:47.768Z"
   },
   {
    "duration": 209,
    "start_time": "2023-01-13T17:06:21.334Z"
   },
   {
    "duration": 306,
    "start_time": "2023-01-13T17:06:43.299Z"
   },
   {
    "duration": 1533,
    "start_time": "2023-01-13T17:07:30.762Z"
   },
   {
    "duration": 72,
    "start_time": "2023-01-13T17:09:36.815Z"
   },
   {
    "duration": 1062,
    "start_time": "2023-01-13T17:09:41.049Z"
   },
   {
    "duration": 1039,
    "start_time": "2023-01-13T17:10:40.265Z"
   },
   {
    "duration": 999,
    "start_time": "2023-01-13T17:11:41.061Z"
   },
   {
    "duration": 992,
    "start_time": "2023-01-13T17:11:59.775Z"
   },
   {
    "duration": 1231,
    "start_time": "2023-01-13T17:12:12.458Z"
   },
   {
    "duration": 1824,
    "start_time": "2023-01-13T17:12:30.862Z"
   },
   {
    "duration": 1145,
    "start_time": "2023-01-13T17:12:48.027Z"
   },
   {
    "duration": 915,
    "start_time": "2023-01-13T17:29:47.804Z"
   },
   {
    "duration": 830,
    "start_time": "2023-01-13T17:31:38.093Z"
   },
   {
    "duration": 831,
    "start_time": "2023-01-13T17:31:58.939Z"
   },
   {
    "duration": 866,
    "start_time": "2023-01-13T17:37:32.252Z"
   },
   {
    "duration": 2221,
    "start_time": "2023-01-13T17:38:48.770Z"
   },
   {
    "duration": 10,
    "start_time": "2023-01-13T17:38:51.324Z"
   },
   {
    "duration": 21,
    "start_time": "2023-01-13T17:38:53.813Z"
   },
   {
    "duration": 34,
    "start_time": "2023-01-13T17:38:57.433Z"
   },
   {
    "duration": 300,
    "start_time": "2023-01-13T17:38:59.444Z"
   },
   {
    "duration": 6,
    "start_time": "2023-01-13T17:39:00.221Z"
   },
   {
    "duration": 297,
    "start_time": "2023-01-13T17:39:05.180Z"
   },
   {
    "duration": 23,
    "start_time": "2023-01-13T17:39:24.626Z"
   },
   {
    "duration": 15,
    "start_time": "2023-01-13T17:40:24.400Z"
   },
   {
    "duration": 2360,
    "start_time": "2023-01-13T18:02:41.051Z"
   },
   {
    "duration": 2201,
    "start_time": "2023-01-13T18:06:10.835Z"
   },
   {
    "duration": 1584,
    "start_time": "2023-01-13T18:07:02.997Z"
   },
   {
    "duration": 1763,
    "start_time": "2023-01-13T18:08:52.589Z"
   },
   {
    "duration": 1709,
    "start_time": "2023-01-13T18:11:37.930Z"
   },
   {
    "duration": 2365,
    "start_time": "2023-01-13T18:12:01.364Z"
   },
   {
    "duration": 1971,
    "start_time": "2023-01-13T18:12:15.054Z"
   },
   {
    "duration": 1864,
    "start_time": "2023-01-13T18:12:36.076Z"
   },
   {
    "duration": 3623,
    "start_time": "2023-01-13T18:17:52.851Z"
   },
   {
    "duration": 1707,
    "start_time": "2023-01-13T18:20:41.568Z"
   },
   {
    "duration": 2862,
    "start_time": "2023-01-13T18:22:48.057Z"
   },
   {
    "duration": 2336,
    "start_time": "2023-01-13T18:25:26.320Z"
   },
   {
    "duration": 1778,
    "start_time": "2023-01-13T18:42:08.502Z"
   },
   {
    "duration": 3094,
    "start_time": "2023-01-13T18:42:24.338Z"
   },
   {
    "duration": 3525,
    "start_time": "2023-01-13T18:47:27.594Z"
   },
   {
    "duration": 3161,
    "start_time": "2023-01-13T18:48:11.631Z"
   },
   {
    "duration": 3718,
    "start_time": "2023-01-13T18:48:27.419Z"
   },
   {
    "duration": 3073,
    "start_time": "2023-01-13T18:49:08.338Z"
   },
   {
    "duration": 4022,
    "start_time": "2023-01-13T18:50:51.342Z"
   },
   {
    "duration": 50,
    "start_time": "2023-01-14T07:05:00.673Z"
   },
   {
    "duration": 3359,
    "start_time": "2023-01-14T07:05:08.453Z"
   },
   {
    "duration": 11,
    "start_time": "2023-01-14T07:05:11.815Z"
   },
   {
    "duration": 29,
    "start_time": "2023-01-14T07:05:11.828Z"
   },
   {
    "duration": 30,
    "start_time": "2023-01-14T07:05:11.861Z"
   },
   {
    "duration": 340,
    "start_time": "2023-01-14T07:05:11.893Z"
   },
   {
    "duration": 6,
    "start_time": "2023-01-14T07:05:12.235Z"
   },
   {
    "duration": 348,
    "start_time": "2023-01-14T07:05:12.243Z"
   },
   {
    "duration": 15,
    "start_time": "2023-01-14T07:05:12.593Z"
   },
   {
    "duration": 3244,
    "start_time": "2023-01-14T07:05:12.609Z"
   },
   {
    "duration": 7,
    "start_time": "2023-01-14T07:05:15.855Z"
   },
   {
    "duration": 5,
    "start_time": "2023-01-14T07:05:40.983Z"
   },
   {
    "duration": 40,
    "start_time": "2023-01-14T07:06:23.073Z"
   },
   {
    "duration": 8,
    "start_time": "2023-01-14T07:07:30.228Z"
   },
   {
    "duration": 50,
    "start_time": "2023-01-14T07:07:41.562Z"
   },
   {
    "duration": 8,
    "start_time": "2023-01-14T07:07:45.037Z"
   },
   {
    "duration": 5,
    "start_time": "2023-01-14T07:08:02.459Z"
   },
   {
    "duration": 9,
    "start_time": "2023-01-14T07:08:16.716Z"
   },
   {
    "duration": 9,
    "start_time": "2023-01-14T07:08:19.532Z"
   },
   {
    "duration": 14,
    "start_time": "2023-01-14T07:09:14.332Z"
   },
   {
    "duration": 400,
    "start_time": "2023-01-14T07:09:51.494Z"
   },
   {
    "duration": 330,
    "start_time": "2023-01-14T07:10:35.680Z"
   },
   {
    "duration": 505,
    "start_time": "2023-01-14T07:15:38.952Z"
   },
   {
    "duration": 449,
    "start_time": "2023-01-14T07:16:15.771Z"
   },
   {
    "duration": 579,
    "start_time": "2023-01-14T07:17:31.371Z"
   },
   {
    "duration": 404,
    "start_time": "2023-01-14T07:17:42.587Z"
   },
   {
    "duration": 400,
    "start_time": "2023-01-14T07:17:53.467Z"
   },
   {
    "duration": 171,
    "start_time": "2023-01-14T07:25:19.274Z"
   },
   {
    "duration": 139,
    "start_time": "2023-01-14T07:25:57.368Z"
   },
   {
    "duration": 446,
    "start_time": "2023-01-14T07:26:30.856Z"
   },
   {
    "duration": 546,
    "start_time": "2023-01-14T07:27:42.777Z"
   },
   {
    "duration": 710,
    "start_time": "2023-01-14T07:28:33.327Z"
   },
   {
    "duration": 849,
    "start_time": "2023-01-14T07:54:09.576Z"
   },
   {
    "duration": 870,
    "start_time": "2023-01-14T07:54:22.660Z"
   },
   {
    "duration": 1431,
    "start_time": "2023-01-14T07:55:04.950Z"
   },
   {
    "duration": 61,
    "start_time": "2023-01-15T05:31:42.211Z"
   },
   {
    "duration": 6,
    "start_time": "2023-01-15T05:31:42.548Z"
   },
   {
    "duration": 15,
    "start_time": "2023-01-15T05:31:46.158Z"
   },
   {
    "duration": 7,
    "start_time": "2023-01-15T05:31:46.780Z"
   },
   {
    "duration": 7,
    "start_time": "2023-01-15T05:31:48.285Z"
   },
   {
    "duration": 3053,
    "start_time": "2023-01-15T05:31:55.359Z"
   },
   {
    "duration": 12,
    "start_time": "2023-01-15T05:31:58.415Z"
   },
   {
    "duration": 27,
    "start_time": "2023-01-15T05:31:58.429Z"
   },
   {
    "duration": 26,
    "start_time": "2023-01-15T05:31:58.458Z"
   },
   {
    "duration": 321,
    "start_time": "2023-01-15T05:31:58.486Z"
   },
   {
    "duration": 5,
    "start_time": "2023-01-15T05:31:58.809Z"
   },
   {
    "duration": 304,
    "start_time": "2023-01-15T05:31:58.816Z"
   },
   {
    "duration": 17,
    "start_time": "2023-01-15T05:31:59.122Z"
   },
   {
    "duration": 3234,
    "start_time": "2023-01-15T05:31:59.160Z"
   },
   {
    "duration": 0,
    "start_time": "2023-01-15T05:32:02.396Z"
   },
   {
    "duration": 0,
    "start_time": "2023-01-15T05:32:02.397Z"
   },
   {
    "duration": 0,
    "start_time": "2023-01-15T05:32:02.399Z"
   },
   {
    "duration": 3352,
    "start_time": "2023-01-15T05:32:20.689Z"
   },
   {
    "duration": 481,
    "start_time": "2023-01-15T05:32:24.043Z"
   },
   {
    "duration": 200,
    "start_time": "2023-01-15T05:32:30.110Z"
   },
   {
    "duration": 24,
    "start_time": "2023-01-15T05:32:52.444Z"
   },
   {
    "duration": 31,
    "start_time": "2023-01-15T05:36:28.910Z"
   },
   {
    "duration": 28,
    "start_time": "2023-01-15T05:36:40.800Z"
   },
   {
    "duration": 34,
    "start_time": "2023-01-15T05:38:40.234Z"
   },
   {
    "duration": 2259,
    "start_time": "2023-01-15T05:39:18.732Z"
   },
   {
    "duration": 9,
    "start_time": "2023-01-15T05:39:20.993Z"
   },
   {
    "duration": 24,
    "start_time": "2023-01-15T05:39:21.004Z"
   },
   {
    "duration": 45,
    "start_time": "2023-01-15T05:39:21.030Z"
   },
   {
    "duration": 341,
    "start_time": "2023-01-15T05:39:21.077Z"
   },
   {
    "duration": 5,
    "start_time": "2023-01-15T05:39:21.419Z"
   },
   {
    "duration": 403,
    "start_time": "2023-01-15T05:39:21.426Z"
   },
   {
    "duration": 21,
    "start_time": "2023-01-15T05:39:21.831Z"
   },
   {
    "duration": 3199,
    "start_time": "2023-01-15T05:39:22.798Z"
   },
   {
    "duration": 462,
    "start_time": "2023-01-15T05:39:25.999Z"
   },
   {
    "duration": 33,
    "start_time": "2023-01-15T05:39:26.465Z"
   },
   {
    "duration": 21,
    "start_time": "2023-01-15T05:39:26.500Z"
   },
   {
    "duration": 227,
    "start_time": "2023-01-15T05:40:07.867Z"
   },
   {
    "duration": 2395,
    "start_time": "2023-01-15T05:53:29.966Z"
   },
   {
    "duration": 14,
    "start_time": "2023-01-15T05:53:32.363Z"
   },
   {
    "duration": 24,
    "start_time": "2023-01-15T05:53:32.379Z"
   },
   {
    "duration": 47,
    "start_time": "2023-01-15T05:53:32.405Z"
   },
   {
    "duration": 337,
    "start_time": "2023-01-15T05:53:32.454Z"
   },
   {
    "duration": 6,
    "start_time": "2023-01-15T05:53:32.793Z"
   },
   {
    "duration": 338,
    "start_time": "2023-01-15T05:53:32.801Z"
   },
   {
    "duration": 19,
    "start_time": "2023-01-15T05:53:33.141Z"
   },
   {
    "duration": 3476,
    "start_time": "2023-01-15T05:53:33.305Z"
   },
   {
    "duration": 456,
    "start_time": "2023-01-15T05:53:36.784Z"
   },
   {
    "duration": 61,
    "start_time": "2023-01-15T05:53:37.242Z"
   },
   {
    "duration": 192,
    "start_time": "2023-01-15T05:53:37.307Z"
   },
   {
    "duration": 53,
    "start_time": "2023-01-16T12:42:20.253Z"
   },
   {
    "duration": 3278,
    "start_time": "2023-01-16T12:42:25.926Z"
   },
   {
    "duration": 10,
    "start_time": "2023-01-16T12:42:29.206Z"
   },
   {
    "duration": 76,
    "start_time": "2023-01-16T12:42:29.217Z"
   },
   {
    "duration": 25,
    "start_time": "2023-01-16T12:42:29.296Z"
   },
   {
    "duration": 317,
    "start_time": "2023-01-16T12:42:29.323Z"
   },
   {
    "duration": 7,
    "start_time": "2023-01-16T12:42:29.641Z"
   },
   {
    "duration": 306,
    "start_time": "2023-01-16T12:42:29.649Z"
   },
   {
    "duration": 15,
    "start_time": "2023-01-16T12:42:29.957Z"
   },
   {
    "duration": 1655,
    "start_time": "2023-01-16T12:42:30.600Z"
   },
   {
    "duration": 2963,
    "start_time": "2023-01-16T12:42:41.373Z"
   },
   {
    "duration": 3023,
    "start_time": "2023-01-16T12:45:19.306Z"
   },
   {
    "duration": 11,
    "start_time": "2023-01-16T13:07:05.956Z"
   },
   {
    "duration": 13,
    "start_time": "2023-01-16T13:07:45.122Z"
   },
   {
    "duration": 767,
    "start_time": "2023-01-16T13:20:58.095Z"
   },
   {
    "duration": 1186,
    "start_time": "2023-01-16T13:22:21.781Z"
   },
   {
    "duration": 2589,
    "start_time": "2023-01-16T16:55:20.213Z"
   },
   {
    "duration": 9,
    "start_time": "2023-01-16T16:55:22.804Z"
   },
   {
    "duration": 24,
    "start_time": "2023-01-16T16:55:22.815Z"
   },
   {
    "duration": 21,
    "start_time": "2023-01-16T16:55:22.841Z"
   },
   {
    "duration": 313,
    "start_time": "2023-01-16T16:55:22.864Z"
   },
   {
    "duration": 5,
    "start_time": "2023-01-16T16:55:23.179Z"
   },
   {
    "duration": 19,
    "start_time": "2023-01-16T16:55:23.185Z"
   },
   {
    "duration": 53,
    "start_time": "2023-01-16T16:55:23.206Z"
   },
   {
    "duration": 217,
    "start_time": "2023-01-16T16:55:23.261Z"
   },
   {
    "duration": 10,
    "start_time": "2023-01-16T16:55:23.481Z"
   },
   {
    "duration": 284,
    "start_time": "2023-01-16T16:55:23.493Z"
   },
   {
    "duration": 302,
    "start_time": "2023-01-16T16:55:23.779Z"
   },
   {
    "duration": 217,
    "start_time": "2023-01-16T16:55:24.082Z"
   },
   {
    "duration": 139,
    "start_time": "2023-01-16T16:55:24.300Z"
   },
   {
    "duration": 15,
    "start_time": "2023-01-16T16:55:24.440Z"
   },
   {
    "duration": 334,
    "start_time": "2023-01-16T16:55:24.456Z"
   },
   {
    "duration": 20,
    "start_time": "2023-01-16T16:55:24.793Z"
   },
   {
    "duration": 2914,
    "start_time": "2023-01-16T16:55:24.816Z"
   },
   {
    "duration": 11,
    "start_time": "2023-01-16T16:55:27.732Z"
   },
   {
    "duration": 515,
    "start_time": "2023-01-16T16:55:27.746Z"
   },
   {
    "duration": 1311,
    "start_time": "2023-01-16T16:55:28.262Z"
   },
   {
    "duration": 46,
    "start_time": "2023-01-16T16:55:29.576Z"
   },
   {
    "duration": 181,
    "start_time": "2023-01-16T16:55:29.624Z"
   },
   {
    "duration": 152,
    "start_time": "2023-01-16T16:55:47.211Z"
   },
   {
    "duration": 3217,
    "start_time": "2023-01-16T20:36:18.673Z"
   },
   {
    "duration": 8,
    "start_time": "2023-01-16T20:36:21.892Z"
   },
   {
    "duration": 6,
    "start_time": "2023-01-16T20:36:21.902Z"
   },
   {
    "duration": 223,
    "start_time": "2023-01-16T20:36:21.909Z"
   },
   {
    "duration": 19,
    "start_time": "2023-01-16T20:36:22.134Z"
   },
   {
    "duration": 22,
    "start_time": "2023-01-16T20:36:22.155Z"
   },
   {
    "duration": 306,
    "start_time": "2023-01-16T20:36:22.178Z"
   },
   {
    "duration": 14,
    "start_time": "2023-01-16T20:36:22.486Z"
   },
   {
    "duration": 5,
    "start_time": "2023-01-16T20:36:22.502Z"
   },
   {
    "duration": 14,
    "start_time": "2023-01-16T20:36:22.510Z"
   },
   {
    "duration": 73,
    "start_time": "2023-01-16T20:36:22.526Z"
   },
   {
    "duration": 159,
    "start_time": "2023-01-16T20:36:22.601Z"
   },
   {
    "duration": 8,
    "start_time": "2023-01-16T20:36:22.762Z"
   },
   {
    "duration": 345,
    "start_time": "2023-01-16T20:36:22.772Z"
   },
   {
    "duration": 288,
    "start_time": "2023-01-16T20:36:23.120Z"
   },
   {
    "duration": 191,
    "start_time": "2023-01-16T20:36:23.410Z"
   },
   {
    "duration": 135,
    "start_time": "2023-01-16T20:36:23.603Z"
   },
   {
    "duration": 15,
    "start_time": "2023-01-16T20:36:23.740Z"
   },
   {
    "duration": 289,
    "start_time": "2023-01-16T20:36:23.757Z"
   },
   {
    "duration": 12,
    "start_time": "2023-01-16T20:36:24.048Z"
   },
   {
    "duration": 2463,
    "start_time": "2023-01-16T20:36:24.061Z"
   },
   {
    "duration": 11,
    "start_time": "2023-01-16T20:36:26.526Z"
   },
   {
    "duration": 367,
    "start_time": "2023-01-16T20:36:26.538Z"
   },
   {
    "duration": 1198,
    "start_time": "2023-01-16T20:36:26.906Z"
   },
   {
    "duration": 22,
    "start_time": "2023-01-16T20:36:28.105Z"
   },
   {
    "duration": 150,
    "start_time": "2023-01-16T20:36:28.129Z"
   },
   {
    "duration": 146,
    "start_time": "2023-01-16T20:36:28.281Z"
   },
   {
    "duration": 2029,
    "start_time": "2023-01-24T00:04:10.349Z"
   },
   {
    "duration": 931,
    "start_time": "2023-01-24T00:04:12.439Z"
   },
   {
    "duration": 0,
    "start_time": "2023-01-24T00:04:13.373Z"
   },
   {
    "duration": 0,
    "start_time": "2023-01-24T00:04:13.374Z"
   },
   {
    "duration": 0,
    "start_time": "2023-01-24T00:04:13.376Z"
   },
   {
    "duration": 0,
    "start_time": "2023-01-24T00:04:13.377Z"
   },
   {
    "duration": 0,
    "start_time": "2023-01-24T00:04:13.378Z"
   },
   {
    "duration": 0,
    "start_time": "2023-01-24T00:04:13.379Z"
   },
   {
    "duration": 0,
    "start_time": "2023-01-24T00:04:13.440Z"
   },
   {
    "duration": 0,
    "start_time": "2023-01-24T00:04:13.441Z"
   },
   {
    "duration": 0,
    "start_time": "2023-01-24T00:04:13.442Z"
   },
   {
    "duration": 0,
    "start_time": "2023-01-24T00:04:13.443Z"
   },
   {
    "duration": 0,
    "start_time": "2023-01-24T00:04:13.444Z"
   },
   {
    "duration": 0,
    "start_time": "2023-01-24T00:04:13.445Z"
   },
   {
    "duration": 0,
    "start_time": "2023-01-24T00:04:13.447Z"
   },
   {
    "duration": 0,
    "start_time": "2023-01-24T00:04:13.448Z"
   },
   {
    "duration": 0,
    "start_time": "2023-01-24T00:04:13.449Z"
   },
   {
    "duration": 0,
    "start_time": "2023-01-24T00:04:13.450Z"
   },
   {
    "duration": 0,
    "start_time": "2023-01-24T00:04:13.451Z"
   },
   {
    "duration": 0,
    "start_time": "2023-01-24T00:04:13.452Z"
   },
   {
    "duration": 0,
    "start_time": "2023-01-24T00:04:13.453Z"
   },
   {
    "duration": 0,
    "start_time": "2023-01-24T00:04:13.454Z"
   },
   {
    "duration": 0,
    "start_time": "2023-01-24T00:04:13.456Z"
   },
   {
    "duration": 0,
    "start_time": "2023-01-24T00:04:13.457Z"
   },
   {
    "duration": 0,
    "start_time": "2023-01-24T00:04:13.458Z"
   },
   {
    "duration": 0,
    "start_time": "2023-01-24T00:04:13.459Z"
   },
   {
    "duration": 0,
    "start_time": "2023-01-24T00:04:13.460Z"
   },
   {
    "duration": 0,
    "start_time": "2023-01-24T00:04:13.462Z"
   },
   {
    "duration": 0,
    "start_time": "2023-01-24T00:04:13.463Z"
   },
   {
    "duration": 0,
    "start_time": "2023-01-24T00:04:13.464Z"
   },
   {
    "duration": 0,
    "start_time": "2023-01-24T00:04:13.465Z"
   },
   {
    "duration": 0,
    "start_time": "2023-01-24T00:04:13.466Z"
   },
   {
    "duration": 0,
    "start_time": "2023-01-24T00:04:13.467Z"
   },
   {
    "duration": 1247,
    "start_time": "2023-01-24T00:13:09.620Z"
   },
   {
    "duration": 2122,
    "start_time": "2023-01-24T00:13:10.869Z"
   },
   {
    "duration": 9,
    "start_time": "2023-01-24T00:13:12.993Z"
   },
   {
    "duration": 9,
    "start_time": "2023-01-24T00:13:13.004Z"
   },
   {
    "duration": 251,
    "start_time": "2023-01-24T00:13:13.015Z"
   },
   {
    "duration": 23,
    "start_time": "2023-01-24T00:13:13.267Z"
   },
   {
    "duration": 49,
    "start_time": "2023-01-24T00:13:13.292Z"
   },
   {
    "duration": 221,
    "start_time": "2023-01-24T00:13:13.343Z"
   },
   {
    "duration": 324,
    "start_time": "2023-01-24T00:13:13.566Z"
   },
   {
    "duration": 10,
    "start_time": "2023-01-24T00:13:13.893Z"
   },
   {
    "duration": 17,
    "start_time": "2023-01-24T00:13:13.905Z"
   },
   {
    "duration": 25,
    "start_time": "2023-01-24T00:13:13.924Z"
   },
   {
    "duration": 54,
    "start_time": "2023-01-24T00:13:13.951Z"
   },
   {
    "duration": 213,
    "start_time": "2023-01-24T00:13:14.007Z"
   },
   {
    "duration": 10,
    "start_time": "2023-01-24T00:13:14.222Z"
   },
   {
    "duration": 307,
    "start_time": "2023-01-24T00:13:14.239Z"
   },
   {
    "duration": 323,
    "start_time": "2023-01-24T00:13:14.548Z"
   },
   {
    "duration": 153,
    "start_time": "2023-01-24T00:13:14.874Z"
   },
   {
    "duration": 150,
    "start_time": "2023-01-24T00:13:15.028Z"
   },
   {
    "duration": 16,
    "start_time": "2023-01-24T00:13:15.179Z"
   },
   {
    "duration": 1005,
    "start_time": "2023-01-24T00:13:15.197Z"
   },
   {
    "duration": 0,
    "start_time": "2023-01-24T00:13:16.205Z"
   },
   {
    "duration": 0,
    "start_time": "2023-01-24T00:13:16.206Z"
   },
   {
    "duration": 0,
    "start_time": "2023-01-24T00:13:16.207Z"
   },
   {
    "duration": 0,
    "start_time": "2023-01-24T00:13:16.209Z"
   },
   {
    "duration": 0,
    "start_time": "2023-01-24T00:13:16.211Z"
   },
   {
    "duration": 0,
    "start_time": "2023-01-24T00:13:16.212Z"
   },
   {
    "duration": 0,
    "start_time": "2023-01-24T00:13:16.214Z"
   },
   {
    "duration": 0,
    "start_time": "2023-01-24T00:13:16.216Z"
   },
   {
    "duration": 0,
    "start_time": "2023-01-24T00:13:16.217Z"
   },
   {
    "duration": 0,
    "start_time": "2023-01-24T00:13:16.218Z"
   },
   {
    "duration": 0,
    "start_time": "2023-01-24T00:13:16.220Z"
   },
   {
    "duration": 1,
    "start_time": "2023-01-24T00:13:16.222Z"
   },
   {
    "duration": 980,
    "start_time": "2023-01-24T00:19:50.649Z"
   },
   {
    "duration": 1238,
    "start_time": "2023-01-24T00:19:59.863Z"
   },
   {
    "duration": 2843,
    "start_time": "2023-01-24T00:20:01.103Z"
   },
   {
    "duration": 14,
    "start_time": "2023-01-24T00:20:03.949Z"
   },
   {
    "duration": 26,
    "start_time": "2023-01-24T00:20:03.966Z"
   },
   {
    "duration": 535,
    "start_time": "2023-01-24T00:20:04.041Z"
   },
   {
    "duration": 65,
    "start_time": "2023-01-24T00:20:04.578Z"
   },
   {
    "duration": 26,
    "start_time": "2023-01-24T00:20:04.644Z"
   },
   {
    "duration": 248,
    "start_time": "2023-01-24T00:20:04.671Z"
   },
   {
    "duration": 335,
    "start_time": "2023-01-24T00:20:04.921Z"
   },
   {
    "duration": 11,
    "start_time": "2023-01-24T00:20:05.260Z"
   },
   {
    "duration": 41,
    "start_time": "2023-01-24T00:20:05.272Z"
   },
   {
    "duration": 35,
    "start_time": "2023-01-24T00:20:05.315Z"
   },
   {
    "duration": 88,
    "start_time": "2023-01-24T00:20:05.352Z"
   },
   {
    "duration": 344,
    "start_time": "2023-01-24T00:20:05.441Z"
   },
   {
    "duration": 7,
    "start_time": "2023-01-24T00:20:05.787Z"
   },
   {
    "duration": 461,
    "start_time": "2023-01-24T00:20:05.796Z"
   },
   {
    "duration": 329,
    "start_time": "2023-01-24T00:20:06.259Z"
   },
   {
    "duration": 154,
    "start_time": "2023-01-24T00:20:06.590Z"
   },
   {
    "duration": 142,
    "start_time": "2023-01-24T00:20:06.746Z"
   },
   {
    "duration": 15,
    "start_time": "2023-01-24T00:20:06.890Z"
   },
   {
    "duration": 943,
    "start_time": "2023-01-24T00:20:06.907Z"
   },
   {
    "duration": 0,
    "start_time": "2023-01-24T00:20:07.852Z"
   },
   {
    "duration": 0,
    "start_time": "2023-01-24T00:20:07.853Z"
   },
   {
    "duration": 0,
    "start_time": "2023-01-24T00:20:07.854Z"
   },
   {
    "duration": 0,
    "start_time": "2023-01-24T00:20:07.855Z"
   },
   {
    "duration": 0,
    "start_time": "2023-01-24T00:20:07.856Z"
   },
   {
    "duration": 0,
    "start_time": "2023-01-24T00:20:07.857Z"
   },
   {
    "duration": 0,
    "start_time": "2023-01-24T00:20:07.859Z"
   },
   {
    "duration": 0,
    "start_time": "2023-01-24T00:20:07.860Z"
   },
   {
    "duration": 0,
    "start_time": "2023-01-24T00:20:07.861Z"
   },
   {
    "duration": 0,
    "start_time": "2023-01-24T00:20:07.862Z"
   },
   {
    "duration": 0,
    "start_time": "2023-01-24T00:20:07.864Z"
   },
   {
    "duration": 0,
    "start_time": "2023-01-24T00:20:07.865Z"
   },
   {
    "duration": 968,
    "start_time": "2023-01-24T00:21:56.036Z"
   },
   {
    "duration": 1166,
    "start_time": "2023-01-24T00:22:09.797Z"
   },
   {
    "duration": 3135,
    "start_time": "2023-01-24T00:22:10.965Z"
   },
   {
    "duration": 16,
    "start_time": "2023-01-24T00:22:14.102Z"
   },
   {
    "duration": 43,
    "start_time": "2023-01-24T00:22:14.120Z"
   },
   {
    "duration": 278,
    "start_time": "2023-01-24T00:22:14.165Z"
   },
   {
    "duration": 24,
    "start_time": "2023-01-24T00:22:14.444Z"
   },
   {
    "duration": 58,
    "start_time": "2023-01-24T00:22:14.469Z"
   },
   {
    "duration": 220,
    "start_time": "2023-01-24T00:22:14.529Z"
   },
   {
    "duration": 328,
    "start_time": "2023-01-24T00:22:14.751Z"
   },
   {
    "duration": 11,
    "start_time": "2023-01-24T00:22:15.083Z"
   },
   {
    "duration": 39,
    "start_time": "2023-01-24T00:22:15.095Z"
   },
   {
    "duration": 80,
    "start_time": "2023-01-24T00:22:15.136Z"
   },
   {
    "duration": 70,
    "start_time": "2023-01-24T00:22:15.218Z"
   },
   {
    "duration": 221,
    "start_time": "2023-01-24T00:22:15.290Z"
   },
   {
    "duration": 8,
    "start_time": "2023-01-24T00:22:15.513Z"
   },
   {
    "duration": 335,
    "start_time": "2023-01-24T00:22:15.523Z"
   },
   {
    "duration": 318,
    "start_time": "2023-01-24T00:22:15.860Z"
   },
   {
    "duration": 152,
    "start_time": "2023-01-24T00:22:16.180Z"
   },
   {
    "duration": 163,
    "start_time": "2023-01-24T00:22:16.334Z"
   },
   {
    "duration": 16,
    "start_time": "2023-01-24T00:22:16.499Z"
   },
   {
    "duration": 142,
    "start_time": "2023-01-24T00:22:16.516Z"
   },
   {
    "duration": 0,
    "start_time": "2023-01-24T00:22:16.660Z"
   },
   {
    "duration": 0,
    "start_time": "2023-01-24T00:22:16.661Z"
   },
   {
    "duration": 0,
    "start_time": "2023-01-24T00:22:16.662Z"
   },
   {
    "duration": 0,
    "start_time": "2023-01-24T00:22:16.662Z"
   },
   {
    "duration": 0,
    "start_time": "2023-01-24T00:22:16.663Z"
   },
   {
    "duration": 0,
    "start_time": "2023-01-24T00:22:16.664Z"
   },
   {
    "duration": 0,
    "start_time": "2023-01-24T00:22:16.665Z"
   },
   {
    "duration": 0,
    "start_time": "2023-01-24T00:22:16.667Z"
   },
   {
    "duration": 0,
    "start_time": "2023-01-24T00:22:16.668Z"
   },
   {
    "duration": 0,
    "start_time": "2023-01-24T00:22:16.669Z"
   },
   {
    "duration": 0,
    "start_time": "2023-01-24T00:22:16.670Z"
   },
   {
    "duration": 0,
    "start_time": "2023-01-24T00:22:16.671Z"
   },
   {
    "duration": 1294,
    "start_time": "2023-01-24T00:24:04.738Z"
   },
   {
    "duration": 2125,
    "start_time": "2023-01-24T00:24:06.034Z"
   },
   {
    "duration": 11,
    "start_time": "2023-01-24T00:24:08.160Z"
   },
   {
    "duration": 24,
    "start_time": "2023-01-24T00:24:08.173Z"
   },
   {
    "duration": 262,
    "start_time": "2023-01-24T00:24:08.198Z"
   },
   {
    "duration": 22,
    "start_time": "2023-01-24T00:24:08.462Z"
   },
   {
    "duration": 34,
    "start_time": "2023-01-24T00:24:08.486Z"
   },
   {
    "duration": 218,
    "start_time": "2023-01-24T00:24:08.522Z"
   },
   {
    "duration": 344,
    "start_time": "2023-01-24T00:24:08.741Z"
   },
   {
    "duration": 10,
    "start_time": "2023-01-24T00:24:09.088Z"
   },
   {
    "duration": 9,
    "start_time": "2023-01-24T00:24:09.099Z"
   },
   {
    "duration": 32,
    "start_time": "2023-01-24T00:24:09.109Z"
   },
   {
    "duration": 105,
    "start_time": "2023-01-24T00:24:09.143Z"
   },
   {
    "duration": 225,
    "start_time": "2023-01-24T00:24:09.250Z"
   },
   {
    "duration": 9,
    "start_time": "2023-01-24T00:24:09.476Z"
   },
   {
    "duration": 673,
    "start_time": "2023-01-24T00:24:09.487Z"
   },
   {
    "duration": 619,
    "start_time": "2023-01-24T00:24:10.161Z"
   },
   {
    "duration": 234,
    "start_time": "2023-01-24T00:24:10.782Z"
   },
   {
    "duration": 169,
    "start_time": "2023-01-24T00:24:11.018Z"
   },
   {
    "duration": 16,
    "start_time": "2023-01-24T00:24:11.188Z"
   },
   {
    "duration": 20,
    "start_time": "2023-01-24T00:24:11.206Z"
   },
   {
    "duration": 997,
    "start_time": "2023-01-24T00:24:11.239Z"
   },
   {
    "duration": 0,
    "start_time": "2023-01-24T00:24:12.238Z"
   },
   {
    "duration": 0,
    "start_time": "2023-01-24T00:24:12.241Z"
   },
   {
    "duration": 0,
    "start_time": "2023-01-24T00:24:12.243Z"
   },
   {
    "duration": 0,
    "start_time": "2023-01-24T00:24:12.245Z"
   },
   {
    "duration": 0,
    "start_time": "2023-01-24T00:24:12.246Z"
   },
   {
    "duration": 0,
    "start_time": "2023-01-24T00:24:12.248Z"
   },
   {
    "duration": 0,
    "start_time": "2023-01-24T00:24:12.249Z"
   },
   {
    "duration": 0,
    "start_time": "2023-01-24T00:24:12.250Z"
   },
   {
    "duration": 0,
    "start_time": "2023-01-24T00:24:12.252Z"
   },
   {
    "duration": 1,
    "start_time": "2023-01-24T00:24:12.253Z"
   },
   {
    "duration": 0,
    "start_time": "2023-01-24T00:24:12.255Z"
   },
   {
    "duration": 0,
    "start_time": "2023-01-24T00:24:12.257Z"
   },
   {
    "duration": 1611,
    "start_time": "2023-01-24T10:47:13.333Z"
   },
   {
    "duration": 171,
    "start_time": "2023-01-24T10:47:14.946Z"
   },
   {
    "duration": 203,
    "start_time": "2023-01-24T10:47:25.855Z"
   },
   {
    "duration": 132,
    "start_time": "2023-01-24T10:47:29.838Z"
   },
   {
    "duration": 130,
    "start_time": "2023-01-24T10:47:55.911Z"
   },
   {
    "duration": 46,
    "start_time": "2023-01-24T10:47:57.468Z"
   },
   {
    "duration": 165,
    "start_time": "2023-01-24T10:50:00.468Z"
   },
   {
    "duration": 2431,
    "start_time": "2023-01-24T10:50:03.219Z"
   },
   {
    "duration": 11,
    "start_time": "2023-01-24T10:50:30.917Z"
   },
   {
    "duration": 6,
    "start_time": "2023-01-24T10:50:32.377Z"
   },
   {
    "duration": 248,
    "start_time": "2023-01-24T10:50:33.826Z"
   },
   {
    "duration": 29,
    "start_time": "2023-01-24T10:50:35.745Z"
   },
   {
    "duration": 24,
    "start_time": "2023-01-24T10:50:59.342Z"
   },
   {
    "duration": 25,
    "start_time": "2023-01-24T10:51:15.929Z"
   },
   {
    "duration": 22,
    "start_time": "2023-01-24T10:53:29.353Z"
   },
   {
    "duration": 29,
    "start_time": "2023-01-24T10:53:35.899Z"
   },
   {
    "duration": 33,
    "start_time": "2023-01-24T10:53:48.877Z"
   },
   {
    "duration": 34,
    "start_time": "2023-01-24T10:53:55.222Z"
   },
   {
    "duration": 271,
    "start_time": "2023-01-24T10:54:10.677Z"
   },
   {
    "duration": 24,
    "start_time": "2023-01-24T10:55:00.252Z"
   },
   {
    "duration": 23,
    "start_time": "2023-01-24T10:55:53.636Z"
   },
   {
    "duration": 26,
    "start_time": "2023-01-24T10:56:24.109Z"
   },
   {
    "duration": 23,
    "start_time": "2023-01-24T10:56:40.905Z"
   },
   {
    "duration": 23,
    "start_time": "2023-01-24T10:56:45.697Z"
   },
   {
    "duration": 20,
    "start_time": "2023-01-24T10:56:57.346Z"
   },
   {
    "duration": 858,
    "start_time": "2023-01-24T10:57:08.924Z"
   },
   {
    "duration": 870,
    "start_time": "2023-01-24T10:58:22.207Z"
   },
   {
    "duration": 3,
    "start_time": "2023-01-24T10:58:42.112Z"
   },
   {
    "duration": 123,
    "start_time": "2023-01-24T10:58:43.336Z"
   },
   {
    "duration": 2190,
    "start_time": "2023-01-24T10:58:44.785Z"
   },
   {
    "duration": 11,
    "start_time": "2023-01-24T10:58:51.836Z"
   },
   {
    "duration": 4,
    "start_time": "2023-01-24T10:58:54.440Z"
   },
   {
    "duration": 243,
    "start_time": "2023-01-24T10:58:57.517Z"
   },
   {
    "duration": 21,
    "start_time": "2023-01-24T10:59:00.128Z"
   },
   {
    "duration": 20,
    "start_time": "2023-01-24T10:59:06.283Z"
   },
   {
    "duration": 17,
    "start_time": "2023-01-24T10:59:39.427Z"
   },
   {
    "duration": 963,
    "start_time": "2023-01-24T11:00:16.799Z"
   },
   {
    "duration": 2,
    "start_time": "2023-01-24T11:00:28.738Z"
   },
   {
    "duration": 148,
    "start_time": "2023-01-24T11:00:29.076Z"
   },
   {
    "duration": 2525,
    "start_time": "2023-01-24T11:00:29.427Z"
   },
   {
    "duration": 12,
    "start_time": "2023-01-24T11:00:33.304Z"
   },
   {
    "duration": 4,
    "start_time": "2023-01-24T11:00:35.097Z"
   },
   {
    "duration": 251,
    "start_time": "2023-01-24T11:00:35.606Z"
   },
   {
    "duration": 23,
    "start_time": "2023-01-24T11:00:36.610Z"
   },
   {
    "duration": 23,
    "start_time": "2023-01-24T11:00:40.574Z"
   },
   {
    "duration": 27,
    "start_time": "2023-01-24T11:08:32.078Z"
   },
   {
    "duration": 27,
    "start_time": "2023-01-24T11:09:04.599Z"
   },
   {
    "duration": 256,
    "start_time": "2023-01-24T11:09:07.952Z"
   },
   {
    "duration": 452,
    "start_time": "2023-01-24T11:09:09.703Z"
   },
   {
    "duration": 10,
    "start_time": "2023-01-24T11:09:10.873Z"
   },
   {
    "duration": 9,
    "start_time": "2023-01-24T11:09:13.699Z"
   },
   {
    "duration": 17,
    "start_time": "2023-01-24T11:09:15.097Z"
   },
   {
    "duration": 63,
    "start_time": "2023-01-24T11:09:24.381Z"
   },
   {
    "duration": 1549,
    "start_time": "2023-01-24T11:53:49.438Z"
   },
   {
    "duration": 353,
    "start_time": "2023-01-24T11:53:54.887Z"
   },
   {
    "duration": 2185,
    "start_time": "2023-01-24T11:53:55.627Z"
   },
   {
    "duration": 16,
    "start_time": "2023-01-24T11:53:59.877Z"
   },
   {
    "duration": 6,
    "start_time": "2023-01-24T11:54:00.696Z"
   },
   {
    "duration": 282,
    "start_time": "2023-01-24T11:54:01.105Z"
   },
   {
    "duration": 28,
    "start_time": "2023-01-24T11:54:01.929Z"
   },
   {
    "duration": 30,
    "start_time": "2023-01-24T11:54:04.385Z"
   },
   {
    "duration": 240,
    "start_time": "2023-01-24T11:54:05.825Z"
   },
   {
    "duration": 341,
    "start_time": "2023-01-24T11:54:07.017Z"
   },
   {
    "duration": 12,
    "start_time": "2023-01-24T11:54:07.899Z"
   },
   {
    "duration": 29,
    "start_time": "2023-01-24T11:54:09.730Z"
   },
   {
    "duration": 19,
    "start_time": "2023-01-24T11:54:10.513Z"
   },
   {
    "duration": 57,
    "start_time": "2023-01-24T11:54:11.734Z"
   },
   {
    "duration": 163,
    "start_time": "2023-01-24T11:54:13.655Z"
   },
   {
    "duration": 9,
    "start_time": "2023-01-24T11:54:14.033Z"
   },
   {
    "duration": 382,
    "start_time": "2023-01-24T11:54:14.417Z"
   },
   {
    "duration": 355,
    "start_time": "2023-01-24T11:54:15.158Z"
   },
   {
    "duration": 150,
    "start_time": "2023-01-24T11:54:15.525Z"
   },
   {
    "duration": 189,
    "start_time": "2023-01-24T11:54:15.885Z"
   },
   {
    "duration": 19,
    "start_time": "2023-01-24T11:54:16.641Z"
   },
   {
    "duration": 10,
    "start_time": "2023-01-24T11:54:17.787Z"
   },
   {
    "duration": 662,
    "start_time": "2023-01-24T11:54:18.541Z"
   },
   {
    "duration": 647,
    "start_time": "2023-01-24T11:55:15.884Z"
   },
   {
    "duration": 3,
    "start_time": "2023-01-24T11:56:01.018Z"
   },
   {
    "duration": 152,
    "start_time": "2023-01-24T11:56:01.893Z"
   },
   {
    "duration": 2451,
    "start_time": "2023-01-24T11:56:02.332Z"
   },
   {
    "duration": 12,
    "start_time": "2023-01-24T11:56:04.786Z"
   },
   {
    "duration": 9,
    "start_time": "2023-01-24T11:56:04.800Z"
   },
   {
    "duration": 294,
    "start_time": "2023-01-24T11:56:05.029Z"
   },
   {
    "duration": 22,
    "start_time": "2023-01-24T11:56:05.505Z"
   },
   {
    "duration": 33,
    "start_time": "2023-01-24T11:56:06.895Z"
   },
   {
    "duration": 259,
    "start_time": "2023-01-24T11:56:09.629Z"
   },
   {
    "duration": 353,
    "start_time": "2023-01-24T11:56:19.162Z"
   },
   {
    "duration": 11,
    "start_time": "2023-01-24T11:56:20.201Z"
   },
   {
    "duration": 35,
    "start_time": "2023-01-24T11:56:23.158Z"
   },
   {
    "duration": 16,
    "start_time": "2023-01-24T11:56:26.117Z"
   },
   {
    "duration": 18,
    "start_time": "2023-01-24T11:56:28.333Z"
   },
   {
    "duration": 198,
    "start_time": "2023-01-24T11:56:31.302Z"
   },
   {
    "duration": 9,
    "start_time": "2023-01-24T11:56:32.384Z"
   },
   {
    "duration": 339,
    "start_time": "2023-01-24T11:56:33.178Z"
   },
   {
    "duration": 424,
    "start_time": "2023-01-24T11:56:34.606Z"
   },
   {
    "duration": 142,
    "start_time": "2023-01-24T11:56:35.118Z"
   },
   {
    "duration": 146,
    "start_time": "2023-01-24T11:56:35.660Z"
   },
   {
    "duration": 14,
    "start_time": "2023-01-24T11:56:37.051Z"
   },
   {
    "duration": 52,
    "start_time": "2023-01-24T11:56:39.657Z"
   },
   {
    "duration": 203,
    "start_time": "2023-01-24T11:56:45.347Z"
   },
   {
    "duration": 10,
    "start_time": "2023-01-24T11:57:28.596Z"
   },
   {
    "duration": 3,
    "start_time": "2023-01-24T11:57:29.044Z"
   },
   {
    "duration": 216,
    "start_time": "2023-01-24T11:57:29.624Z"
   },
   {
    "duration": 26,
    "start_time": "2023-01-24T11:57:32.191Z"
   },
   {
    "duration": 5341,
    "start_time": "2023-01-24T11:57:33.835Z"
   },
   {
    "duration": 12,
    "start_time": "2023-01-24T11:57:39.179Z"
   },
   {
    "duration": 598,
    "start_time": "2023-01-24T11:57:41.555Z"
   },
   {
    "duration": 1334,
    "start_time": "2023-01-24T11:57:55.229Z"
   },
   {
    "duration": 268,
    "start_time": "2023-01-24T11:57:56.665Z"
   },
   {
    "duration": 180,
    "start_time": "2023-01-24T11:57:57.185Z"
   },
   {
    "duration": 26,
    "start_time": "2023-01-24T11:57:58.889Z"
   },
   {
    "duration": 201,
    "start_time": "2023-01-24T11:57:59.787Z"
   },
   {
    "duration": 183,
    "start_time": "2023-01-24T11:58:19.290Z"
   },
   {
    "duration": 171,
    "start_time": "2023-01-24T11:58:24.393Z"
   },
   {
    "duration": 32,
    "start_time": "2023-01-24T11:58:24.853Z"
   },
   {
    "duration": 1079,
    "start_time": "2023-01-24T13:40:26.025Z"
   },
   {
    "duration": 182,
    "start_time": "2023-01-24T13:40:27.106Z"
   },
   {
    "duration": 120,
    "start_time": "2023-01-24T13:40:27.289Z"
   },
   {
    "duration": 0,
    "start_time": "2023-01-24T13:40:27.412Z"
   },
   {
    "duration": 0,
    "start_time": "2023-01-24T13:40:27.413Z"
   },
   {
    "duration": 0,
    "start_time": "2023-01-24T13:40:27.414Z"
   },
   {
    "duration": 0,
    "start_time": "2023-01-24T13:40:27.415Z"
   },
   {
    "duration": 0,
    "start_time": "2023-01-24T13:40:27.417Z"
   },
   {
    "duration": 0,
    "start_time": "2023-01-24T13:40:27.418Z"
   },
   {
    "duration": 0,
    "start_time": "2023-01-24T13:40:27.419Z"
   },
   {
    "duration": 0,
    "start_time": "2023-01-24T13:40:27.420Z"
   },
   {
    "duration": 0,
    "start_time": "2023-01-24T13:40:27.421Z"
   },
   {
    "duration": 0,
    "start_time": "2023-01-24T13:40:27.422Z"
   },
   {
    "duration": 0,
    "start_time": "2023-01-24T13:40:27.423Z"
   },
   {
    "duration": 0,
    "start_time": "2023-01-24T13:40:27.424Z"
   },
   {
    "duration": 0,
    "start_time": "2023-01-24T13:40:27.425Z"
   },
   {
    "duration": 0,
    "start_time": "2023-01-24T13:40:27.426Z"
   },
   {
    "duration": 0,
    "start_time": "2023-01-24T13:40:27.427Z"
   },
   {
    "duration": 0,
    "start_time": "2023-01-24T13:40:27.428Z"
   },
   {
    "duration": 0,
    "start_time": "2023-01-24T13:40:27.429Z"
   },
   {
    "duration": 1,
    "start_time": "2023-01-24T13:40:27.430Z"
   },
   {
    "duration": 0,
    "start_time": "2023-01-24T13:40:27.431Z"
   },
   {
    "duration": 0,
    "start_time": "2023-01-24T13:40:27.432Z"
   },
   {
    "duration": 0,
    "start_time": "2023-01-24T13:40:27.433Z"
   },
   {
    "duration": 0,
    "start_time": "2023-01-24T13:40:27.436Z"
   },
   {
    "duration": 0,
    "start_time": "2023-01-24T13:40:27.437Z"
   },
   {
    "duration": 0,
    "start_time": "2023-01-24T13:40:27.438Z"
   },
   {
    "duration": 0,
    "start_time": "2023-01-24T13:40:27.440Z"
   },
   {
    "duration": 0,
    "start_time": "2023-01-24T13:40:27.441Z"
   },
   {
    "duration": 0,
    "start_time": "2023-01-24T13:40:27.442Z"
   },
   {
    "duration": 0,
    "start_time": "2023-01-24T13:40:27.443Z"
   },
   {
    "duration": 0,
    "start_time": "2023-01-24T13:40:27.444Z"
   },
   {
    "duration": 0,
    "start_time": "2023-01-24T13:40:27.446Z"
   },
   {
    "duration": 0,
    "start_time": "2023-01-24T13:40:27.447Z"
   },
   {
    "duration": 0,
    "start_time": "2023-01-24T13:40:27.504Z"
   },
   {
    "duration": 0,
    "start_time": "2023-01-24T13:40:27.505Z"
   },
   {
    "duration": 0,
    "start_time": "2023-01-24T13:40:27.506Z"
   },
   {
    "duration": 104,
    "start_time": "2023-01-24T13:41:16.674Z"
   },
   {
    "duration": 2080,
    "start_time": "2023-01-24T13:41:17.119Z"
   },
   {
    "duration": 1219,
    "start_time": "2023-01-24T13:41:40.797Z"
   },
   {
    "duration": 92,
    "start_time": "2023-01-24T13:41:42.018Z"
   },
   {
    "duration": 2086,
    "start_time": "2023-01-24T13:41:42.112Z"
   },
   {
    "duration": 11,
    "start_time": "2023-01-24T13:41:44.204Z"
   },
   {
    "duration": 25,
    "start_time": "2023-01-24T13:41:44.217Z"
   },
   {
    "duration": 476,
    "start_time": "2023-01-24T13:41:44.245Z"
   },
   {
    "duration": 21,
    "start_time": "2023-01-24T13:41:44.723Z"
   },
   {
    "duration": 82,
    "start_time": "2023-01-24T13:41:44.746Z"
   },
   {
    "duration": 498,
    "start_time": "2023-01-24T13:41:44.829Z"
   },
   {
    "duration": 620,
    "start_time": "2023-01-24T13:41:45.330Z"
   },
   {
    "duration": 57,
    "start_time": "2023-01-24T13:41:45.952Z"
   },
   {
    "duration": 96,
    "start_time": "2023-01-24T13:41:46.011Z"
   },
   {
    "duration": 12,
    "start_time": "2023-01-24T13:41:46.108Z"
   },
   {
    "duration": 80,
    "start_time": "2023-01-24T13:41:46.121Z"
   },
   {
    "duration": 210,
    "start_time": "2023-01-24T13:41:46.203Z"
   },
   {
    "duration": 8,
    "start_time": "2023-01-24T13:41:46.415Z"
   },
   {
    "duration": 339,
    "start_time": "2023-01-24T13:41:46.425Z"
   },
   {
    "duration": 308,
    "start_time": "2023-01-24T13:41:46.766Z"
   },
   {
    "duration": 150,
    "start_time": "2023-01-24T13:41:47.075Z"
   },
   {
    "duration": 165,
    "start_time": "2023-01-24T13:41:47.227Z"
   },
   {
    "duration": 14,
    "start_time": "2023-01-24T13:41:47.393Z"
   },
   {
    "duration": 52,
    "start_time": "2023-01-24T13:41:47.408Z"
   },
   {
    "duration": 11,
    "start_time": "2023-01-24T13:41:47.462Z"
   },
   {
    "duration": 29,
    "start_time": "2023-01-24T13:41:47.475Z"
   },
   {
    "duration": 391,
    "start_time": "2023-01-24T13:41:47.506Z"
   },
   {
    "duration": 26,
    "start_time": "2023-01-24T13:41:47.899Z"
   },
   {
    "duration": 5248,
    "start_time": "2023-01-24T13:41:47.927Z"
   },
   {
    "duration": 13,
    "start_time": "2023-01-24T13:41:53.178Z"
   },
   {
    "duration": 501,
    "start_time": "2023-01-24T13:41:53.208Z"
   },
   {
    "duration": 1582,
    "start_time": "2023-01-24T13:41:53.711Z"
   },
   {
    "duration": 185,
    "start_time": "2023-01-24T13:41:55.295Z"
   },
   {
    "duration": 160,
    "start_time": "2023-01-24T13:41:55.481Z"
   },
   {
    "duration": 25,
    "start_time": "2023-01-24T13:41:55.642Z"
   },
   {
    "duration": 200,
    "start_time": "2023-01-24T13:41:55.669Z"
   },
   {
    "duration": 169,
    "start_time": "2023-01-24T13:41:55.871Z"
   },
   {
    "duration": 167,
    "start_time": "2023-01-24T13:41:56.042Z"
   },
   {
    "duration": 29,
    "start_time": "2023-01-24T13:41:56.211Z"
   },
   {
    "duration": 1217,
    "start_time": "2023-01-24T13:45:57.811Z"
   },
   {
    "duration": 98,
    "start_time": "2023-01-24T13:45:59.031Z"
   },
   {
    "duration": 2284,
    "start_time": "2023-01-24T13:45:59.131Z"
   },
   {
    "duration": 11,
    "start_time": "2023-01-24T13:46:01.418Z"
   },
   {
    "duration": 27,
    "start_time": "2023-01-24T13:46:01.431Z"
   },
   {
    "duration": 290,
    "start_time": "2023-01-24T13:46:01.460Z"
   },
   {
    "duration": 22,
    "start_time": "2023-01-24T13:46:01.752Z"
   },
   {
    "duration": 40,
    "start_time": "2023-01-24T13:46:01.777Z"
   },
   {
    "duration": 243,
    "start_time": "2023-01-24T13:46:01.819Z"
   },
   {
    "duration": 387,
    "start_time": "2023-01-24T13:46:02.067Z"
   },
   {
    "duration": 10,
    "start_time": "2023-01-24T13:46:02.456Z"
   },
   {
    "duration": 18,
    "start_time": "2023-01-24T13:46:02.468Z"
   },
   {
    "duration": 29,
    "start_time": "2023-01-24T13:46:02.504Z"
   },
   {
    "duration": 20,
    "start_time": "2023-01-24T13:46:02.535Z"
   },
   {
    "duration": 108,
    "start_time": "2023-01-24T13:46:02.557Z"
   },
   {
    "duration": 303,
    "start_time": "2023-01-24T13:46:02.667Z"
   },
   {
    "duration": 9,
    "start_time": "2023-01-24T13:46:02.972Z"
   },
   {
    "duration": 385,
    "start_time": "2023-01-24T13:46:02.983Z"
   },
   {
    "duration": 351,
    "start_time": "2023-01-24T13:46:03.370Z"
   },
   {
    "duration": 160,
    "start_time": "2023-01-24T13:46:03.723Z"
   },
   {
    "duration": 182,
    "start_time": "2023-01-24T13:46:03.885Z"
   },
   {
    "duration": 17,
    "start_time": "2023-01-24T13:46:04.070Z"
   },
   {
    "duration": 76,
    "start_time": "2023-01-24T13:46:04.105Z"
   },
   {
    "duration": 24,
    "start_time": "2023-01-24T13:46:04.184Z"
   },
   {
    "duration": 26,
    "start_time": "2023-01-24T13:46:04.211Z"
   },
   {
    "duration": 420,
    "start_time": "2023-01-24T13:46:04.242Z"
   },
   {
    "duration": 28,
    "start_time": "2023-01-24T13:46:04.664Z"
   },
   {
    "duration": 5605,
    "start_time": "2023-01-24T13:46:04.706Z"
   },
   {
    "duration": 12,
    "start_time": "2023-01-24T13:46:10.313Z"
   },
   {
    "duration": 504,
    "start_time": "2023-01-24T13:46:10.327Z"
   },
   {
    "duration": 1599,
    "start_time": "2023-01-24T13:46:10.833Z"
   },
   {
    "duration": 183,
    "start_time": "2023-01-24T13:46:12.434Z"
   },
   {
    "duration": 169,
    "start_time": "2023-01-24T13:46:12.619Z"
   },
   {
    "duration": 35,
    "start_time": "2023-01-24T13:46:12.789Z"
   },
   {
    "duration": 221,
    "start_time": "2023-01-24T13:46:12.827Z"
   },
   {
    "duration": 239,
    "start_time": "2023-01-24T13:46:13.050Z"
   },
   {
    "duration": 201,
    "start_time": "2023-01-24T13:46:13.292Z"
   },
   {
    "duration": 37,
    "start_time": "2023-01-24T13:46:13.495Z"
   },
   {
    "duration": 387,
    "start_time": "2023-01-24T13:53:05.588Z"
   },
   {
    "duration": 239,
    "start_time": "2023-01-24T13:56:12.364Z"
   },
   {
    "duration": 140,
    "start_time": "2023-01-24T13:56:22.431Z"
   },
   {
    "duration": 122,
    "start_time": "2023-01-24T13:56:52.016Z"
   },
   {
    "duration": 119,
    "start_time": "2023-01-24T13:56:56.348Z"
   },
   {
    "duration": 148,
    "start_time": "2023-01-24T13:57:04.116Z"
   },
   {
    "duration": 199,
    "start_time": "2023-01-24T13:59:09.574Z"
   },
   {
    "duration": 3,
    "start_time": "2023-01-24T13:59:22.106Z"
   },
   {
    "duration": 105,
    "start_time": "2023-01-24T13:59:22.709Z"
   },
   {
    "duration": 3557,
    "start_time": "2023-01-24T13:59:28.511Z"
   },
   {
    "duration": 398,
    "start_time": "2023-01-24T13:59:33.387Z"
   },
   {
    "duration": 985,
    "start_time": "2023-01-24T13:59:33.787Z"
   },
   {
    "duration": 1302,
    "start_time": "2023-01-24T13:59:42.286Z"
   },
   {
    "duration": 96,
    "start_time": "2023-01-24T13:59:43.591Z"
   },
   {
    "duration": 2160,
    "start_time": "2023-01-24T13:59:43.689Z"
   },
   {
    "duration": 10,
    "start_time": "2023-01-24T13:59:45.851Z"
   },
   {
    "duration": 23,
    "start_time": "2023-01-24T13:59:45.862Z"
   },
   {
    "duration": 254,
    "start_time": "2023-01-24T13:59:45.887Z"
   },
   {
    "duration": 20,
    "start_time": "2023-01-24T13:59:46.142Z"
   },
   {
    "duration": 45,
    "start_time": "2023-01-24T13:59:46.164Z"
   },
   {
    "duration": 393,
    "start_time": "2023-01-24T13:59:46.211Z"
   },
   {
    "duration": 621,
    "start_time": "2023-01-24T13:59:46.607Z"
   },
   {
    "duration": 13,
    "start_time": "2023-01-24T13:59:47.230Z"
   },
   {
    "duration": 69,
    "start_time": "2023-01-24T13:59:47.246Z"
   },
   {
    "duration": 100,
    "start_time": "2023-01-24T13:59:47.317Z"
   },
   {
    "duration": 14,
    "start_time": "2023-01-24T13:59:47.419Z"
   },
   {
    "duration": 169,
    "start_time": "2023-01-24T13:59:47.435Z"
   },
   {
    "duration": 764,
    "start_time": "2023-01-24T13:59:47.606Z"
   },
   {
    "duration": 183,
    "start_time": "2023-01-24T13:59:48.403Z"
   },
   {
    "duration": 8,
    "start_time": "2023-01-24T13:59:48.588Z"
   },
   {
    "duration": 320,
    "start_time": "2023-01-24T13:59:48.598Z"
   },
   {
    "duration": 325,
    "start_time": "2023-01-24T13:59:48.919Z"
   },
   {
    "duration": 135,
    "start_time": "2023-01-24T13:59:49.246Z"
   },
   {
    "duration": 312,
    "start_time": "2023-01-24T13:59:49.383Z"
   },
   {
    "duration": 17,
    "start_time": "2023-01-24T13:59:49.697Z"
   },
   {
    "duration": 62,
    "start_time": "2023-01-24T13:59:49.717Z"
   },
   {
    "duration": 10,
    "start_time": "2023-01-24T13:59:49.781Z"
   },
   {
    "duration": 17,
    "start_time": "2023-01-24T13:59:49.793Z"
   },
   {
    "duration": 197,
    "start_time": "2023-01-24T13:59:49.812Z"
   },
   {
    "duration": 27,
    "start_time": "2023-01-24T13:59:50.014Z"
   },
   {
    "duration": 5138,
    "start_time": "2023-01-24T13:59:50.043Z"
   },
   {
    "duration": 21,
    "start_time": "2023-01-24T13:59:55.183Z"
   },
   {
    "duration": 404,
    "start_time": "2023-01-24T13:59:55.206Z"
   },
   {
    "duration": 1473,
    "start_time": "2023-01-24T13:59:55.612Z"
   },
   {
    "duration": 184,
    "start_time": "2023-01-24T13:59:57.086Z"
   },
   {
    "duration": 152,
    "start_time": "2023-01-24T13:59:57.271Z"
   },
   {
    "duration": 117,
    "start_time": "2023-01-24T13:59:57.425Z"
   },
   {
    "duration": 23,
    "start_time": "2023-01-24T13:59:57.544Z"
   },
   {
    "duration": 191,
    "start_time": "2023-01-24T13:59:57.569Z"
   },
   {
    "duration": 161,
    "start_time": "2023-01-24T13:59:57.761Z"
   },
   {
    "duration": 158,
    "start_time": "2023-01-24T13:59:57.924Z"
   },
   {
    "duration": 32,
    "start_time": "2023-01-24T13:59:58.084Z"
   },
   {
    "duration": 2,
    "start_time": "2023-01-24T13:59:58.118Z"
   },
   {
    "duration": 3713,
    "start_time": "2023-01-24T13:59:58.122Z"
   },
   {
    "duration": 420,
    "start_time": "2023-01-24T14:00:01.837Z"
   },
   {
    "duration": 995,
    "start_time": "2023-01-24T14:00:02.260Z"
   },
   {
    "duration": 219,
    "start_time": "2023-01-24T14:00:03.256Z"
   },
   {
    "duration": 1178,
    "start_time": "2023-01-24T14:01:34.751Z"
   },
   {
    "duration": 95,
    "start_time": "2023-01-24T14:01:35.931Z"
   },
   {
    "duration": 2171,
    "start_time": "2023-01-24T14:01:36.027Z"
   },
   {
    "duration": 10,
    "start_time": "2023-01-24T14:01:38.204Z"
   },
   {
    "duration": 6,
    "start_time": "2023-01-24T14:01:38.215Z"
   },
   {
    "duration": 243,
    "start_time": "2023-01-24T14:01:38.222Z"
   },
   {
    "duration": 21,
    "start_time": "2023-01-24T14:01:38.467Z"
   },
   {
    "duration": 35,
    "start_time": "2023-01-24T14:01:38.490Z"
   },
   {
    "duration": 228,
    "start_time": "2023-01-24T14:01:38.527Z"
   },
   {
    "duration": 317,
    "start_time": "2023-01-24T14:01:38.759Z"
   },
   {
    "duration": 9,
    "start_time": "2023-01-24T14:01:39.078Z"
   },
   {
    "duration": 24,
    "start_time": "2023-01-24T14:01:39.088Z"
   },
   {
    "duration": 29,
    "start_time": "2023-01-24T14:01:39.114Z"
   },
   {
    "duration": 13,
    "start_time": "2023-01-24T14:01:39.144Z"
   },
   {
    "duration": 75,
    "start_time": "2023-01-24T14:01:39.159Z"
   },
   {
    "duration": 411,
    "start_time": "2023-01-24T14:01:39.236Z"
   },
   {
    "duration": 213,
    "start_time": "2023-01-24T14:01:39.649Z"
   },
   {
    "duration": 8,
    "start_time": "2023-01-24T14:01:39.863Z"
   },
   {
    "duration": 307,
    "start_time": "2023-01-24T14:01:39.872Z"
   },
   {
    "duration": 312,
    "start_time": "2023-01-24T14:01:40.180Z"
   },
   {
    "duration": 150,
    "start_time": "2023-01-24T14:01:40.494Z"
   },
   {
    "duration": 313,
    "start_time": "2023-01-24T14:01:40.646Z"
   },
   {
    "duration": 14,
    "start_time": "2023-01-24T14:01:40.960Z"
   },
   {
    "duration": 58,
    "start_time": "2023-01-24T14:01:40.975Z"
   },
   {
    "duration": 10,
    "start_time": "2023-01-24T14:01:41.035Z"
   },
   {
    "duration": 16,
    "start_time": "2023-01-24T14:01:41.047Z"
   },
   {
    "duration": 196,
    "start_time": "2023-01-24T14:01:41.065Z"
   },
   {
    "duration": 25,
    "start_time": "2023-01-24T14:01:41.264Z"
   },
   {
    "duration": 5032,
    "start_time": "2023-01-24T14:01:41.291Z"
   },
   {
    "duration": 12,
    "start_time": "2023-01-24T14:01:46.325Z"
   },
   {
    "duration": 439,
    "start_time": "2023-01-24T14:01:46.339Z"
   },
   {
    "duration": 1436,
    "start_time": "2023-01-24T14:01:46.780Z"
   },
   {
    "duration": 166,
    "start_time": "2023-01-24T14:01:48.218Z"
   },
   {
    "duration": 153,
    "start_time": "2023-01-24T14:01:48.386Z"
   },
   {
    "duration": 118,
    "start_time": "2023-01-24T14:01:48.540Z"
   },
   {
    "duration": 26,
    "start_time": "2023-01-24T14:01:48.660Z"
   },
   {
    "duration": 203,
    "start_time": "2023-01-24T14:01:48.688Z"
   },
   {
    "duration": 166,
    "start_time": "2023-01-24T14:01:48.893Z"
   },
   {
    "duration": 162,
    "start_time": "2023-01-24T14:01:49.061Z"
   },
   {
    "duration": 29,
    "start_time": "2023-01-24T14:01:49.225Z"
   },
   {
    "duration": 5,
    "start_time": "2023-01-24T14:01:49.256Z"
   },
   {
    "duration": 3593,
    "start_time": "2023-01-24T14:01:49.262Z"
   },
   {
    "duration": 435,
    "start_time": "2023-01-24T14:01:52.857Z"
   },
   {
    "duration": 1004,
    "start_time": "2023-01-24T14:01:53.294Z"
   },
   {
    "duration": 212,
    "start_time": "2023-01-24T14:01:54.299Z"
   },
   {
    "duration": 118,
    "start_time": "2023-01-24T14:01:54.513Z"
   },
   {
    "duration": 95,
    "start_time": "2023-01-24T14:01:54.633Z"
   },
   {
    "duration": 147,
    "start_time": "2023-01-24T14:01:54.729Z"
   },
   {
    "duration": 247,
    "start_time": "2023-01-24T14:01:54.878Z"
   },
   {
    "duration": 13,
    "start_time": "2023-01-24T14:01:55.126Z"
   },
   {
    "duration": 279,
    "start_time": "2023-01-24T14:01:55.141Z"
   },
   {
    "duration": 14,
    "start_time": "2023-01-24T14:01:55.422Z"
   },
   {
    "duration": 1316,
    "start_time": "2023-01-24T16:39:48.653Z"
   },
   {
    "duration": 341,
    "start_time": "2023-01-24T16:39:50.995Z"
   },
   {
    "duration": 2060,
    "start_time": "2023-01-24T16:39:51.904Z"
   },
   {
    "duration": 9,
    "start_time": "2023-01-24T16:40:03.631Z"
   },
   {
    "duration": 5,
    "start_time": "2023-01-24T16:40:04.775Z"
   },
   {
    "duration": 234,
    "start_time": "2023-01-24T16:40:05.562Z"
   },
   {
    "duration": 25,
    "start_time": "2023-01-24T16:40:06.373Z"
   },
   {
    "duration": 33,
    "start_time": "2023-01-24T16:40:09.944Z"
   },
   {
    "duration": 223,
    "start_time": "2023-01-24T16:40:11.403Z"
   },
   {
    "duration": 291,
    "start_time": "2023-01-24T16:40:12.654Z"
   },
   {
    "duration": 10,
    "start_time": "2023-01-24T16:40:13.765Z"
   },
   {
    "duration": 13,
    "start_time": "2023-01-24T16:40:16.217Z"
   },
   {
    "duration": 36,
    "start_time": "2023-01-24T16:40:16.670Z"
   },
   {
    "duration": 95421,
    "start_time": "2023-01-24T16:40:17.115Z"
   },
   {
    "duration": 35,
    "start_time": "2023-01-24T17:01:08.727Z"
   },
   {
    "duration": 3,
    "start_time": "2023-01-24T17:02:29.290Z"
   },
   {
    "duration": 93,
    "start_time": "2023-01-24T17:02:30.176Z"
   },
   {
    "duration": 1808,
    "start_time": "2023-01-24T17:02:30.870Z"
   },
   {
    "duration": 9,
    "start_time": "2023-01-24T17:02:35.488Z"
   },
   {
    "duration": 4,
    "start_time": "2023-01-24T17:02:36.431Z"
   },
   {
    "duration": 216,
    "start_time": "2023-01-24T17:02:36.877Z"
   },
   {
    "duration": 18,
    "start_time": "2023-01-24T17:02:37.772Z"
   },
   {
    "duration": 21,
    "start_time": "2023-01-24T17:02:40.523Z"
   },
   {
    "duration": 196,
    "start_time": "2023-01-24T17:02:41.916Z"
   },
   {
    "duration": 318,
    "start_time": "2023-01-24T17:02:43.360Z"
   },
   {
    "duration": 11,
    "start_time": "2023-01-24T17:02:44.361Z"
   },
   {
    "duration": 15,
    "start_time": "2023-01-24T17:02:47.531Z"
   },
   {
    "duration": 32,
    "start_time": "2023-01-24T17:02:48.104Z"
   },
   {
    "duration": 12,
    "start_time": "2023-01-24T17:02:50.871Z"
   },
   {
    "duration": 51,
    "start_time": "2023-01-24T17:02:52.569Z"
   },
   {
    "duration": 406,
    "start_time": "2023-01-24T17:02:53.131Z"
   },
   {
    "duration": 32,
    "start_time": "2023-01-24T17:05:14.888Z"
   },
   {
    "duration": 13,
    "start_time": "2023-01-24T17:05:18.824Z"
   },
   {
    "duration": 18,
    "start_time": "2023-01-24T17:05:20.414Z"
   },
   {
    "duration": 41,
    "start_time": "2023-01-24T17:05:49.354Z"
   },
   {
    "duration": 13,
    "start_time": "2023-01-24T17:05:54.805Z"
   },
   {
    "duration": 16,
    "start_time": "2023-01-24T17:05:56.058Z"
   },
   {
    "duration": 386,
    "start_time": "2023-01-24T17:05:56.637Z"
   },
   {
    "duration": 256,
    "start_time": "2023-01-24T17:06:43.319Z"
   },
   {
    "duration": 8,
    "start_time": "2023-01-24T17:06:43.883Z"
   },
   {
    "duration": 310,
    "start_time": "2023-01-24T17:06:44.416Z"
   },
   {
    "duration": 281,
    "start_time": "2023-01-24T17:06:45.778Z"
   },
   {
    "duration": 136,
    "start_time": "2023-01-24T17:06:46.800Z"
   },
   {
    "duration": 142,
    "start_time": "2023-01-24T17:06:47.628Z"
   },
   {
    "duration": 17,
    "start_time": "2023-01-24T17:06:48.872Z"
   },
   {
    "duration": 44,
    "start_time": "2023-01-24T17:06:50.794Z"
   },
   {
    "duration": 11,
    "start_time": "2023-01-24T17:06:52.049Z"
   },
   {
    "duration": 3,
    "start_time": "2023-01-24T17:06:52.607Z"
   },
   {
    "duration": 3270,
    "start_time": "2023-01-24T17:06:53.197Z"
   },
   {
    "duration": 32,
    "start_time": "2023-01-24T17:07:03.902Z"
   },
   {
    "duration": 4697,
    "start_time": "2023-01-24T17:07:05.954Z"
   },
   {
    "duration": 12,
    "start_time": "2023-01-24T17:07:10.652Z"
   },
   {
    "duration": 359,
    "start_time": "2023-01-24T17:07:12.605Z"
   },
   {
    "duration": 1242,
    "start_time": "2023-01-24T17:07:58.682Z"
   },
   {
    "duration": 126,
    "start_time": "2023-01-24T17:08:00.961Z"
   },
   {
    "duration": 117,
    "start_time": "2023-01-24T17:08:01.909Z"
   },
   {
    "duration": 112,
    "start_time": "2023-01-24T17:08:04.126Z"
   },
   {
    "duration": 24,
    "start_time": "2023-01-24T17:08:06.277Z"
   },
   {
    "duration": 167,
    "start_time": "2023-01-24T17:08:07.070Z"
   },
   {
    "duration": 196,
    "start_time": "2023-01-24T17:08:36.422Z"
   },
   {
    "duration": 145,
    "start_time": "2023-01-24T17:08:37.841Z"
   },
   {
    "duration": 111,
    "start_time": "2023-01-24T17:08:38.889Z"
   },
   {
    "duration": 52,
    "start_time": "2023-01-24T17:11:54.625Z"
   },
   {
    "duration": 13,
    "start_time": "2023-01-24T17:11:56.056Z"
   },
   {
    "duration": 4,
    "start_time": "2023-01-24T17:11:56.291Z"
   },
   {
    "duration": 3,
    "start_time": "2023-01-24T17:12:13.780Z"
   },
   {
    "duration": 82,
    "start_time": "2023-01-24T17:12:14.269Z"
   },
   {
    "duration": 1839,
    "start_time": "2023-01-24T17:12:15.439Z"
   },
   {
    "duration": 9,
    "start_time": "2023-01-24T17:12:21.136Z"
   },
   {
    "duration": 4,
    "start_time": "2023-01-24T17:12:21.960Z"
   },
   {
    "duration": 215,
    "start_time": "2023-01-24T17:12:22.358Z"
   },
   {
    "duration": 19,
    "start_time": "2023-01-24T17:12:23.140Z"
   },
   {
    "duration": 23,
    "start_time": "2023-01-24T17:12:25.471Z"
   },
   {
    "duration": 193,
    "start_time": "2023-01-24T17:12:26.689Z"
   },
   {
    "duration": 284,
    "start_time": "2023-01-24T17:12:27.875Z"
   },
   {
    "duration": 10,
    "start_time": "2023-01-24T17:12:28.685Z"
   },
   {
    "duration": 12,
    "start_time": "2023-01-24T17:12:31.069Z"
   },
   {
    "duration": 33,
    "start_time": "2023-01-24T17:12:31.488Z"
   },
   {
    "duration": 14,
    "start_time": "2023-01-24T17:12:33.045Z"
   },
   {
    "duration": 16,
    "start_time": "2023-01-24T17:12:34.209Z"
   },
   {
    "duration": 464,
    "start_time": "2023-01-24T17:12:34.623Z"
   },
   {
    "duration": 289,
    "start_time": "2023-01-24T17:12:37.004Z"
   },
   {
    "duration": 9,
    "start_time": "2023-01-24T17:12:37.418Z"
   },
   {
    "duration": 290,
    "start_time": "2023-01-24T17:12:38.122Z"
   },
   {
    "duration": 280,
    "start_time": "2023-01-24T17:12:39.002Z"
   },
   {
    "duration": 141,
    "start_time": "2023-01-24T17:12:39.380Z"
   },
   {
    "duration": 125,
    "start_time": "2023-01-24T17:12:39.813Z"
   },
   {
    "duration": 15,
    "start_time": "2023-01-24T17:12:40.640Z"
   },
   {
    "duration": 47,
    "start_time": "2023-01-24T17:12:41.928Z"
   },
   {
    "duration": 12,
    "start_time": "2023-01-24T17:12:42.778Z"
   },
   {
    "duration": 3,
    "start_time": "2023-01-24T17:12:43.608Z"
   },
   {
    "duration": 334,
    "start_time": "2023-01-24T17:12:44.170Z"
   },
   {
    "duration": 23,
    "start_time": "2023-01-24T17:12:46.833Z"
   },
   {
    "duration": 4699,
    "start_time": "2023-01-24T17:12:48.527Z"
   },
   {
    "duration": 21,
    "start_time": "2023-01-24T17:12:53.228Z"
   },
   {
    "duration": 360,
    "start_time": "2023-01-24T17:12:54.653Z"
   },
   {
    "duration": 1264,
    "start_time": "2023-01-24T17:12:57.860Z"
   },
   {
    "duration": 117,
    "start_time": "2023-01-24T17:12:59.429Z"
   },
   {
    "duration": 132,
    "start_time": "2023-01-24T17:12:59.923Z"
   },
   {
    "duration": 126,
    "start_time": "2023-01-24T17:13:01.037Z"
   },
   {
    "duration": 29,
    "start_time": "2023-01-24T17:13:02.957Z"
   },
   {
    "duration": 173,
    "start_time": "2023-01-24T17:13:04.036Z"
   },
   {
    "duration": 170,
    "start_time": "2023-01-24T17:13:39.565Z"
   },
   {
    "duration": 144,
    "start_time": "2023-01-24T17:13:41.033Z"
   },
   {
    "duration": 32,
    "start_time": "2023-01-24T17:13:44.936Z"
   },
   {
    "duration": 1079,
    "start_time": "2023-01-24T20:43:32.840Z"
   },
   {
    "duration": 87,
    "start_time": "2023-01-24T20:43:33.922Z"
   },
   {
    "duration": 1924,
    "start_time": "2023-01-24T20:43:34.010Z"
   },
   {
    "duration": 9,
    "start_time": "2023-01-24T20:43:35.935Z"
   },
   {
    "duration": 4,
    "start_time": "2023-01-24T20:43:35.946Z"
   },
   {
    "duration": 252,
    "start_time": "2023-01-24T20:43:35.952Z"
   },
   {
    "duration": 23,
    "start_time": "2023-01-24T20:43:36.206Z"
   },
   {
    "duration": 34,
    "start_time": "2023-01-24T20:43:36.232Z"
   },
   {
    "duration": 260,
    "start_time": "2023-01-24T20:43:36.268Z"
   },
   {
    "duration": 309,
    "start_time": "2023-01-24T20:43:36.529Z"
   },
   {
    "duration": 9,
    "start_time": "2023-01-24T20:43:36.840Z"
   },
   {
    "duration": 16,
    "start_time": "2023-01-24T20:43:36.850Z"
   },
   {
    "duration": 50,
    "start_time": "2023-01-24T20:43:36.867Z"
   },
   {
    "duration": 13,
    "start_time": "2023-01-24T20:43:36.921Z"
   },
   {
    "duration": 74,
    "start_time": "2023-01-24T20:43:36.936Z"
   },
   {
    "duration": 399,
    "start_time": "2023-01-24T20:43:37.012Z"
   },
   {
    "duration": 161,
    "start_time": "2023-01-24T20:43:37.413Z"
   },
   {
    "duration": 7,
    "start_time": "2023-01-24T20:43:37.576Z"
   },
   {
    "duration": 309,
    "start_time": "2023-01-24T20:43:37.585Z"
   },
   {
    "duration": 326,
    "start_time": "2023-01-24T20:43:37.895Z"
   },
   {
    "duration": 146,
    "start_time": "2023-01-24T20:43:38.223Z"
   },
   {
    "duration": 295,
    "start_time": "2023-01-24T20:43:38.371Z"
   },
   {
    "duration": 26,
    "start_time": "2023-01-24T20:43:38.667Z"
   },
   {
    "duration": 47,
    "start_time": "2023-01-24T20:43:38.695Z"
   },
   {
    "duration": 11,
    "start_time": "2023-01-24T20:43:38.745Z"
   },
   {
    "duration": 3,
    "start_time": "2023-01-24T20:43:38.758Z"
   },
   {
    "duration": 271,
    "start_time": "2023-01-24T20:43:38.762Z"
   },
   {
    "duration": 25,
    "start_time": "2023-01-24T20:43:39.034Z"
   },
   {
    "duration": 5159,
    "start_time": "2023-01-24T20:43:39.060Z"
   },
   {
    "duration": 11,
    "start_time": "2023-01-24T20:43:44.221Z"
   },
   {
    "duration": 560,
    "start_time": "2023-01-24T20:43:44.234Z"
   },
   {
    "duration": 1180,
    "start_time": "2023-01-24T20:43:44.796Z"
   },
   {
    "duration": 261,
    "start_time": "2023-01-24T20:43:45.978Z"
   },
   {
    "duration": 136,
    "start_time": "2023-01-24T20:43:46.241Z"
   },
   {
    "duration": 150,
    "start_time": "2023-01-24T20:43:46.379Z"
   },
   {
    "duration": 25,
    "start_time": "2023-01-24T20:43:46.531Z"
   },
   {
    "duration": 200,
    "start_time": "2023-01-24T20:43:46.558Z"
   },
   {
    "duration": 167,
    "start_time": "2023-01-24T20:43:46.760Z"
   },
   {
    "duration": 165,
    "start_time": "2023-01-24T20:43:46.929Z"
   },
   {
    "duration": 31,
    "start_time": "2023-01-24T20:43:47.096Z"
   },
   {
    "duration": 2,
    "start_time": "2023-01-24T20:43:47.131Z"
   },
   {
    "duration": 3715,
    "start_time": "2023-01-24T20:43:47.136Z"
   },
   {
    "duration": 438,
    "start_time": "2023-01-24T20:43:50.853Z"
   },
   {
    "duration": 914,
    "start_time": "2023-01-24T20:43:51.294Z"
   },
   {
    "duration": 338,
    "start_time": "2023-01-24T20:43:52.211Z"
   },
   {
    "duration": 116,
    "start_time": "2023-01-24T20:43:52.551Z"
   },
   {
    "duration": 102,
    "start_time": "2023-01-24T20:43:52.669Z"
   },
   {
    "duration": 144,
    "start_time": "2023-01-24T20:43:52.773Z"
   },
   {
    "duration": 257,
    "start_time": "2023-01-24T20:43:52.919Z"
   },
   {
    "duration": 14,
    "start_time": "2023-01-24T20:43:53.178Z"
   },
   {
    "duration": 248,
    "start_time": "2023-01-24T20:43:53.193Z"
   },
   {
    "duration": 13,
    "start_time": "2023-01-24T20:43:53.443Z"
   },
   {
    "duration": 168,
    "start_time": "2023-01-24T21:18:20.677Z"
   },
   {
    "duration": 1095,
    "start_time": "2023-01-24T21:24:54.345Z"
   },
   {
    "duration": 93,
    "start_time": "2023-01-24T21:24:55.442Z"
   },
   {
    "duration": 2082,
    "start_time": "2023-01-24T21:24:55.537Z"
   },
   {
    "duration": 10,
    "start_time": "2023-01-24T21:24:57.621Z"
   },
   {
    "duration": 4,
    "start_time": "2023-01-24T21:24:57.633Z"
   },
   {
    "duration": 253,
    "start_time": "2023-01-24T21:24:57.638Z"
   },
   {
    "duration": 18,
    "start_time": "2023-01-24T21:24:57.893Z"
   },
   {
    "duration": 22,
    "start_time": "2023-01-24T21:24:57.913Z"
   },
   {
    "duration": 232,
    "start_time": "2023-01-24T21:24:57.936Z"
   },
   {
    "duration": 307,
    "start_time": "2023-01-24T21:24:58.170Z"
   },
   {
    "duration": 16,
    "start_time": "2023-01-24T21:24:58.478Z"
   },
   {
    "duration": 19,
    "start_time": "2023-01-24T21:24:58.496Z"
   },
   {
    "duration": 41,
    "start_time": "2023-01-24T21:24:58.517Z"
   },
   {
    "duration": 37,
    "start_time": "2023-01-24T21:24:58.560Z"
   },
   {
    "duration": 51,
    "start_time": "2023-01-24T21:24:58.598Z"
   },
   {
    "duration": 173,
    "start_time": "2023-01-24T21:24:58.651Z"
   },
   {
    "duration": 389,
    "start_time": "2023-01-24T21:24:58.826Z"
   },
   {
    "duration": 161,
    "start_time": "2023-01-24T21:24:59.217Z"
   },
   {
    "duration": 9,
    "start_time": "2023-01-24T21:24:59.380Z"
   },
   {
    "duration": 302,
    "start_time": "2023-01-24T21:24:59.391Z"
   },
   {
    "duration": 323,
    "start_time": "2023-01-24T21:24:59.696Z"
   },
   {
    "duration": 314,
    "start_time": "2023-01-24T21:25:00.020Z"
   },
   {
    "duration": 145,
    "start_time": "2023-01-24T21:25:00.335Z"
   },
   {
    "duration": 20,
    "start_time": "2023-01-24T21:25:00.483Z"
   },
   {
    "duration": 83,
    "start_time": "2023-01-24T21:25:00.505Z"
   },
   {
    "duration": 11,
    "start_time": "2023-01-24T21:25:00.590Z"
   },
   {
    "duration": 25,
    "start_time": "2023-01-24T21:25:00.603Z"
   },
   {
    "duration": 321,
    "start_time": "2023-01-24T21:25:00.630Z"
   },
   {
    "duration": 42,
    "start_time": "2023-01-24T21:25:00.953Z"
   },
   {
    "duration": 5521,
    "start_time": "2023-01-24T21:25:00.997Z"
   },
   {
    "duration": 13,
    "start_time": "2023-01-24T21:25:06.520Z"
   },
   {
    "duration": 413,
    "start_time": "2023-01-24T21:25:06.534Z"
   },
   {
    "duration": 1262,
    "start_time": "2023-01-24T21:25:06.948Z"
   },
   {
    "duration": 153,
    "start_time": "2023-01-24T21:25:08.212Z"
   },
   {
    "duration": 144,
    "start_time": "2023-01-24T21:25:08.367Z"
   },
   {
    "duration": 137,
    "start_time": "2023-01-24T21:25:08.513Z"
   },
   {
    "duration": 26,
    "start_time": "2023-01-24T21:25:08.652Z"
   },
   {
    "duration": 209,
    "start_time": "2023-01-24T21:25:08.691Z"
   },
   {
    "duration": 172,
    "start_time": "2023-01-24T21:25:08.901Z"
   },
   {
    "duration": 186,
    "start_time": "2023-01-24T21:25:09.075Z"
   },
   {
    "duration": 274,
    "start_time": "2023-01-24T21:25:09.265Z"
   },
   {
    "duration": 3,
    "start_time": "2023-01-24T21:25:09.541Z"
   },
   {
    "duration": 3801,
    "start_time": "2023-01-24T21:25:09.545Z"
   },
   {
    "duration": 413,
    "start_time": "2023-01-24T21:25:13.348Z"
   },
   {
    "duration": 957,
    "start_time": "2023-01-24T21:25:13.762Z"
   },
   {
    "duration": 208,
    "start_time": "2023-01-24T21:25:14.721Z"
   },
   {
    "duration": 118,
    "start_time": "2023-01-24T21:25:14.932Z"
   },
   {
    "duration": 102,
    "start_time": "2023-01-24T21:25:15.052Z"
   },
   {
    "duration": 145,
    "start_time": "2023-01-24T21:25:15.156Z"
   },
   {
    "duration": 272,
    "start_time": "2023-01-24T21:25:15.303Z"
   },
   {
    "duration": 15,
    "start_time": "2023-01-24T21:25:15.577Z"
   },
   {
    "duration": 246,
    "start_time": "2023-01-24T21:25:15.593Z"
   },
   {
    "duration": 20,
    "start_time": "2023-01-24T21:25:15.841Z"
   }
  ],
  "kernelspec": {
   "display_name": "Python 3 (ipykernel)",
   "language": "python",
   "name": "python3"
  },
  "language_info": {
   "codemirror_mode": {
    "name": "ipython",
    "version": 3
   },
   "file_extension": ".py",
   "mimetype": "text/x-python",
   "name": "python",
   "nbconvert_exporter": "python",
   "pygments_lexer": "ipython3",
   "version": "3.9.5"
  },
  "toc": {
   "base_numbering": 1,
   "nav_menu": {},
   "number_sections": true,
   "sideBar": true,
   "skip_h1_title": true,
   "title_cell": "Table of Contents",
   "title_sidebar": "Contents",
   "toc_cell": false,
   "toc_position": {
    "height": "518px",
    "left": "115px",
    "top": "168px",
    "width": "250.4px"
   },
   "toc_section_display": true,
   "toc_window_display": true
  }
 },
 "nbformat": 4,
 "nbformat_minor": 2
}
